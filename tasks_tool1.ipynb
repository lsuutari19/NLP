{
 "cells": [
  {
   "cell_type": "markdown",
   "id": "82d50c71",
   "metadata": {},
   "source": [
    "# Task 1"
   ]
  },
  {
   "cell_type": "code",
   "execution_count": 1,
   "id": "ae52d236",
   "metadata": {
    "scrolled": true
   },
   "outputs": [
    {
     "name": "stderr",
     "output_type": "stream",
     "text": [
      "[nltk_data] Downloading package stopwords to\n",
      "[nltk_data]     /home/syomasa/nltk_data...\n",
      "[nltk_data]   Package stopwords is already up-to-date!\n",
      "[nltk_data] Downloading package punkt to /home/syomasa/nltk_data...\n",
      "[nltk_data]   Package punkt is already up-to-date!\n"
     ]
    },
    {
     "data": {
      "text/html": [
       "<div>\n",
       "<style scoped>\n",
       "    .dataframe tbody tr th:only-of-type {\n",
       "        vertical-align: middle;\n",
       "    }\n",
       "\n",
       "    .dataframe tbody tr th {\n",
       "        vertical-align: top;\n",
       "    }\n",
       "\n",
       "    .dataframe thead th {\n",
       "        text-align: right;\n",
       "    }\n",
       "</style>\n",
       "<table border=\"1\" class=\"dataframe\">\n",
       "  <thead>\n",
       "    <tr style=\"text-align: right;\">\n",
       "      <th></th>\n",
       "      <th>token_num</th>\n",
       "      <th>vocab_size</th>\n",
       "      <th>avg_script_length</th>\n",
       "      <th>stopword_proportion</th>\n",
       "      <th>sd_script_length</th>\n",
       "    </tr>\n",
       "  </thead>\n",
       "  <tbody>\n",
       "    <tr>\n",
       "      <th>GANDALF</th>\n",
       "      <td>3159</td>\n",
       "      <td>883</td>\n",
       "      <td>15.409756</td>\n",
       "      <td>0.528332</td>\n",
       "      <td>17.825898</td>\n",
       "    </tr>\n",
       "    <tr>\n",
       "      <th>SAM</th>\n",
       "      <td>2185</td>\n",
       "      <td>563</td>\n",
       "      <td>10.069124</td>\n",
       "      <td>0.577117</td>\n",
       "      <td>11.185300</td>\n",
       "    </tr>\n",
       "    <tr>\n",
       "      <th>FRODO</th>\n",
       "      <td>1828</td>\n",
       "      <td>494</td>\n",
       "      <td>8.088496</td>\n",
       "      <td>0.591357</td>\n",
       "      <td>8.203585</td>\n",
       "    </tr>\n",
       "    <tr>\n",
       "      <th>ARAGORN</th>\n",
       "      <td>1406</td>\n",
       "      <td>534</td>\n",
       "      <td>7.518717</td>\n",
       "      <td>0.497866</td>\n",
       "      <td>7.892655</td>\n",
       "    </tr>\n",
       "    <tr>\n",
       "      <th>GOLLUM</th>\n",
       "      <td>1312</td>\n",
       "      <td>362</td>\n",
       "      <td>9.791045</td>\n",
       "      <td>0.503811</td>\n",
       "      <td>9.254200</td>\n",
       "    </tr>\n",
       "    <tr>\n",
       "      <th>...</th>\n",
       "      <td>...</td>\n",
       "      <td>...</td>\n",
       "      <td>...</td>\n",
       "      <td>...</td>\n",
       "      <td>...</td>\n",
       "    </tr>\n",
       "    <tr>\n",
       "      <th>OLD MAN</th>\n",
       "      <td>1</td>\n",
       "      <td>1</td>\n",
       "      <td>1.000000</td>\n",
       "      <td>0.000000</td>\n",
       "      <td>inf</td>\n",
       "    </tr>\n",
       "    <tr>\n",
       "      <th>FRODO VOICE</th>\n",
       "      <td>1</td>\n",
       "      <td>1</td>\n",
       "      <td>1.000000</td>\n",
       "      <td>0.000000</td>\n",
       "      <td>inf</td>\n",
       "    </tr>\n",
       "    <tr>\n",
       "      <th>MRS BRACEGIRDLE</th>\n",
       "      <td>1</td>\n",
       "      <td>1</td>\n",
       "      <td>1.000000</td>\n",
       "      <td>0.000000</td>\n",
       "      <td>inf</td>\n",
       "    </tr>\n",
       "    <tr>\n",
       "      <th>PROUDFOOT HOBBIT</th>\n",
       "      <td>1</td>\n",
       "      <td>1</td>\n",
       "      <td>1.000000</td>\n",
       "      <td>0.000000</td>\n",
       "      <td>inf</td>\n",
       "    </tr>\n",
       "    <tr>\n",
       "      <th>MEN</th>\n",
       "      <td>1</td>\n",
       "      <td>1</td>\n",
       "      <td>1.000000</td>\n",
       "      <td>0.000000</td>\n",
       "      <td>inf</td>\n",
       "    </tr>\n",
       "  </tbody>\n",
       "</table>\n",
       "<p>111 rows × 5 columns</p>\n",
       "</div>"
      ],
      "text/plain": [
       "                  token_num  vocab_size  avg_script_length  \\\n",
       "GANDALF                3159         883          15.409756   \n",
       "SAM                    2185         563          10.069124   \n",
       "FRODO                  1828         494           8.088496   \n",
       "ARAGORN                1406         534           7.518717   \n",
       "GOLLUM                 1312         362           9.791045   \n",
       "...                     ...         ...                ...   \n",
       "OLD MAN                   1           1           1.000000   \n",
       "FRODO VOICE               1           1           1.000000   \n",
       "MRS BRACEGIRDLE           1           1           1.000000   \n",
       "PROUDFOOT HOBBIT          1           1           1.000000   \n",
       "MEN                       1           1           1.000000   \n",
       "\n",
       "                  stopword_proportion  sd_script_length  \n",
       "GANDALF                      0.528332         17.825898  \n",
       "SAM                          0.577117         11.185300  \n",
       "FRODO                        0.591357          8.203585  \n",
       "ARAGORN                      0.497866          7.892655  \n",
       "GOLLUM                       0.503811          9.254200  \n",
       "...                               ...               ...  \n",
       "OLD MAN                      0.000000               inf  \n",
       "FRODO VOICE                  0.000000               inf  \n",
       "MRS BRACEGIRDLE              0.000000               inf  \n",
       "PROUDFOOT HOBBIT             0.000000               inf  \n",
       "MEN                          0.000000               inf  \n",
       "\n",
       "[111 rows x 5 columns]"
      ]
     },
     "execution_count": 1,
     "metadata": {},
     "output_type": "execute_result"
    }
   ],
   "source": [
    "import pandas as pd\n",
    "from statistics import mean, stdev\n",
    "import contractions\n",
    "import nltk\n",
    "\n",
    "nltk.download(\"stopwords\")\n",
    "nltk.download(\"punkt\")\n",
    "\n",
    "#pd.set_option('display.max_rows', None) # uncomment to display all rows at once\n",
    "\n",
    "script = pd.read_csv(\"data/lotr_scripts.csv\", encoding='utf-8') # load the data\n",
    "concat = {} # stores the concatenated scripts for each character\n",
    "\n",
    "script_lengths = {} # individual script lengths grouped by character\n",
    "stopwords_list = set(nltk.corpus.stopwords.words(\"english\"))\n",
    "\n",
    "raw_scripts = {}\n",
    "\n",
    "for index, row in script.iterrows(): # go through the entries one by one for clarity (of course, could be implemented more compactly with nice pandas oneliners)\n",
    "    character = row[\"char\"].strip().replace(\"(\", \"\")\n",
    "    \n",
    "    if not character in concat:\n",
    "        concat[character] = []\n",
    "        script_lengths[character] = []\n",
    "        raw_scripts[character] = \"\"\n",
    "    \n",
    "    raw_scripts[character] += str(row[\"dialog\"]).lower() + \" \"\n",
    "    dialogue = contractions.fix(str(row[\"dialog\"])) # can't -> can not etc.\n",
    "    words = nltk.word_tokenize(dialogue) # tokenize\n",
    "    words = [word.lower() for word in words if word.isalpha()] # to lowercase if the \"word\" consists of alphabet letters\n",
    "    \n",
    "    script_lengths[character].append(len(words)) # length of the individual script\n",
    "    concat[character].extend(words) # add to the concatenated list for this character\n",
    "\n",
    "concat = dict(sorted(concat.items(), key=lambda i: -len(i[1]))) # sort by number of tokens in descending order\n",
    "details = {} # dictionary containing the derived characteristics for every character\n",
    "\n",
    "for character in concat:\n",
    "    if not character in details:\n",
    "        details[character] = {}\n",
    "\n",
    "    details[character][\"token_num\"] = len(concat[character]) # total number of tokens\n",
    "    details[character][\"vocab_size\"] = len(set(concat[character])) # vocabulary size = number of unique tokens\n",
    "    details[character][\"avg_script_length\"] = mean(script_lengths[character]) # mean of script lengths\n",
    "    details[character][\"stopword_proportion\"] = 0\n",
    "    \n",
    "    if len(script_lengths[character]) == 1:\n",
    "        details[character][\"sd_script_length\"] = float('inf') # if only one script available for this character, SD is \"infinite\"\n",
    "    else:\n",
    "        details[character][\"sd_script_length\"] = stdev(script_lengths[character])\n",
    "    \n",
    "    for token in concat[character]:\n",
    "        if token in stopwords_list:\n",
    "            details[character][\"stopword_proportion\"] += 1 # if contained in stopword list, increment number of stopwords per char\n",
    "    \n",
    "    details[character][\"stopword_proportion\"] /= len(concat[character]) # divide by the total number of tokens\n",
    "\n",
    "pd.DataFrame.from_dict(details, orient=\"index\") # display table"
   ]
  },
  {
   "cell_type": "markdown",
   "id": "4d0dc5fb",
   "metadata": {},
   "source": [
    "# Task 2"
   ]
  },
  {
   "cell_type": "markdown",
   "id": "64858e35",
   "metadata": {},
   "source": [
    "This code implements the MLP model presented in https://github.com/desaichirayu/Personality-Attribution-using-Natural-Language-Processing."
   ]
  },
  {
   "cell_type": "code",
   "execution_count": 7,
   "id": "fe6512ab",
   "metadata": {},
   "outputs": [],
   "source": [
    "# adapted and modified from\n",
    "# https://github.com/desaichirayu/Personality-Attribution-using-Natural-Language-Processing/blob/master/code%20and%20data/mlp_simple.py\n",
    "from sklearn.neural_network import MLPClassifier\n",
    "from sklearn.feature_extraction.text import TfidfVectorizer\n",
    "from sklearn.model_selection import train_test_split\n",
    "from sklearn.decomposition import PCA\n",
    "from sklearn.metrics import accuracy_score\n",
    "\n",
    "df = pd.read_csv(r\"data/essays.csv\", names=['author_id', 'essay', 'Extraversion', 'Neuroticism', 'Agreeableness', 'Conscientiousness', 'Openness'], encoding='cp1252')\n",
    "\n",
    "x = df['essay'][1:]\n",
    "x = x.str.lower() # to lowercase\n",
    "\n",
    "def trainAndTest():\n",
    "    classifiers = []\n",
    "    vectorizers = []\n",
    "    \n",
    "    choices = {\n",
    "            0: ('Extraversion', ('tanh', 'adaptive', 'lbfgs')),\n",
    "            1: ('Neuroticism', ('tanh', 'adaptive', 'lbfgs')),\n",
    "            2: ('Agreeableness', ('tanh', 'adaptive', 'lbfgs')),\n",
    "            3: ('Conscientiousness', ('relu', 'invscaling', 'lbfgs')),\n",
    "            4: ('Openness', ('relu', 'invscaling', 'lbfgs'))\n",
    "        } # specs for every trait classifier (activation function etc.)\n",
    "\n",
    "    for trait in range(5):\n",
    "        y = df[choices[trait][0]][1:] # select essays associated with this trait\n",
    "        x_train, x_test, y_train, y_test = train_test_split(x, y, random_state=11) # random split into train & test sets\n",
    "\n",
    "        # TF-IDF vectorizer\n",
    "        vectorizer = TfidfVectorizer()\n",
    "        vectorizers.append(vectorizer)\n",
    "        \n",
    "        xx_train = vectorizers[trait].fit_transform(x_train)\n",
    "        xx_test = vectorizers[trait].transform(x_test)\n",
    "\n",
    "        # specify and train a classifier for every trait\n",
    "        classifiers.append(MLPClassifier(activation=choices[trait][1][0], alpha=0.0001, hidden_layer_sizes=(60),\n",
    "                                   learning_rate=choices[trait][1][1], max_iter=200, solver=choices[trait][1][2]))\n",
    "        classifiers[trait].fit(xx_train, y_train)\n",
    "\n",
    "        predictions = classifiers[trait].predict(xx_test) # predict for test set\n",
    "        score = accuracy_score(y_test, predictions)\n",
    "        print(\"Validation accuracy (on Essays set) for {}: {}\".format(choices[trait][0], score))\n",
    "\n",
    "    print(\"Training and validation done!\")\n",
    "    return classifiers, vectorizers"
   ]
  },
  {
   "cell_type": "code",
   "execution_count": 8,
   "id": "ed31744b",
   "metadata": {},
   "outputs": [
    {
     "name": "stdout",
     "output_type": "stream",
     "text": [
      "Validation accuracy (on Essays set) for Extraversion: 0.5688816855753647\n",
      "Validation accuracy (on Essays set) for Neuroticism: 0.526742301458671\n",
      "Validation accuracy (on Essays set) for Agreeableness: 0.5445705024311183\n",
      "Validation accuracy (on Essays set) for Conscientiousness: 0.5218800648298217\n",
      "Validation accuracy (on Essays set) for Openness: 0.5948136142625607\n",
      "Training and validation done!\n",
      "\n",
      "Validation accuracy (on Essays set) for Extraversion: 0.539708265802269\n",
      "Validation accuracy (on Essays set) for Neuroticism: 0.546191247974068\n",
      "Validation accuracy (on Essays set) for Agreeableness: 0.5510534846029174\n",
      "Validation accuracy (on Essays set) for Conscientiousness: 0.513776337115073\n",
      "Validation accuracy (on Essays set) for Openness: 0.6126418152350082\n",
      "Training and validation done!\n",
      "\n",
      "Validation accuracy (on Essays set) for Extraversion: 0.5494327390599676\n",
      "Validation accuracy (on Essays set) for Neuroticism: 0.546191247974068\n",
      "Validation accuracy (on Essays set) for Agreeableness: 0.5478119935170178\n",
      "Validation accuracy (on Essays set) for Conscientiousness: 0.5283630470016207\n",
      "Validation accuracy (on Essays set) for Openness: 0.6045380875202593\n",
      "Training and validation done!\n",
      "\n",
      "Validation accuracy (on Essays set) for Extraversion: 0.5510534846029174\n",
      "Validation accuracy (on Essays set) for Neuroticism: 0.5494327390599676\n",
      "Validation accuracy (on Essays set) for Agreeableness: 0.5380875202593193\n",
      "Validation accuracy (on Essays set) for Conscientiousness: 0.5332252836304701\n",
      "Validation accuracy (on Essays set) for Openness: 0.6029173419773096\n",
      "Training and validation done!\n",
      "\n",
      "Validation accuracy (on Essays set) for Extraversion: 0.5283630470016207\n",
      "Validation accuracy (on Essays set) for Neuroticism: 0.5510534846029174\n",
      "Validation accuracy (on Essays set) for Agreeableness: 0.546191247974068\n",
      "Validation accuracy (on Essays set) for Conscientiousness: 0.5235008103727715\n",
      "Validation accuracy (on Essays set) for Openness: 0.6110210696920584\n",
      "Training and validation done!\n",
      "\n",
      "Validation accuracy (on Essays set) for Extraversion: 0.539708265802269\n",
      "Validation accuracy (on Essays set) for Neuroticism: 0.5429497568881686\n",
      "Validation accuracy (on Essays set) for Agreeableness: 0.5478119935170178\n",
      "Validation accuracy (on Essays set) for Conscientiousness: 0.539708265802269\n",
      "Validation accuracy (on Essays set) for Openness: 0.6012965964343598\n",
      "Training and validation done!\n",
      "\n",
      "Validation accuracy (on Essays set) for Extraversion: 0.5380875202593193\n",
      "Validation accuracy (on Essays set) for Neuroticism: 0.5494327390599676\n",
      "Validation accuracy (on Essays set) for Agreeableness: 0.546191247974068\n",
      "Validation accuracy (on Essays set) for Conscientiousness: 0.5364667747163695\n",
      "Validation accuracy (on Essays set) for Openness: 0.6191247974068071\n",
      "Training and validation done!\n",
      "\n",
      "Validation accuracy (on Essays set) for Extraversion: 0.5640194489465153\n",
      "Validation accuracy (on Essays set) for Neuroticism: 0.5575364667747164\n",
      "Validation accuracy (on Essays set) for Agreeableness: 0.5478119935170178\n",
      "Validation accuracy (on Essays set) for Conscientiousness: 0.520259319286872\n",
      "Validation accuracy (on Essays set) for Openness: 0.6012965964343598\n",
      "Training and validation done!\n",
      "\n",
      "Validation accuracy (on Essays set) for Extraversion: 0.539708265802269\n",
      "Validation accuracy (on Essays set) for Neuroticism: 0.5640194489465153\n",
      "Validation accuracy (on Essays set) for Agreeableness: 0.5478119935170178\n",
      "Validation accuracy (on Essays set) for Conscientiousness: 0.5316045380875203\n",
      "Validation accuracy (on Essays set) for Openness: 0.6045380875202593\n",
      "Training and validation done!\n",
      "\n",
      "Validation accuracy (on Essays set) for Extraversion: 0.5607779578606159\n",
      "Validation accuracy (on Essays set) for Neuroticism: 0.5559157212317666\n",
      "Validation accuracy (on Essays set) for Agreeableness: 0.5478119935170178\n",
      "Validation accuracy (on Essays set) for Conscientiousness: 0.5316045380875203\n",
      "Validation accuracy (on Essays set) for Openness: 0.6077795786061588\n",
      "Training and validation done!\n",
      "\n",
      "Validation accuracy (on Essays set) for Extraversion: 0.5559157212317666\n",
      "Validation accuracy (on Essays set) for Neuroticism: 0.5413290113452188\n",
      "Validation accuracy (on Essays set) for Agreeableness: 0.5607779578606159\n",
      "Validation accuracy (on Essays set) for Conscientiousness: 0.5348460291734197\n",
      "Validation accuracy (on Essays set) for Openness: 0.5980551053484603\n",
      "Training and validation done!\n",
      "\n",
      "Validation accuracy (on Essays set) for Extraversion: 0.5429497568881686\n",
      "Validation accuracy (on Essays set) for Neuroticism: 0.5364667747163695\n",
      "Validation accuracy (on Essays set) for Agreeableness: 0.5494327390599676\n",
      "Validation accuracy (on Essays set) for Conscientiousness: 0.5235008103727715\n",
      "Validation accuracy (on Essays set) for Openness: 0.6094003241491086\n",
      "Training and validation done!\n",
      "\n",
      "Validation accuracy (on Essays set) for Extraversion: 0.5656401944894651\n",
      "Validation accuracy (on Essays set) for Neuroticism: 0.5478119935170178\n",
      "Validation accuracy (on Essays set) for Agreeableness: 0.546191247974068\n",
      "Validation accuracy (on Essays set) for Conscientiousness: 0.5235008103727715\n",
      "Validation accuracy (on Essays set) for Openness: 0.6094003241491086\n",
      "Training and validation done!\n",
      "\n",
      "Validation accuracy (on Essays set) for Extraversion: 0.5283630470016207\n",
      "Validation accuracy (on Essays set) for Neuroticism: 0.546191247974068\n",
      "Validation accuracy (on Essays set) for Agreeableness: 0.5672609400324149\n",
      "Validation accuracy (on Essays set) for Conscientiousness: 0.5316045380875203\n",
      "Validation accuracy (on Essays set) for Openness: 0.6012965964343598\n",
      "Training and validation done!\n",
      "\n",
      "Validation accuracy (on Essays set) for Extraversion: 0.539708265802269\n",
      "Validation accuracy (on Essays set) for Neuroticism: 0.5591572123176661\n",
      "Validation accuracy (on Essays set) for Agreeableness: 0.5526742301458671\n",
      "Validation accuracy (on Essays set) for Conscientiousness: 0.5332252836304701\n",
      "Validation accuracy (on Essays set) for Openness: 0.6077795786061588\n",
      "Training and validation done!\n",
      "\n",
      "Validation accuracy (on Essays set) for Extraversion: 0.5429497568881686\n",
      "Validation accuracy (on Essays set) for Neuroticism: 0.5575364667747164\n",
      "Validation accuracy (on Essays set) for Agreeableness: 0.5526742301458671\n",
      "Validation accuracy (on Essays set) for Conscientiousness: 0.5186385737439222\n",
      "Validation accuracy (on Essays set) for Openness: 0.6045380875202593\n",
      "Training and validation done!\n",
      "\n",
      "Validation accuracy (on Essays set) for Extraversion: 0.5413290113452188\n",
      "Validation accuracy (on Essays set) for Neuroticism: 0.5494327390599676\n",
      "Validation accuracy (on Essays set) for Agreeableness: 0.5575364667747164\n",
      "Validation accuracy (on Essays set) for Conscientiousness: 0.526742301458671\n",
      "Validation accuracy (on Essays set) for Openness: 0.6158833063209076\n",
      "Training and validation done!\n",
      "\n",
      "Validation accuracy (on Essays set) for Extraversion: 0.5445705024311183\n",
      "Validation accuracy (on Essays set) for Neuroticism: 0.5510534846029174\n",
      "Validation accuracy (on Essays set) for Agreeableness: 0.5494327390599676\n",
      "Validation accuracy (on Essays set) for Conscientiousness: 0.5316045380875203\n",
      "Validation accuracy (on Essays set) for Openness: 0.6012965964343598\n",
      "Training and validation done!\n",
      "\n",
      "Validation accuracy (on Essays set) for Extraversion: 0.5478119935170178\n",
      "Validation accuracy (on Essays set) for Neuroticism: 0.546191247974068\n",
      "Validation accuracy (on Essays set) for Agreeableness: 0.5559157212317666\n",
      "Validation accuracy (on Essays set) for Conscientiousness: 0.5299837925445705\n",
      "Validation accuracy (on Essays set) for Openness: 0.6110210696920584\n",
      "Training and validation done!\n",
      "\n",
      "Validation accuracy (on Essays set) for Extraversion: 0.5364667747163695\n",
      "Validation accuracy (on Essays set) for Neuroticism: 0.5413290113452188\n",
      "Validation accuracy (on Essays set) for Agreeableness: 0.5510534846029174\n",
      "Validation accuracy (on Essays set) for Conscientiousness: 0.5478119935170178\n",
      "Validation accuracy (on Essays set) for Openness: 0.5980551053484603\n",
      "Training and validation done!\n",
      "\n"
     ]
    },
    {
     "data": {
      "text/html": [
       "<div>\n",
       "<style scoped>\n",
       "    .dataframe tbody tr th:only-of-type {\n",
       "        vertical-align: middle;\n",
       "    }\n",
       "\n",
       "    .dataframe tbody tr th {\n",
       "        vertical-align: top;\n",
       "    }\n",
       "\n",
       "    .dataframe thead th {\n",
       "        text-align: right;\n",
       "    }\n",
       "</style>\n",
       "<table border=\"1\" class=\"dataframe\">\n",
       "  <thead>\n",
       "    <tr style=\"text-align: right;\">\n",
       "      <th></th>\n",
       "      <th>Extraversion</th>\n",
       "      <th>Neuroticism</th>\n",
       "      <th>Agreeableness</th>\n",
       "      <th>Conscientiousness</th>\n",
       "      <th>Openness</th>\n",
       "    </tr>\n",
       "  </thead>\n",
       "  <tbody>\n",
       "    <tr>\n",
       "      <th>GANDALF</th>\n",
       "      <td>7.953415e-07</td>\n",
       "      <td>0.026782</td>\n",
       "      <td>2.377689e-06</td>\n",
       "      <td>0.000011</td>\n",
       "      <td>1.244903e-07</td>\n",
       "    </tr>\n",
       "    <tr>\n",
       "      <th>SAM</th>\n",
       "      <td>9.313602e-01</td>\n",
       "      <td>0.001093</td>\n",
       "      <td>7.411535e-01</td>\n",
       "      <td>1.000000</td>\n",
       "      <td>1.000000e+00</td>\n",
       "    </tr>\n",
       "    <tr>\n",
       "      <th>FRODO</th>\n",
       "      <td>7.089671e-02</td>\n",
       "      <td>0.000004</td>\n",
       "      <td>2.829793e-01</td>\n",
       "      <td>1.000000</td>\n",
       "      <td>1.000000e+00</td>\n",
       "    </tr>\n",
       "    <tr>\n",
       "      <th>ARAGORN</th>\n",
       "      <td>9.775692e-01</td>\n",
       "      <td>0.000012</td>\n",
       "      <td>9.736260e-01</td>\n",
       "      <td>0.163170</td>\n",
       "      <td>1.000000e+00</td>\n",
       "    </tr>\n",
       "    <tr>\n",
       "      <th>GOLLUM</th>\n",
       "      <td>1.113395e-06</td>\n",
       "      <td>0.000071</td>\n",
       "      <td>1.571681e-02</td>\n",
       "      <td>1.000000</td>\n",
       "      <td>1.000000e+00</td>\n",
       "    </tr>\n",
       "    <tr>\n",
       "      <th>...</th>\n",
       "      <td>...</td>\n",
       "      <td>...</td>\n",
       "      <td>...</td>\n",
       "      <td>...</td>\n",
       "      <td>...</td>\n",
       "    </tr>\n",
       "    <tr>\n",
       "      <th>OLD MAN</th>\n",
       "      <td>9.959163e-01</td>\n",
       "      <td>0.000016</td>\n",
       "      <td>1.678231e-01</td>\n",
       "      <td>0.000074</td>\n",
       "      <td>9.999341e-01</td>\n",
       "    </tr>\n",
       "    <tr>\n",
       "      <th>FRODO VOICE</th>\n",
       "      <td>9.999997e-01</td>\n",
       "      <td>1.000000</td>\n",
       "      <td>1.000000e+00</td>\n",
       "      <td>0.805919</td>\n",
       "      <td>1.000000e+00</td>\n",
       "    </tr>\n",
       "    <tr>\n",
       "      <th>MRS BRACEGIRDLE</th>\n",
       "      <td>6.176272e-01</td>\n",
       "      <td>0.000078</td>\n",
       "      <td>3.065039e-01</td>\n",
       "      <td>0.000061</td>\n",
       "      <td>1.000000e+00</td>\n",
       "    </tr>\n",
       "    <tr>\n",
       "      <th>PROUDFOOT HOBBIT</th>\n",
       "      <td>4.664766e-02</td>\n",
       "      <td>0.000001</td>\n",
       "      <td>6.092505e-01</td>\n",
       "      <td>0.133303</td>\n",
       "      <td>9.510823e-01</td>\n",
       "    </tr>\n",
       "    <tr>\n",
       "      <th>MEN</th>\n",
       "      <td>9.990915e-01</td>\n",
       "      <td>0.166796</td>\n",
       "      <td>1.076898e-09</td>\n",
       "      <td>0.512579</td>\n",
       "      <td>8.108081e-01</td>\n",
       "    </tr>\n",
       "  </tbody>\n",
       "</table>\n",
       "<p>111 rows × 5 columns</p>\n",
       "</div>"
      ],
      "text/plain": [
       "                  Extraversion  Neuroticism  Agreeableness  Conscientiousness  \\\n",
       "GANDALF           7.953415e-07     0.026782   2.377689e-06           0.000011   \n",
       "SAM               9.313602e-01     0.001093   7.411535e-01           1.000000   \n",
       "FRODO             7.089671e-02     0.000004   2.829793e-01           1.000000   \n",
       "ARAGORN           9.775692e-01     0.000012   9.736260e-01           0.163170   \n",
       "GOLLUM            1.113395e-06     0.000071   1.571681e-02           1.000000   \n",
       "...                        ...          ...            ...                ...   \n",
       "OLD MAN           9.959163e-01     0.000016   1.678231e-01           0.000074   \n",
       "FRODO VOICE       9.999997e-01     1.000000   1.000000e+00           0.805919   \n",
       "MRS BRACEGIRDLE   6.176272e-01     0.000078   3.065039e-01           0.000061   \n",
       "PROUDFOOT HOBBIT  4.664766e-02     0.000001   6.092505e-01           0.133303   \n",
       "MEN               9.990915e-01     0.166796   1.076898e-09           0.512579   \n",
       "\n",
       "                      Openness  \n",
       "GANDALF           1.244903e-07  \n",
       "SAM               1.000000e+00  \n",
       "FRODO             1.000000e+00  \n",
       "ARAGORN           1.000000e+00  \n",
       "GOLLUM            1.000000e+00  \n",
       "...                        ...  \n",
       "OLD MAN           9.999341e-01  \n",
       "FRODO VOICE       1.000000e+00  \n",
       "MRS BRACEGIRDLE   1.000000e+00  \n",
       "PROUDFOOT HOBBIT  9.510823e-01  \n",
       "MEN               8.108081e-01  \n",
       "\n",
       "[111 rows x 5 columns]"
      ]
     },
     "metadata": {},
     "output_type": "display_data"
    }
   ],
   "source": [
    "traitNames = ['Extraversion', 'Neuroticism', 'Agreeableness', 'Conscientiousness', 'Openness']\n",
    "traitProbs = {} # a dict containing the probabilites of every trait for each character\n",
    "iterCount = 20 # for report results, 20 was used\n",
    "\n",
    "for character in concat:\n",
    "    traitProbs[character] = [0] * 5\n",
    "\n",
    "for _ in range(iterCount):\n",
    "    classifiers, vectorizers = trainAndTest()\n",
    "    print()\n",
    "    \n",
    "    for trait in range(5):\n",
    "        xx_test = vectorizers[trait].transform(raw_scripts.values())\n",
    "        prob = classifiers[trait].predict_proba(xx_test)[:,1] # predict probability for every trait\n",
    "\n",
    "        for i, character in enumerate(concat):\n",
    "            traitProbs[character][trait] += prob[i] \n",
    "\n",
    "traitProbs = {key: [x / iterCount for x in value] for key, value in traitProbs.items()}\n",
    "traitProbsDf = pd.DataFrame.from_dict(traitProbs, orient=\"index\") # display table containing the probabilites of every trait for each character\n",
    "traitProbsDf.columns = traitNames\n",
    "display(traitProbsDf)"
   ]
  },
  {
   "cell_type": "code",
   "execution_count": 17,
   "id": "0e883fb4",
   "metadata": {},
   "outputs": [
    {
     "name": "stdout",
     "output_type": "stream",
     "text": [
      "Variance explained: 85.46298057477979 percent\n"
     ]
    },
    {
     "data": {
      "application/vnd.plotly.v1+json": {
       "config": {
        "plotlyServerURL": "https://plot.ly",
        "toImageButtonOptions": {
         "format": "png",
         "height": 550,
         "scale": 8,
         "width": 1100
        }
       },
       "data": [
        {
         "hovertemplate": "PC1=%{x}<br>PC2=%{y}<br>index=%{text}<extra></extra>",
         "legendgroup": "",
         "marker": {
          "color": "#636efa",
          "symbol": "circle"
         },
         "mode": "markers+text",
         "name": "",
         "orientation": "v",
         "showlegend": false,
         "text": [
          "GANDALF",
          "SAM",
          "FRODO",
          "ARAGORN",
          "GOLLUM",
          "THEODEN",
          "PIPPIN",
          "GIMLI",
          "BILBO",
          "MERRY"
         ],
         "textposition": "top center",
         "type": "scatter",
         "x": [
          4.497727467478518,
          -1.60860646960975,
          -0.5095743872138667,
          -1.210149048793683,
          -0.20414799178583798,
          0.35270939601337814,
          -1.2555669039544455,
          0.04851183113220141,
          -0.3937776896597589,
          0.2828737963932439
         ],
         "xaxis": "x",
         "y": [
          1.1512666146852804,
          1.2292056186312297,
          -0.8433151923080444,
          2.688686122846649,
          -1.3373542302931467,
          -1.2350778943726066,
          0.38990436985251686,
          -1.0858871791449358,
          -0.8850492953434986,
          -0.07237893455344413
         ],
         "yaxis": "y"
        }
       ],
       "layout": {
        "font": {
         "color": "RebeccaPurple",
         "family": "Arial",
         "size": 15
        },
        "height": 550,
        "legend": {
         "tracegroupgap": 0
        },
        "margin": {
         "t": 60
        },
        "template": {
         "data": {
          "bar": [
           {
            "error_x": {
             "color": "#2a3f5f"
            },
            "error_y": {
             "color": "#2a3f5f"
            },
            "marker": {
             "line": {
              "color": "#E5ECF6",
              "width": 0.5
             },
             "pattern": {
              "fillmode": "overlay",
              "size": 10,
              "solidity": 0.2
             }
            },
            "type": "bar"
           }
          ],
          "barpolar": [
           {
            "marker": {
             "line": {
              "color": "#E5ECF6",
              "width": 0.5
             },
             "pattern": {
              "fillmode": "overlay",
              "size": 10,
              "solidity": 0.2
             }
            },
            "type": "barpolar"
           }
          ],
          "carpet": [
           {
            "aaxis": {
             "endlinecolor": "#2a3f5f",
             "gridcolor": "white",
             "linecolor": "white",
             "minorgridcolor": "white",
             "startlinecolor": "#2a3f5f"
            },
            "baxis": {
             "endlinecolor": "#2a3f5f",
             "gridcolor": "white",
             "linecolor": "white",
             "minorgridcolor": "white",
             "startlinecolor": "#2a3f5f"
            },
            "type": "carpet"
           }
          ],
          "choropleth": [
           {
            "colorbar": {
             "outlinewidth": 0,
             "ticks": ""
            },
            "type": "choropleth"
           }
          ],
          "contour": [
           {
            "colorbar": {
             "outlinewidth": 0,
             "ticks": ""
            },
            "colorscale": [
             [
              0,
              "#0d0887"
             ],
             [
              0.1111111111111111,
              "#46039f"
             ],
             [
              0.2222222222222222,
              "#7201a8"
             ],
             [
              0.3333333333333333,
              "#9c179e"
             ],
             [
              0.4444444444444444,
              "#bd3786"
             ],
             [
              0.5555555555555556,
              "#d8576b"
             ],
             [
              0.6666666666666666,
              "#ed7953"
             ],
             [
              0.7777777777777778,
              "#fb9f3a"
             ],
             [
              0.8888888888888888,
              "#fdca26"
             ],
             [
              1,
              "#f0f921"
             ]
            ],
            "type": "contour"
           }
          ],
          "contourcarpet": [
           {
            "colorbar": {
             "outlinewidth": 0,
             "ticks": ""
            },
            "type": "contourcarpet"
           }
          ],
          "heatmap": [
           {
            "colorbar": {
             "outlinewidth": 0,
             "ticks": ""
            },
            "colorscale": [
             [
              0,
              "#0d0887"
             ],
             [
              0.1111111111111111,
              "#46039f"
             ],
             [
              0.2222222222222222,
              "#7201a8"
             ],
             [
              0.3333333333333333,
              "#9c179e"
             ],
             [
              0.4444444444444444,
              "#bd3786"
             ],
             [
              0.5555555555555556,
              "#d8576b"
             ],
             [
              0.6666666666666666,
              "#ed7953"
             ],
             [
              0.7777777777777778,
              "#fb9f3a"
             ],
             [
              0.8888888888888888,
              "#fdca26"
             ],
             [
              1,
              "#f0f921"
             ]
            ],
            "type": "heatmap"
           }
          ],
          "heatmapgl": [
           {
            "colorbar": {
             "outlinewidth": 0,
             "ticks": ""
            },
            "colorscale": [
             [
              0,
              "#0d0887"
             ],
             [
              0.1111111111111111,
              "#46039f"
             ],
             [
              0.2222222222222222,
              "#7201a8"
             ],
             [
              0.3333333333333333,
              "#9c179e"
             ],
             [
              0.4444444444444444,
              "#bd3786"
             ],
             [
              0.5555555555555556,
              "#d8576b"
             ],
             [
              0.6666666666666666,
              "#ed7953"
             ],
             [
              0.7777777777777778,
              "#fb9f3a"
             ],
             [
              0.8888888888888888,
              "#fdca26"
             ],
             [
              1,
              "#f0f921"
             ]
            ],
            "type": "heatmapgl"
           }
          ],
          "histogram": [
           {
            "marker": {
             "pattern": {
              "fillmode": "overlay",
              "size": 10,
              "solidity": 0.2
             }
            },
            "type": "histogram"
           }
          ],
          "histogram2d": [
           {
            "colorbar": {
             "outlinewidth": 0,
             "ticks": ""
            },
            "colorscale": [
             [
              0,
              "#0d0887"
             ],
             [
              0.1111111111111111,
              "#46039f"
             ],
             [
              0.2222222222222222,
              "#7201a8"
             ],
             [
              0.3333333333333333,
              "#9c179e"
             ],
             [
              0.4444444444444444,
              "#bd3786"
             ],
             [
              0.5555555555555556,
              "#d8576b"
             ],
             [
              0.6666666666666666,
              "#ed7953"
             ],
             [
              0.7777777777777778,
              "#fb9f3a"
             ],
             [
              0.8888888888888888,
              "#fdca26"
             ],
             [
              1,
              "#f0f921"
             ]
            ],
            "type": "histogram2d"
           }
          ],
          "histogram2dcontour": [
           {
            "colorbar": {
             "outlinewidth": 0,
             "ticks": ""
            },
            "colorscale": [
             [
              0,
              "#0d0887"
             ],
             [
              0.1111111111111111,
              "#46039f"
             ],
             [
              0.2222222222222222,
              "#7201a8"
             ],
             [
              0.3333333333333333,
              "#9c179e"
             ],
             [
              0.4444444444444444,
              "#bd3786"
             ],
             [
              0.5555555555555556,
              "#d8576b"
             ],
             [
              0.6666666666666666,
              "#ed7953"
             ],
             [
              0.7777777777777778,
              "#fb9f3a"
             ],
             [
              0.8888888888888888,
              "#fdca26"
             ],
             [
              1,
              "#f0f921"
             ]
            ],
            "type": "histogram2dcontour"
           }
          ],
          "mesh3d": [
           {
            "colorbar": {
             "outlinewidth": 0,
             "ticks": ""
            },
            "type": "mesh3d"
           }
          ],
          "parcoords": [
           {
            "line": {
             "colorbar": {
              "outlinewidth": 0,
              "ticks": ""
             }
            },
            "type": "parcoords"
           }
          ],
          "pie": [
           {
            "automargin": true,
            "type": "pie"
           }
          ],
          "scatter": [
           {
            "fillpattern": {
             "fillmode": "overlay",
             "size": 10,
             "solidity": 0.2
            },
            "type": "scatter"
           }
          ],
          "scatter3d": [
           {
            "line": {
             "colorbar": {
              "outlinewidth": 0,
              "ticks": ""
             }
            },
            "marker": {
             "colorbar": {
              "outlinewidth": 0,
              "ticks": ""
             }
            },
            "type": "scatter3d"
           }
          ],
          "scattercarpet": [
           {
            "marker": {
             "colorbar": {
              "outlinewidth": 0,
              "ticks": ""
             }
            },
            "type": "scattercarpet"
           }
          ],
          "scattergeo": [
           {
            "marker": {
             "colorbar": {
              "outlinewidth": 0,
              "ticks": ""
             }
            },
            "type": "scattergeo"
           }
          ],
          "scattergl": [
           {
            "marker": {
             "colorbar": {
              "outlinewidth": 0,
              "ticks": ""
             }
            },
            "type": "scattergl"
           }
          ],
          "scattermapbox": [
           {
            "marker": {
             "colorbar": {
              "outlinewidth": 0,
              "ticks": ""
             }
            },
            "type": "scattermapbox"
           }
          ],
          "scatterpolar": [
           {
            "marker": {
             "colorbar": {
              "outlinewidth": 0,
              "ticks": ""
             }
            },
            "type": "scatterpolar"
           }
          ],
          "scatterpolargl": [
           {
            "marker": {
             "colorbar": {
              "outlinewidth": 0,
              "ticks": ""
             }
            },
            "type": "scatterpolargl"
           }
          ],
          "scatterternary": [
           {
            "marker": {
             "colorbar": {
              "outlinewidth": 0,
              "ticks": ""
             }
            },
            "type": "scatterternary"
           }
          ],
          "surface": [
           {
            "colorbar": {
             "outlinewidth": 0,
             "ticks": ""
            },
            "colorscale": [
             [
              0,
              "#0d0887"
             ],
             [
              0.1111111111111111,
              "#46039f"
             ],
             [
              0.2222222222222222,
              "#7201a8"
             ],
             [
              0.3333333333333333,
              "#9c179e"
             ],
             [
              0.4444444444444444,
              "#bd3786"
             ],
             [
              0.5555555555555556,
              "#d8576b"
             ],
             [
              0.6666666666666666,
              "#ed7953"
             ],
             [
              0.7777777777777778,
              "#fb9f3a"
             ],
             [
              0.8888888888888888,
              "#fdca26"
             ],
             [
              1,
              "#f0f921"
             ]
            ],
            "type": "surface"
           }
          ],
          "table": [
           {
            "cells": {
             "fill": {
              "color": "#EBF0F8"
             },
             "line": {
              "color": "white"
             }
            },
            "header": {
             "fill": {
              "color": "#C8D4E3"
             },
             "line": {
              "color": "white"
             }
            },
            "type": "table"
           }
          ]
         },
         "layout": {
          "annotationdefaults": {
           "arrowcolor": "#2a3f5f",
           "arrowhead": 0,
           "arrowwidth": 1
          },
          "autotypenumbers": "strict",
          "coloraxis": {
           "colorbar": {
            "outlinewidth": 0,
            "ticks": ""
           }
          },
          "colorscale": {
           "diverging": [
            [
             0,
             "#8e0152"
            ],
            [
             0.1,
             "#c51b7d"
            ],
            [
             0.2,
             "#de77ae"
            ],
            [
             0.3,
             "#f1b6da"
            ],
            [
             0.4,
             "#fde0ef"
            ],
            [
             0.5,
             "#f7f7f7"
            ],
            [
             0.6,
             "#e6f5d0"
            ],
            [
             0.7,
             "#b8e186"
            ],
            [
             0.8,
             "#7fbc41"
            ],
            [
             0.9,
             "#4d9221"
            ],
            [
             1,
             "#276419"
            ]
           ],
           "sequential": [
            [
             0,
             "#0d0887"
            ],
            [
             0.1111111111111111,
             "#46039f"
            ],
            [
             0.2222222222222222,
             "#7201a8"
            ],
            [
             0.3333333333333333,
             "#9c179e"
            ],
            [
             0.4444444444444444,
             "#bd3786"
            ],
            [
             0.5555555555555556,
             "#d8576b"
            ],
            [
             0.6666666666666666,
             "#ed7953"
            ],
            [
             0.7777777777777778,
             "#fb9f3a"
            ],
            [
             0.8888888888888888,
             "#fdca26"
            ],
            [
             1,
             "#f0f921"
            ]
           ],
           "sequentialminus": [
            [
             0,
             "#0d0887"
            ],
            [
             0.1111111111111111,
             "#46039f"
            ],
            [
             0.2222222222222222,
             "#7201a8"
            ],
            [
             0.3333333333333333,
             "#9c179e"
            ],
            [
             0.4444444444444444,
             "#bd3786"
            ],
            [
             0.5555555555555556,
             "#d8576b"
            ],
            [
             0.6666666666666666,
             "#ed7953"
            ],
            [
             0.7777777777777778,
             "#fb9f3a"
            ],
            [
             0.8888888888888888,
             "#fdca26"
            ],
            [
             1,
             "#f0f921"
            ]
           ]
          },
          "colorway": [
           "#636efa",
           "#EF553B",
           "#00cc96",
           "#ab63fa",
           "#FFA15A",
           "#19d3f3",
           "#FF6692",
           "#B6E880",
           "#FF97FF",
           "#FECB52"
          ],
          "font": {
           "color": "#2a3f5f"
          },
          "geo": {
           "bgcolor": "white",
           "lakecolor": "white",
           "landcolor": "#E5ECF6",
           "showlakes": true,
           "showland": true,
           "subunitcolor": "white"
          },
          "hoverlabel": {
           "align": "left"
          },
          "hovermode": "closest",
          "mapbox": {
           "style": "light"
          },
          "paper_bgcolor": "white",
          "plot_bgcolor": "#E5ECF6",
          "polar": {
           "angularaxis": {
            "gridcolor": "white",
            "linecolor": "white",
            "ticks": ""
           },
           "bgcolor": "#E5ECF6",
           "radialaxis": {
            "gridcolor": "white",
            "linecolor": "white",
            "ticks": ""
           }
          },
          "scene": {
           "xaxis": {
            "backgroundcolor": "#E5ECF6",
            "gridcolor": "white",
            "gridwidth": 2,
            "linecolor": "white",
            "showbackground": true,
            "ticks": "",
            "zerolinecolor": "white"
           },
           "yaxis": {
            "backgroundcolor": "#E5ECF6",
            "gridcolor": "white",
            "gridwidth": 2,
            "linecolor": "white",
            "showbackground": true,
            "ticks": "",
            "zerolinecolor": "white"
           },
           "zaxis": {
            "backgroundcolor": "#E5ECF6",
            "gridcolor": "white",
            "gridwidth": 2,
            "linecolor": "white",
            "showbackground": true,
            "ticks": "",
            "zerolinecolor": "white"
           }
          },
          "shapedefaults": {
           "line": {
            "color": "#2a3f5f"
           }
          },
          "ternary": {
           "aaxis": {
            "gridcolor": "white",
            "linecolor": "white",
            "ticks": ""
           },
           "baxis": {
            "gridcolor": "white",
            "linecolor": "white",
            "ticks": ""
           },
           "bgcolor": "#E5ECF6",
           "caxis": {
            "gridcolor": "white",
            "linecolor": "white",
            "ticks": ""
           }
          },
          "title": {
           "x": 0.05
          },
          "xaxis": {
           "automargin": true,
           "gridcolor": "white",
           "linecolor": "white",
           "ticks": "",
           "title": {
            "standoff": 15
           },
           "zerolinecolor": "white",
           "zerolinewidth": 2
          },
          "yaxis": {
           "automargin": true,
           "gridcolor": "white",
           "linecolor": "white",
           "ticks": "",
           "title": {
            "standoff": 15
           },
           "zerolinecolor": "white",
           "zerolinewidth": 2
          }
         }
        },
        "xaxis": {
         "anchor": "y",
         "domain": [
          0,
          1
         ],
         "title": {
          "text": "PC1"
         }
        },
        "yaxis": {
         "anchor": "x",
         "domain": [
          0,
          1
         ],
         "title": {
          "text": "PC2"
         }
        }
       }
      },
      "text/html": [
       "<div>                            <div id=\"e0abd4c6-2984-41c3-be73-b1e807a7d1ef\" class=\"plotly-graph-div\" style=\"height:550px; width:100%;\"></div>            <script type=\"text/javascript\">                require([\"plotly\"], function(Plotly) {                    window.PLOTLYENV=window.PLOTLYENV || {};                                    if (document.getElementById(\"e0abd4c6-2984-41c3-be73-b1e807a7d1ef\")) {                    Plotly.newPlot(                        \"e0abd4c6-2984-41c3-be73-b1e807a7d1ef\",                        [{\"hovertemplate\":\"PC1=%{x}<br>PC2=%{y}<br>index=%{text}<extra></extra>\",\"legendgroup\":\"\",\"marker\":{\"color\":\"#636efa\",\"symbol\":\"circle\"},\"mode\":\"markers+text\",\"name\":\"\",\"orientation\":\"v\",\"showlegend\":false,\"text\":[\"GANDALF\",\"SAM\",\"FRODO\",\"ARAGORN\",\"GOLLUM\",\"THEODEN\",\"PIPPIN\",\"GIMLI\",\"BILBO\",\"MERRY\"],\"x\":[4.497727467478518,-1.60860646960975,-0.5095743872138667,-1.210149048793683,-0.20414799178583798,0.35270939601337814,-1.2555669039544455,0.04851183113220141,-0.3937776896597589,0.2828737963932439],\"xaxis\":\"x\",\"y\":[1.1512666146852804,1.2292056186312297,-0.8433151923080444,2.688686122846649,-1.3373542302931467,-1.2350778943726066,0.38990436985251686,-1.0858871791449358,-0.8850492953434986,-0.07237893455344413],\"yaxis\":\"y\",\"type\":\"scatter\",\"textposition\":\"top center\"}],                        {\"template\":{\"data\":{\"histogram2dcontour\":[{\"type\":\"histogram2dcontour\",\"colorbar\":{\"outlinewidth\":0,\"ticks\":\"\"},\"colorscale\":[[0.0,\"#0d0887\"],[0.1111111111111111,\"#46039f\"],[0.2222222222222222,\"#7201a8\"],[0.3333333333333333,\"#9c179e\"],[0.4444444444444444,\"#bd3786\"],[0.5555555555555556,\"#d8576b\"],[0.6666666666666666,\"#ed7953\"],[0.7777777777777778,\"#fb9f3a\"],[0.8888888888888888,\"#fdca26\"],[1.0,\"#f0f921\"]]}],\"choropleth\":[{\"type\":\"choropleth\",\"colorbar\":{\"outlinewidth\":0,\"ticks\":\"\"}}],\"histogram2d\":[{\"type\":\"histogram2d\",\"colorbar\":{\"outlinewidth\":0,\"ticks\":\"\"},\"colorscale\":[[0.0,\"#0d0887\"],[0.1111111111111111,\"#46039f\"],[0.2222222222222222,\"#7201a8\"],[0.3333333333333333,\"#9c179e\"],[0.4444444444444444,\"#bd3786\"],[0.5555555555555556,\"#d8576b\"],[0.6666666666666666,\"#ed7953\"],[0.7777777777777778,\"#fb9f3a\"],[0.8888888888888888,\"#fdca26\"],[1.0,\"#f0f921\"]]}],\"heatmap\":[{\"type\":\"heatmap\",\"colorbar\":{\"outlinewidth\":0,\"ticks\":\"\"},\"colorscale\":[[0.0,\"#0d0887\"],[0.1111111111111111,\"#46039f\"],[0.2222222222222222,\"#7201a8\"],[0.3333333333333333,\"#9c179e\"],[0.4444444444444444,\"#bd3786\"],[0.5555555555555556,\"#d8576b\"],[0.6666666666666666,\"#ed7953\"],[0.7777777777777778,\"#fb9f3a\"],[0.8888888888888888,\"#fdca26\"],[1.0,\"#f0f921\"]]}],\"heatmapgl\":[{\"type\":\"heatmapgl\",\"colorbar\":{\"outlinewidth\":0,\"ticks\":\"\"},\"colorscale\":[[0.0,\"#0d0887\"],[0.1111111111111111,\"#46039f\"],[0.2222222222222222,\"#7201a8\"],[0.3333333333333333,\"#9c179e\"],[0.4444444444444444,\"#bd3786\"],[0.5555555555555556,\"#d8576b\"],[0.6666666666666666,\"#ed7953\"],[0.7777777777777778,\"#fb9f3a\"],[0.8888888888888888,\"#fdca26\"],[1.0,\"#f0f921\"]]}],\"contourcarpet\":[{\"type\":\"contourcarpet\",\"colorbar\":{\"outlinewidth\":0,\"ticks\":\"\"}}],\"contour\":[{\"type\":\"contour\",\"colorbar\":{\"outlinewidth\":0,\"ticks\":\"\"},\"colorscale\":[[0.0,\"#0d0887\"],[0.1111111111111111,\"#46039f\"],[0.2222222222222222,\"#7201a8\"],[0.3333333333333333,\"#9c179e\"],[0.4444444444444444,\"#bd3786\"],[0.5555555555555556,\"#d8576b\"],[0.6666666666666666,\"#ed7953\"],[0.7777777777777778,\"#fb9f3a\"],[0.8888888888888888,\"#fdca26\"],[1.0,\"#f0f921\"]]}],\"surface\":[{\"type\":\"surface\",\"colorbar\":{\"outlinewidth\":0,\"ticks\":\"\"},\"colorscale\":[[0.0,\"#0d0887\"],[0.1111111111111111,\"#46039f\"],[0.2222222222222222,\"#7201a8\"],[0.3333333333333333,\"#9c179e\"],[0.4444444444444444,\"#bd3786\"],[0.5555555555555556,\"#d8576b\"],[0.6666666666666666,\"#ed7953\"],[0.7777777777777778,\"#fb9f3a\"],[0.8888888888888888,\"#fdca26\"],[1.0,\"#f0f921\"]]}],\"mesh3d\":[{\"type\":\"mesh3d\",\"colorbar\":{\"outlinewidth\":0,\"ticks\":\"\"}}],\"scatter\":[{\"fillpattern\":{\"fillmode\":\"overlay\",\"size\":10,\"solidity\":0.2},\"type\":\"scatter\"}],\"parcoords\":[{\"type\":\"parcoords\",\"line\":{\"colorbar\":{\"outlinewidth\":0,\"ticks\":\"\"}}}],\"scatterpolargl\":[{\"type\":\"scatterpolargl\",\"marker\":{\"colorbar\":{\"outlinewidth\":0,\"ticks\":\"\"}}}],\"bar\":[{\"error_x\":{\"color\":\"#2a3f5f\"},\"error_y\":{\"color\":\"#2a3f5f\"},\"marker\":{\"line\":{\"color\":\"#E5ECF6\",\"width\":0.5},\"pattern\":{\"fillmode\":\"overlay\",\"size\":10,\"solidity\":0.2}},\"type\":\"bar\"}],\"scattergeo\":[{\"type\":\"scattergeo\",\"marker\":{\"colorbar\":{\"outlinewidth\":0,\"ticks\":\"\"}}}],\"scatterpolar\":[{\"type\":\"scatterpolar\",\"marker\":{\"colorbar\":{\"outlinewidth\":0,\"ticks\":\"\"}}}],\"histogram\":[{\"marker\":{\"pattern\":{\"fillmode\":\"overlay\",\"size\":10,\"solidity\":0.2}},\"type\":\"histogram\"}],\"scattergl\":[{\"type\":\"scattergl\",\"marker\":{\"colorbar\":{\"outlinewidth\":0,\"ticks\":\"\"}}}],\"scatter3d\":[{\"type\":\"scatter3d\",\"line\":{\"colorbar\":{\"outlinewidth\":0,\"ticks\":\"\"}},\"marker\":{\"colorbar\":{\"outlinewidth\":0,\"ticks\":\"\"}}}],\"scattermapbox\":[{\"type\":\"scattermapbox\",\"marker\":{\"colorbar\":{\"outlinewidth\":0,\"ticks\":\"\"}}}],\"scatterternary\":[{\"type\":\"scatterternary\",\"marker\":{\"colorbar\":{\"outlinewidth\":0,\"ticks\":\"\"}}}],\"scattercarpet\":[{\"type\":\"scattercarpet\",\"marker\":{\"colorbar\":{\"outlinewidth\":0,\"ticks\":\"\"}}}],\"carpet\":[{\"aaxis\":{\"endlinecolor\":\"#2a3f5f\",\"gridcolor\":\"white\",\"linecolor\":\"white\",\"minorgridcolor\":\"white\",\"startlinecolor\":\"#2a3f5f\"},\"baxis\":{\"endlinecolor\":\"#2a3f5f\",\"gridcolor\":\"white\",\"linecolor\":\"white\",\"minorgridcolor\":\"white\",\"startlinecolor\":\"#2a3f5f\"},\"type\":\"carpet\"}],\"table\":[{\"cells\":{\"fill\":{\"color\":\"#EBF0F8\"},\"line\":{\"color\":\"white\"}},\"header\":{\"fill\":{\"color\":\"#C8D4E3\"},\"line\":{\"color\":\"white\"}},\"type\":\"table\"}],\"barpolar\":[{\"marker\":{\"line\":{\"color\":\"#E5ECF6\",\"width\":0.5},\"pattern\":{\"fillmode\":\"overlay\",\"size\":10,\"solidity\":0.2}},\"type\":\"barpolar\"}],\"pie\":[{\"automargin\":true,\"type\":\"pie\"}]},\"layout\":{\"autotypenumbers\":\"strict\",\"colorway\":[\"#636efa\",\"#EF553B\",\"#00cc96\",\"#ab63fa\",\"#FFA15A\",\"#19d3f3\",\"#FF6692\",\"#B6E880\",\"#FF97FF\",\"#FECB52\"],\"font\":{\"color\":\"#2a3f5f\"},\"hovermode\":\"closest\",\"hoverlabel\":{\"align\":\"left\"},\"paper_bgcolor\":\"white\",\"plot_bgcolor\":\"#E5ECF6\",\"polar\":{\"bgcolor\":\"#E5ECF6\",\"angularaxis\":{\"gridcolor\":\"white\",\"linecolor\":\"white\",\"ticks\":\"\"},\"radialaxis\":{\"gridcolor\":\"white\",\"linecolor\":\"white\",\"ticks\":\"\"}},\"ternary\":{\"bgcolor\":\"#E5ECF6\",\"aaxis\":{\"gridcolor\":\"white\",\"linecolor\":\"white\",\"ticks\":\"\"},\"baxis\":{\"gridcolor\":\"white\",\"linecolor\":\"white\",\"ticks\":\"\"},\"caxis\":{\"gridcolor\":\"white\",\"linecolor\":\"white\",\"ticks\":\"\"}},\"coloraxis\":{\"colorbar\":{\"outlinewidth\":0,\"ticks\":\"\"}},\"colorscale\":{\"sequential\":[[0.0,\"#0d0887\"],[0.1111111111111111,\"#46039f\"],[0.2222222222222222,\"#7201a8\"],[0.3333333333333333,\"#9c179e\"],[0.4444444444444444,\"#bd3786\"],[0.5555555555555556,\"#d8576b\"],[0.6666666666666666,\"#ed7953\"],[0.7777777777777778,\"#fb9f3a\"],[0.8888888888888888,\"#fdca26\"],[1.0,\"#f0f921\"]],\"sequentialminus\":[[0.0,\"#0d0887\"],[0.1111111111111111,\"#46039f\"],[0.2222222222222222,\"#7201a8\"],[0.3333333333333333,\"#9c179e\"],[0.4444444444444444,\"#bd3786\"],[0.5555555555555556,\"#d8576b\"],[0.6666666666666666,\"#ed7953\"],[0.7777777777777778,\"#fb9f3a\"],[0.8888888888888888,\"#fdca26\"],[1.0,\"#f0f921\"]],\"diverging\":[[0,\"#8e0152\"],[0.1,\"#c51b7d\"],[0.2,\"#de77ae\"],[0.3,\"#f1b6da\"],[0.4,\"#fde0ef\"],[0.5,\"#f7f7f7\"],[0.6,\"#e6f5d0\"],[0.7,\"#b8e186\"],[0.8,\"#7fbc41\"],[0.9,\"#4d9221\"],[1,\"#276419\"]]},\"xaxis\":{\"gridcolor\":\"white\",\"linecolor\":\"white\",\"ticks\":\"\",\"title\":{\"standoff\":15},\"zerolinecolor\":\"white\",\"automargin\":true,\"zerolinewidth\":2},\"yaxis\":{\"gridcolor\":\"white\",\"linecolor\":\"white\",\"ticks\":\"\",\"title\":{\"standoff\":15},\"zerolinecolor\":\"white\",\"automargin\":true,\"zerolinewidth\":2},\"scene\":{\"xaxis\":{\"backgroundcolor\":\"#E5ECF6\",\"gridcolor\":\"white\",\"linecolor\":\"white\",\"showbackground\":true,\"ticks\":\"\",\"zerolinecolor\":\"white\",\"gridwidth\":2},\"yaxis\":{\"backgroundcolor\":\"#E5ECF6\",\"gridcolor\":\"white\",\"linecolor\":\"white\",\"showbackground\":true,\"ticks\":\"\",\"zerolinecolor\":\"white\",\"gridwidth\":2},\"zaxis\":{\"backgroundcolor\":\"#E5ECF6\",\"gridcolor\":\"white\",\"linecolor\":\"white\",\"showbackground\":true,\"ticks\":\"\",\"zerolinecolor\":\"white\",\"gridwidth\":2}},\"shapedefaults\":{\"line\":{\"color\":\"#2a3f5f\"}},\"annotationdefaults\":{\"arrowcolor\":\"#2a3f5f\",\"arrowhead\":0,\"arrowwidth\":1},\"geo\":{\"bgcolor\":\"white\",\"landcolor\":\"#E5ECF6\",\"subunitcolor\":\"white\",\"showland\":true,\"showlakes\":true,\"lakecolor\":\"white\"},\"title\":{\"x\":0.05},\"mapbox\":{\"style\":\"light\"}}},\"xaxis\":{\"anchor\":\"y\",\"domain\":[0.0,1.0],\"title\":{\"text\":\"PC1\"}},\"yaxis\":{\"anchor\":\"x\",\"domain\":[0.0,1.0],\"title\":{\"text\":\"PC2\"}},\"legend\":{\"tracegroupgap\":0},\"margin\":{\"t\":60},\"font\":{\"family\":\"Arial\",\"size\":15,\"color\":\"RebeccaPurple\"},\"height\":550},                        {\"toImageButtonOptions\": {\"format\": \"png\", \"height\": 550, \"width\": 1100, \"scale\": 8}, \"responsive\": true}                    ).then(function(){\n",
       "                            \n",
       "var gd = document.getElementById('e0abd4c6-2984-41c3-be73-b1e807a7d1ef');\n",
       "var x = new MutationObserver(function (mutations, observer) {{\n",
       "        var display = window.getComputedStyle(gd).display;\n",
       "        if (!display || display === 'none') {{\n",
       "            console.log([gd, 'removed!']);\n",
       "            Plotly.purge(gd);\n",
       "            observer.disconnect();\n",
       "        }}\n",
       "}});\n",
       "\n",
       "// Listen for the removal of the full notebook cells\n",
       "var notebookContainer = gd.closest('#notebook-container');\n",
       "if (notebookContainer) {{\n",
       "    x.observe(notebookContainer, {childList: true});\n",
       "}}\n",
       "\n",
       "// Listen for the clearing of the current output cell\n",
       "var outputEl = gd.closest('.output');\n",
       "if (outputEl) {{\n",
       "    x.observe(outputEl, {childList: true});\n",
       "}}\n",
       "\n",
       "                        })                };                });            </script>        </div>"
      ]
     },
     "metadata": {},
     "output_type": "display_data"
    }
   ],
   "source": [
    "from sklearn.metrics.pairwise import cosine_similarity\n",
    "from sklearn.preprocessing import StandardScaler\n",
    "import plotly.express as px\n",
    "import numpy as np\n",
    "\n",
    "num_char = 10 # number of characters to be included in the scatter plot\n",
    "x = StandardScaler().fit_transform(traitProbsDf[0:num_char].values)\n",
    "\n",
    "pca = PCA(n_components=2)\n",
    "principalComponents = pca.fit_transform(x) # peform PCA\n",
    "print(\"Variance explained: {} percent\".format(100 * pca.explained_variance_ratio_.cumsum()[1]))\n",
    "\n",
    "df = pd.DataFrame(principalComponents, index=list(concat.keys())[0:num_char], columns=['PC1','PC2'])\n",
    "fig = px.scatter(df, x='PC1', y='PC2', text=df.index) # plot according to the principal components\n",
    "\n",
    "fig.update_layout(\n",
    "    font=dict(\n",
    "        family=\"Arial\",\n",
    "        size=15,  # Set the font size here\n",
    "        color=\"RebeccaPurple\"\n",
    "    ),\n",
    "    height=550\n",
    ")\n",
    "\n",
    "fig.update_traces(textposition=\"top center\")\n",
    "\n",
    "config = {\n",
    "    'toImageButtonOptions': {\n",
    "        'format': 'png',\n",
    "        'height': 550,\n",
    "        'width': 1100,\n",
    "        'scale': 8\n",
    "    }\n",
    "}\n",
    "\n",
    "fig.show(config=config)"
   ]
  },
  {
   "cell_type": "markdown",
   "id": "14850f51",
   "metadata": {},
   "source": [
    "# Task 3"
   ]
  },
  {
   "cell_type": "code",
   "execution_count": 10,
   "id": "1cf6686a",
   "metadata": {},
   "outputs": [
    {
     "data": {
      "text/html": [
       "<div>\n",
       "<style scoped>\n",
       "    .dataframe tbody tr th:only-of-type {\n",
       "        vertical-align: middle;\n",
       "    }\n",
       "\n",
       "    .dataframe tbody tr th {\n",
       "        vertical-align: top;\n",
       "    }\n",
       "\n",
       "    .dataframe thead th {\n",
       "        text-align: right;\n",
       "    }\n",
       "</style>\n",
       "<table border=\"1\" class=\"dataframe\">\n",
       "  <thead>\n",
       "    <tr style=\"text-align: right;\">\n",
       "      <th></th>\n",
       "      <th>GANDALF</th>\n",
       "      <th>SAM</th>\n",
       "      <th>FRODO</th>\n",
       "      <th>ARAGORN</th>\n",
       "      <th>GOLLUM</th>\n",
       "      <th>THEODEN</th>\n",
       "      <th>PIPPIN</th>\n",
       "      <th>GIMLI</th>\n",
       "      <th>BILBO</th>\n",
       "      <th>MERRY</th>\n",
       "    </tr>\n",
       "  </thead>\n",
       "  <tbody>\n",
       "    <tr>\n",
       "      <th>GANDALF</th>\n",
       "      <td>1.000000</td>\n",
       "      <td>0.000857</td>\n",
       "      <td>0.000297</td>\n",
       "      <td>0.000115</td>\n",
       "      <td>0.000332</td>\n",
       "      <td>0.005626</td>\n",
       "      <td>0.000321</td>\n",
       "      <td>0.003700</td>\n",
       "      <td>0.000817</td>\n",
       "      <td>0.000116</td>\n",
       "    </tr>\n",
       "    <tr>\n",
       "      <th>SAM</th>\n",
       "      <td>0.000857</td>\n",
       "      <td>1.000000</td>\n",
       "      <td>0.852623</td>\n",
       "      <td>0.883414</td>\n",
       "      <td>0.769493</td>\n",
       "      <td>0.765222</td>\n",
       "      <td>0.908490</td>\n",
       "      <td>0.804860</td>\n",
       "      <td>0.849259</td>\n",
       "      <td>0.719144</td>\n",
       "    </tr>\n",
       "    <tr>\n",
       "      <th>FRODO</th>\n",
       "      <td>0.000297</td>\n",
       "      <td>0.852623</td>\n",
       "      <td>1.000000</td>\n",
       "      <td>0.610078</td>\n",
       "      <td>0.981497</td>\n",
       "      <td>0.979434</td>\n",
       "      <td>0.912225</td>\n",
       "      <td>0.981042</td>\n",
       "      <td>0.969900</td>\n",
       "      <td>0.853286</td>\n",
       "    </tr>\n",
       "    <tr>\n",
       "      <th>ARAGORN</th>\n",
       "      <td>0.000115</td>\n",
       "      <td>0.883414</td>\n",
       "      <td>0.610078</td>\n",
       "      <td>1.000000</td>\n",
       "      <td>0.486775</td>\n",
       "      <td>0.480717</td>\n",
       "      <td>0.782023</td>\n",
       "      <td>0.527339</td>\n",
       "      <td>0.583445</td>\n",
       "      <td>0.694941</td>\n",
       "    </tr>\n",
       "    <tr>\n",
       "      <th>GOLLUM</th>\n",
       "      <td>0.000332</td>\n",
       "      <td>0.769493</td>\n",
       "      <td>0.981497</td>\n",
       "      <td>0.486775</td>\n",
       "      <td>1.000000</td>\n",
       "      <td>0.999928</td>\n",
       "      <td>0.817162</td>\n",
       "      <td>0.996750</td>\n",
       "      <td>0.980397</td>\n",
       "      <td>0.834370</td>\n",
       "    </tr>\n",
       "    <tr>\n",
       "      <th>THEODEN</th>\n",
       "      <td>0.005626</td>\n",
       "      <td>0.765222</td>\n",
       "      <td>0.979434</td>\n",
       "      <td>0.480717</td>\n",
       "      <td>0.999928</td>\n",
       "      <td>1.000000</td>\n",
       "      <td>0.811023</td>\n",
       "      <td>0.996768</td>\n",
       "      <td>0.980449</td>\n",
       "      <td>0.832394</td>\n",
       "    </tr>\n",
       "    <tr>\n",
       "      <th>PIPPIN</th>\n",
       "      <td>0.000321</td>\n",
       "      <td>0.908490</td>\n",
       "      <td>0.912225</td>\n",
       "      <td>0.782023</td>\n",
       "      <td>0.817162</td>\n",
       "      <td>0.811023</td>\n",
       "      <td>1.000000</td>\n",
       "      <td>0.820075</td>\n",
       "      <td>0.817658</td>\n",
       "      <td>0.786666</td>\n",
       "    </tr>\n",
       "    <tr>\n",
       "      <th>GIMLI</th>\n",
       "      <td>0.003700</td>\n",
       "      <td>0.804860</td>\n",
       "      <td>0.981042</td>\n",
       "      <td>0.527339</td>\n",
       "      <td>0.996750</td>\n",
       "      <td>0.996768</td>\n",
       "      <td>0.820075</td>\n",
       "      <td>1.000000</td>\n",
       "      <td>0.993065</td>\n",
       "      <td>0.831323</td>\n",
       "    </tr>\n",
       "    <tr>\n",
       "      <th>BILBO</th>\n",
       "      <td>0.000817</td>\n",
       "      <td>0.849259</td>\n",
       "      <td>0.969900</td>\n",
       "      <td>0.583445</td>\n",
       "      <td>0.980397</td>\n",
       "      <td>0.980449</td>\n",
       "      <td>0.817658</td>\n",
       "      <td>0.993065</td>\n",
       "      <td>1.000000</td>\n",
       "      <td>0.818118</td>\n",
       "    </tr>\n",
       "    <tr>\n",
       "      <th>MERRY</th>\n",
       "      <td>0.000116</td>\n",
       "      <td>0.719144</td>\n",
       "      <td>0.853286</td>\n",
       "      <td>0.694941</td>\n",
       "      <td>0.834370</td>\n",
       "      <td>0.832394</td>\n",
       "      <td>0.786666</td>\n",
       "      <td>0.831323</td>\n",
       "      <td>0.818118</td>\n",
       "      <td>1.000000</td>\n",
       "    </tr>\n",
       "  </tbody>\n",
       "</table>\n",
       "</div>"
      ],
      "text/plain": [
       "          GANDALF       SAM     FRODO   ARAGORN    GOLLUM   THEODEN    PIPPIN  \\\n",
       "GANDALF  1.000000  0.000857  0.000297  0.000115  0.000332  0.005626  0.000321   \n",
       "SAM      0.000857  1.000000  0.852623  0.883414  0.769493  0.765222  0.908490   \n",
       "FRODO    0.000297  0.852623  1.000000  0.610078  0.981497  0.979434  0.912225   \n",
       "ARAGORN  0.000115  0.883414  0.610078  1.000000  0.486775  0.480717  0.782023   \n",
       "GOLLUM   0.000332  0.769493  0.981497  0.486775  1.000000  0.999928  0.817162   \n",
       "THEODEN  0.005626  0.765222  0.979434  0.480717  0.999928  1.000000  0.811023   \n",
       "PIPPIN   0.000321  0.908490  0.912225  0.782023  0.817162  0.811023  1.000000   \n",
       "GIMLI    0.003700  0.804860  0.981042  0.527339  0.996750  0.996768  0.820075   \n",
       "BILBO    0.000817  0.849259  0.969900  0.583445  0.980397  0.980449  0.817658   \n",
       "MERRY    0.000116  0.719144  0.853286  0.694941  0.834370  0.832394  0.786666   \n",
       "\n",
       "            GIMLI     BILBO     MERRY  \n",
       "GANDALF  0.003700  0.000817  0.000116  \n",
       "SAM      0.804860  0.849259  0.719144  \n",
       "FRODO    0.981042  0.969900  0.853286  \n",
       "ARAGORN  0.527339  0.583445  0.694941  \n",
       "GOLLUM   0.996750  0.980397  0.834370  \n",
       "THEODEN  0.996768  0.980449  0.832394  \n",
       "PIPPIN   0.820075  0.817658  0.786666  \n",
       "GIMLI    1.000000  0.993065  0.831323  \n",
       "BILBO    0.993065  1.000000  0.818118  \n",
       "MERRY    0.831323  0.818118  1.000000  "
      ]
     },
     "execution_count": 10,
     "metadata": {},
     "output_type": "execute_result"
    }
   ],
   "source": [
    "similarities = {} # contains the pairwise cosine similarities for characters\n",
    "num_char = 10\n",
    "\n",
    "for character1 in list(concat.keys())[0:num_char]:\n",
    "    if not character1 in similarities:\n",
    "        similarities[character1] = {}\n",
    "\n",
    "    for character2 in list(concat.keys())[0:num_char]: # I know, CosSim(A,B)=CosSim(B,A)...\n",
    "        similarities[character1][character2] = cosine_similarity(np.array(traitProbs[character1]).reshape(1, -1), np.array(traitProbs[character2]).reshape(1, -1))[0][0]\n",
    "\n",
    "pd.DataFrame.from_dict(similarities, orient=\"index\")"
   ]
  },
  {
   "cell_type": "markdown",
   "id": "f3f71c6b",
   "metadata": {},
   "source": [
    "# Task 4"
   ]
  },
  {
   "cell_type": "markdown",
   "id": "5c70355d",
   "metadata": {},
   "source": [
    "Please see tasks_tool2.ipynb and tasks_tool3.ipynb."
   ]
  },
  {
   "cell_type": "markdown",
   "id": "d9f07a5f",
   "metadata": {},
   "source": [
    "# Task 5"
   ]
  },
  {
   "cell_type": "code",
   "execution_count": 11,
   "id": "baf87b79",
   "metadata": {},
   "outputs": [
    {
     "name": "stdout",
     "output_type": "stream",
     "text": [
      "Done!\n"
     ]
    }
   ],
   "source": [
    "probVectors = []\n",
    "dialogue = []\n",
    "\n",
    "for index, row in script.iterrows(): # go through the entries one by one for clarity\n",
    "    line = str(row[\"dialog\"]).lower()\n",
    "    dialogue.append(line)\n",
    "\n",
    "for trait in range(0, 5):\n",
    "    xx_test = vectorizers[trait].transform(dialogue)\n",
    "    probVectors.append(classifiers[trait].predict_proba(xx_test)[:,1]) # predict probability for every trait\n",
    "\n",
    "traitVectors = []\n",
    "\n",
    "for index in range(len(probVectors[0])):\n",
    "    traitVector = [probVectors[0][index], probVectors[1][index], probVectors[2][index], probVectors[3][index], probVectors[4][index]]\n",
    "    traitVectors.append(traitVector)\n",
    "\n",
    "scores = pd.DataFrame(traitVectors)\n",
    "scores.to_csv(\"traitVectors_tool1.csv\") # save the scores of each script in a \"databse\" file\n",
    "print(\"Done!\")"
   ]
  },
  {
   "cell_type": "markdown",
   "id": "1b8a89ef",
   "metadata": {},
   "source": [
    "# Task 6"
   ]
  },
  {
   "cell_type": "code",
   "execution_count": 12,
   "id": "fa59830d",
   "metadata": {},
   "outputs": [
    {
     "data": {
      "text/html": [
       "<div>\n",
       "<style scoped>\n",
       "    .dataframe tbody tr th:only-of-type {\n",
       "        vertical-align: middle;\n",
       "    }\n",
       "\n",
       "    .dataframe tbody tr th {\n",
       "        vertical-align: top;\n",
       "    }\n",
       "\n",
       "    .dataframe thead th {\n",
       "        text-align: right;\n",
       "    }\n",
       "</style>\n",
       "<table border=\"1\" class=\"dataframe\">\n",
       "  <thead>\n",
       "    <tr style=\"text-align: right;\">\n",
       "      <th></th>\n",
       "      <th>Score 1</th>\n",
       "      <th>Score 2</th>\n",
       "      <th>Most frequent trait</th>\n",
       "    </tr>\n",
       "  </thead>\n",
       "  <tbody>\n",
       "    <tr>\n",
       "      <th>GANDALF</th>\n",
       "      <td>0.029268</td>\n",
       "      <td>0.385366</td>\n",
       "      <td>Extraversion</td>\n",
       "    </tr>\n",
       "    <tr>\n",
       "      <th>SAM</th>\n",
       "      <td>0.368664</td>\n",
       "      <td>0.368664</td>\n",
       "      <td>Openness</td>\n",
       "    </tr>\n",
       "    <tr>\n",
       "      <th>FRODO</th>\n",
       "      <td>0.070796</td>\n",
       "      <td>0.393805</td>\n",
       "      <td>Openness</td>\n",
       "    </tr>\n",
       "    <tr>\n",
       "      <th>ARAGORN</th>\n",
       "      <td>0.267380</td>\n",
       "      <td>0.470588</td>\n",
       "      <td>Extraversion</td>\n",
       "    </tr>\n",
       "    <tr>\n",
       "      <th>GOLLUM</th>\n",
       "      <td>0.253731</td>\n",
       "      <td>0.365672</td>\n",
       "      <td>Extraversion</td>\n",
       "    </tr>\n",
       "    <tr>\n",
       "      <th>...</th>\n",
       "      <td>...</td>\n",
       "      <td>...</td>\n",
       "      <td>...</td>\n",
       "    </tr>\n",
       "    <tr>\n",
       "      <th>OLD MAN</th>\n",
       "      <td>0.000000</td>\n",
       "      <td>1.000000</td>\n",
       "      <td>Agreeableness</td>\n",
       "    </tr>\n",
       "    <tr>\n",
       "      <th>FRODO VOICE</th>\n",
       "      <td>0.000000</td>\n",
       "      <td>1.000000</td>\n",
       "      <td>Extraversion</td>\n",
       "    </tr>\n",
       "    <tr>\n",
       "      <th>MRS BRACEGIRDLE</th>\n",
       "      <td>0.000000</td>\n",
       "      <td>1.000000</td>\n",
       "      <td>Extraversion</td>\n",
       "    </tr>\n",
       "    <tr>\n",
       "      <th>PROUDFOOT HOBBIT</th>\n",
       "      <td>0.000000</td>\n",
       "      <td>1.000000</td>\n",
       "      <td>Extraversion</td>\n",
       "    </tr>\n",
       "    <tr>\n",
       "      <th>MEN</th>\n",
       "      <td>0.000000</td>\n",
       "      <td>1.000000</td>\n",
       "      <td>Agreeableness</td>\n",
       "    </tr>\n",
       "  </tbody>\n",
       "</table>\n",
       "<p>111 rows × 3 columns</p>\n",
       "</div>"
      ],
      "text/plain": [
       "                   Score 1   Score 2 Most frequent trait\n",
       "GANDALF           0.029268  0.385366        Extraversion\n",
       "SAM               0.368664  0.368664            Openness\n",
       "FRODO             0.070796  0.393805            Openness\n",
       "ARAGORN           0.267380  0.470588        Extraversion\n",
       "GOLLUM            0.253731  0.365672        Extraversion\n",
       "...                    ...       ...                 ...\n",
       "OLD MAN           0.000000  1.000000       Agreeableness\n",
       "FRODO VOICE       0.000000  1.000000        Extraversion\n",
       "MRS BRACEGIRDLE   0.000000  1.000000        Extraversion\n",
       "PROUDFOOT HOBBIT  0.000000  1.000000        Extraversion\n",
       "MEN               0.000000  1.000000       Agreeableness\n",
       "\n",
       "[111 rows x 3 columns]"
      ]
     },
     "metadata": {},
     "output_type": "display_data"
    }
   ],
   "source": [
    "dominatingTrait = {}\n",
    "\n",
    "for character in concat:\n",
    "    dominatingTrait[character] = traitProbs[character].index(max(traitProbs[character])) # dominant trait for every char\n",
    "\n",
    "dominatingProportion = {}\n",
    "\n",
    "lista = list(script.iterrows())\n",
    "traits = {}\n",
    "\n",
    "for i, score in enumerate(traitVectors):\n",
    "    dominantTrait = score.index(max(score)) # dominant trait of the script\n",
    "    character = lista[i][1][\"char\"].strip().replace(\"(\", \"\") # the character of this script\n",
    "\n",
    "    if not character in dominatingProportion:\n",
    "        dominatingProportion[character] = {\"Score 1\": 0, \"Score 2\": 0, \"Most frequent trait\": 0}\n",
    "        traits[character] = []\n",
    "\n",
    "    traits[character].append(dominantTrait)\n",
    "    \n",
    "    if dominantTrait == dominatingTrait[character]: # it's a match!\n",
    "        dominatingProportion[character][\"Score 1\"] += 1\n",
    "\n",
    "totalCounts = {}\n",
    "for index, row in script.iterrows(): # go through the entries one by one for clarity (of course, could be implemented more compactly with nice pandas oneliners)\n",
    "    character = row[\"char\"].strip().replace(\"(\", \"\")\n",
    "    \n",
    "    if not character in totalCounts:\n",
    "        totalCounts[character] = 0\n",
    "        \n",
    "    totalCounts[character] += 1\n",
    "\n",
    "for character in totalCounts:\n",
    "    dominatingProportion[character][\"Score 1\"] /= totalCounts[character] # for each character, divide the count by the total number of scripts for this char\n",
    "    \n",
    "    freqTrait = max(set(traits[character]), key=traits[character].count)\n",
    "    dominatingProportion[character][\"Score 2\"] = traits[character].count(freqTrait) / len(traits[character])\n",
    "    dominatingProportion[character][\"Most frequent trait\"] = traitNames[freqTrait]\n",
    "    \n",
    "df = pd.DataFrame.from_dict(dominatingProportion, orient=\"index\")\n",
    "df = df.reindex(concat.keys())\n",
    "display(df)"
   ]
  },
  {
   "cell_type": "markdown",
   "id": "673eccd9",
   "metadata": {},
   "source": [
    "# Task 7"
   ]
  },
  {
   "cell_type": "code",
   "execution_count": 8,
   "id": "9528325c",
   "metadata": {},
   "outputs": [
    {
     "name": "stderr",
     "output_type": "stream",
     "text": [
      "[nltk_data] Downloading package vader_lexicon to\n",
      "[nltk_data]     C:\\Users\\pake10\\AppData\\Roaming\\nltk_data...\n",
      "[nltk_data]   Package vader_lexicon is already up-to-date!\n"
     ]
    },
    {
     "data": {
      "application/vnd.plotly.v1+json": {
       "config": {
        "plotlyServerURL": "https://plot.ly",
        "toImageButtonOptions": {
         "format": "png",
         "height": 1200,
         "scale": 10,
         "width": 1000
        }
       },
       "data": [
        {
         "marker": {
          "color": "cornflowerblue"
         },
         "name": "Neutral",
         "showlegend": true,
         "type": "bar",
         "x": [
          "EXT",
          "NEU",
          "AGR",
          "CON",
          "OPN"
         ],
         "xaxis": "x",
         "y": [
          43,
          2,
          1,
          0,
          36
         ],
         "yaxis": "y"
        },
        {
         "marker": {
          "color": "mediumseagreen"
         },
         "name": "Positive",
         "showlegend": true,
         "type": "bar",
         "x": [
          "EXT",
          "NEU",
          "AGR",
          "CON",
          "OPN"
         ],
         "xaxis": "x",
         "y": [
          25,
          3,
          2,
          0,
          30
         ],
         "yaxis": "y"
        },
        {
         "marker": {
          "color": "crimson"
         },
         "name": "Negative",
         "showlegend": true,
         "type": "bar",
         "x": [
          "EXT",
          "NEU",
          "AGR",
          "CON",
          "OPN"
         ],
         "xaxis": "x",
         "y": [
          29,
          0,
          0,
          0,
          34
         ],
         "yaxis": "y"
        },
        {
         "marker": {
          "color": "cornflowerblue"
         },
         "name": "Neutral",
         "showlegend": false,
         "type": "bar",
         "x": [
          "EXT",
          "NEU",
          "AGR",
          "CON",
          "OPN"
         ],
         "xaxis": "x2",
         "y": [
          63,
          3,
          8,
          0,
          47
         ],
         "yaxis": "y2"
        },
        {
         "marker": {
          "color": "mediumseagreen"
         },
         "name": "Positive",
         "showlegend": false,
         "type": "bar",
         "x": [
          "EXT",
          "NEU",
          "AGR",
          "CON",
          "OPN"
         ],
         "xaxis": "x2",
         "y": [
          13,
          0,
          3,
          0,
          25
         ],
         "yaxis": "y2"
        },
        {
         "marker": {
          "color": "crimson"
         },
         "name": "Negative",
         "showlegend": false,
         "type": "bar",
         "x": [
          "EXT",
          "NEU",
          "AGR",
          "CON",
          "OPN"
         ],
         "xaxis": "x2",
         "y": [
          9,
          1,
          1,
          0,
          44
         ],
         "yaxis": "y2"
        },
        {
         "marker": {
          "color": "cornflowerblue"
         },
         "name": "Neutral",
         "showlegend": false,
         "type": "bar",
         "x": [
          "EXT",
          "NEU",
          "AGR",
          "CON",
          "OPN"
         ],
         "xaxis": "x3",
         "y": [
          79,
          3,
          7,
          0,
          56
         ],
         "yaxis": "y3"
        },
        {
         "marker": {
          "color": "mediumseagreen"
         },
         "name": "Positive",
         "showlegend": false,
         "type": "bar",
         "x": [
          "EXT",
          "NEU",
          "AGR",
          "CON",
          "OPN"
         ],
         "xaxis": "x3",
         "y": [
          17,
          3,
          2,
          0,
          24
         ],
         "yaxis": "y3"
        },
        {
         "marker": {
          "color": "crimson"
         },
         "name": "Negative",
         "showlegend": false,
         "type": "bar",
         "x": [
          "EXT",
          "NEU",
          "AGR",
          "CON",
          "OPN"
         ],
         "xaxis": "x3",
         "y": [
          9,
          1,
          1,
          0,
          24
         ],
         "yaxis": "y3"
        },
        {
         "marker": {
          "color": "cornflowerblue"
         },
         "name": "Neutral",
         "showlegend": false,
         "type": "bar",
         "x": [
          "EXT",
          "NEU",
          "AGR",
          "CON",
          "OPN"
         ],
         "xaxis": "x4",
         "y": [
          74,
          2,
          4,
          0,
          43
         ],
         "yaxis": "y4"
        },
        {
         "marker": {
          "color": "mediumseagreen"
         },
         "name": "Positive",
         "showlegend": false,
         "type": "bar",
         "x": [
          "EXT",
          "NEU",
          "AGR",
          "CON",
          "OPN"
         ],
         "xaxis": "x4",
         "y": [
          17,
          0,
          1,
          0,
          14
         ],
         "yaxis": "y4"
        },
        {
         "marker": {
          "color": "crimson"
         },
         "name": "Negative",
         "showlegend": false,
         "type": "bar",
         "x": [
          "EXT",
          "NEU",
          "AGR",
          "CON",
          "OPN"
         ],
         "xaxis": "x4",
         "y": [
          11,
          0,
          0,
          0,
          21
         ],
         "yaxis": "y4"
        },
        {
         "marker": {
          "color": "cornflowerblue"
         },
         "name": "Neutral",
         "showlegend": false,
         "type": "bar",
         "x": [
          "EXT",
          "NEU",
          "AGR",
          "CON",
          "OPN"
         ],
         "xaxis": "x5",
         "y": [
          23,
          2,
          3,
          0,
          23
         ],
         "yaxis": "y5"
        },
        {
         "marker": {
          "color": "mediumseagreen"
         },
         "name": "Positive",
         "showlegend": false,
         "type": "bar",
         "x": [
          "EXT",
          "NEU",
          "AGR",
          "CON",
          "OPN"
         ],
         "xaxis": "x5",
         "y": [
          16,
          2,
          1,
          0,
          22
         ],
         "yaxis": "y5"
        },
        {
         "marker": {
          "color": "crimson"
         },
         "name": "Negative",
         "showlegend": false,
         "type": "bar",
         "x": [
          "EXT",
          "NEU",
          "AGR",
          "CON",
          "OPN"
         ],
         "xaxis": "x5",
         "y": [
          12,
          3,
          1,
          0,
          26
         ],
         "yaxis": "y5"
        },
        {
         "marker": {
          "color": "cornflowerblue"
         },
         "name": "Neutral",
         "showlegend": false,
         "type": "bar",
         "x": [
          "EXT",
          "NEU",
          "AGR",
          "CON",
          "OPN"
         ],
         "xaxis": "x6",
         "y": [
          36,
          0,
          2,
          0,
          22
         ],
         "yaxis": "y6"
        },
        {
         "marker": {
          "color": "mediumseagreen"
         },
         "name": "Positive",
         "showlegend": false,
         "type": "bar",
         "x": [
          "EXT",
          "NEU",
          "AGR",
          "CON",
          "OPN"
         ],
         "xaxis": "x6",
         "y": [
          11,
          0,
          0,
          0,
          12
         ],
         "yaxis": "y6"
        },
        {
         "marker": {
          "color": "crimson"
         },
         "name": "Negative",
         "showlegend": false,
         "type": "bar",
         "x": [
          "EXT",
          "NEU",
          "AGR",
          "CON",
          "OPN"
         ],
         "xaxis": "x6",
         "y": [
          14,
          0,
          0,
          0,
          13
         ],
         "yaxis": "y6"
        },
        {
         "marker": {
          "color": "cornflowerblue"
         },
         "name": "Neutral",
         "showlegend": false,
         "type": "bar",
         "x": [
          "EXT",
          "NEU",
          "AGR",
          "CON",
          "OPN"
         ],
         "xaxis": "x7",
         "y": [
          47,
          3,
          5,
          0,
          29
         ],
         "yaxis": "y7"
        },
        {
         "marker": {
          "color": "mediumseagreen"
         },
         "name": "Positive",
         "showlegend": false,
         "type": "bar",
         "x": [
          "EXT",
          "NEU",
          "AGR",
          "CON",
          "OPN"
         ],
         "xaxis": "x7",
         "y": [
          20,
          1,
          2,
          0,
          30
         ],
         "yaxis": "y7"
        },
        {
         "marker": {
          "color": "crimson"
         },
         "name": "Negative",
         "showlegend": false,
         "type": "bar",
         "x": [
          "EXT",
          "NEU",
          "AGR",
          "CON",
          "OPN"
         ],
         "xaxis": "x7",
         "y": [
          9,
          1,
          0,
          0,
          16
         ],
         "yaxis": "y7"
        },
        {
         "marker": {
          "color": "cornflowerblue"
         },
         "name": "Neutral",
         "showlegend": false,
         "type": "bar",
         "x": [
          "EXT",
          "NEU",
          "AGR",
          "CON",
          "OPN"
         ],
         "xaxis": "x8",
         "y": [
          29,
          3,
          6,
          0,
          22
         ],
         "yaxis": "y8"
        },
        {
         "marker": {
          "color": "mediumseagreen"
         },
         "name": "Positive",
         "showlegend": false,
         "type": "bar",
         "x": [
          "EXT",
          "NEU",
          "AGR",
          "CON",
          "OPN"
         ],
         "xaxis": "x8",
         "y": [
          10,
          1,
          3,
          0,
          14
         ],
         "yaxis": "y8"
        },
        {
         "marker": {
          "color": "crimson"
         },
         "name": "Negative",
         "showlegend": false,
         "type": "bar",
         "x": [
          "EXT",
          "NEU",
          "AGR",
          "CON",
          "OPN"
         ],
         "xaxis": "x8",
         "y": [
          9,
          0,
          0,
          0,
          19
         ],
         "yaxis": "y8"
        },
        {
         "marker": {
          "color": "cornflowerblue"
         },
         "name": "Neutral",
         "showlegend": false,
         "type": "bar",
         "x": [
          "EXT",
          "NEU",
          "AGR",
          "CON",
          "OPN"
         ],
         "xaxis": "x9",
         "y": [
          8,
          1,
          1,
          0,
          6
         ],
         "yaxis": "y9"
        },
        {
         "marker": {
          "color": "mediumseagreen"
         },
         "name": "Positive",
         "showlegend": false,
         "type": "bar",
         "x": [
          "EXT",
          "NEU",
          "AGR",
          "CON",
          "OPN"
         ],
         "xaxis": "x9",
         "y": [
          8,
          1,
          2,
          0,
          13
         ],
         "yaxis": "y9"
        },
        {
         "marker": {
          "color": "crimson"
         },
         "name": "Negative",
         "showlegend": false,
         "type": "bar",
         "x": [
          "EXT",
          "NEU",
          "AGR",
          "CON",
          "OPN"
         ],
         "xaxis": "x9",
         "y": [
          3,
          0,
          0,
          0,
          3
         ],
         "yaxis": "y9"
        },
        {
         "marker": {
          "color": "cornflowerblue"
         },
         "name": "Neutral",
         "showlegend": false,
         "type": "bar",
         "x": [
          "EXT",
          "NEU",
          "AGR",
          "CON",
          "OPN"
         ],
         "xaxis": "x10",
         "y": [
          49,
          0,
          3,
          0,
          39
         ],
         "yaxis": "y10"
        },
        {
         "marker": {
          "color": "mediumseagreen"
         },
         "name": "Positive",
         "showlegend": false,
         "type": "bar",
         "x": [
          "EXT",
          "NEU",
          "AGR",
          "CON",
          "OPN"
         ],
         "xaxis": "x10",
         "y": [
          9,
          1,
          1,
          0,
          16
         ],
         "yaxis": "y10"
        },
        {
         "marker": {
          "color": "crimson"
         },
         "name": "Negative",
         "showlegend": false,
         "type": "bar",
         "x": [
          "EXT",
          "NEU",
          "AGR",
          "CON",
          "OPN"
         ],
         "xaxis": "x10",
         "y": [
          6,
          0,
          1,
          0,
          12
         ],
         "yaxis": "y10"
        }
       ],
       "layout": {
        "annotations": [
         {
          "font": {
           "size": 16
          },
          "showarrow": false,
          "text": "GANDALF",
          "x": 0.14444444444444446,
          "xanchor": "center",
          "xref": "paper",
          "y": 1,
          "yanchor": "bottom",
          "yref": "paper"
         },
         {
          "font": {
           "size": 16
          },
          "showarrow": false,
          "text": "SAM",
          "x": 0.5,
          "xanchor": "center",
          "xref": "paper",
          "y": 1,
          "yanchor": "bottom",
          "yref": "paper"
         },
         {
          "font": {
           "size": 16
          },
          "showarrow": false,
          "text": "FRODO",
          "x": 0.8555555555555556,
          "xanchor": "center",
          "xref": "paper",
          "y": 1,
          "yanchor": "bottom",
          "yref": "paper"
         },
         {
          "font": {
           "size": 16
          },
          "showarrow": false,
          "text": "ARAGORN",
          "x": 0.14444444444444446,
          "xanchor": "center",
          "xref": "paper",
          "y": 0.71875,
          "yanchor": "bottom",
          "yref": "paper"
         },
         {
          "font": {
           "size": 16
          },
          "showarrow": false,
          "text": "GOLLUM",
          "x": 0.5,
          "xanchor": "center",
          "xref": "paper",
          "y": 0.71875,
          "yanchor": "bottom",
          "yref": "paper"
         },
         {
          "font": {
           "size": 16
          },
          "showarrow": false,
          "text": "THEODEN",
          "x": 0.8555555555555556,
          "xanchor": "center",
          "xref": "paper",
          "y": 0.71875,
          "yanchor": "bottom",
          "yref": "paper"
         },
         {
          "font": {
           "size": 16
          },
          "showarrow": false,
          "text": "PIPPIN",
          "x": 0.14444444444444446,
          "xanchor": "center",
          "xref": "paper",
          "y": 0.4375,
          "yanchor": "bottom",
          "yref": "paper"
         },
         {
          "font": {
           "size": 16
          },
          "showarrow": false,
          "text": "GIMLI",
          "x": 0.5,
          "xanchor": "center",
          "xref": "paper",
          "y": 0.4375,
          "yanchor": "bottom",
          "yref": "paper"
         },
         {
          "font": {
           "size": 16
          },
          "showarrow": false,
          "text": "BILBO",
          "x": 0.8555555555555556,
          "xanchor": "center",
          "xref": "paper",
          "y": 0.4375,
          "yanchor": "bottom",
          "yref": "paper"
         },
         {
          "font": {
           "size": 16
          },
          "showarrow": false,
          "text": "MERRY",
          "x": 0.14444444444444446,
          "xanchor": "center",
          "xref": "paper",
          "y": 0.15625,
          "yanchor": "bottom",
          "yref": "paper"
         }
        ],
        "barmode": "stack",
        "template": {
         "data": {
          "bar": [
           {
            "error_x": {
             "color": "#2a3f5f"
            },
            "error_y": {
             "color": "#2a3f5f"
            },
            "marker": {
             "line": {
              "color": "#E5ECF6",
              "width": 0.5
             },
             "pattern": {
              "fillmode": "overlay",
              "size": 10,
              "solidity": 0.2
             }
            },
            "type": "bar"
           }
          ],
          "barpolar": [
           {
            "marker": {
             "line": {
              "color": "#E5ECF6",
              "width": 0.5
             },
             "pattern": {
              "fillmode": "overlay",
              "size": 10,
              "solidity": 0.2
             }
            },
            "type": "barpolar"
           }
          ],
          "carpet": [
           {
            "aaxis": {
             "endlinecolor": "#2a3f5f",
             "gridcolor": "white",
             "linecolor": "white",
             "minorgridcolor": "white",
             "startlinecolor": "#2a3f5f"
            },
            "baxis": {
             "endlinecolor": "#2a3f5f",
             "gridcolor": "white",
             "linecolor": "white",
             "minorgridcolor": "white",
             "startlinecolor": "#2a3f5f"
            },
            "type": "carpet"
           }
          ],
          "choropleth": [
           {
            "colorbar": {
             "outlinewidth": 0,
             "ticks": ""
            },
            "type": "choropleth"
           }
          ],
          "contour": [
           {
            "colorbar": {
             "outlinewidth": 0,
             "ticks": ""
            },
            "colorscale": [
             [
              0,
              "#0d0887"
             ],
             [
              0.1111111111111111,
              "#46039f"
             ],
             [
              0.2222222222222222,
              "#7201a8"
             ],
             [
              0.3333333333333333,
              "#9c179e"
             ],
             [
              0.4444444444444444,
              "#bd3786"
             ],
             [
              0.5555555555555556,
              "#d8576b"
             ],
             [
              0.6666666666666666,
              "#ed7953"
             ],
             [
              0.7777777777777778,
              "#fb9f3a"
             ],
             [
              0.8888888888888888,
              "#fdca26"
             ],
             [
              1,
              "#f0f921"
             ]
            ],
            "type": "contour"
           }
          ],
          "contourcarpet": [
           {
            "colorbar": {
             "outlinewidth": 0,
             "ticks": ""
            },
            "type": "contourcarpet"
           }
          ],
          "heatmap": [
           {
            "colorbar": {
             "outlinewidth": 0,
             "ticks": ""
            },
            "colorscale": [
             [
              0,
              "#0d0887"
             ],
             [
              0.1111111111111111,
              "#46039f"
             ],
             [
              0.2222222222222222,
              "#7201a8"
             ],
             [
              0.3333333333333333,
              "#9c179e"
             ],
             [
              0.4444444444444444,
              "#bd3786"
             ],
             [
              0.5555555555555556,
              "#d8576b"
             ],
             [
              0.6666666666666666,
              "#ed7953"
             ],
             [
              0.7777777777777778,
              "#fb9f3a"
             ],
             [
              0.8888888888888888,
              "#fdca26"
             ],
             [
              1,
              "#f0f921"
             ]
            ],
            "type": "heatmap"
           }
          ],
          "heatmapgl": [
           {
            "colorbar": {
             "outlinewidth": 0,
             "ticks": ""
            },
            "colorscale": [
             [
              0,
              "#0d0887"
             ],
             [
              0.1111111111111111,
              "#46039f"
             ],
             [
              0.2222222222222222,
              "#7201a8"
             ],
             [
              0.3333333333333333,
              "#9c179e"
             ],
             [
              0.4444444444444444,
              "#bd3786"
             ],
             [
              0.5555555555555556,
              "#d8576b"
             ],
             [
              0.6666666666666666,
              "#ed7953"
             ],
             [
              0.7777777777777778,
              "#fb9f3a"
             ],
             [
              0.8888888888888888,
              "#fdca26"
             ],
             [
              1,
              "#f0f921"
             ]
            ],
            "type": "heatmapgl"
           }
          ],
          "histogram": [
           {
            "marker": {
             "pattern": {
              "fillmode": "overlay",
              "size": 10,
              "solidity": 0.2
             }
            },
            "type": "histogram"
           }
          ],
          "histogram2d": [
           {
            "colorbar": {
             "outlinewidth": 0,
             "ticks": ""
            },
            "colorscale": [
             [
              0,
              "#0d0887"
             ],
             [
              0.1111111111111111,
              "#46039f"
             ],
             [
              0.2222222222222222,
              "#7201a8"
             ],
             [
              0.3333333333333333,
              "#9c179e"
             ],
             [
              0.4444444444444444,
              "#bd3786"
             ],
             [
              0.5555555555555556,
              "#d8576b"
             ],
             [
              0.6666666666666666,
              "#ed7953"
             ],
             [
              0.7777777777777778,
              "#fb9f3a"
             ],
             [
              0.8888888888888888,
              "#fdca26"
             ],
             [
              1,
              "#f0f921"
             ]
            ],
            "type": "histogram2d"
           }
          ],
          "histogram2dcontour": [
           {
            "colorbar": {
             "outlinewidth": 0,
             "ticks": ""
            },
            "colorscale": [
             [
              0,
              "#0d0887"
             ],
             [
              0.1111111111111111,
              "#46039f"
             ],
             [
              0.2222222222222222,
              "#7201a8"
             ],
             [
              0.3333333333333333,
              "#9c179e"
             ],
             [
              0.4444444444444444,
              "#bd3786"
             ],
             [
              0.5555555555555556,
              "#d8576b"
             ],
             [
              0.6666666666666666,
              "#ed7953"
             ],
             [
              0.7777777777777778,
              "#fb9f3a"
             ],
             [
              0.8888888888888888,
              "#fdca26"
             ],
             [
              1,
              "#f0f921"
             ]
            ],
            "type": "histogram2dcontour"
           }
          ],
          "mesh3d": [
           {
            "colorbar": {
             "outlinewidth": 0,
             "ticks": ""
            },
            "type": "mesh3d"
           }
          ],
          "parcoords": [
           {
            "line": {
             "colorbar": {
              "outlinewidth": 0,
              "ticks": ""
             }
            },
            "type": "parcoords"
           }
          ],
          "pie": [
           {
            "automargin": true,
            "type": "pie"
           }
          ],
          "scatter": [
           {
            "fillpattern": {
             "fillmode": "overlay",
             "size": 10,
             "solidity": 0.2
            },
            "type": "scatter"
           }
          ],
          "scatter3d": [
           {
            "line": {
             "colorbar": {
              "outlinewidth": 0,
              "ticks": ""
             }
            },
            "marker": {
             "colorbar": {
              "outlinewidth": 0,
              "ticks": ""
             }
            },
            "type": "scatter3d"
           }
          ],
          "scattercarpet": [
           {
            "marker": {
             "colorbar": {
              "outlinewidth": 0,
              "ticks": ""
             }
            },
            "type": "scattercarpet"
           }
          ],
          "scattergeo": [
           {
            "marker": {
             "colorbar": {
              "outlinewidth": 0,
              "ticks": ""
             }
            },
            "type": "scattergeo"
           }
          ],
          "scattergl": [
           {
            "marker": {
             "colorbar": {
              "outlinewidth": 0,
              "ticks": ""
             }
            },
            "type": "scattergl"
           }
          ],
          "scattermapbox": [
           {
            "marker": {
             "colorbar": {
              "outlinewidth": 0,
              "ticks": ""
             }
            },
            "type": "scattermapbox"
           }
          ],
          "scatterpolar": [
           {
            "marker": {
             "colorbar": {
              "outlinewidth": 0,
              "ticks": ""
             }
            },
            "type": "scatterpolar"
           }
          ],
          "scatterpolargl": [
           {
            "marker": {
             "colorbar": {
              "outlinewidth": 0,
              "ticks": ""
             }
            },
            "type": "scatterpolargl"
           }
          ],
          "scatterternary": [
           {
            "marker": {
             "colorbar": {
              "outlinewidth": 0,
              "ticks": ""
             }
            },
            "type": "scatterternary"
           }
          ],
          "surface": [
           {
            "colorbar": {
             "outlinewidth": 0,
             "ticks": ""
            },
            "colorscale": [
             [
              0,
              "#0d0887"
             ],
             [
              0.1111111111111111,
              "#46039f"
             ],
             [
              0.2222222222222222,
              "#7201a8"
             ],
             [
              0.3333333333333333,
              "#9c179e"
             ],
             [
              0.4444444444444444,
              "#bd3786"
             ],
             [
              0.5555555555555556,
              "#d8576b"
             ],
             [
              0.6666666666666666,
              "#ed7953"
             ],
             [
              0.7777777777777778,
              "#fb9f3a"
             ],
             [
              0.8888888888888888,
              "#fdca26"
             ],
             [
              1,
              "#f0f921"
             ]
            ],
            "type": "surface"
           }
          ],
          "table": [
           {
            "cells": {
             "fill": {
              "color": "#EBF0F8"
             },
             "line": {
              "color": "white"
             }
            },
            "header": {
             "fill": {
              "color": "#C8D4E3"
             },
             "line": {
              "color": "white"
             }
            },
            "type": "table"
           }
          ]
         },
         "layout": {
          "annotationdefaults": {
           "arrowcolor": "#2a3f5f",
           "arrowhead": 0,
           "arrowwidth": 1
          },
          "autotypenumbers": "strict",
          "coloraxis": {
           "colorbar": {
            "outlinewidth": 0,
            "ticks": ""
           }
          },
          "colorscale": {
           "diverging": [
            [
             0,
             "#8e0152"
            ],
            [
             0.1,
             "#c51b7d"
            ],
            [
             0.2,
             "#de77ae"
            ],
            [
             0.3,
             "#f1b6da"
            ],
            [
             0.4,
             "#fde0ef"
            ],
            [
             0.5,
             "#f7f7f7"
            ],
            [
             0.6,
             "#e6f5d0"
            ],
            [
             0.7,
             "#b8e186"
            ],
            [
             0.8,
             "#7fbc41"
            ],
            [
             0.9,
             "#4d9221"
            ],
            [
             1,
             "#276419"
            ]
           ],
           "sequential": [
            [
             0,
             "#0d0887"
            ],
            [
             0.1111111111111111,
             "#46039f"
            ],
            [
             0.2222222222222222,
             "#7201a8"
            ],
            [
             0.3333333333333333,
             "#9c179e"
            ],
            [
             0.4444444444444444,
             "#bd3786"
            ],
            [
             0.5555555555555556,
             "#d8576b"
            ],
            [
             0.6666666666666666,
             "#ed7953"
            ],
            [
             0.7777777777777778,
             "#fb9f3a"
            ],
            [
             0.8888888888888888,
             "#fdca26"
            ],
            [
             1,
             "#f0f921"
            ]
           ],
           "sequentialminus": [
            [
             0,
             "#0d0887"
            ],
            [
             0.1111111111111111,
             "#46039f"
            ],
            [
             0.2222222222222222,
             "#7201a8"
            ],
            [
             0.3333333333333333,
             "#9c179e"
            ],
            [
             0.4444444444444444,
             "#bd3786"
            ],
            [
             0.5555555555555556,
             "#d8576b"
            ],
            [
             0.6666666666666666,
             "#ed7953"
            ],
            [
             0.7777777777777778,
             "#fb9f3a"
            ],
            [
             0.8888888888888888,
             "#fdca26"
            ],
            [
             1,
             "#f0f921"
            ]
           ]
          },
          "colorway": [
           "#636efa",
           "#EF553B",
           "#00cc96",
           "#ab63fa",
           "#FFA15A",
           "#19d3f3",
           "#FF6692",
           "#B6E880",
           "#FF97FF",
           "#FECB52"
          ],
          "font": {
           "color": "#2a3f5f"
          },
          "geo": {
           "bgcolor": "white",
           "lakecolor": "white",
           "landcolor": "#E5ECF6",
           "showlakes": true,
           "showland": true,
           "subunitcolor": "white"
          },
          "hoverlabel": {
           "align": "left"
          },
          "hovermode": "closest",
          "mapbox": {
           "style": "light"
          },
          "paper_bgcolor": "white",
          "plot_bgcolor": "#E5ECF6",
          "polar": {
           "angularaxis": {
            "gridcolor": "white",
            "linecolor": "white",
            "ticks": ""
           },
           "bgcolor": "#E5ECF6",
           "radialaxis": {
            "gridcolor": "white",
            "linecolor": "white",
            "ticks": ""
           }
          },
          "scene": {
           "xaxis": {
            "backgroundcolor": "#E5ECF6",
            "gridcolor": "white",
            "gridwidth": 2,
            "linecolor": "white",
            "showbackground": true,
            "ticks": "",
            "zerolinecolor": "white"
           },
           "yaxis": {
            "backgroundcolor": "#E5ECF6",
            "gridcolor": "white",
            "gridwidth": 2,
            "linecolor": "white",
            "showbackground": true,
            "ticks": "",
            "zerolinecolor": "white"
           },
           "zaxis": {
            "backgroundcolor": "#E5ECF6",
            "gridcolor": "white",
            "gridwidth": 2,
            "linecolor": "white",
            "showbackground": true,
            "ticks": "",
            "zerolinecolor": "white"
           }
          },
          "shapedefaults": {
           "line": {
            "color": "#2a3f5f"
           }
          },
          "ternary": {
           "aaxis": {
            "gridcolor": "white",
            "linecolor": "white",
            "ticks": ""
           },
           "baxis": {
            "gridcolor": "white",
            "linecolor": "white",
            "ticks": ""
           },
           "bgcolor": "#E5ECF6",
           "caxis": {
            "gridcolor": "white",
            "linecolor": "white",
            "ticks": ""
           }
          },
          "title": {
           "x": 0.05
          },
          "xaxis": {
           "automargin": true,
           "gridcolor": "white",
           "linecolor": "white",
           "ticks": "",
           "title": {
            "standoff": 15
           },
           "zerolinecolor": "white",
           "zerolinewidth": 2
          },
          "yaxis": {
           "automargin": true,
           "gridcolor": "white",
           "linecolor": "white",
           "ticks": "",
           "title": {
            "standoff": 15
           },
           "zerolinecolor": "white",
           "zerolinewidth": 2
          }
         }
        },
        "xaxis": {
         "anchor": "y",
         "domain": [
          0,
          0.2888888888888889
         ]
        },
        "xaxis10": {
         "anchor": "y10",
         "domain": [
          0,
          0.2888888888888889
         ]
        },
        "xaxis11": {
         "anchor": "y11",
         "domain": [
          0.35555555555555557,
          0.6444444444444445
         ]
        },
        "xaxis12": {
         "anchor": "y12",
         "domain": [
          0.7111111111111111,
          1
         ]
        },
        "xaxis2": {
         "anchor": "y2",
         "domain": [
          0.35555555555555557,
          0.6444444444444445
         ]
        },
        "xaxis3": {
         "anchor": "y3",
         "domain": [
          0.7111111111111111,
          1
         ]
        },
        "xaxis4": {
         "anchor": "y4",
         "domain": [
          0,
          0.2888888888888889
         ]
        },
        "xaxis5": {
         "anchor": "y5",
         "domain": [
          0.35555555555555557,
          0.6444444444444445
         ]
        },
        "xaxis6": {
         "anchor": "y6",
         "domain": [
          0.7111111111111111,
          1
         ]
        },
        "xaxis7": {
         "anchor": "y7",
         "domain": [
          0,
          0.2888888888888889
         ]
        },
        "xaxis8": {
         "anchor": "y8",
         "domain": [
          0.35555555555555557,
          0.6444444444444445
         ]
        },
        "xaxis9": {
         "anchor": "y9",
         "domain": [
          0.7111111111111111,
          1
         ]
        },
        "yaxis": {
         "anchor": "x",
         "domain": [
          0.84375,
          1
         ]
        },
        "yaxis10": {
         "anchor": "x10",
         "domain": [
          0,
          0.15625
         ]
        },
        "yaxis11": {
         "anchor": "x11",
         "domain": [
          0,
          0.15625
         ]
        },
        "yaxis12": {
         "anchor": "x12",
         "domain": [
          0,
          0.15625
         ]
        },
        "yaxis2": {
         "anchor": "x2",
         "domain": [
          0.84375,
          1
         ]
        },
        "yaxis3": {
         "anchor": "x3",
         "domain": [
          0.84375,
          1
         ]
        },
        "yaxis4": {
         "anchor": "x4",
         "domain": [
          0.5625,
          0.71875
         ]
        },
        "yaxis5": {
         "anchor": "x5",
         "domain": [
          0.5625,
          0.71875
         ]
        },
        "yaxis6": {
         "anchor": "x6",
         "domain": [
          0.5625,
          0.71875
         ]
        },
        "yaxis7": {
         "anchor": "x7",
         "domain": [
          0.28125,
          0.4375
         ]
        },
        "yaxis8": {
         "anchor": "x8",
         "domain": [
          0.28125,
          0.4375
         ]
        },
        "yaxis9": {
         "anchor": "x9",
         "domain": [
          0.28125,
          0.4375
         ]
        }
       }
      },
      "text/html": [
       "<div>                            <div id=\"c2c8e484-5057-4840-b2c8-54c94cc612e1\" class=\"plotly-graph-div\" style=\"height:525px; width:100%;\"></div>            <script type=\"text/javascript\">                require([\"plotly\"], function(Plotly) {                    window.PLOTLYENV=window.PLOTLYENV || {};                                    if (document.getElementById(\"c2c8e484-5057-4840-b2c8-54c94cc612e1\")) {                    Plotly.newPlot(                        \"c2c8e484-5057-4840-b2c8-54c94cc612e1\",                        [{\"marker\":{\"color\":\"cornflowerblue\"},\"name\":\"Neutral\",\"showlegend\":true,\"x\":[\"EXT\",\"NEU\",\"AGR\",\"CON\",\"OPN\"],\"y\":[43,2,1,0,36],\"type\":\"bar\",\"xaxis\":\"x\",\"yaxis\":\"y\"},{\"marker\":{\"color\":\"mediumseagreen\"},\"name\":\"Positive\",\"showlegend\":true,\"x\":[\"EXT\",\"NEU\",\"AGR\",\"CON\",\"OPN\"],\"y\":[25,3,2,0,30],\"type\":\"bar\",\"xaxis\":\"x\",\"yaxis\":\"y\"},{\"marker\":{\"color\":\"crimson\"},\"name\":\"Negative\",\"showlegend\":true,\"x\":[\"EXT\",\"NEU\",\"AGR\",\"CON\",\"OPN\"],\"y\":[29,0,0,0,34],\"type\":\"bar\",\"xaxis\":\"x\",\"yaxis\":\"y\"},{\"marker\":{\"color\":\"cornflowerblue\"},\"name\":\"Neutral\",\"showlegend\":false,\"x\":[\"EXT\",\"NEU\",\"AGR\",\"CON\",\"OPN\"],\"y\":[63,3,8,0,47],\"type\":\"bar\",\"xaxis\":\"x2\",\"yaxis\":\"y2\"},{\"marker\":{\"color\":\"mediumseagreen\"},\"name\":\"Positive\",\"showlegend\":false,\"x\":[\"EXT\",\"NEU\",\"AGR\",\"CON\",\"OPN\"],\"y\":[13,0,3,0,25],\"type\":\"bar\",\"xaxis\":\"x2\",\"yaxis\":\"y2\"},{\"marker\":{\"color\":\"crimson\"},\"name\":\"Negative\",\"showlegend\":false,\"x\":[\"EXT\",\"NEU\",\"AGR\",\"CON\",\"OPN\"],\"y\":[9,1,1,0,44],\"type\":\"bar\",\"xaxis\":\"x2\",\"yaxis\":\"y2\"},{\"marker\":{\"color\":\"cornflowerblue\"},\"name\":\"Neutral\",\"showlegend\":false,\"x\":[\"EXT\",\"NEU\",\"AGR\",\"CON\",\"OPN\"],\"y\":[79,3,7,0,56],\"type\":\"bar\",\"xaxis\":\"x3\",\"yaxis\":\"y3\"},{\"marker\":{\"color\":\"mediumseagreen\"},\"name\":\"Positive\",\"showlegend\":false,\"x\":[\"EXT\",\"NEU\",\"AGR\",\"CON\",\"OPN\"],\"y\":[17,3,2,0,24],\"type\":\"bar\",\"xaxis\":\"x3\",\"yaxis\":\"y3\"},{\"marker\":{\"color\":\"crimson\"},\"name\":\"Negative\",\"showlegend\":false,\"x\":[\"EXT\",\"NEU\",\"AGR\",\"CON\",\"OPN\"],\"y\":[9,1,1,0,24],\"type\":\"bar\",\"xaxis\":\"x3\",\"yaxis\":\"y3\"},{\"marker\":{\"color\":\"cornflowerblue\"},\"name\":\"Neutral\",\"showlegend\":false,\"x\":[\"EXT\",\"NEU\",\"AGR\",\"CON\",\"OPN\"],\"y\":[74,2,4,0,43],\"type\":\"bar\",\"xaxis\":\"x4\",\"yaxis\":\"y4\"},{\"marker\":{\"color\":\"mediumseagreen\"},\"name\":\"Positive\",\"showlegend\":false,\"x\":[\"EXT\",\"NEU\",\"AGR\",\"CON\",\"OPN\"],\"y\":[17,0,1,0,14],\"type\":\"bar\",\"xaxis\":\"x4\",\"yaxis\":\"y4\"},{\"marker\":{\"color\":\"crimson\"},\"name\":\"Negative\",\"showlegend\":false,\"x\":[\"EXT\",\"NEU\",\"AGR\",\"CON\",\"OPN\"],\"y\":[11,0,0,0,21],\"type\":\"bar\",\"xaxis\":\"x4\",\"yaxis\":\"y4\"},{\"marker\":{\"color\":\"cornflowerblue\"},\"name\":\"Neutral\",\"showlegend\":false,\"x\":[\"EXT\",\"NEU\",\"AGR\",\"CON\",\"OPN\"],\"y\":[23,2,3,0,23],\"type\":\"bar\",\"xaxis\":\"x5\",\"yaxis\":\"y5\"},{\"marker\":{\"color\":\"mediumseagreen\"},\"name\":\"Positive\",\"showlegend\":false,\"x\":[\"EXT\",\"NEU\",\"AGR\",\"CON\",\"OPN\"],\"y\":[16,2,1,0,22],\"type\":\"bar\",\"xaxis\":\"x5\",\"yaxis\":\"y5\"},{\"marker\":{\"color\":\"crimson\"},\"name\":\"Negative\",\"showlegend\":false,\"x\":[\"EXT\",\"NEU\",\"AGR\",\"CON\",\"OPN\"],\"y\":[12,3,1,0,26],\"type\":\"bar\",\"xaxis\":\"x5\",\"yaxis\":\"y5\"},{\"marker\":{\"color\":\"cornflowerblue\"},\"name\":\"Neutral\",\"showlegend\":false,\"x\":[\"EXT\",\"NEU\",\"AGR\",\"CON\",\"OPN\"],\"y\":[36,0,2,0,22],\"type\":\"bar\",\"xaxis\":\"x6\",\"yaxis\":\"y6\"},{\"marker\":{\"color\":\"mediumseagreen\"},\"name\":\"Positive\",\"showlegend\":false,\"x\":[\"EXT\",\"NEU\",\"AGR\",\"CON\",\"OPN\"],\"y\":[11,0,0,0,12],\"type\":\"bar\",\"xaxis\":\"x6\",\"yaxis\":\"y6\"},{\"marker\":{\"color\":\"crimson\"},\"name\":\"Negative\",\"showlegend\":false,\"x\":[\"EXT\",\"NEU\",\"AGR\",\"CON\",\"OPN\"],\"y\":[14,0,0,0,13],\"type\":\"bar\",\"xaxis\":\"x6\",\"yaxis\":\"y6\"},{\"marker\":{\"color\":\"cornflowerblue\"},\"name\":\"Neutral\",\"showlegend\":false,\"x\":[\"EXT\",\"NEU\",\"AGR\",\"CON\",\"OPN\"],\"y\":[47,3,5,0,29],\"type\":\"bar\",\"xaxis\":\"x7\",\"yaxis\":\"y7\"},{\"marker\":{\"color\":\"mediumseagreen\"},\"name\":\"Positive\",\"showlegend\":false,\"x\":[\"EXT\",\"NEU\",\"AGR\",\"CON\",\"OPN\"],\"y\":[20,1,2,0,30],\"type\":\"bar\",\"xaxis\":\"x7\",\"yaxis\":\"y7\"},{\"marker\":{\"color\":\"crimson\"},\"name\":\"Negative\",\"showlegend\":false,\"x\":[\"EXT\",\"NEU\",\"AGR\",\"CON\",\"OPN\"],\"y\":[9,1,0,0,16],\"type\":\"bar\",\"xaxis\":\"x7\",\"yaxis\":\"y7\"},{\"marker\":{\"color\":\"cornflowerblue\"},\"name\":\"Neutral\",\"showlegend\":false,\"x\":[\"EXT\",\"NEU\",\"AGR\",\"CON\",\"OPN\"],\"y\":[29,3,6,0,22],\"type\":\"bar\",\"xaxis\":\"x8\",\"yaxis\":\"y8\"},{\"marker\":{\"color\":\"mediumseagreen\"},\"name\":\"Positive\",\"showlegend\":false,\"x\":[\"EXT\",\"NEU\",\"AGR\",\"CON\",\"OPN\"],\"y\":[10,1,3,0,14],\"type\":\"bar\",\"xaxis\":\"x8\",\"yaxis\":\"y8\"},{\"marker\":{\"color\":\"crimson\"},\"name\":\"Negative\",\"showlegend\":false,\"x\":[\"EXT\",\"NEU\",\"AGR\",\"CON\",\"OPN\"],\"y\":[9,0,0,0,19],\"type\":\"bar\",\"xaxis\":\"x8\",\"yaxis\":\"y8\"},{\"marker\":{\"color\":\"cornflowerblue\"},\"name\":\"Neutral\",\"showlegend\":false,\"x\":[\"EXT\",\"NEU\",\"AGR\",\"CON\",\"OPN\"],\"y\":[8,1,1,0,6],\"type\":\"bar\",\"xaxis\":\"x9\",\"yaxis\":\"y9\"},{\"marker\":{\"color\":\"mediumseagreen\"},\"name\":\"Positive\",\"showlegend\":false,\"x\":[\"EXT\",\"NEU\",\"AGR\",\"CON\",\"OPN\"],\"y\":[8,1,2,0,13],\"type\":\"bar\",\"xaxis\":\"x9\",\"yaxis\":\"y9\"},{\"marker\":{\"color\":\"crimson\"},\"name\":\"Negative\",\"showlegend\":false,\"x\":[\"EXT\",\"NEU\",\"AGR\",\"CON\",\"OPN\"],\"y\":[3,0,0,0,3],\"type\":\"bar\",\"xaxis\":\"x9\",\"yaxis\":\"y9\"},{\"marker\":{\"color\":\"cornflowerblue\"},\"name\":\"Neutral\",\"showlegend\":false,\"x\":[\"EXT\",\"NEU\",\"AGR\",\"CON\",\"OPN\"],\"y\":[49,0,3,0,39],\"type\":\"bar\",\"xaxis\":\"x10\",\"yaxis\":\"y10\"},{\"marker\":{\"color\":\"mediumseagreen\"},\"name\":\"Positive\",\"showlegend\":false,\"x\":[\"EXT\",\"NEU\",\"AGR\",\"CON\",\"OPN\"],\"y\":[9,1,1,0,16],\"type\":\"bar\",\"xaxis\":\"x10\",\"yaxis\":\"y10\"},{\"marker\":{\"color\":\"crimson\"},\"name\":\"Negative\",\"showlegend\":false,\"x\":[\"EXT\",\"NEU\",\"AGR\",\"CON\",\"OPN\"],\"y\":[6,0,1,0,12],\"type\":\"bar\",\"xaxis\":\"x10\",\"yaxis\":\"y10\"}],                        {\"template\":{\"data\":{\"histogram2dcontour\":[{\"type\":\"histogram2dcontour\",\"colorbar\":{\"outlinewidth\":0,\"ticks\":\"\"},\"colorscale\":[[0.0,\"#0d0887\"],[0.1111111111111111,\"#46039f\"],[0.2222222222222222,\"#7201a8\"],[0.3333333333333333,\"#9c179e\"],[0.4444444444444444,\"#bd3786\"],[0.5555555555555556,\"#d8576b\"],[0.6666666666666666,\"#ed7953\"],[0.7777777777777778,\"#fb9f3a\"],[0.8888888888888888,\"#fdca26\"],[1.0,\"#f0f921\"]]}],\"choropleth\":[{\"type\":\"choropleth\",\"colorbar\":{\"outlinewidth\":0,\"ticks\":\"\"}}],\"histogram2d\":[{\"type\":\"histogram2d\",\"colorbar\":{\"outlinewidth\":0,\"ticks\":\"\"},\"colorscale\":[[0.0,\"#0d0887\"],[0.1111111111111111,\"#46039f\"],[0.2222222222222222,\"#7201a8\"],[0.3333333333333333,\"#9c179e\"],[0.4444444444444444,\"#bd3786\"],[0.5555555555555556,\"#d8576b\"],[0.6666666666666666,\"#ed7953\"],[0.7777777777777778,\"#fb9f3a\"],[0.8888888888888888,\"#fdca26\"],[1.0,\"#f0f921\"]]}],\"heatmap\":[{\"type\":\"heatmap\",\"colorbar\":{\"outlinewidth\":0,\"ticks\":\"\"},\"colorscale\":[[0.0,\"#0d0887\"],[0.1111111111111111,\"#46039f\"],[0.2222222222222222,\"#7201a8\"],[0.3333333333333333,\"#9c179e\"],[0.4444444444444444,\"#bd3786\"],[0.5555555555555556,\"#d8576b\"],[0.6666666666666666,\"#ed7953\"],[0.7777777777777778,\"#fb9f3a\"],[0.8888888888888888,\"#fdca26\"],[1.0,\"#f0f921\"]]}],\"heatmapgl\":[{\"type\":\"heatmapgl\",\"colorbar\":{\"outlinewidth\":0,\"ticks\":\"\"},\"colorscale\":[[0.0,\"#0d0887\"],[0.1111111111111111,\"#46039f\"],[0.2222222222222222,\"#7201a8\"],[0.3333333333333333,\"#9c179e\"],[0.4444444444444444,\"#bd3786\"],[0.5555555555555556,\"#d8576b\"],[0.6666666666666666,\"#ed7953\"],[0.7777777777777778,\"#fb9f3a\"],[0.8888888888888888,\"#fdca26\"],[1.0,\"#f0f921\"]]}],\"contourcarpet\":[{\"type\":\"contourcarpet\",\"colorbar\":{\"outlinewidth\":0,\"ticks\":\"\"}}],\"contour\":[{\"type\":\"contour\",\"colorbar\":{\"outlinewidth\":0,\"ticks\":\"\"},\"colorscale\":[[0.0,\"#0d0887\"],[0.1111111111111111,\"#46039f\"],[0.2222222222222222,\"#7201a8\"],[0.3333333333333333,\"#9c179e\"],[0.4444444444444444,\"#bd3786\"],[0.5555555555555556,\"#d8576b\"],[0.6666666666666666,\"#ed7953\"],[0.7777777777777778,\"#fb9f3a\"],[0.8888888888888888,\"#fdca26\"],[1.0,\"#f0f921\"]]}],\"surface\":[{\"type\":\"surface\",\"colorbar\":{\"outlinewidth\":0,\"ticks\":\"\"},\"colorscale\":[[0.0,\"#0d0887\"],[0.1111111111111111,\"#46039f\"],[0.2222222222222222,\"#7201a8\"],[0.3333333333333333,\"#9c179e\"],[0.4444444444444444,\"#bd3786\"],[0.5555555555555556,\"#d8576b\"],[0.6666666666666666,\"#ed7953\"],[0.7777777777777778,\"#fb9f3a\"],[0.8888888888888888,\"#fdca26\"],[1.0,\"#f0f921\"]]}],\"mesh3d\":[{\"type\":\"mesh3d\",\"colorbar\":{\"outlinewidth\":0,\"ticks\":\"\"}}],\"scatter\":[{\"fillpattern\":{\"fillmode\":\"overlay\",\"size\":10,\"solidity\":0.2},\"type\":\"scatter\"}],\"parcoords\":[{\"type\":\"parcoords\",\"line\":{\"colorbar\":{\"outlinewidth\":0,\"ticks\":\"\"}}}],\"scatterpolargl\":[{\"type\":\"scatterpolargl\",\"marker\":{\"colorbar\":{\"outlinewidth\":0,\"ticks\":\"\"}}}],\"bar\":[{\"error_x\":{\"color\":\"#2a3f5f\"},\"error_y\":{\"color\":\"#2a3f5f\"},\"marker\":{\"line\":{\"color\":\"#E5ECF6\",\"width\":0.5},\"pattern\":{\"fillmode\":\"overlay\",\"size\":10,\"solidity\":0.2}},\"type\":\"bar\"}],\"scattergeo\":[{\"type\":\"scattergeo\",\"marker\":{\"colorbar\":{\"outlinewidth\":0,\"ticks\":\"\"}}}],\"scatterpolar\":[{\"type\":\"scatterpolar\",\"marker\":{\"colorbar\":{\"outlinewidth\":0,\"ticks\":\"\"}}}],\"histogram\":[{\"marker\":{\"pattern\":{\"fillmode\":\"overlay\",\"size\":10,\"solidity\":0.2}},\"type\":\"histogram\"}],\"scattergl\":[{\"type\":\"scattergl\",\"marker\":{\"colorbar\":{\"outlinewidth\":0,\"ticks\":\"\"}}}],\"scatter3d\":[{\"type\":\"scatter3d\",\"line\":{\"colorbar\":{\"outlinewidth\":0,\"ticks\":\"\"}},\"marker\":{\"colorbar\":{\"outlinewidth\":0,\"ticks\":\"\"}}}],\"scattermapbox\":[{\"type\":\"scattermapbox\",\"marker\":{\"colorbar\":{\"outlinewidth\":0,\"ticks\":\"\"}}}],\"scatterternary\":[{\"type\":\"scatterternary\",\"marker\":{\"colorbar\":{\"outlinewidth\":0,\"ticks\":\"\"}}}],\"scattercarpet\":[{\"type\":\"scattercarpet\",\"marker\":{\"colorbar\":{\"outlinewidth\":0,\"ticks\":\"\"}}}],\"carpet\":[{\"aaxis\":{\"endlinecolor\":\"#2a3f5f\",\"gridcolor\":\"white\",\"linecolor\":\"white\",\"minorgridcolor\":\"white\",\"startlinecolor\":\"#2a3f5f\"},\"baxis\":{\"endlinecolor\":\"#2a3f5f\",\"gridcolor\":\"white\",\"linecolor\":\"white\",\"minorgridcolor\":\"white\",\"startlinecolor\":\"#2a3f5f\"},\"type\":\"carpet\"}],\"table\":[{\"cells\":{\"fill\":{\"color\":\"#EBF0F8\"},\"line\":{\"color\":\"white\"}},\"header\":{\"fill\":{\"color\":\"#C8D4E3\"},\"line\":{\"color\":\"white\"}},\"type\":\"table\"}],\"barpolar\":[{\"marker\":{\"line\":{\"color\":\"#E5ECF6\",\"width\":0.5},\"pattern\":{\"fillmode\":\"overlay\",\"size\":10,\"solidity\":0.2}},\"type\":\"barpolar\"}],\"pie\":[{\"automargin\":true,\"type\":\"pie\"}]},\"layout\":{\"autotypenumbers\":\"strict\",\"colorway\":[\"#636efa\",\"#EF553B\",\"#00cc96\",\"#ab63fa\",\"#FFA15A\",\"#19d3f3\",\"#FF6692\",\"#B6E880\",\"#FF97FF\",\"#FECB52\"],\"font\":{\"color\":\"#2a3f5f\"},\"hovermode\":\"closest\",\"hoverlabel\":{\"align\":\"left\"},\"paper_bgcolor\":\"white\",\"plot_bgcolor\":\"#E5ECF6\",\"polar\":{\"bgcolor\":\"#E5ECF6\",\"angularaxis\":{\"gridcolor\":\"white\",\"linecolor\":\"white\",\"ticks\":\"\"},\"radialaxis\":{\"gridcolor\":\"white\",\"linecolor\":\"white\",\"ticks\":\"\"}},\"ternary\":{\"bgcolor\":\"#E5ECF6\",\"aaxis\":{\"gridcolor\":\"white\",\"linecolor\":\"white\",\"ticks\":\"\"},\"baxis\":{\"gridcolor\":\"white\",\"linecolor\":\"white\",\"ticks\":\"\"},\"caxis\":{\"gridcolor\":\"white\",\"linecolor\":\"white\",\"ticks\":\"\"}},\"coloraxis\":{\"colorbar\":{\"outlinewidth\":0,\"ticks\":\"\"}},\"colorscale\":{\"sequential\":[[0.0,\"#0d0887\"],[0.1111111111111111,\"#46039f\"],[0.2222222222222222,\"#7201a8\"],[0.3333333333333333,\"#9c179e\"],[0.4444444444444444,\"#bd3786\"],[0.5555555555555556,\"#d8576b\"],[0.6666666666666666,\"#ed7953\"],[0.7777777777777778,\"#fb9f3a\"],[0.8888888888888888,\"#fdca26\"],[1.0,\"#f0f921\"]],\"sequentialminus\":[[0.0,\"#0d0887\"],[0.1111111111111111,\"#46039f\"],[0.2222222222222222,\"#7201a8\"],[0.3333333333333333,\"#9c179e\"],[0.4444444444444444,\"#bd3786\"],[0.5555555555555556,\"#d8576b\"],[0.6666666666666666,\"#ed7953\"],[0.7777777777777778,\"#fb9f3a\"],[0.8888888888888888,\"#fdca26\"],[1.0,\"#f0f921\"]],\"diverging\":[[0,\"#8e0152\"],[0.1,\"#c51b7d\"],[0.2,\"#de77ae\"],[0.3,\"#f1b6da\"],[0.4,\"#fde0ef\"],[0.5,\"#f7f7f7\"],[0.6,\"#e6f5d0\"],[0.7,\"#b8e186\"],[0.8,\"#7fbc41\"],[0.9,\"#4d9221\"],[1,\"#276419\"]]},\"xaxis\":{\"gridcolor\":\"white\",\"linecolor\":\"white\",\"ticks\":\"\",\"title\":{\"standoff\":15},\"zerolinecolor\":\"white\",\"automargin\":true,\"zerolinewidth\":2},\"yaxis\":{\"gridcolor\":\"white\",\"linecolor\":\"white\",\"ticks\":\"\",\"title\":{\"standoff\":15},\"zerolinecolor\":\"white\",\"automargin\":true,\"zerolinewidth\":2},\"scene\":{\"xaxis\":{\"backgroundcolor\":\"#E5ECF6\",\"gridcolor\":\"white\",\"linecolor\":\"white\",\"showbackground\":true,\"ticks\":\"\",\"zerolinecolor\":\"white\",\"gridwidth\":2},\"yaxis\":{\"backgroundcolor\":\"#E5ECF6\",\"gridcolor\":\"white\",\"linecolor\":\"white\",\"showbackground\":true,\"ticks\":\"\",\"zerolinecolor\":\"white\",\"gridwidth\":2},\"zaxis\":{\"backgroundcolor\":\"#E5ECF6\",\"gridcolor\":\"white\",\"linecolor\":\"white\",\"showbackground\":true,\"ticks\":\"\",\"zerolinecolor\":\"white\",\"gridwidth\":2}},\"shapedefaults\":{\"line\":{\"color\":\"#2a3f5f\"}},\"annotationdefaults\":{\"arrowcolor\":\"#2a3f5f\",\"arrowhead\":0,\"arrowwidth\":1},\"geo\":{\"bgcolor\":\"white\",\"landcolor\":\"#E5ECF6\",\"subunitcolor\":\"white\",\"showland\":true,\"showlakes\":true,\"lakecolor\":\"white\"},\"title\":{\"x\":0.05},\"mapbox\":{\"style\":\"light\"}}},\"xaxis\":{\"anchor\":\"y\",\"domain\":[0.0,0.2888888888888889]},\"yaxis\":{\"anchor\":\"x\",\"domain\":[0.84375,1.0]},\"xaxis2\":{\"anchor\":\"y2\",\"domain\":[0.35555555555555557,0.6444444444444445]},\"yaxis2\":{\"anchor\":\"x2\",\"domain\":[0.84375,1.0]},\"xaxis3\":{\"anchor\":\"y3\",\"domain\":[0.7111111111111111,1.0]},\"yaxis3\":{\"anchor\":\"x3\",\"domain\":[0.84375,1.0]},\"xaxis4\":{\"anchor\":\"y4\",\"domain\":[0.0,0.2888888888888889]},\"yaxis4\":{\"anchor\":\"x4\",\"domain\":[0.5625,0.71875]},\"xaxis5\":{\"anchor\":\"y5\",\"domain\":[0.35555555555555557,0.6444444444444445]},\"yaxis5\":{\"anchor\":\"x5\",\"domain\":[0.5625,0.71875]},\"xaxis6\":{\"anchor\":\"y6\",\"domain\":[0.7111111111111111,1.0]},\"yaxis6\":{\"anchor\":\"x6\",\"domain\":[0.5625,0.71875]},\"xaxis7\":{\"anchor\":\"y7\",\"domain\":[0.0,0.2888888888888889]},\"yaxis7\":{\"anchor\":\"x7\",\"domain\":[0.28125,0.4375]},\"xaxis8\":{\"anchor\":\"y8\",\"domain\":[0.35555555555555557,0.6444444444444445]},\"yaxis8\":{\"anchor\":\"x8\",\"domain\":[0.28125,0.4375]},\"xaxis9\":{\"anchor\":\"y9\",\"domain\":[0.7111111111111111,1.0]},\"yaxis9\":{\"anchor\":\"x9\",\"domain\":[0.28125,0.4375]},\"xaxis10\":{\"anchor\":\"y10\",\"domain\":[0.0,0.2888888888888889]},\"yaxis10\":{\"anchor\":\"x10\",\"domain\":[0.0,0.15625]},\"xaxis11\":{\"anchor\":\"y11\",\"domain\":[0.35555555555555557,0.6444444444444445]},\"yaxis11\":{\"anchor\":\"x11\",\"domain\":[0.0,0.15625]},\"xaxis12\":{\"anchor\":\"y12\",\"domain\":[0.7111111111111111,1.0]},\"yaxis12\":{\"anchor\":\"x12\",\"domain\":[0.0,0.15625]},\"annotations\":[{\"font\":{\"size\":16},\"showarrow\":false,\"text\":\"GANDALF\",\"x\":0.14444444444444446,\"xanchor\":\"center\",\"xref\":\"paper\",\"y\":1.0,\"yanchor\":\"bottom\",\"yref\":\"paper\"},{\"font\":{\"size\":16},\"showarrow\":false,\"text\":\"SAM\",\"x\":0.5,\"xanchor\":\"center\",\"xref\":\"paper\",\"y\":1.0,\"yanchor\":\"bottom\",\"yref\":\"paper\"},{\"font\":{\"size\":16},\"showarrow\":false,\"text\":\"FRODO\",\"x\":0.8555555555555556,\"xanchor\":\"center\",\"xref\":\"paper\",\"y\":1.0,\"yanchor\":\"bottom\",\"yref\":\"paper\"},{\"font\":{\"size\":16},\"showarrow\":false,\"text\":\"ARAGORN\",\"x\":0.14444444444444446,\"xanchor\":\"center\",\"xref\":\"paper\",\"y\":0.71875,\"yanchor\":\"bottom\",\"yref\":\"paper\"},{\"font\":{\"size\":16},\"showarrow\":false,\"text\":\"GOLLUM\",\"x\":0.5,\"xanchor\":\"center\",\"xref\":\"paper\",\"y\":0.71875,\"yanchor\":\"bottom\",\"yref\":\"paper\"},{\"font\":{\"size\":16},\"showarrow\":false,\"text\":\"THEODEN\",\"x\":0.8555555555555556,\"xanchor\":\"center\",\"xref\":\"paper\",\"y\":0.71875,\"yanchor\":\"bottom\",\"yref\":\"paper\"},{\"font\":{\"size\":16},\"showarrow\":false,\"text\":\"PIPPIN\",\"x\":0.14444444444444446,\"xanchor\":\"center\",\"xref\":\"paper\",\"y\":0.4375,\"yanchor\":\"bottom\",\"yref\":\"paper\"},{\"font\":{\"size\":16},\"showarrow\":false,\"text\":\"GIMLI\",\"x\":0.5,\"xanchor\":\"center\",\"xref\":\"paper\",\"y\":0.4375,\"yanchor\":\"bottom\",\"yref\":\"paper\"},{\"font\":{\"size\":16},\"showarrow\":false,\"text\":\"BILBO\",\"x\":0.8555555555555556,\"xanchor\":\"center\",\"xref\":\"paper\",\"y\":0.4375,\"yanchor\":\"bottom\",\"yref\":\"paper\"},{\"font\":{\"size\":16},\"showarrow\":false,\"text\":\"MERRY\",\"x\":0.14444444444444446,\"xanchor\":\"center\",\"xref\":\"paper\",\"y\":0.15625,\"yanchor\":\"bottom\",\"yref\":\"paper\"}],\"barmode\":\"stack\"},                        {\"toImageButtonOptions\": {\"format\": \"png\", \"height\": 1200.0, \"width\": 1000, \"scale\": 10}, \"responsive\": true}                    ).then(function(){\n",
       "                            \n",
       "var gd = document.getElementById('c2c8e484-5057-4840-b2c8-54c94cc612e1');\n",
       "var x = new MutationObserver(function (mutations, observer) {{\n",
       "        var display = window.getComputedStyle(gd).display;\n",
       "        if (!display || display === 'none') {{\n",
       "            console.log([gd, 'removed!']);\n",
       "            Plotly.purge(gd);\n",
       "            observer.disconnect();\n",
       "        }}\n",
       "}});\n",
       "\n",
       "// Listen for the removal of the full notebook cells\n",
       "var notebookContainer = gd.closest('#notebook-container');\n",
       "if (notebookContainer) {{\n",
       "    x.observe(notebookContainer, {childList: true});\n",
       "}}\n",
       "\n",
       "// Listen for the clearing of the current output cell\n",
       "var outputEl = gd.closest('.output');\n",
       "if (outputEl) {{\n",
       "    x.observe(outputEl, {childList: true});\n",
       "}}\n",
       "\n",
       "                        })                };                });            </script>        </div>"
      ]
     },
     "metadata": {},
     "output_type": "display_data"
    }
   ],
   "source": [
    "from nltk.sentiment.vader import SentimentIntensityAnalyzer\n",
    "from nltk import tokenize\n",
    "import plotly.graph_objects as pg\n",
    "import plotly.graph_objs as go\n",
    "from plotly.subplots import make_subplots\n",
    "import nltk\n",
    "\n",
    "nltk.download('vader_lexicon')\n",
    "sentimentCounts = {}\n",
    "traitCounts = {\"pos\": [0,0,0,0,0], \"neg\": [0,0,0,0,0], \"neu\": [0,0,0,0,0]}\n",
    "\n",
    "for index, row in script.iterrows(): # go through the entries one by one\n",
    "    character = row[\"char\"].strip().replace(\"(\", \"\")\n",
    "    dialog = str(row[\"dialog\"])\n",
    "    domTrait = traitVectors[index].index(max(traitVectors[index]))\n",
    "    \n",
    "    sid = SentimentIntensityAnalyzer()\n",
    "    ss = sid.polarity_scores(dialog) # obtain the scores for this script\n",
    "    polarity = ss[\"pos\"] - ss[\"neg\"] # total polarity = positive - negative\n",
    "    \n",
    "    if character not in sentimentCounts:\n",
    "        sentimentCounts[character] = {\"pos\": [0,0,0,0,0], \"neg\": [0,0,0,0,0], \"neu\": [0,0,0,0,0]} # initialize dictionary\n",
    "    \n",
    "    if polarity > 0:\n",
    "        sentimentCounts[character][\"pos\"][domTrait] += 1\n",
    "        traitCounts[\"pos\"][domTrait] += 1\n",
    "    elif polarity < 0:\n",
    "        sentimentCounts[character][\"neg\"][domTrait] += 1\n",
    "        traitCounts[\"neg\"][domTrait] += 1\n",
    "    elif polarity == 0:\n",
    "        sentimentCounts[character][\"neu\"][domTrait] += 1\n",
    "        traitCounts[\"neu\"][domTrait] += 1\n",
    "\n",
    "traits = ['EXT', 'NEU', 'AGR', 'CON', 'OPN']\n",
    "fig = make_subplots(rows=4, cols=3, start_cell=\"top-left\", subplot_titles=list(concat.keys())[0:10])\n",
    "\n",
    "for i, character in enumerate(list(concat.keys())[0:10]):\n",
    "    if i == 0:\n",
    "        leg = True\n",
    "    else:\n",
    "        leg = False\n",
    "\n",
    "    fig.add_trace(go.Bar(\n",
    "        name = 'Neutral',\n",
    "        marker_color = 'cornflowerblue',\n",
    "        showlegend=leg,\n",
    "        x = traits,\n",
    "        y = sentimentCounts[character][\"neu\"]), row=i // 3 + 1, col=i % 3 + 1)\n",
    "\n",
    "    fig.add_trace(go.Bar(\n",
    "        name = 'Positive',\n",
    "        marker_color = 'mediumseagreen',\n",
    "        showlegend=leg,\n",
    "        x = traits,\n",
    "        y = sentimentCounts[character][\"pos\"]), row=i // 3 + 1, col=i % 3 + 1)\n",
    "\n",
    "    fig.add_trace(go.Bar(\n",
    "        name = 'Negative',\n",
    "        marker_color = 'crimson',\n",
    "        showlegend=leg,\n",
    "        x = traits,\n",
    "        y = sentimentCounts[character][\"neg\"]), row=i // 3 + 1, col=i % 3 + 1)\n",
    "\n",
    "config = {\n",
    "    'toImageButtonOptions': {\n",
    "        'format': 'png',\n",
    "        'height': 1.2*1000,\n",
    "        'width': 1000,\n",
    "        'scale': 10\n",
    "    }\n",
    "}\n",
    "    \n",
    "fig.update_layout(barmode='stack')   \n",
    "fig.show(config=config)"
   ]
  },
  {
   "cell_type": "code",
   "execution_count": 9,
   "id": "21d4358a",
   "metadata": {},
   "outputs": [
    {
     "data": {
      "application/vnd.plotly.v1+json": {
       "config": {
        "plotlyServerURL": "https://plot.ly",
        "toImageButtonOptions": {
         "format": "png",
         "height": 500,
         "scale": 10,
         "width": 890
        }
       },
       "data": [
        {
         "marker": {
          "color": "cornflowerblue"
         },
         "name": "Neutral",
         "type": "bar",
         "x": [
          "EXT",
          "NEU",
          "AGR",
          "CON",
          "OPN"
         ],
         "y": [
          683,
          26,
          70,
          0,
          490
         ]
        },
        {
         "marker": {
          "color": "mediumseagreen"
         },
         "name": "Positive",
         "type": "bar",
         "x": [
          "EXT",
          "NEU",
          "AGR",
          "CON",
          "OPN"
         ],
         "y": [
          208,
          17,
          23,
          0,
          313
         ]
        },
        {
         "marker": {
          "color": "crimson"
         },
         "name": "Negative",
         "type": "bar",
         "x": [
          "EXT",
          "NEU",
          "AGR",
          "CON",
          "OPN"
         ],
         "y": [
          190,
          13,
          10,
          0,
          347
         ]
        }
       ],
       "layout": {
        "barmode": "stack",
        "template": {
         "data": {
          "bar": [
           {
            "error_x": {
             "color": "#2a3f5f"
            },
            "error_y": {
             "color": "#2a3f5f"
            },
            "marker": {
             "line": {
              "color": "#E5ECF6",
              "width": 0.5
             },
             "pattern": {
              "fillmode": "overlay",
              "size": 10,
              "solidity": 0.2
             }
            },
            "type": "bar"
           }
          ],
          "barpolar": [
           {
            "marker": {
             "line": {
              "color": "#E5ECF6",
              "width": 0.5
             },
             "pattern": {
              "fillmode": "overlay",
              "size": 10,
              "solidity": 0.2
             }
            },
            "type": "barpolar"
           }
          ],
          "carpet": [
           {
            "aaxis": {
             "endlinecolor": "#2a3f5f",
             "gridcolor": "white",
             "linecolor": "white",
             "minorgridcolor": "white",
             "startlinecolor": "#2a3f5f"
            },
            "baxis": {
             "endlinecolor": "#2a3f5f",
             "gridcolor": "white",
             "linecolor": "white",
             "minorgridcolor": "white",
             "startlinecolor": "#2a3f5f"
            },
            "type": "carpet"
           }
          ],
          "choropleth": [
           {
            "colorbar": {
             "outlinewidth": 0,
             "ticks": ""
            },
            "type": "choropleth"
           }
          ],
          "contour": [
           {
            "colorbar": {
             "outlinewidth": 0,
             "ticks": ""
            },
            "colorscale": [
             [
              0,
              "#0d0887"
             ],
             [
              0.1111111111111111,
              "#46039f"
             ],
             [
              0.2222222222222222,
              "#7201a8"
             ],
             [
              0.3333333333333333,
              "#9c179e"
             ],
             [
              0.4444444444444444,
              "#bd3786"
             ],
             [
              0.5555555555555556,
              "#d8576b"
             ],
             [
              0.6666666666666666,
              "#ed7953"
             ],
             [
              0.7777777777777778,
              "#fb9f3a"
             ],
             [
              0.8888888888888888,
              "#fdca26"
             ],
             [
              1,
              "#f0f921"
             ]
            ],
            "type": "contour"
           }
          ],
          "contourcarpet": [
           {
            "colorbar": {
             "outlinewidth": 0,
             "ticks": ""
            },
            "type": "contourcarpet"
           }
          ],
          "heatmap": [
           {
            "colorbar": {
             "outlinewidth": 0,
             "ticks": ""
            },
            "colorscale": [
             [
              0,
              "#0d0887"
             ],
             [
              0.1111111111111111,
              "#46039f"
             ],
             [
              0.2222222222222222,
              "#7201a8"
             ],
             [
              0.3333333333333333,
              "#9c179e"
             ],
             [
              0.4444444444444444,
              "#bd3786"
             ],
             [
              0.5555555555555556,
              "#d8576b"
             ],
             [
              0.6666666666666666,
              "#ed7953"
             ],
             [
              0.7777777777777778,
              "#fb9f3a"
             ],
             [
              0.8888888888888888,
              "#fdca26"
             ],
             [
              1,
              "#f0f921"
             ]
            ],
            "type": "heatmap"
           }
          ],
          "heatmapgl": [
           {
            "colorbar": {
             "outlinewidth": 0,
             "ticks": ""
            },
            "colorscale": [
             [
              0,
              "#0d0887"
             ],
             [
              0.1111111111111111,
              "#46039f"
             ],
             [
              0.2222222222222222,
              "#7201a8"
             ],
             [
              0.3333333333333333,
              "#9c179e"
             ],
             [
              0.4444444444444444,
              "#bd3786"
             ],
             [
              0.5555555555555556,
              "#d8576b"
             ],
             [
              0.6666666666666666,
              "#ed7953"
             ],
             [
              0.7777777777777778,
              "#fb9f3a"
             ],
             [
              0.8888888888888888,
              "#fdca26"
             ],
             [
              1,
              "#f0f921"
             ]
            ],
            "type": "heatmapgl"
           }
          ],
          "histogram": [
           {
            "marker": {
             "pattern": {
              "fillmode": "overlay",
              "size": 10,
              "solidity": 0.2
             }
            },
            "type": "histogram"
           }
          ],
          "histogram2d": [
           {
            "colorbar": {
             "outlinewidth": 0,
             "ticks": ""
            },
            "colorscale": [
             [
              0,
              "#0d0887"
             ],
             [
              0.1111111111111111,
              "#46039f"
             ],
             [
              0.2222222222222222,
              "#7201a8"
             ],
             [
              0.3333333333333333,
              "#9c179e"
             ],
             [
              0.4444444444444444,
              "#bd3786"
             ],
             [
              0.5555555555555556,
              "#d8576b"
             ],
             [
              0.6666666666666666,
              "#ed7953"
             ],
             [
              0.7777777777777778,
              "#fb9f3a"
             ],
             [
              0.8888888888888888,
              "#fdca26"
             ],
             [
              1,
              "#f0f921"
             ]
            ],
            "type": "histogram2d"
           }
          ],
          "histogram2dcontour": [
           {
            "colorbar": {
             "outlinewidth": 0,
             "ticks": ""
            },
            "colorscale": [
             [
              0,
              "#0d0887"
             ],
             [
              0.1111111111111111,
              "#46039f"
             ],
             [
              0.2222222222222222,
              "#7201a8"
             ],
             [
              0.3333333333333333,
              "#9c179e"
             ],
             [
              0.4444444444444444,
              "#bd3786"
             ],
             [
              0.5555555555555556,
              "#d8576b"
             ],
             [
              0.6666666666666666,
              "#ed7953"
             ],
             [
              0.7777777777777778,
              "#fb9f3a"
             ],
             [
              0.8888888888888888,
              "#fdca26"
             ],
             [
              1,
              "#f0f921"
             ]
            ],
            "type": "histogram2dcontour"
           }
          ],
          "mesh3d": [
           {
            "colorbar": {
             "outlinewidth": 0,
             "ticks": ""
            },
            "type": "mesh3d"
           }
          ],
          "parcoords": [
           {
            "line": {
             "colorbar": {
              "outlinewidth": 0,
              "ticks": ""
             }
            },
            "type": "parcoords"
           }
          ],
          "pie": [
           {
            "automargin": true,
            "type": "pie"
           }
          ],
          "scatter": [
           {
            "fillpattern": {
             "fillmode": "overlay",
             "size": 10,
             "solidity": 0.2
            },
            "type": "scatter"
           }
          ],
          "scatter3d": [
           {
            "line": {
             "colorbar": {
              "outlinewidth": 0,
              "ticks": ""
             }
            },
            "marker": {
             "colorbar": {
              "outlinewidth": 0,
              "ticks": ""
             }
            },
            "type": "scatter3d"
           }
          ],
          "scattercarpet": [
           {
            "marker": {
             "colorbar": {
              "outlinewidth": 0,
              "ticks": ""
             }
            },
            "type": "scattercarpet"
           }
          ],
          "scattergeo": [
           {
            "marker": {
             "colorbar": {
              "outlinewidth": 0,
              "ticks": ""
             }
            },
            "type": "scattergeo"
           }
          ],
          "scattergl": [
           {
            "marker": {
             "colorbar": {
              "outlinewidth": 0,
              "ticks": ""
             }
            },
            "type": "scattergl"
           }
          ],
          "scattermapbox": [
           {
            "marker": {
             "colorbar": {
              "outlinewidth": 0,
              "ticks": ""
             }
            },
            "type": "scattermapbox"
           }
          ],
          "scatterpolar": [
           {
            "marker": {
             "colorbar": {
              "outlinewidth": 0,
              "ticks": ""
             }
            },
            "type": "scatterpolar"
           }
          ],
          "scatterpolargl": [
           {
            "marker": {
             "colorbar": {
              "outlinewidth": 0,
              "ticks": ""
             }
            },
            "type": "scatterpolargl"
           }
          ],
          "scatterternary": [
           {
            "marker": {
             "colorbar": {
              "outlinewidth": 0,
              "ticks": ""
             }
            },
            "type": "scatterternary"
           }
          ],
          "surface": [
           {
            "colorbar": {
             "outlinewidth": 0,
             "ticks": ""
            },
            "colorscale": [
             [
              0,
              "#0d0887"
             ],
             [
              0.1111111111111111,
              "#46039f"
             ],
             [
              0.2222222222222222,
              "#7201a8"
             ],
             [
              0.3333333333333333,
              "#9c179e"
             ],
             [
              0.4444444444444444,
              "#bd3786"
             ],
             [
              0.5555555555555556,
              "#d8576b"
             ],
             [
              0.6666666666666666,
              "#ed7953"
             ],
             [
              0.7777777777777778,
              "#fb9f3a"
             ],
             [
              0.8888888888888888,
              "#fdca26"
             ],
             [
              1,
              "#f0f921"
             ]
            ],
            "type": "surface"
           }
          ],
          "table": [
           {
            "cells": {
             "fill": {
              "color": "#EBF0F8"
             },
             "line": {
              "color": "white"
             }
            },
            "header": {
             "fill": {
              "color": "#C8D4E3"
             },
             "line": {
              "color": "white"
             }
            },
            "type": "table"
           }
          ]
         },
         "layout": {
          "annotationdefaults": {
           "arrowcolor": "#2a3f5f",
           "arrowhead": 0,
           "arrowwidth": 1
          },
          "autotypenumbers": "strict",
          "coloraxis": {
           "colorbar": {
            "outlinewidth": 0,
            "ticks": ""
           }
          },
          "colorscale": {
           "diverging": [
            [
             0,
             "#8e0152"
            ],
            [
             0.1,
             "#c51b7d"
            ],
            [
             0.2,
             "#de77ae"
            ],
            [
             0.3,
             "#f1b6da"
            ],
            [
             0.4,
             "#fde0ef"
            ],
            [
             0.5,
             "#f7f7f7"
            ],
            [
             0.6,
             "#e6f5d0"
            ],
            [
             0.7,
             "#b8e186"
            ],
            [
             0.8,
             "#7fbc41"
            ],
            [
             0.9,
             "#4d9221"
            ],
            [
             1,
             "#276419"
            ]
           ],
           "sequential": [
            [
             0,
             "#0d0887"
            ],
            [
             0.1111111111111111,
             "#46039f"
            ],
            [
             0.2222222222222222,
             "#7201a8"
            ],
            [
             0.3333333333333333,
             "#9c179e"
            ],
            [
             0.4444444444444444,
             "#bd3786"
            ],
            [
             0.5555555555555556,
             "#d8576b"
            ],
            [
             0.6666666666666666,
             "#ed7953"
            ],
            [
             0.7777777777777778,
             "#fb9f3a"
            ],
            [
             0.8888888888888888,
             "#fdca26"
            ],
            [
             1,
             "#f0f921"
            ]
           ],
           "sequentialminus": [
            [
             0,
             "#0d0887"
            ],
            [
             0.1111111111111111,
             "#46039f"
            ],
            [
             0.2222222222222222,
             "#7201a8"
            ],
            [
             0.3333333333333333,
             "#9c179e"
            ],
            [
             0.4444444444444444,
             "#bd3786"
            ],
            [
             0.5555555555555556,
             "#d8576b"
            ],
            [
             0.6666666666666666,
             "#ed7953"
            ],
            [
             0.7777777777777778,
             "#fb9f3a"
            ],
            [
             0.8888888888888888,
             "#fdca26"
            ],
            [
             1,
             "#f0f921"
            ]
           ]
          },
          "colorway": [
           "#636efa",
           "#EF553B",
           "#00cc96",
           "#ab63fa",
           "#FFA15A",
           "#19d3f3",
           "#FF6692",
           "#B6E880",
           "#FF97FF",
           "#FECB52"
          ],
          "font": {
           "color": "#2a3f5f"
          },
          "geo": {
           "bgcolor": "white",
           "lakecolor": "white",
           "landcolor": "#E5ECF6",
           "showlakes": true,
           "showland": true,
           "subunitcolor": "white"
          },
          "hoverlabel": {
           "align": "left"
          },
          "hovermode": "closest",
          "mapbox": {
           "style": "light"
          },
          "paper_bgcolor": "white",
          "plot_bgcolor": "#E5ECF6",
          "polar": {
           "angularaxis": {
            "gridcolor": "white",
            "linecolor": "white",
            "ticks": ""
           },
           "bgcolor": "#E5ECF6",
           "radialaxis": {
            "gridcolor": "white",
            "linecolor": "white",
            "ticks": ""
           }
          },
          "scene": {
           "xaxis": {
            "backgroundcolor": "#E5ECF6",
            "gridcolor": "white",
            "gridwidth": 2,
            "linecolor": "white",
            "showbackground": true,
            "ticks": "",
            "zerolinecolor": "white"
           },
           "yaxis": {
            "backgroundcolor": "#E5ECF6",
            "gridcolor": "white",
            "gridwidth": 2,
            "linecolor": "white",
            "showbackground": true,
            "ticks": "",
            "zerolinecolor": "white"
           },
           "zaxis": {
            "backgroundcolor": "#E5ECF6",
            "gridcolor": "white",
            "gridwidth": 2,
            "linecolor": "white",
            "showbackground": true,
            "ticks": "",
            "zerolinecolor": "white"
           }
          },
          "shapedefaults": {
           "line": {
            "color": "#2a3f5f"
           }
          },
          "ternary": {
           "aaxis": {
            "gridcolor": "white",
            "linecolor": "white",
            "ticks": ""
           },
           "baxis": {
            "gridcolor": "white",
            "linecolor": "white",
            "ticks": ""
           },
           "bgcolor": "#E5ECF6",
           "caxis": {
            "gridcolor": "white",
            "linecolor": "white",
            "ticks": ""
           }
          },
          "title": {
           "x": 0.05
          },
          "xaxis": {
           "automargin": true,
           "gridcolor": "white",
           "linecolor": "white",
           "ticks": "",
           "title": {
            "standoff": 15
           },
           "zerolinecolor": "white",
           "zerolinewidth": 2
          },
          "yaxis": {
           "automargin": true,
           "gridcolor": "white",
           "linecolor": "white",
           "ticks": "",
           "title": {
            "standoff": 15
           },
           "zerolinecolor": "white",
           "zerolinewidth": 2
          }
         }
        }
       }
      },
      "text/html": [
       "<div>                            <div id=\"6269adb7-5015-476a-a423-1db08e8cd677\" class=\"plotly-graph-div\" style=\"height:525px; width:100%;\"></div>            <script type=\"text/javascript\">                require([\"plotly\"], function(Plotly) {                    window.PLOTLYENV=window.PLOTLYENV || {};                                    if (document.getElementById(\"6269adb7-5015-476a-a423-1db08e8cd677\")) {                    Plotly.newPlot(                        \"6269adb7-5015-476a-a423-1db08e8cd677\",                        [{\"marker\":{\"color\":\"cornflowerblue\"},\"name\":\"Neutral\",\"x\":[\"EXT\",\"NEU\",\"AGR\",\"CON\",\"OPN\"],\"y\":[683,26,70,0,490],\"type\":\"bar\"},{\"marker\":{\"color\":\"mediumseagreen\"},\"name\":\"Positive\",\"x\":[\"EXT\",\"NEU\",\"AGR\",\"CON\",\"OPN\"],\"y\":[208,17,23,0,313],\"type\":\"bar\"},{\"marker\":{\"color\":\"crimson\"},\"name\":\"Negative\",\"x\":[\"EXT\",\"NEU\",\"AGR\",\"CON\",\"OPN\"],\"y\":[190,13,10,0,347],\"type\":\"bar\"}],                        {\"template\":{\"data\":{\"histogram2dcontour\":[{\"type\":\"histogram2dcontour\",\"colorbar\":{\"outlinewidth\":0,\"ticks\":\"\"},\"colorscale\":[[0.0,\"#0d0887\"],[0.1111111111111111,\"#46039f\"],[0.2222222222222222,\"#7201a8\"],[0.3333333333333333,\"#9c179e\"],[0.4444444444444444,\"#bd3786\"],[0.5555555555555556,\"#d8576b\"],[0.6666666666666666,\"#ed7953\"],[0.7777777777777778,\"#fb9f3a\"],[0.8888888888888888,\"#fdca26\"],[1.0,\"#f0f921\"]]}],\"choropleth\":[{\"type\":\"choropleth\",\"colorbar\":{\"outlinewidth\":0,\"ticks\":\"\"}}],\"histogram2d\":[{\"type\":\"histogram2d\",\"colorbar\":{\"outlinewidth\":0,\"ticks\":\"\"},\"colorscale\":[[0.0,\"#0d0887\"],[0.1111111111111111,\"#46039f\"],[0.2222222222222222,\"#7201a8\"],[0.3333333333333333,\"#9c179e\"],[0.4444444444444444,\"#bd3786\"],[0.5555555555555556,\"#d8576b\"],[0.6666666666666666,\"#ed7953\"],[0.7777777777777778,\"#fb9f3a\"],[0.8888888888888888,\"#fdca26\"],[1.0,\"#f0f921\"]]}],\"heatmap\":[{\"type\":\"heatmap\",\"colorbar\":{\"outlinewidth\":0,\"ticks\":\"\"},\"colorscale\":[[0.0,\"#0d0887\"],[0.1111111111111111,\"#46039f\"],[0.2222222222222222,\"#7201a8\"],[0.3333333333333333,\"#9c179e\"],[0.4444444444444444,\"#bd3786\"],[0.5555555555555556,\"#d8576b\"],[0.6666666666666666,\"#ed7953\"],[0.7777777777777778,\"#fb9f3a\"],[0.8888888888888888,\"#fdca26\"],[1.0,\"#f0f921\"]]}],\"heatmapgl\":[{\"type\":\"heatmapgl\",\"colorbar\":{\"outlinewidth\":0,\"ticks\":\"\"},\"colorscale\":[[0.0,\"#0d0887\"],[0.1111111111111111,\"#46039f\"],[0.2222222222222222,\"#7201a8\"],[0.3333333333333333,\"#9c179e\"],[0.4444444444444444,\"#bd3786\"],[0.5555555555555556,\"#d8576b\"],[0.6666666666666666,\"#ed7953\"],[0.7777777777777778,\"#fb9f3a\"],[0.8888888888888888,\"#fdca26\"],[1.0,\"#f0f921\"]]}],\"contourcarpet\":[{\"type\":\"contourcarpet\",\"colorbar\":{\"outlinewidth\":0,\"ticks\":\"\"}}],\"contour\":[{\"type\":\"contour\",\"colorbar\":{\"outlinewidth\":0,\"ticks\":\"\"},\"colorscale\":[[0.0,\"#0d0887\"],[0.1111111111111111,\"#46039f\"],[0.2222222222222222,\"#7201a8\"],[0.3333333333333333,\"#9c179e\"],[0.4444444444444444,\"#bd3786\"],[0.5555555555555556,\"#d8576b\"],[0.6666666666666666,\"#ed7953\"],[0.7777777777777778,\"#fb9f3a\"],[0.8888888888888888,\"#fdca26\"],[1.0,\"#f0f921\"]]}],\"surface\":[{\"type\":\"surface\",\"colorbar\":{\"outlinewidth\":0,\"ticks\":\"\"},\"colorscale\":[[0.0,\"#0d0887\"],[0.1111111111111111,\"#46039f\"],[0.2222222222222222,\"#7201a8\"],[0.3333333333333333,\"#9c179e\"],[0.4444444444444444,\"#bd3786\"],[0.5555555555555556,\"#d8576b\"],[0.6666666666666666,\"#ed7953\"],[0.7777777777777778,\"#fb9f3a\"],[0.8888888888888888,\"#fdca26\"],[1.0,\"#f0f921\"]]}],\"mesh3d\":[{\"type\":\"mesh3d\",\"colorbar\":{\"outlinewidth\":0,\"ticks\":\"\"}}],\"scatter\":[{\"fillpattern\":{\"fillmode\":\"overlay\",\"size\":10,\"solidity\":0.2},\"type\":\"scatter\"}],\"parcoords\":[{\"type\":\"parcoords\",\"line\":{\"colorbar\":{\"outlinewidth\":0,\"ticks\":\"\"}}}],\"scatterpolargl\":[{\"type\":\"scatterpolargl\",\"marker\":{\"colorbar\":{\"outlinewidth\":0,\"ticks\":\"\"}}}],\"bar\":[{\"error_x\":{\"color\":\"#2a3f5f\"},\"error_y\":{\"color\":\"#2a3f5f\"},\"marker\":{\"line\":{\"color\":\"#E5ECF6\",\"width\":0.5},\"pattern\":{\"fillmode\":\"overlay\",\"size\":10,\"solidity\":0.2}},\"type\":\"bar\"}],\"scattergeo\":[{\"type\":\"scattergeo\",\"marker\":{\"colorbar\":{\"outlinewidth\":0,\"ticks\":\"\"}}}],\"scatterpolar\":[{\"type\":\"scatterpolar\",\"marker\":{\"colorbar\":{\"outlinewidth\":0,\"ticks\":\"\"}}}],\"histogram\":[{\"marker\":{\"pattern\":{\"fillmode\":\"overlay\",\"size\":10,\"solidity\":0.2}},\"type\":\"histogram\"}],\"scattergl\":[{\"type\":\"scattergl\",\"marker\":{\"colorbar\":{\"outlinewidth\":0,\"ticks\":\"\"}}}],\"scatter3d\":[{\"type\":\"scatter3d\",\"line\":{\"colorbar\":{\"outlinewidth\":0,\"ticks\":\"\"}},\"marker\":{\"colorbar\":{\"outlinewidth\":0,\"ticks\":\"\"}}}],\"scattermapbox\":[{\"type\":\"scattermapbox\",\"marker\":{\"colorbar\":{\"outlinewidth\":0,\"ticks\":\"\"}}}],\"scatterternary\":[{\"type\":\"scatterternary\",\"marker\":{\"colorbar\":{\"outlinewidth\":0,\"ticks\":\"\"}}}],\"scattercarpet\":[{\"type\":\"scattercarpet\",\"marker\":{\"colorbar\":{\"outlinewidth\":0,\"ticks\":\"\"}}}],\"carpet\":[{\"aaxis\":{\"endlinecolor\":\"#2a3f5f\",\"gridcolor\":\"white\",\"linecolor\":\"white\",\"minorgridcolor\":\"white\",\"startlinecolor\":\"#2a3f5f\"},\"baxis\":{\"endlinecolor\":\"#2a3f5f\",\"gridcolor\":\"white\",\"linecolor\":\"white\",\"minorgridcolor\":\"white\",\"startlinecolor\":\"#2a3f5f\"},\"type\":\"carpet\"}],\"table\":[{\"cells\":{\"fill\":{\"color\":\"#EBF0F8\"},\"line\":{\"color\":\"white\"}},\"header\":{\"fill\":{\"color\":\"#C8D4E3\"},\"line\":{\"color\":\"white\"}},\"type\":\"table\"}],\"barpolar\":[{\"marker\":{\"line\":{\"color\":\"#E5ECF6\",\"width\":0.5},\"pattern\":{\"fillmode\":\"overlay\",\"size\":10,\"solidity\":0.2}},\"type\":\"barpolar\"}],\"pie\":[{\"automargin\":true,\"type\":\"pie\"}]},\"layout\":{\"autotypenumbers\":\"strict\",\"colorway\":[\"#636efa\",\"#EF553B\",\"#00cc96\",\"#ab63fa\",\"#FFA15A\",\"#19d3f3\",\"#FF6692\",\"#B6E880\",\"#FF97FF\",\"#FECB52\"],\"font\":{\"color\":\"#2a3f5f\"},\"hovermode\":\"closest\",\"hoverlabel\":{\"align\":\"left\"},\"paper_bgcolor\":\"white\",\"plot_bgcolor\":\"#E5ECF6\",\"polar\":{\"bgcolor\":\"#E5ECF6\",\"angularaxis\":{\"gridcolor\":\"white\",\"linecolor\":\"white\",\"ticks\":\"\"},\"radialaxis\":{\"gridcolor\":\"white\",\"linecolor\":\"white\",\"ticks\":\"\"}},\"ternary\":{\"bgcolor\":\"#E5ECF6\",\"aaxis\":{\"gridcolor\":\"white\",\"linecolor\":\"white\",\"ticks\":\"\"},\"baxis\":{\"gridcolor\":\"white\",\"linecolor\":\"white\",\"ticks\":\"\"},\"caxis\":{\"gridcolor\":\"white\",\"linecolor\":\"white\",\"ticks\":\"\"}},\"coloraxis\":{\"colorbar\":{\"outlinewidth\":0,\"ticks\":\"\"}},\"colorscale\":{\"sequential\":[[0.0,\"#0d0887\"],[0.1111111111111111,\"#46039f\"],[0.2222222222222222,\"#7201a8\"],[0.3333333333333333,\"#9c179e\"],[0.4444444444444444,\"#bd3786\"],[0.5555555555555556,\"#d8576b\"],[0.6666666666666666,\"#ed7953\"],[0.7777777777777778,\"#fb9f3a\"],[0.8888888888888888,\"#fdca26\"],[1.0,\"#f0f921\"]],\"sequentialminus\":[[0.0,\"#0d0887\"],[0.1111111111111111,\"#46039f\"],[0.2222222222222222,\"#7201a8\"],[0.3333333333333333,\"#9c179e\"],[0.4444444444444444,\"#bd3786\"],[0.5555555555555556,\"#d8576b\"],[0.6666666666666666,\"#ed7953\"],[0.7777777777777778,\"#fb9f3a\"],[0.8888888888888888,\"#fdca26\"],[1.0,\"#f0f921\"]],\"diverging\":[[0,\"#8e0152\"],[0.1,\"#c51b7d\"],[0.2,\"#de77ae\"],[0.3,\"#f1b6da\"],[0.4,\"#fde0ef\"],[0.5,\"#f7f7f7\"],[0.6,\"#e6f5d0\"],[0.7,\"#b8e186\"],[0.8,\"#7fbc41\"],[0.9,\"#4d9221\"],[1,\"#276419\"]]},\"xaxis\":{\"gridcolor\":\"white\",\"linecolor\":\"white\",\"ticks\":\"\",\"title\":{\"standoff\":15},\"zerolinecolor\":\"white\",\"automargin\":true,\"zerolinewidth\":2},\"yaxis\":{\"gridcolor\":\"white\",\"linecolor\":\"white\",\"ticks\":\"\",\"title\":{\"standoff\":15},\"zerolinecolor\":\"white\",\"automargin\":true,\"zerolinewidth\":2},\"scene\":{\"xaxis\":{\"backgroundcolor\":\"#E5ECF6\",\"gridcolor\":\"white\",\"linecolor\":\"white\",\"showbackground\":true,\"ticks\":\"\",\"zerolinecolor\":\"white\",\"gridwidth\":2},\"yaxis\":{\"backgroundcolor\":\"#E5ECF6\",\"gridcolor\":\"white\",\"linecolor\":\"white\",\"showbackground\":true,\"ticks\":\"\",\"zerolinecolor\":\"white\",\"gridwidth\":2},\"zaxis\":{\"backgroundcolor\":\"#E5ECF6\",\"gridcolor\":\"white\",\"linecolor\":\"white\",\"showbackground\":true,\"ticks\":\"\",\"zerolinecolor\":\"white\",\"gridwidth\":2}},\"shapedefaults\":{\"line\":{\"color\":\"#2a3f5f\"}},\"annotationdefaults\":{\"arrowcolor\":\"#2a3f5f\",\"arrowhead\":0,\"arrowwidth\":1},\"geo\":{\"bgcolor\":\"white\",\"landcolor\":\"#E5ECF6\",\"subunitcolor\":\"white\",\"showland\":true,\"showlakes\":true,\"lakecolor\":\"white\"},\"title\":{\"x\":0.05},\"mapbox\":{\"style\":\"light\"}}},\"barmode\":\"stack\"},                        {\"toImageButtonOptions\": {\"format\": \"png\", \"height\": 500, \"width\": 890, \"scale\": 10}, \"responsive\": true}                    ).then(function(){\n",
       "                            \n",
       "var gd = document.getElementById('6269adb7-5015-476a-a423-1db08e8cd677');\n",
       "var x = new MutationObserver(function (mutations, observer) {{\n",
       "        var display = window.getComputedStyle(gd).display;\n",
       "        if (!display || display === 'none') {{\n",
       "            console.log([gd, 'removed!']);\n",
       "            Plotly.purge(gd);\n",
       "            observer.disconnect();\n",
       "        }}\n",
       "}});\n",
       "\n",
       "// Listen for the removal of the full notebook cells\n",
       "var notebookContainer = gd.closest('#notebook-container');\n",
       "if (notebookContainer) {{\n",
       "    x.observe(notebookContainer, {childList: true});\n",
       "}}\n",
       "\n",
       "// Listen for the clearing of the current output cell\n",
       "var outputEl = gd.closest('.output');\n",
       "if (outputEl) {{\n",
       "    x.observe(outputEl, {childList: true});\n",
       "}}\n",
       "\n",
       "                        })                };                });            </script>        </div>"
      ]
     },
     "metadata": {},
     "output_type": "display_data"
    }
   ],
   "source": [
    "plot = pg.Figure(data=[go.Bar(\n",
    "    name = 'Neutral',\n",
    "    marker_color = 'cornflowerblue',\n",
    "    x = traits,\n",
    "    y = traitCounts[\"neu\"]\n",
    "   ),\n",
    "                       go.Bar(\n",
    "    name = 'Positive',\n",
    "        marker_color = 'mediumseagreen',\n",
    "        x = traits,\n",
    "        y = traitCounts[\"pos\"]\n",
    "   ),\n",
    "   go.Bar(\n",
    "   name = 'Negative',\n",
    "        marker_color = 'crimson',\n",
    "        x = traits,\n",
    "        y = traitCounts[\"neg\"]\n",
    "   )\n",
    "])\n",
    "\n",
    "config = {\n",
    "    'toImageButtonOptions': {\n",
    "        'format': 'png',\n",
    "        'height': 500,\n",
    "        'width': 890,\n",
    "        'scale': 10\n",
    "    }\n",
    "}\n",
    "\n",
    "plot.update_layout(barmode='stack')\n",
    "plot.show(config=config)"
   ]
  }
 ],
 "metadata": {
  "kernelspec": {
   "display_name": "Python 3 (ipykernel)",
   "language": "python",
   "name": "python3"
  },
  "language_info": {
   "codemirror_mode": {
    "name": "ipython",
    "version": 3
   },
   "file_extension": ".py",
   "mimetype": "text/x-python",
   "name": "python",
   "nbconvert_exporter": "python",
   "pygments_lexer": "ipython3",
   "version": "3.10.6"
  }
 },
 "nbformat": 4,
 "nbformat_minor": 5
}
