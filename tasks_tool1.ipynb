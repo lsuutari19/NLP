{
 "cells": [
  {
   "cell_type": "markdown",
   "id": "82d50c71",
   "metadata": {},
   "source": [
    "# Task 1"
   ]
  },
  {
   "cell_type": "code",
   "execution_count": 19,
   "id": "ae52d236",
   "metadata": {
    "scrolled": true
   },
   "outputs": [
    {
     "name": "stderr",
     "output_type": "stream",
     "text": [
      "[nltk_data] Downloading package stopwords to\n",
      "[nltk_data]     C:\\Users\\pake10\\AppData\\Roaming\\nltk_data...\n",
      "[nltk_data]   Package stopwords is already up-to-date!\n",
      "[nltk_data] Downloading package punkt to\n",
      "[nltk_data]     C:\\Users\\pake10\\AppData\\Roaming\\nltk_data...\n",
      "[nltk_data]   Package punkt is already up-to-date!\n"
     ]
    },
    {
     "data": {
      "text/html": [
       "<div>\n",
       "<style scoped>\n",
       "    .dataframe tbody tr th:only-of-type {\n",
       "        vertical-align: middle;\n",
       "    }\n",
       "\n",
       "    .dataframe tbody tr th {\n",
       "        vertical-align: top;\n",
       "    }\n",
       "\n",
       "    .dataframe thead th {\n",
       "        text-align: right;\n",
       "    }\n",
       "</style>\n",
       "<table border=\"1\" class=\"dataframe\">\n",
       "  <thead>\n",
       "    <tr style=\"text-align: right;\">\n",
       "      <th></th>\n",
       "      <th>token_num</th>\n",
       "      <th>vocab_size</th>\n",
       "      <th>avg_script_length</th>\n",
       "      <th>stopword_proportion</th>\n",
       "      <th>sd_script_length</th>\n",
       "    </tr>\n",
       "  </thead>\n",
       "  <tbody>\n",
       "    <tr>\n",
       "      <th>GANDALF</th>\n",
       "      <td>3159</td>\n",
       "      <td>883</td>\n",
       "      <td>15.409756</td>\n",
       "      <td>0.528332</td>\n",
       "      <td>17.825898</td>\n",
       "    </tr>\n",
       "    <tr>\n",
       "      <th>SAM</th>\n",
       "      <td>2185</td>\n",
       "      <td>563</td>\n",
       "      <td>10.069124</td>\n",
       "      <td>0.577117</td>\n",
       "      <td>11.185300</td>\n",
       "    </tr>\n",
       "    <tr>\n",
       "      <th>FRODO</th>\n",
       "      <td>1828</td>\n",
       "      <td>494</td>\n",
       "      <td>8.088496</td>\n",
       "      <td>0.591357</td>\n",
       "      <td>8.203585</td>\n",
       "    </tr>\n",
       "    <tr>\n",
       "      <th>ARAGORN</th>\n",
       "      <td>1406</td>\n",
       "      <td>534</td>\n",
       "      <td>7.518717</td>\n",
       "      <td>0.497866</td>\n",
       "      <td>7.892655</td>\n",
       "    </tr>\n",
       "    <tr>\n",
       "      <th>GOLLUM</th>\n",
       "      <td>1312</td>\n",
       "      <td>362</td>\n",
       "      <td>9.791045</td>\n",
       "      <td>0.503811</td>\n",
       "      <td>9.254200</td>\n",
       "    </tr>\n",
       "    <tr>\n",
       "      <th>...</th>\n",
       "      <td>...</td>\n",
       "      <td>...</td>\n",
       "      <td>...</td>\n",
       "      <td>...</td>\n",
       "      <td>...</td>\n",
       "    </tr>\n",
       "    <tr>\n",
       "      <th>OLD MAN</th>\n",
       "      <td>1</td>\n",
       "      <td>1</td>\n",
       "      <td>1.000000</td>\n",
       "      <td>0.000000</td>\n",
       "      <td>inf</td>\n",
       "    </tr>\n",
       "    <tr>\n",
       "      <th>FRODO VOICE</th>\n",
       "      <td>1</td>\n",
       "      <td>1</td>\n",
       "      <td>1.000000</td>\n",
       "      <td>0.000000</td>\n",
       "      <td>inf</td>\n",
       "    </tr>\n",
       "    <tr>\n",
       "      <th>MRS BRACEGIRDLE</th>\n",
       "      <td>1</td>\n",
       "      <td>1</td>\n",
       "      <td>1.000000</td>\n",
       "      <td>0.000000</td>\n",
       "      <td>inf</td>\n",
       "    </tr>\n",
       "    <tr>\n",
       "      <th>PROUDFOOT HOBBIT</th>\n",
       "      <td>1</td>\n",
       "      <td>1</td>\n",
       "      <td>1.000000</td>\n",
       "      <td>0.000000</td>\n",
       "      <td>inf</td>\n",
       "    </tr>\n",
       "    <tr>\n",
       "      <th>MEN</th>\n",
       "      <td>1</td>\n",
       "      <td>1</td>\n",
       "      <td>1.000000</td>\n",
       "      <td>0.000000</td>\n",
       "      <td>inf</td>\n",
       "    </tr>\n",
       "  </tbody>\n",
       "</table>\n",
       "<p>111 rows × 5 columns</p>\n",
       "</div>"
      ],
      "text/plain": [
       "                  token_num  vocab_size  avg_script_length  \\\n",
       "GANDALF                3159         883          15.409756   \n",
       "SAM                    2185         563          10.069124   \n",
       "FRODO                  1828         494           8.088496   \n",
       "ARAGORN                1406         534           7.518717   \n",
       "GOLLUM                 1312         362           9.791045   \n",
       "...                     ...         ...                ...   \n",
       "OLD MAN                   1           1           1.000000   \n",
       "FRODO VOICE               1           1           1.000000   \n",
       "MRS BRACEGIRDLE           1           1           1.000000   \n",
       "PROUDFOOT HOBBIT          1           1           1.000000   \n",
       "MEN                       1           1           1.000000   \n",
       "\n",
       "                  stopword_proportion  sd_script_length  \n",
       "GANDALF                      0.528332         17.825898  \n",
       "SAM                          0.577117         11.185300  \n",
       "FRODO                        0.591357          8.203585  \n",
       "ARAGORN                      0.497866          7.892655  \n",
       "GOLLUM                       0.503811          9.254200  \n",
       "...                               ...               ...  \n",
       "OLD MAN                      0.000000               inf  \n",
       "FRODO VOICE                  0.000000               inf  \n",
       "MRS BRACEGIRDLE              0.000000               inf  \n",
       "PROUDFOOT HOBBIT             0.000000               inf  \n",
       "MEN                          0.000000               inf  \n",
       "\n",
       "[111 rows x 5 columns]"
      ]
     },
     "execution_count": 19,
     "metadata": {},
     "output_type": "execute_result"
    }
   ],
   "source": [
    "import pandas as pd\n",
    "from statistics import mean, stdev\n",
    "import contractions\n",
    "import nltk\n",
    "\n",
    "from sklearn.neural_network import MLPClassifier\n",
    "from sklearn.feature_extraction.text import TfidfVectorizer\n",
    "from sklearn.model_selection import train_test_split\n",
    "from sklearn.decomposition import PCA\n",
    "from sklearn.metrics import accuracy_score\n",
    "\n",
    "nltk.download(\"stopwords\")\n",
    "nltk.download(\"punkt\")\n",
    "\n",
    "#pd.set_option('display.max_rows', None) # uncomment to display all rows at once\n",
    "\n",
    "script = pd.read_csv(\"data/lotr_scripts.csv\", encoding='utf-8') # load the data\n",
    "concat = {} # stores the concatenated scripts for each character\n",
    "\n",
    "script_lengths = {} # individual script lengths grouped by character\n",
    "stopwords_list = set(nltk.corpus.stopwords.words(\"english\"))\n",
    "\n",
    "raw_scripts = {}\n",
    "\n",
    "for index, row in script.iterrows(): # go through the entries one by one for clarity (of course, could be implemented more compactly with nice pandas oneliners)\n",
    "    character = row[\"char\"].strip().replace(\"(\", \"\")\n",
    "    \n",
    "    if not character in concat:\n",
    "        concat[character] = []\n",
    "        script_lengths[character] = []\n",
    "        raw_scripts[character] = \"\"\n",
    "    \n",
    "    raw_scripts[character] += str(row[\"dialog\"]).lower() + \" \"\n",
    "    dialogue = contractions.fix(str(row[\"dialog\"])) # can't -> can not etc.\n",
    "    words = nltk.word_tokenize(dialogue) # tokenize\n",
    "    words = [word.lower() for word in words if word.isalpha()] # to lowercase if the \"word\" consists of alphabet letters\n",
    "    \n",
    "    script_lengths[character].append(len(words)) # length of the individual script\n",
    "    concat[character].extend(words) # add to the concatenated list for this character\n",
    "\n",
    "concat = dict(sorted(concat.items(), key=lambda i: -len(i[1]))) # sort by number of tokens in descending order\n",
    "details = {} # dictionary containing the derived characteristics for every character\n",
    "\n",
    "for character in concat:\n",
    "    if not character in details:\n",
    "        details[character] = {}\n",
    "\n",
    "    details[character][\"token_num\"] = len(concat[character]) # total number of tokens\n",
    "    details[character][\"vocab_size\"] = len(set(concat[character])) # vocabulary size = number of unique tokens\n",
    "    details[character][\"avg_script_length\"] = mean(script_lengths[character]) # mean of script lengths\n",
    "    details[character][\"stopword_proportion\"] = 0\n",
    "    \n",
    "    if len(script_lengths[character]) == 1:\n",
    "        details[character][\"sd_script_length\"] = float('inf') # if only one script available for this character, SD is \"infinite\"\n",
    "    else:\n",
    "        details[character][\"sd_script_length\"] = stdev(script_lengths[character])\n",
    "    \n",
    "    for token in concat[character]:\n",
    "        if token in stopwords_list:\n",
    "            details[character][\"stopword_proportion\"] += 1 # if contained in stopword list, increment number of stopwords per char\n",
    "    \n",
    "    details[character][\"stopword_proportion\"] /= len(concat[character]) # divide by the total number of tokens\n",
    "\n",
    "pd.DataFrame.from_dict(details, orient=\"index\") # display table"
   ]
  },
  {
   "cell_type": "markdown",
   "id": "4d0dc5fb",
   "metadata": {},
   "source": [
    "# Task 2"
   ]
  },
  {
   "cell_type": "markdown",
   "id": "64858e35",
   "metadata": {},
   "source": [
    "This code implements the MLP model presented in https://github.com/desaichirayu/Personality-Attribution-using-Natural-Language-Processing.\n",
    "\n",
    "Some experimentation was performed on different values for maximum iteration count when training, however, max_iter = 20 is used for the data in the report. Additionally, iterCount = 20 was used for the report but since running it takes quite some time, iterCount = 1 has been set below."
   ]
  },
  {
   "cell_type": "code",
   "execution_count": 20,
   "id": "fe6512ab",
   "metadata": {},
   "outputs": [],
   "source": [
    "# adapted and modified from\n",
    "# https://github.com/desaichirayu/Personality-Attribution-using-Natural-Language-Processing/blob/master/code%20and%20data/mlp_simple.py\n",
    "\n",
    "\n",
    "df = pd.read_csv(r\"data/essays.csv\", names=['author_id', 'essay', 'Extraversion', 'Neuroticism', 'Agreeableness', 'Conscientiousness', 'Openness'], encoding='cp1252')\n",
    "\n",
    "x = df['essay'][1:]\n",
    "x = x.str.lower() # to lowercase\n",
    "\n",
    "def trainAndTest(max_iter=200):\n",
    "    classifiers = []\n",
    "    vectorizers = []\n",
    "    \n",
    "    choices = {\n",
    "            0: ('Extraversion', ('tanh', 'adaptive', 'lbfgs')),\n",
    "            1: ('Neuroticism', ('tanh', 'adaptive', 'lbfgs')),\n",
    "            2: ('Agreeableness', ('tanh', 'adaptive', 'lbfgs')),\n",
    "            3: ('Conscientiousness', ('relu', 'invscaling', 'lbfgs')),\n",
    "            4: ('Openness', ('relu', 'invscaling', 'lbfgs'))\n",
    "        } # specs for every trait classifier (activation function etc.)\n",
    "\n",
    "    for trait in range(5):\n",
    "        y = df[choices[trait][0]][1:] # select essays associated with this trait\n",
    "        x_train, x_test, y_train, y_test = train_test_split(x, y, random_state=11) # random split into train & test sets\n",
    "\n",
    "        # TF-IDF vectorizer\n",
    "        vectorizer = TfidfVectorizer()\n",
    "        vectorizers.append(vectorizer)\n",
    "        \n",
    "        xx_train = vectorizers[trait].fit_transform(x_train)\n",
    "        xx_test = vectorizers[trait].transform(x_test)\n",
    "\n",
    "        # specify and train a classifier for every trait\n",
    "        classifiers.append(MLPClassifier(activation=choices[trait][1][0], alpha=0.0001, hidden_layer_sizes=(60),\n",
    "                                   learning_rate=choices[trait][1][1], max_iter=max_iter, solver=choices[trait][1][2]))\n",
    "        classifiers[trait].fit(xx_train, y_train)\n",
    "\n",
    "        predictions = classifiers[trait].predict(xx_test) # predict for test set\n",
    "        score = accuracy_score(y_test, predictions)\n",
    "        print(\"Validation accuracy (on Essays set) for {}: {}\".format(choices[trait][0], score))\n",
    "\n",
    "    print(\"Training and validation done!\")\n",
    "    return classifiers, vectorizers"
   ]
  },
  {
   "cell_type": "code",
   "execution_count": 23,
   "id": "ed31744b",
   "metadata": {},
   "outputs": [
    {
     "name": "stdout",
     "output_type": "stream",
     "text": [
      "Validation accuracy (on Essays set) for Extraversion: 0.5883306320907618\n",
      "Validation accuracy (on Essays set) for Neuroticism: 0.5980551053484603\n",
      "Validation accuracy (on Essays set) for Agreeableness: 0.5672609400324149\n",
      "Validation accuracy (on Essays set) for Conscientiousness: 0.5494327390599676\n",
      "Validation accuracy (on Essays set) for Openness: 0.6175040518638574\n",
      "Training and validation done!\n",
      "\n",
      "Validation accuracy (on Essays set) for Extraversion: 0.5623987034035657\n",
      "Validation accuracy (on Essays set) for Neuroticism: 0.593192868719611\n",
      "Validation accuracy (on Essays set) for Agreeableness: 0.5656401944894651\n",
      "Validation accuracy (on Essays set) for Conscientiousness: 0.5478119935170178\n",
      "Validation accuracy (on Essays set) for Openness: 0.6175040518638574\n",
      "Training and validation done!\n",
      "\n",
      "Validation accuracy (on Essays set) for Extraversion: 0.5688816855753647\n",
      "Validation accuracy (on Essays set) for Neuroticism: 0.5883306320907618\n",
      "Validation accuracy (on Essays set) for Agreeableness: 0.5526742301458671\n",
      "Validation accuracy (on Essays set) for Conscientiousness: 0.5542949756888168\n",
      "Validation accuracy (on Essays set) for Openness: 0.6191247974068071\n",
      "Training and validation done!\n",
      "\n",
      "Validation accuracy (on Essays set) for Extraversion: 0.5996758508914101\n",
      "Validation accuracy (on Essays set) for Neuroticism: 0.5996758508914101\n",
      "Validation accuracy (on Essays set) for Agreeableness: 0.5494327390599676\n",
      "Validation accuracy (on Essays set) for Conscientiousness: 0.5380875202593193\n",
      "Validation accuracy (on Essays set) for Openness: 0.6094003241491086\n",
      "Training and validation done!\n",
      "\n",
      "Validation accuracy (on Essays set) for Extraversion: 0.5883306320907618\n",
      "Validation accuracy (on Essays set) for Neuroticism: 0.5850891410048622\n",
      "Validation accuracy (on Essays set) for Agreeableness: 0.586709886547812\n",
      "Validation accuracy (on Essays set) for Conscientiousness: 0.5542949756888168\n",
      "Validation accuracy (on Essays set) for Openness: 0.6158833063209076\n",
      "Training and validation done!\n",
      "\n",
      "Validation accuracy (on Essays set) for Extraversion: 0.5883306320907618\n",
      "Validation accuracy (on Essays set) for Neuroticism: 0.5996758508914101\n",
      "Validation accuracy (on Essays set) for Agreeableness: 0.5672609400324149\n",
      "Validation accuracy (on Essays set) for Conscientiousness: 0.546191247974068\n",
      "Validation accuracy (on Essays set) for Openness: 0.6304700162074555\n",
      "Training and validation done!\n",
      "\n",
      "Validation accuracy (on Essays set) for Extraversion: 0.5996758508914101\n",
      "Validation accuracy (on Essays set) for Neuroticism: 0.5980551053484603\n",
      "Validation accuracy (on Essays set) for Agreeableness: 0.5705024311183144\n",
      "Validation accuracy (on Essays set) for Conscientiousness: 0.539708265802269\n",
      "Validation accuracy (on Essays set) for Openness: 0.6207455429497569\n",
      "Training and validation done!\n",
      "\n",
      "Validation accuracy (on Essays set) for Extraversion: 0.5834683954619124\n",
      "Validation accuracy (on Essays set) for Neuroticism: 0.5721231766612642\n",
      "Validation accuracy (on Essays set) for Agreeableness: 0.5753646677471637\n",
      "Validation accuracy (on Essays set) for Conscientiousness: 0.5478119935170178\n",
      "Validation accuracy (on Essays set) for Openness: 0.6061588330632091\n",
      "Training and validation done!\n",
      "\n",
      "Validation accuracy (on Essays set) for Extraversion: 0.5769854132901134\n",
      "Validation accuracy (on Essays set) for Neuroticism: 0.5980551053484603\n",
      "Validation accuracy (on Essays set) for Agreeableness: 0.5769854132901134\n",
      "Validation accuracy (on Essays set) for Conscientiousness: 0.5607779578606159\n",
      "Validation accuracy (on Essays set) for Openness: 0.6288492706645057\n",
      "Training and validation done!\n",
      "\n",
      "Validation accuracy (on Essays set) for Extraversion: 0.5996758508914101\n",
      "Validation accuracy (on Essays set) for Neuroticism: 0.6045380875202593\n",
      "Validation accuracy (on Essays set) for Agreeableness: 0.5688816855753647\n",
      "Validation accuracy (on Essays set) for Conscientiousness: 0.5494327390599676\n",
      "Validation accuracy (on Essays set) for Openness: 0.6012965964343598\n",
      "Training and validation done!\n",
      "\n",
      "Validation accuracy (on Essays set) for Extraversion: 0.5899513776337115\n",
      "Validation accuracy (on Essays set) for Neuroticism: 0.5948136142625607\n",
      "Validation accuracy (on Essays set) for Agreeableness: 0.5737439222042139\n",
      "Validation accuracy (on Essays set) for Conscientiousness: 0.5283630470016207\n",
      "Validation accuracy (on Essays set) for Openness: 0.5964343598055105\n",
      "Training and validation done!\n",
      "\n",
      "Validation accuracy (on Essays set) for Extraversion: 0.5705024311183144\n",
      "Validation accuracy (on Essays set) for Neuroticism: 0.593192868719611\n",
      "Validation accuracy (on Essays set) for Agreeableness: 0.5640194489465153\n",
      "Validation accuracy (on Essays set) for Conscientiousness: 0.5380875202593193\n",
      "Validation accuracy (on Essays set) for Openness: 0.6094003241491086\n",
      "Training and validation done!\n",
      "\n",
      "Validation accuracy (on Essays set) for Extraversion: 0.5640194489465153\n",
      "Validation accuracy (on Essays set) for Neuroticism: 0.580226904376013\n",
      "Validation accuracy (on Essays set) for Agreeableness: 0.5899513776337115\n",
      "Validation accuracy (on Essays set) for Conscientiousness: 0.526742301458671\n",
      "Validation accuracy (on Essays set) for Openness: 0.6110210696920584\n",
      "Training and validation done!\n",
      "\n",
      "Validation accuracy (on Essays set) for Extraversion: 0.5769854132901134\n",
      "Validation accuracy (on Essays set) for Neuroticism: 0.5575364667747164\n",
      "Validation accuracy (on Essays set) for Agreeableness: 0.5656401944894651\n",
      "Validation accuracy (on Essays set) for Conscientiousness: 0.546191247974068\n",
      "Validation accuracy (on Essays set) for Openness: 0.6353322528363047\n",
      "Training and validation done!\n",
      "\n",
      "Validation accuracy (on Essays set) for Extraversion: 0.6012965964343598\n",
      "Validation accuracy (on Essays set) for Neuroticism: 0.5915721231766613\n",
      "Validation accuracy (on Essays set) for Agreeableness: 0.586709886547812\n",
      "Validation accuracy (on Essays set) for Conscientiousness: 0.5235008103727715\n",
      "Validation accuracy (on Essays set) for Openness: 0.6045380875202593\n",
      "Training and validation done!\n",
      "\n",
      "Validation accuracy (on Essays set) for Extraversion: 0.5948136142625607\n",
      "Validation accuracy (on Essays set) for Neuroticism: 0.593192868719611\n",
      "Validation accuracy (on Essays set) for Agreeableness: 0.5850891410048622\n",
      "Validation accuracy (on Essays set) for Conscientiousness: 0.5526742301458671\n",
      "Validation accuracy (on Essays set) for Openness: 0.593192868719611\n",
      "Training and validation done!\n",
      "\n",
      "Validation accuracy (on Essays set) for Extraversion: 0.5883306320907618\n",
      "Validation accuracy (on Essays set) for Neuroticism: 0.5964343598055105\n",
      "Validation accuracy (on Essays set) for Agreeableness: 0.5769854132901134\n",
      "Validation accuracy (on Essays set) for Conscientiousness: 0.5542949756888168\n",
      "Validation accuracy (on Essays set) for Openness: 0.6288492706645057\n",
      "Training and validation done!\n",
      "\n",
      "Validation accuracy (on Essays set) for Extraversion: 0.5753646677471637\n",
      "Validation accuracy (on Essays set) for Neuroticism: 0.5915721231766613\n",
      "Validation accuracy (on Essays set) for Agreeableness: 0.5705024311183144\n",
      "Validation accuracy (on Essays set) for Conscientiousness: 0.5478119935170178\n",
      "Validation accuracy (on Essays set) for Openness: 0.6256077795786061\n",
      "Training and validation done!\n",
      "\n",
      "Validation accuracy (on Essays set) for Extraversion: 0.5850891410048622\n",
      "Validation accuracy (on Essays set) for Neuroticism: 0.5948136142625607\n",
      "Validation accuracy (on Essays set) for Agreeableness: 0.5786061588330632\n",
      "Validation accuracy (on Essays set) for Conscientiousness: 0.5542949756888168\n",
      "Validation accuracy (on Essays set) for Openness: 0.6094003241491086\n",
      "Training and validation done!\n",
      "\n",
      "Validation accuracy (on Essays set) for Extraversion: 0.5883306320907618\n",
      "Validation accuracy (on Essays set) for Neuroticism: 0.5948136142625607\n",
      "Validation accuracy (on Essays set) for Agreeableness: 0.5526742301458671\n",
      "Validation accuracy (on Essays set) for Conscientiousness: 0.5251215559157212\n",
      "Validation accuracy (on Essays set) for Openness: 0.5980551053484603\n",
      "Training and validation done!\n",
      "\n"
     ]
    },
    {
     "data": {
      "text/html": [
       "<div>\n",
       "<style scoped>\n",
       "    .dataframe tbody tr th:only-of-type {\n",
       "        vertical-align: middle;\n",
       "    }\n",
       "\n",
       "    .dataframe tbody tr th {\n",
       "        vertical-align: top;\n",
       "    }\n",
       "\n",
       "    .dataframe thead th {\n",
       "        text-align: right;\n",
       "    }\n",
       "</style>\n",
       "<table border=\"1\" class=\"dataframe\">\n",
       "  <thead>\n",
       "    <tr style=\"text-align: right;\">\n",
       "      <th></th>\n",
       "      <th>Extraversion</th>\n",
       "      <th>Neuroticism</th>\n",
       "      <th>Agreeableness</th>\n",
       "      <th>Conscientiousness</th>\n",
       "      <th>Openness</th>\n",
       "    </tr>\n",
       "  </thead>\n",
       "  <tbody>\n",
       "    <tr>\n",
       "      <th>GANDALF</th>\n",
       "      <td>0.276701</td>\n",
       "      <td>0.847579</td>\n",
       "      <td>0.091099</td>\n",
       "      <td>0.026562</td>\n",
       "      <td>0.349064</td>\n",
       "    </tr>\n",
       "    <tr>\n",
       "      <th>SAM</th>\n",
       "      <td>0.670854</td>\n",
       "      <td>0.548407</td>\n",
       "      <td>0.539521</td>\n",
       "      <td>0.563860</td>\n",
       "      <td>0.824807</td>\n",
       "    </tr>\n",
       "    <tr>\n",
       "      <th>FRODO</th>\n",
       "      <td>0.378763</td>\n",
       "      <td>0.386645</td>\n",
       "      <td>0.515885</td>\n",
       "      <td>0.651671</td>\n",
       "      <td>0.875948</td>\n",
       "    </tr>\n",
       "    <tr>\n",
       "      <th>ARAGORN</th>\n",
       "      <td>0.722903</td>\n",
       "      <td>0.356838</td>\n",
       "      <td>0.524831</td>\n",
       "      <td>0.401590</td>\n",
       "      <td>0.929799</td>\n",
       "    </tr>\n",
       "    <tr>\n",
       "      <th>GOLLUM</th>\n",
       "      <td>0.146540</td>\n",
       "      <td>0.702587</td>\n",
       "      <td>0.060633</td>\n",
       "      <td>0.605640</td>\n",
       "      <td>0.971376</td>\n",
       "    </tr>\n",
       "    <tr>\n",
       "      <th>...</th>\n",
       "      <td>...</td>\n",
       "      <td>...</td>\n",
       "      <td>...</td>\n",
       "      <td>...</td>\n",
       "      <td>...</td>\n",
       "    </tr>\n",
       "    <tr>\n",
       "      <th>OLD MAN</th>\n",
       "      <td>0.877436</td>\n",
       "      <td>0.499375</td>\n",
       "      <td>0.504798</td>\n",
       "      <td>0.041813</td>\n",
       "      <td>0.551744</td>\n",
       "    </tr>\n",
       "    <tr>\n",
       "      <th>FRODO VOICE</th>\n",
       "      <td>0.981105</td>\n",
       "      <td>0.992087</td>\n",
       "      <td>0.994149</td>\n",
       "      <td>0.179404</td>\n",
       "      <td>0.874160</td>\n",
       "    </tr>\n",
       "    <tr>\n",
       "      <th>MRS BRACEGIRDLE</th>\n",
       "      <td>0.742223</td>\n",
       "      <td>0.598134</td>\n",
       "      <td>0.412390</td>\n",
       "      <td>0.039532</td>\n",
       "      <td>0.735342</td>\n",
       "    </tr>\n",
       "    <tr>\n",
       "      <th>PROUDFOOT HOBBIT</th>\n",
       "      <td>0.909902</td>\n",
       "      <td>0.075057</td>\n",
       "      <td>0.572718</td>\n",
       "      <td>0.126787</td>\n",
       "      <td>0.881677</td>\n",
       "    </tr>\n",
       "    <tr>\n",
       "      <th>MEN</th>\n",
       "      <td>0.746823</td>\n",
       "      <td>0.656311</td>\n",
       "      <td>0.051299</td>\n",
       "      <td>0.508873</td>\n",
       "      <td>0.636914</td>\n",
       "    </tr>\n",
       "  </tbody>\n",
       "</table>\n",
       "<p>111 rows × 5 columns</p>\n",
       "</div>"
      ],
      "text/plain": [
       "                  Extraversion  Neuroticism  Agreeableness  Conscientiousness  \\\n",
       "GANDALF               0.276701     0.847579       0.091099           0.026562   \n",
       "SAM                   0.670854     0.548407       0.539521           0.563860   \n",
       "FRODO                 0.378763     0.386645       0.515885           0.651671   \n",
       "ARAGORN               0.722903     0.356838       0.524831           0.401590   \n",
       "GOLLUM                0.146540     0.702587       0.060633           0.605640   \n",
       "...                        ...          ...            ...                ...   \n",
       "OLD MAN               0.877436     0.499375       0.504798           0.041813   \n",
       "FRODO VOICE           0.981105     0.992087       0.994149           0.179404   \n",
       "MRS BRACEGIRDLE       0.742223     0.598134       0.412390           0.039532   \n",
       "PROUDFOOT HOBBIT      0.909902     0.075057       0.572718           0.126787   \n",
       "MEN                   0.746823     0.656311       0.051299           0.508873   \n",
       "\n",
       "                  Openness  \n",
       "GANDALF           0.349064  \n",
       "SAM               0.824807  \n",
       "FRODO             0.875948  \n",
       "ARAGORN           0.929799  \n",
       "GOLLUM            0.971376  \n",
       "...                    ...  \n",
       "OLD MAN           0.551744  \n",
       "FRODO VOICE       0.874160  \n",
       "MRS BRACEGIRDLE   0.735342  \n",
       "PROUDFOOT HOBBIT  0.881677  \n",
       "MEN               0.636914  \n",
       "\n",
       "[111 rows x 5 columns]"
      ]
     },
     "metadata": {},
     "output_type": "display_data"
    }
   ],
   "source": [
    "traitNames = ['Extraversion', 'Neuroticism', 'Agreeableness', 'Conscientiousness', 'Openness']\n",
    "traitProbs = {} # a dict containing the probabilites of every trait for each character\n",
    "iterCount = 1 # for report results, 20 was used\n",
    "max_iter = 20 # maximum allowed iterations for MLPClassifier\n",
    "\n",
    "for character in concat:\n",
    "    traitProbs[character] = [0] * 5\n",
    "\n",
    "for _ in range(iterCount):\n",
    "    classifiers, vectorizers = trainAndTest(max_iter)\n",
    "    print()\n",
    "    \n",
    "    for trait in range(5):\n",
    "        xx_test = vectorizers[trait].transform(raw_scripts.values())\n",
    "        prob = classifiers[trait].predict_proba(xx_test)[:,1] # predict probability for every trait\n",
    "\n",
    "        for i, character in enumerate(concat):\n",
    "            traitProbs[character][trait] += prob[i] \n",
    "\n",
    "traitProbs = {key: [x / iterCount for x in value] for key, value in traitProbs.items()}\n",
    "traitProbsDf = pd.DataFrame.from_dict(traitProbs, orient=\"index\") # display table containing the probabilites of every trait for each character\n",
    "traitProbsDf.columns = traitNames\n",
    "traitProbsDf.to_csv(f\"tool1_results/traitProbsDf_max_iter_{max_iter}.csv\") # Save results for later comparison\n",
    "display(traitProbsDf)"
   ]
  },
  {
   "cell_type": "code",
   "execution_count": 24,
   "id": "2042d0a6",
   "metadata": {},
   "outputs": [
    {
     "name": "stdout",
     "output_type": "stream",
     "text": [
      "max_iter = 20\n"
     ]
    },
    {
     "data": {
      "text/html": [
       "<div>\n",
       "<style scoped>\n",
       "    .dataframe tbody tr th:only-of-type {\n",
       "        vertical-align: middle;\n",
       "    }\n",
       "\n",
       "    .dataframe tbody tr th {\n",
       "        vertical-align: top;\n",
       "    }\n",
       "\n",
       "    .dataframe thead th {\n",
       "        text-align: right;\n",
       "    }\n",
       "</style>\n",
       "<table border=\"1\" class=\"dataframe\">\n",
       "  <thead>\n",
       "    <tr style=\"text-align: right;\">\n",
       "      <th></th>\n",
       "      <th>Extraversion</th>\n",
       "      <th>Neuroticism</th>\n",
       "      <th>Agreeableness</th>\n",
       "      <th>Conscientiousness</th>\n",
       "      <th>Openness</th>\n",
       "    </tr>\n",
       "  </thead>\n",
       "  <tbody>\n",
       "    <tr>\n",
       "      <th>GANDALF</th>\n",
       "      <td>0.276701</td>\n",
       "      <td>0.847579</td>\n",
       "      <td>0.091099</td>\n",
       "      <td>0.026562</td>\n",
       "      <td>0.349064</td>\n",
       "    </tr>\n",
       "    <tr>\n",
       "      <th>SAM</th>\n",
       "      <td>0.670854</td>\n",
       "      <td>0.548407</td>\n",
       "      <td>0.539521</td>\n",
       "      <td>0.563860</td>\n",
       "      <td>0.824807</td>\n",
       "    </tr>\n",
       "    <tr>\n",
       "      <th>FRODO</th>\n",
       "      <td>0.378763</td>\n",
       "      <td>0.386645</td>\n",
       "      <td>0.515885</td>\n",
       "      <td>0.651671</td>\n",
       "      <td>0.875948</td>\n",
       "    </tr>\n",
       "    <tr>\n",
       "      <th>ARAGORN</th>\n",
       "      <td>0.722903</td>\n",
       "      <td>0.356838</td>\n",
       "      <td>0.524831</td>\n",
       "      <td>0.401590</td>\n",
       "      <td>0.929799</td>\n",
       "    </tr>\n",
       "    <tr>\n",
       "      <th>GOLLUM</th>\n",
       "      <td>0.146540</td>\n",
       "      <td>0.702587</td>\n",
       "      <td>0.060633</td>\n",
       "      <td>0.605640</td>\n",
       "      <td>0.971376</td>\n",
       "    </tr>\n",
       "    <tr>\n",
       "      <th>...</th>\n",
       "      <td>...</td>\n",
       "      <td>...</td>\n",
       "      <td>...</td>\n",
       "      <td>...</td>\n",
       "      <td>...</td>\n",
       "    </tr>\n",
       "    <tr>\n",
       "      <th>OLD MAN</th>\n",
       "      <td>0.877436</td>\n",
       "      <td>0.499375</td>\n",
       "      <td>0.504798</td>\n",
       "      <td>0.041813</td>\n",
       "      <td>0.551744</td>\n",
       "    </tr>\n",
       "    <tr>\n",
       "      <th>FRODO VOICE</th>\n",
       "      <td>0.981105</td>\n",
       "      <td>0.992087</td>\n",
       "      <td>0.994149</td>\n",
       "      <td>0.179404</td>\n",
       "      <td>0.874160</td>\n",
       "    </tr>\n",
       "    <tr>\n",
       "      <th>MRS BRACEGIRDLE</th>\n",
       "      <td>0.742223</td>\n",
       "      <td>0.598134</td>\n",
       "      <td>0.412390</td>\n",
       "      <td>0.039532</td>\n",
       "      <td>0.735342</td>\n",
       "    </tr>\n",
       "    <tr>\n",
       "      <th>PROUDFOOT HOBBIT</th>\n",
       "      <td>0.909902</td>\n",
       "      <td>0.075057</td>\n",
       "      <td>0.572718</td>\n",
       "      <td>0.126787</td>\n",
       "      <td>0.881677</td>\n",
       "    </tr>\n",
       "    <tr>\n",
       "      <th>MEN</th>\n",
       "      <td>0.746823</td>\n",
       "      <td>0.656311</td>\n",
       "      <td>0.051299</td>\n",
       "      <td>0.508873</td>\n",
       "      <td>0.636914</td>\n",
       "    </tr>\n",
       "  </tbody>\n",
       "</table>\n",
       "<p>111 rows × 5 columns</p>\n",
       "</div>"
      ],
      "text/plain": [
       "                  Extraversion  Neuroticism  Agreeableness  Conscientiousness  \\\n",
       "GANDALF               0.276701     0.847579       0.091099           0.026562   \n",
       "SAM                   0.670854     0.548407       0.539521           0.563860   \n",
       "FRODO                 0.378763     0.386645       0.515885           0.651671   \n",
       "ARAGORN               0.722903     0.356838       0.524831           0.401590   \n",
       "GOLLUM                0.146540     0.702587       0.060633           0.605640   \n",
       "...                        ...          ...            ...                ...   \n",
       "OLD MAN               0.877436     0.499375       0.504798           0.041813   \n",
       "FRODO VOICE           0.981105     0.992087       0.994149           0.179404   \n",
       "MRS BRACEGIRDLE       0.742223     0.598134       0.412390           0.039532   \n",
       "PROUDFOOT HOBBIT      0.909902     0.075057       0.572718           0.126787   \n",
       "MEN                   0.746823     0.656311       0.051299           0.508873   \n",
       "\n",
       "                  Openness  \n",
       "GANDALF           0.349064  \n",
       "SAM               0.824807  \n",
       "FRODO             0.875948  \n",
       "ARAGORN           0.929799  \n",
       "GOLLUM            0.971376  \n",
       "...                    ...  \n",
       "OLD MAN           0.551744  \n",
       "FRODO VOICE       0.874160  \n",
       "MRS BRACEGIRDLE   0.735342  \n",
       "PROUDFOOT HOBBIT  0.881677  \n",
       "MEN               0.636914  \n",
       "\n",
       "[111 rows x 5 columns]"
      ]
     },
     "metadata": {},
     "output_type": "display_data"
    },
    {
     "name": "stdout",
     "output_type": "stream",
     "text": [
      "max_iter = 40\n"
     ]
    },
    {
     "data": {
      "text/html": [
       "<div>\n",
       "<style scoped>\n",
       "    .dataframe tbody tr th:only-of-type {\n",
       "        vertical-align: middle;\n",
       "    }\n",
       "\n",
       "    .dataframe tbody tr th {\n",
       "        vertical-align: top;\n",
       "    }\n",
       "\n",
       "    .dataframe thead th {\n",
       "        text-align: right;\n",
       "    }\n",
       "</style>\n",
       "<table border=\"1\" class=\"dataframe\">\n",
       "  <thead>\n",
       "    <tr style=\"text-align: right;\">\n",
       "      <th></th>\n",
       "      <th>Extraversion</th>\n",
       "      <th>Neuroticism</th>\n",
       "      <th>Agreeableness</th>\n",
       "      <th>Conscientiousness</th>\n",
       "      <th>Openness</th>\n",
       "    </tr>\n",
       "  </thead>\n",
       "  <tbody>\n",
       "    <tr>\n",
       "      <th>GANDALF</th>\n",
       "      <td>1.971740e-05</td>\n",
       "      <td>3.062770e-03</td>\n",
       "      <td>8.258034e-18</td>\n",
       "      <td>7.227831e-11</td>\n",
       "      <td>0.000477</td>\n",
       "    </tr>\n",
       "    <tr>\n",
       "      <th>SAM</th>\n",
       "      <td>4.340072e-02</td>\n",
       "      <td>2.710225e-03</td>\n",
       "      <td>9.927110e-01</td>\n",
       "      <td>9.974547e-01</td>\n",
       "      <td>1.000000</td>\n",
       "    </tr>\n",
       "    <tr>\n",
       "      <th>FRODO</th>\n",
       "      <td>1.298630e-05</td>\n",
       "      <td>4.241547e-06</td>\n",
       "      <td>6.546092e-01</td>\n",
       "      <td>9.999169e-01</td>\n",
       "      <td>1.000000</td>\n",
       "    </tr>\n",
       "    <tr>\n",
       "      <th>ARAGORN</th>\n",
       "      <td>3.300864e-01</td>\n",
       "      <td>6.058608e-07</td>\n",
       "      <td>9.999925e-01</td>\n",
       "      <td>1.504740e-01</td>\n",
       "      <td>1.000000</td>\n",
       "    </tr>\n",
       "    <tr>\n",
       "      <th>GOLLUM</th>\n",
       "      <td>8.418653e-10</td>\n",
       "      <td>8.584797e-05</td>\n",
       "      <td>5.495751e-05</td>\n",
       "      <td>9.999546e-01</td>\n",
       "      <td>1.000000</td>\n",
       "    </tr>\n",
       "    <tr>\n",
       "      <th>...</th>\n",
       "      <td>...</td>\n",
       "      <td>...</td>\n",
       "      <td>...</td>\n",
       "      <td>...</td>\n",
       "      <td>...</td>\n",
       "    </tr>\n",
       "    <tr>\n",
       "      <th>OLD MAN</th>\n",
       "      <td>9.923012e-01</td>\n",
       "      <td>4.839631e-07</td>\n",
       "      <td>1.568052e-04</td>\n",
       "      <td>6.146898e-09</td>\n",
       "      <td>0.999346</td>\n",
       "    </tr>\n",
       "    <tr>\n",
       "      <th>FRODO VOICE</th>\n",
       "      <td>9.999445e-01</td>\n",
       "      <td>1.000000e+00</td>\n",
       "      <td>1.000000e+00</td>\n",
       "      <td>2.617008e-02</td>\n",
       "      <td>1.000000</td>\n",
       "    </tr>\n",
       "    <tr>\n",
       "      <th>MRS BRACEGIRDLE</th>\n",
       "      <td>4.597582e-01</td>\n",
       "      <td>5.302799e-06</td>\n",
       "      <td>5.163947e-04</td>\n",
       "      <td>1.104238e-08</td>\n",
       "      <td>0.999998</td>\n",
       "    </tr>\n",
       "    <tr>\n",
       "      <th>PROUDFOOT HOBBIT</th>\n",
       "      <td>3.901365e-03</td>\n",
       "      <td>4.648303e-14</td>\n",
       "      <td>1.517241e-01</td>\n",
       "      <td>6.012615e-03</td>\n",
       "      <td>0.999970</td>\n",
       "    </tr>\n",
       "    <tr>\n",
       "      <th>MEN</th>\n",
       "      <td>8.501842e-01</td>\n",
       "      <td>2.074448e-01</td>\n",
       "      <td>3.023313e-22</td>\n",
       "      <td>3.064343e-02</td>\n",
       "      <td>0.999900</td>\n",
       "    </tr>\n",
       "  </tbody>\n",
       "</table>\n",
       "<p>111 rows × 5 columns</p>\n",
       "</div>"
      ],
      "text/plain": [
       "                  Extraversion   Neuroticism  Agreeableness  \\\n",
       "GANDALF           1.971740e-05  3.062770e-03   8.258034e-18   \n",
       "SAM               4.340072e-02  2.710225e-03   9.927110e-01   \n",
       "FRODO             1.298630e-05  4.241547e-06   6.546092e-01   \n",
       "ARAGORN           3.300864e-01  6.058608e-07   9.999925e-01   \n",
       "GOLLUM            8.418653e-10  8.584797e-05   5.495751e-05   \n",
       "...                        ...           ...            ...   \n",
       "OLD MAN           9.923012e-01  4.839631e-07   1.568052e-04   \n",
       "FRODO VOICE       9.999445e-01  1.000000e+00   1.000000e+00   \n",
       "MRS BRACEGIRDLE   4.597582e-01  5.302799e-06   5.163947e-04   \n",
       "PROUDFOOT HOBBIT  3.901365e-03  4.648303e-14   1.517241e-01   \n",
       "MEN               8.501842e-01  2.074448e-01   3.023313e-22   \n",
       "\n",
       "                  Conscientiousness  Openness  \n",
       "GANDALF                7.227831e-11  0.000477  \n",
       "SAM                    9.974547e-01  1.000000  \n",
       "FRODO                  9.999169e-01  1.000000  \n",
       "ARAGORN                1.504740e-01  1.000000  \n",
       "GOLLUM                 9.999546e-01  1.000000  \n",
       "...                             ...       ...  \n",
       "OLD MAN                6.146898e-09  0.999346  \n",
       "FRODO VOICE            2.617008e-02  1.000000  \n",
       "MRS BRACEGIRDLE        1.104238e-08  0.999998  \n",
       "PROUDFOOT HOBBIT       6.012615e-03  0.999970  \n",
       "MEN                    3.064343e-02  0.999900  \n",
       "\n",
       "[111 rows x 5 columns]"
      ]
     },
     "metadata": {},
     "output_type": "display_data"
    },
    {
     "name": "stdout",
     "output_type": "stream",
     "text": [
      "max_iter = 60\n"
     ]
    },
    {
     "data": {
      "text/html": [
       "<div>\n",
       "<style scoped>\n",
       "    .dataframe tbody tr th:only-of-type {\n",
       "        vertical-align: middle;\n",
       "    }\n",
       "\n",
       "    .dataframe tbody tr th {\n",
       "        vertical-align: top;\n",
       "    }\n",
       "\n",
       "    .dataframe thead th {\n",
       "        text-align: right;\n",
       "    }\n",
       "</style>\n",
       "<table border=\"1\" class=\"dataframe\">\n",
       "  <thead>\n",
       "    <tr style=\"text-align: right;\">\n",
       "      <th></th>\n",
       "      <th>Extraversion</th>\n",
       "      <th>Neuroticism</th>\n",
       "      <th>Agreeableness</th>\n",
       "      <th>Conscientiousness</th>\n",
       "      <th>Openness</th>\n",
       "    </tr>\n",
       "  </thead>\n",
       "  <tbody>\n",
       "    <tr>\n",
       "      <th>GANDALF</th>\n",
       "      <td>1.992169e-07</td>\n",
       "      <td>0.060315</td>\n",
       "      <td>2.973447e-05</td>\n",
       "      <td>0.049990</td>\n",
       "      <td>0.032237</td>\n",
       "    </tr>\n",
       "    <tr>\n",
       "      <th>SAM</th>\n",
       "      <td>9.406453e-01</td>\n",
       "      <td>0.001172</td>\n",
       "      <td>8.229310e-01</td>\n",
       "      <td>0.999871</td>\n",
       "      <td>0.999976</td>\n",
       "    </tr>\n",
       "    <tr>\n",
       "      <th>FRODO</th>\n",
       "      <td>2.793154e-03</td>\n",
       "      <td>0.000002</td>\n",
       "      <td>4.763892e-01</td>\n",
       "      <td>0.999992</td>\n",
       "      <td>0.999963</td>\n",
       "    </tr>\n",
       "    <tr>\n",
       "      <th>ARAGORN</th>\n",
       "      <td>9.691601e-01</td>\n",
       "      <td>0.000001</td>\n",
       "      <td>9.572687e-01</td>\n",
       "      <td>0.052314</td>\n",
       "      <td>0.999998</td>\n",
       "    </tr>\n",
       "    <tr>\n",
       "      <th>GOLLUM</th>\n",
       "      <td>1.689428e-07</td>\n",
       "      <td>0.000027</td>\n",
       "      <td>1.816520e-02</td>\n",
       "      <td>0.999986</td>\n",
       "      <td>0.999976</td>\n",
       "    </tr>\n",
       "    <tr>\n",
       "      <th>...</th>\n",
       "      <td>...</td>\n",
       "      <td>...</td>\n",
       "      <td>...</td>\n",
       "      <td>...</td>\n",
       "      <td>...</td>\n",
       "    </tr>\n",
       "    <tr>\n",
       "      <th>OLD MAN</th>\n",
       "      <td>9.976604e-01</td>\n",
       "      <td>0.000164</td>\n",
       "      <td>3.141343e-01</td>\n",
       "      <td>0.050079</td>\n",
       "      <td>0.995814</td>\n",
       "    </tr>\n",
       "    <tr>\n",
       "      <th>FRODO VOICE</th>\n",
       "      <td>9.999993e-01</td>\n",
       "      <td>1.000000</td>\n",
       "      <td>1.000000e+00</td>\n",
       "      <td>0.843120</td>\n",
       "      <td>1.000000</td>\n",
       "    </tr>\n",
       "    <tr>\n",
       "      <th>MRS BRACEGIRDLE</th>\n",
       "      <td>5.858552e-01</td>\n",
       "      <td>0.000850</td>\n",
       "      <td>4.450408e-01</td>\n",
       "      <td>0.050058</td>\n",
       "      <td>0.999872</td>\n",
       "    </tr>\n",
       "    <tr>\n",
       "      <th>PROUDFOOT HOBBIT</th>\n",
       "      <td>6.264358e-04</td>\n",
       "      <td>0.000087</td>\n",
       "      <td>6.624255e-01</td>\n",
       "      <td>0.183884</td>\n",
       "      <td>0.949539</td>\n",
       "    </tr>\n",
       "    <tr>\n",
       "      <th>MEN</th>\n",
       "      <td>9.990533e-01</td>\n",
       "      <td>0.209541</td>\n",
       "      <td>4.327805e-09</td>\n",
       "      <td>0.449264</td>\n",
       "      <td>0.714342</td>\n",
       "    </tr>\n",
       "  </tbody>\n",
       "</table>\n",
       "<p>111 rows × 5 columns</p>\n",
       "</div>"
      ],
      "text/plain": [
       "                  Extraversion  Neuroticism  Agreeableness  Conscientiousness  \\\n",
       "GANDALF           1.992169e-07     0.060315   2.973447e-05           0.049990   \n",
       "SAM               9.406453e-01     0.001172   8.229310e-01           0.999871   \n",
       "FRODO             2.793154e-03     0.000002   4.763892e-01           0.999992   \n",
       "ARAGORN           9.691601e-01     0.000001   9.572687e-01           0.052314   \n",
       "GOLLUM            1.689428e-07     0.000027   1.816520e-02           0.999986   \n",
       "...                        ...          ...            ...                ...   \n",
       "OLD MAN           9.976604e-01     0.000164   3.141343e-01           0.050079   \n",
       "FRODO VOICE       9.999993e-01     1.000000   1.000000e+00           0.843120   \n",
       "MRS BRACEGIRDLE   5.858552e-01     0.000850   4.450408e-01           0.050058   \n",
       "PROUDFOOT HOBBIT  6.264358e-04     0.000087   6.624255e-01           0.183884   \n",
       "MEN               9.990533e-01     0.209541   4.327805e-09           0.449264   \n",
       "\n",
       "                  Openness  \n",
       "GANDALF           0.032237  \n",
       "SAM               0.999976  \n",
       "FRODO             0.999963  \n",
       "ARAGORN           0.999998  \n",
       "GOLLUM            0.999976  \n",
       "...                    ...  \n",
       "OLD MAN           0.995814  \n",
       "FRODO VOICE       1.000000  \n",
       "MRS BRACEGIRDLE   0.999872  \n",
       "PROUDFOOT HOBBIT  0.949539  \n",
       "MEN               0.714342  \n",
       "\n",
       "[111 rows x 5 columns]"
      ]
     },
     "metadata": {},
     "output_type": "display_data"
    }
   ],
   "source": [
    "# load the tool1 tables and show the results for different values of max_iter\n",
    "traitProbsDf_iter20 = pd.read_csv(r\"tool1_results/traitProbsDf_max_iter_20.csv\", index_col=0)\n",
    "traitProbsDf_iter40 = pd.read_csv(r\"tool1_results/traitProbsDf_max_iter_40.csv\", index_col=0)\n",
    "traitProbsDf_iter60 = pd.read_csv(r\"tool1_results/traitProbsDf_max_iter_60.csv\", index_col=0)\n",
    "\n",
    "print(\"max_iter = 20\")\n",
    "display(traitProbsDf_iter20)\n",
    "print(\"max_iter = 40\")\n",
    "display(traitProbsDf_iter40)\n",
    "print(\"max_iter = 60\")\n",
    "display(traitProbsDf_iter60)"
   ]
  },
  {
   "cell_type": "code",
   "execution_count": 25,
   "id": "0e883fb4",
   "metadata": {},
   "outputs": [
    {
     "name": "stdout",
     "output_type": "stream",
     "text": [
      "Variance explained: 78.01479332716407 percent\n"
     ]
    },
    {
     "data": {
      "application/vnd.plotly.v1+json": {
       "config": {
        "plotlyServerURL": "https://plot.ly",
        "toImageButtonOptions": {
         "format": "png",
         "height": 550,
         "scale": 8,
         "width": 1100
        }
       },
       "data": [
        {
         "hovertemplate": "PC1=%{x}<br>PC2=%{y}<br>index=%{text}<extra></extra>",
         "legendgroup": "",
         "marker": {
          "color": "#636efa",
          "symbol": "circle"
         },
         "mode": "markers+text",
         "name": "",
         "orientation": "v",
         "showlegend": false,
         "text": [
          "GANDALF",
          "SAM",
          "FRODO",
          "ARAGORN",
          "GOLLUM",
          "THEODEN",
          "PIPPIN",
          "GIMLI",
          "BILBO",
          "MERRY"
         ],
         "textposition": "top center",
         "type": "scatter",
         "x": [
          4.188197563831001,
          -0.6937071927608822,
          -0.9315949453806578,
          -1.5323213739056,
          1.4842708323117977,
          0.24209023862513854,
          -0.45022718939809975,
          -1.609588333265843,
          -0.9438565987475287,
          0.24673699869067556
         ],
         "xaxis": "x",
         "y": [
          -0.8803793417031431,
          -0.9496115254791136,
          -0.45984743831370395,
          -1.3107437994846778,
          1.82971561029713,
          1.118357159737291,
          -0.4836399917007956,
          0.6430094718905766,
          1.427356962989817,
          -0.9342171082333807
         ],
         "yaxis": "y"
        }
       ],
       "layout": {
        "font": {
         "color": "RebeccaPurple",
         "family": "Arial",
         "size": 15
        },
        "height": 550,
        "legend": {
         "tracegroupgap": 0
        },
        "margin": {
         "t": 60
        },
        "template": {
         "data": {
          "bar": [
           {
            "error_x": {
             "color": "#2a3f5f"
            },
            "error_y": {
             "color": "#2a3f5f"
            },
            "marker": {
             "line": {
              "color": "#E5ECF6",
              "width": 0.5
             },
             "pattern": {
              "fillmode": "overlay",
              "size": 10,
              "solidity": 0.2
             }
            },
            "type": "bar"
           }
          ],
          "barpolar": [
           {
            "marker": {
             "line": {
              "color": "#E5ECF6",
              "width": 0.5
             },
             "pattern": {
              "fillmode": "overlay",
              "size": 10,
              "solidity": 0.2
             }
            },
            "type": "barpolar"
           }
          ],
          "carpet": [
           {
            "aaxis": {
             "endlinecolor": "#2a3f5f",
             "gridcolor": "white",
             "linecolor": "white",
             "minorgridcolor": "white",
             "startlinecolor": "#2a3f5f"
            },
            "baxis": {
             "endlinecolor": "#2a3f5f",
             "gridcolor": "white",
             "linecolor": "white",
             "minorgridcolor": "white",
             "startlinecolor": "#2a3f5f"
            },
            "type": "carpet"
           }
          ],
          "choropleth": [
           {
            "colorbar": {
             "outlinewidth": 0,
             "ticks": ""
            },
            "type": "choropleth"
           }
          ],
          "contour": [
           {
            "colorbar": {
             "outlinewidth": 0,
             "ticks": ""
            },
            "colorscale": [
             [
              0,
              "#0d0887"
             ],
             [
              0.1111111111111111,
              "#46039f"
             ],
             [
              0.2222222222222222,
              "#7201a8"
             ],
             [
              0.3333333333333333,
              "#9c179e"
             ],
             [
              0.4444444444444444,
              "#bd3786"
             ],
             [
              0.5555555555555556,
              "#d8576b"
             ],
             [
              0.6666666666666666,
              "#ed7953"
             ],
             [
              0.7777777777777778,
              "#fb9f3a"
             ],
             [
              0.8888888888888888,
              "#fdca26"
             ],
             [
              1,
              "#f0f921"
             ]
            ],
            "type": "contour"
           }
          ],
          "contourcarpet": [
           {
            "colorbar": {
             "outlinewidth": 0,
             "ticks": ""
            },
            "type": "contourcarpet"
           }
          ],
          "heatmap": [
           {
            "colorbar": {
             "outlinewidth": 0,
             "ticks": ""
            },
            "colorscale": [
             [
              0,
              "#0d0887"
             ],
             [
              0.1111111111111111,
              "#46039f"
             ],
             [
              0.2222222222222222,
              "#7201a8"
             ],
             [
              0.3333333333333333,
              "#9c179e"
             ],
             [
              0.4444444444444444,
              "#bd3786"
             ],
             [
              0.5555555555555556,
              "#d8576b"
             ],
             [
              0.6666666666666666,
              "#ed7953"
             ],
             [
              0.7777777777777778,
              "#fb9f3a"
             ],
             [
              0.8888888888888888,
              "#fdca26"
             ],
             [
              1,
              "#f0f921"
             ]
            ],
            "type": "heatmap"
           }
          ],
          "heatmapgl": [
           {
            "colorbar": {
             "outlinewidth": 0,
             "ticks": ""
            },
            "colorscale": [
             [
              0,
              "#0d0887"
             ],
             [
              0.1111111111111111,
              "#46039f"
             ],
             [
              0.2222222222222222,
              "#7201a8"
             ],
             [
              0.3333333333333333,
              "#9c179e"
             ],
             [
              0.4444444444444444,
              "#bd3786"
             ],
             [
              0.5555555555555556,
              "#d8576b"
             ],
             [
              0.6666666666666666,
              "#ed7953"
             ],
             [
              0.7777777777777778,
              "#fb9f3a"
             ],
             [
              0.8888888888888888,
              "#fdca26"
             ],
             [
              1,
              "#f0f921"
             ]
            ],
            "type": "heatmapgl"
           }
          ],
          "histogram": [
           {
            "marker": {
             "pattern": {
              "fillmode": "overlay",
              "size": 10,
              "solidity": 0.2
             }
            },
            "type": "histogram"
           }
          ],
          "histogram2d": [
           {
            "colorbar": {
             "outlinewidth": 0,
             "ticks": ""
            },
            "colorscale": [
             [
              0,
              "#0d0887"
             ],
             [
              0.1111111111111111,
              "#46039f"
             ],
             [
              0.2222222222222222,
              "#7201a8"
             ],
             [
              0.3333333333333333,
              "#9c179e"
             ],
             [
              0.4444444444444444,
              "#bd3786"
             ],
             [
              0.5555555555555556,
              "#d8576b"
             ],
             [
              0.6666666666666666,
              "#ed7953"
             ],
             [
              0.7777777777777778,
              "#fb9f3a"
             ],
             [
              0.8888888888888888,
              "#fdca26"
             ],
             [
              1,
              "#f0f921"
             ]
            ],
            "type": "histogram2d"
           }
          ],
          "histogram2dcontour": [
           {
            "colorbar": {
             "outlinewidth": 0,
             "ticks": ""
            },
            "colorscale": [
             [
              0,
              "#0d0887"
             ],
             [
              0.1111111111111111,
              "#46039f"
             ],
             [
              0.2222222222222222,
              "#7201a8"
             ],
             [
              0.3333333333333333,
              "#9c179e"
             ],
             [
              0.4444444444444444,
              "#bd3786"
             ],
             [
              0.5555555555555556,
              "#d8576b"
             ],
             [
              0.6666666666666666,
              "#ed7953"
             ],
             [
              0.7777777777777778,
              "#fb9f3a"
             ],
             [
              0.8888888888888888,
              "#fdca26"
             ],
             [
              1,
              "#f0f921"
             ]
            ],
            "type": "histogram2dcontour"
           }
          ],
          "mesh3d": [
           {
            "colorbar": {
             "outlinewidth": 0,
             "ticks": ""
            },
            "type": "mesh3d"
           }
          ],
          "parcoords": [
           {
            "line": {
             "colorbar": {
              "outlinewidth": 0,
              "ticks": ""
             }
            },
            "type": "parcoords"
           }
          ],
          "pie": [
           {
            "automargin": true,
            "type": "pie"
           }
          ],
          "scatter": [
           {
            "fillpattern": {
             "fillmode": "overlay",
             "size": 10,
             "solidity": 0.2
            },
            "type": "scatter"
           }
          ],
          "scatter3d": [
           {
            "line": {
             "colorbar": {
              "outlinewidth": 0,
              "ticks": ""
             }
            },
            "marker": {
             "colorbar": {
              "outlinewidth": 0,
              "ticks": ""
             }
            },
            "type": "scatter3d"
           }
          ],
          "scattercarpet": [
           {
            "marker": {
             "colorbar": {
              "outlinewidth": 0,
              "ticks": ""
             }
            },
            "type": "scattercarpet"
           }
          ],
          "scattergeo": [
           {
            "marker": {
             "colorbar": {
              "outlinewidth": 0,
              "ticks": ""
             }
            },
            "type": "scattergeo"
           }
          ],
          "scattergl": [
           {
            "marker": {
             "colorbar": {
              "outlinewidth": 0,
              "ticks": ""
             }
            },
            "type": "scattergl"
           }
          ],
          "scattermapbox": [
           {
            "marker": {
             "colorbar": {
              "outlinewidth": 0,
              "ticks": ""
             }
            },
            "type": "scattermapbox"
           }
          ],
          "scatterpolar": [
           {
            "marker": {
             "colorbar": {
              "outlinewidth": 0,
              "ticks": ""
             }
            },
            "type": "scatterpolar"
           }
          ],
          "scatterpolargl": [
           {
            "marker": {
             "colorbar": {
              "outlinewidth": 0,
              "ticks": ""
             }
            },
            "type": "scatterpolargl"
           }
          ],
          "scatterternary": [
           {
            "marker": {
             "colorbar": {
              "outlinewidth": 0,
              "ticks": ""
             }
            },
            "type": "scatterternary"
           }
          ],
          "surface": [
           {
            "colorbar": {
             "outlinewidth": 0,
             "ticks": ""
            },
            "colorscale": [
             [
              0,
              "#0d0887"
             ],
             [
              0.1111111111111111,
              "#46039f"
             ],
             [
              0.2222222222222222,
              "#7201a8"
             ],
             [
              0.3333333333333333,
              "#9c179e"
             ],
             [
              0.4444444444444444,
              "#bd3786"
             ],
             [
              0.5555555555555556,
              "#d8576b"
             ],
             [
              0.6666666666666666,
              "#ed7953"
             ],
             [
              0.7777777777777778,
              "#fb9f3a"
             ],
             [
              0.8888888888888888,
              "#fdca26"
             ],
             [
              1,
              "#f0f921"
             ]
            ],
            "type": "surface"
           }
          ],
          "table": [
           {
            "cells": {
             "fill": {
              "color": "#EBF0F8"
             },
             "line": {
              "color": "white"
             }
            },
            "header": {
             "fill": {
              "color": "#C8D4E3"
             },
             "line": {
              "color": "white"
             }
            },
            "type": "table"
           }
          ]
         },
         "layout": {
          "annotationdefaults": {
           "arrowcolor": "#2a3f5f",
           "arrowhead": 0,
           "arrowwidth": 1
          },
          "autotypenumbers": "strict",
          "coloraxis": {
           "colorbar": {
            "outlinewidth": 0,
            "ticks": ""
           }
          },
          "colorscale": {
           "diverging": [
            [
             0,
             "#8e0152"
            ],
            [
             0.1,
             "#c51b7d"
            ],
            [
             0.2,
             "#de77ae"
            ],
            [
             0.3,
             "#f1b6da"
            ],
            [
             0.4,
             "#fde0ef"
            ],
            [
             0.5,
             "#f7f7f7"
            ],
            [
             0.6,
             "#e6f5d0"
            ],
            [
             0.7,
             "#b8e186"
            ],
            [
             0.8,
             "#7fbc41"
            ],
            [
             0.9,
             "#4d9221"
            ],
            [
             1,
             "#276419"
            ]
           ],
           "sequential": [
            [
             0,
             "#0d0887"
            ],
            [
             0.1111111111111111,
             "#46039f"
            ],
            [
             0.2222222222222222,
             "#7201a8"
            ],
            [
             0.3333333333333333,
             "#9c179e"
            ],
            [
             0.4444444444444444,
             "#bd3786"
            ],
            [
             0.5555555555555556,
             "#d8576b"
            ],
            [
             0.6666666666666666,
             "#ed7953"
            ],
            [
             0.7777777777777778,
             "#fb9f3a"
            ],
            [
             0.8888888888888888,
             "#fdca26"
            ],
            [
             1,
             "#f0f921"
            ]
           ],
           "sequentialminus": [
            [
             0,
             "#0d0887"
            ],
            [
             0.1111111111111111,
             "#46039f"
            ],
            [
             0.2222222222222222,
             "#7201a8"
            ],
            [
             0.3333333333333333,
             "#9c179e"
            ],
            [
             0.4444444444444444,
             "#bd3786"
            ],
            [
             0.5555555555555556,
             "#d8576b"
            ],
            [
             0.6666666666666666,
             "#ed7953"
            ],
            [
             0.7777777777777778,
             "#fb9f3a"
            ],
            [
             0.8888888888888888,
             "#fdca26"
            ],
            [
             1,
             "#f0f921"
            ]
           ]
          },
          "colorway": [
           "#636efa",
           "#EF553B",
           "#00cc96",
           "#ab63fa",
           "#FFA15A",
           "#19d3f3",
           "#FF6692",
           "#B6E880",
           "#FF97FF",
           "#FECB52"
          ],
          "font": {
           "color": "#2a3f5f"
          },
          "geo": {
           "bgcolor": "white",
           "lakecolor": "white",
           "landcolor": "#E5ECF6",
           "showlakes": true,
           "showland": true,
           "subunitcolor": "white"
          },
          "hoverlabel": {
           "align": "left"
          },
          "hovermode": "closest",
          "mapbox": {
           "style": "light"
          },
          "paper_bgcolor": "white",
          "plot_bgcolor": "#E5ECF6",
          "polar": {
           "angularaxis": {
            "gridcolor": "white",
            "linecolor": "white",
            "ticks": ""
           },
           "bgcolor": "#E5ECF6",
           "radialaxis": {
            "gridcolor": "white",
            "linecolor": "white",
            "ticks": ""
           }
          },
          "scene": {
           "xaxis": {
            "backgroundcolor": "#E5ECF6",
            "gridcolor": "white",
            "gridwidth": 2,
            "linecolor": "white",
            "showbackground": true,
            "ticks": "",
            "zerolinecolor": "white"
           },
           "yaxis": {
            "backgroundcolor": "#E5ECF6",
            "gridcolor": "white",
            "gridwidth": 2,
            "linecolor": "white",
            "showbackground": true,
            "ticks": "",
            "zerolinecolor": "white"
           },
           "zaxis": {
            "backgroundcolor": "#E5ECF6",
            "gridcolor": "white",
            "gridwidth": 2,
            "linecolor": "white",
            "showbackground": true,
            "ticks": "",
            "zerolinecolor": "white"
           }
          },
          "shapedefaults": {
           "line": {
            "color": "#2a3f5f"
           }
          },
          "ternary": {
           "aaxis": {
            "gridcolor": "white",
            "linecolor": "white",
            "ticks": ""
           },
           "baxis": {
            "gridcolor": "white",
            "linecolor": "white",
            "ticks": ""
           },
           "bgcolor": "#E5ECF6",
           "caxis": {
            "gridcolor": "white",
            "linecolor": "white",
            "ticks": ""
           }
          },
          "title": {
           "x": 0.05
          },
          "xaxis": {
           "automargin": true,
           "gridcolor": "white",
           "linecolor": "white",
           "ticks": "",
           "title": {
            "standoff": 15
           },
           "zerolinecolor": "white",
           "zerolinewidth": 2
          },
          "yaxis": {
           "automargin": true,
           "gridcolor": "white",
           "linecolor": "white",
           "ticks": "",
           "title": {
            "standoff": 15
           },
           "zerolinecolor": "white",
           "zerolinewidth": 2
          }
         }
        },
        "xaxis": {
         "anchor": "y",
         "domain": [
          0,
          1
         ],
         "title": {
          "text": "PC1"
         }
        },
        "yaxis": {
         "anchor": "x",
         "domain": [
          0,
          1
         ],
         "title": {
          "text": "PC2"
         }
        }
       }
      },
      "text/html": [
       "<div>                            <div id=\"f542a946-dcd5-4c54-bfb4-c27943635597\" class=\"plotly-graph-div\" style=\"height:550px; width:100%;\"></div>            <script type=\"text/javascript\">                require([\"plotly\"], function(Plotly) {                    window.PLOTLYENV=window.PLOTLYENV || {};                                    if (document.getElementById(\"f542a946-dcd5-4c54-bfb4-c27943635597\")) {                    Plotly.newPlot(                        \"f542a946-dcd5-4c54-bfb4-c27943635597\",                        [{\"hovertemplate\":\"PC1=%{x}<br>PC2=%{y}<br>index=%{text}<extra></extra>\",\"legendgroup\":\"\",\"marker\":{\"color\":\"#636efa\",\"symbol\":\"circle\"},\"mode\":\"markers+text\",\"name\":\"\",\"orientation\":\"v\",\"showlegend\":false,\"text\":[\"GANDALF\",\"SAM\",\"FRODO\",\"ARAGORN\",\"GOLLUM\",\"THEODEN\",\"PIPPIN\",\"GIMLI\",\"BILBO\",\"MERRY\"],\"x\":[4.188197563831001,-0.6937071927608822,-0.9315949453806578,-1.5323213739056,1.4842708323117977,0.24209023862513854,-0.45022718939809975,-1.609588333265843,-0.9438565987475287,0.24673699869067556],\"xaxis\":\"x\",\"y\":[-0.8803793417031431,-0.9496115254791136,-0.45984743831370395,-1.3107437994846778,1.82971561029713,1.118357159737291,-0.4836399917007956,0.6430094718905766,1.427356962989817,-0.9342171082333807],\"yaxis\":\"y\",\"type\":\"scatter\",\"textposition\":\"top center\"}],                        {\"template\":{\"data\":{\"histogram2dcontour\":[{\"type\":\"histogram2dcontour\",\"colorbar\":{\"outlinewidth\":0,\"ticks\":\"\"},\"colorscale\":[[0.0,\"#0d0887\"],[0.1111111111111111,\"#46039f\"],[0.2222222222222222,\"#7201a8\"],[0.3333333333333333,\"#9c179e\"],[0.4444444444444444,\"#bd3786\"],[0.5555555555555556,\"#d8576b\"],[0.6666666666666666,\"#ed7953\"],[0.7777777777777778,\"#fb9f3a\"],[0.8888888888888888,\"#fdca26\"],[1.0,\"#f0f921\"]]}],\"choropleth\":[{\"type\":\"choropleth\",\"colorbar\":{\"outlinewidth\":0,\"ticks\":\"\"}}],\"histogram2d\":[{\"type\":\"histogram2d\",\"colorbar\":{\"outlinewidth\":0,\"ticks\":\"\"},\"colorscale\":[[0.0,\"#0d0887\"],[0.1111111111111111,\"#46039f\"],[0.2222222222222222,\"#7201a8\"],[0.3333333333333333,\"#9c179e\"],[0.4444444444444444,\"#bd3786\"],[0.5555555555555556,\"#d8576b\"],[0.6666666666666666,\"#ed7953\"],[0.7777777777777778,\"#fb9f3a\"],[0.8888888888888888,\"#fdca26\"],[1.0,\"#f0f921\"]]}],\"heatmap\":[{\"type\":\"heatmap\",\"colorbar\":{\"outlinewidth\":0,\"ticks\":\"\"},\"colorscale\":[[0.0,\"#0d0887\"],[0.1111111111111111,\"#46039f\"],[0.2222222222222222,\"#7201a8\"],[0.3333333333333333,\"#9c179e\"],[0.4444444444444444,\"#bd3786\"],[0.5555555555555556,\"#d8576b\"],[0.6666666666666666,\"#ed7953\"],[0.7777777777777778,\"#fb9f3a\"],[0.8888888888888888,\"#fdca26\"],[1.0,\"#f0f921\"]]}],\"heatmapgl\":[{\"type\":\"heatmapgl\",\"colorbar\":{\"outlinewidth\":0,\"ticks\":\"\"},\"colorscale\":[[0.0,\"#0d0887\"],[0.1111111111111111,\"#46039f\"],[0.2222222222222222,\"#7201a8\"],[0.3333333333333333,\"#9c179e\"],[0.4444444444444444,\"#bd3786\"],[0.5555555555555556,\"#d8576b\"],[0.6666666666666666,\"#ed7953\"],[0.7777777777777778,\"#fb9f3a\"],[0.8888888888888888,\"#fdca26\"],[1.0,\"#f0f921\"]]}],\"contourcarpet\":[{\"type\":\"contourcarpet\",\"colorbar\":{\"outlinewidth\":0,\"ticks\":\"\"}}],\"contour\":[{\"type\":\"contour\",\"colorbar\":{\"outlinewidth\":0,\"ticks\":\"\"},\"colorscale\":[[0.0,\"#0d0887\"],[0.1111111111111111,\"#46039f\"],[0.2222222222222222,\"#7201a8\"],[0.3333333333333333,\"#9c179e\"],[0.4444444444444444,\"#bd3786\"],[0.5555555555555556,\"#d8576b\"],[0.6666666666666666,\"#ed7953\"],[0.7777777777777778,\"#fb9f3a\"],[0.8888888888888888,\"#fdca26\"],[1.0,\"#f0f921\"]]}],\"surface\":[{\"type\":\"surface\",\"colorbar\":{\"outlinewidth\":0,\"ticks\":\"\"},\"colorscale\":[[0.0,\"#0d0887\"],[0.1111111111111111,\"#46039f\"],[0.2222222222222222,\"#7201a8\"],[0.3333333333333333,\"#9c179e\"],[0.4444444444444444,\"#bd3786\"],[0.5555555555555556,\"#d8576b\"],[0.6666666666666666,\"#ed7953\"],[0.7777777777777778,\"#fb9f3a\"],[0.8888888888888888,\"#fdca26\"],[1.0,\"#f0f921\"]]}],\"mesh3d\":[{\"type\":\"mesh3d\",\"colorbar\":{\"outlinewidth\":0,\"ticks\":\"\"}}],\"scatter\":[{\"fillpattern\":{\"fillmode\":\"overlay\",\"size\":10,\"solidity\":0.2},\"type\":\"scatter\"}],\"parcoords\":[{\"type\":\"parcoords\",\"line\":{\"colorbar\":{\"outlinewidth\":0,\"ticks\":\"\"}}}],\"scatterpolargl\":[{\"type\":\"scatterpolargl\",\"marker\":{\"colorbar\":{\"outlinewidth\":0,\"ticks\":\"\"}}}],\"bar\":[{\"error_x\":{\"color\":\"#2a3f5f\"},\"error_y\":{\"color\":\"#2a3f5f\"},\"marker\":{\"line\":{\"color\":\"#E5ECF6\",\"width\":0.5},\"pattern\":{\"fillmode\":\"overlay\",\"size\":10,\"solidity\":0.2}},\"type\":\"bar\"}],\"scattergeo\":[{\"type\":\"scattergeo\",\"marker\":{\"colorbar\":{\"outlinewidth\":0,\"ticks\":\"\"}}}],\"scatterpolar\":[{\"type\":\"scatterpolar\",\"marker\":{\"colorbar\":{\"outlinewidth\":0,\"ticks\":\"\"}}}],\"histogram\":[{\"marker\":{\"pattern\":{\"fillmode\":\"overlay\",\"size\":10,\"solidity\":0.2}},\"type\":\"histogram\"}],\"scattergl\":[{\"type\":\"scattergl\",\"marker\":{\"colorbar\":{\"outlinewidth\":0,\"ticks\":\"\"}}}],\"scatter3d\":[{\"type\":\"scatter3d\",\"line\":{\"colorbar\":{\"outlinewidth\":0,\"ticks\":\"\"}},\"marker\":{\"colorbar\":{\"outlinewidth\":0,\"ticks\":\"\"}}}],\"scattermapbox\":[{\"type\":\"scattermapbox\",\"marker\":{\"colorbar\":{\"outlinewidth\":0,\"ticks\":\"\"}}}],\"scatterternary\":[{\"type\":\"scatterternary\",\"marker\":{\"colorbar\":{\"outlinewidth\":0,\"ticks\":\"\"}}}],\"scattercarpet\":[{\"type\":\"scattercarpet\",\"marker\":{\"colorbar\":{\"outlinewidth\":0,\"ticks\":\"\"}}}],\"carpet\":[{\"aaxis\":{\"endlinecolor\":\"#2a3f5f\",\"gridcolor\":\"white\",\"linecolor\":\"white\",\"minorgridcolor\":\"white\",\"startlinecolor\":\"#2a3f5f\"},\"baxis\":{\"endlinecolor\":\"#2a3f5f\",\"gridcolor\":\"white\",\"linecolor\":\"white\",\"minorgridcolor\":\"white\",\"startlinecolor\":\"#2a3f5f\"},\"type\":\"carpet\"}],\"table\":[{\"cells\":{\"fill\":{\"color\":\"#EBF0F8\"},\"line\":{\"color\":\"white\"}},\"header\":{\"fill\":{\"color\":\"#C8D4E3\"},\"line\":{\"color\":\"white\"}},\"type\":\"table\"}],\"barpolar\":[{\"marker\":{\"line\":{\"color\":\"#E5ECF6\",\"width\":0.5},\"pattern\":{\"fillmode\":\"overlay\",\"size\":10,\"solidity\":0.2}},\"type\":\"barpolar\"}],\"pie\":[{\"automargin\":true,\"type\":\"pie\"}]},\"layout\":{\"autotypenumbers\":\"strict\",\"colorway\":[\"#636efa\",\"#EF553B\",\"#00cc96\",\"#ab63fa\",\"#FFA15A\",\"#19d3f3\",\"#FF6692\",\"#B6E880\",\"#FF97FF\",\"#FECB52\"],\"font\":{\"color\":\"#2a3f5f\"},\"hovermode\":\"closest\",\"hoverlabel\":{\"align\":\"left\"},\"paper_bgcolor\":\"white\",\"plot_bgcolor\":\"#E5ECF6\",\"polar\":{\"bgcolor\":\"#E5ECF6\",\"angularaxis\":{\"gridcolor\":\"white\",\"linecolor\":\"white\",\"ticks\":\"\"},\"radialaxis\":{\"gridcolor\":\"white\",\"linecolor\":\"white\",\"ticks\":\"\"}},\"ternary\":{\"bgcolor\":\"#E5ECF6\",\"aaxis\":{\"gridcolor\":\"white\",\"linecolor\":\"white\",\"ticks\":\"\"},\"baxis\":{\"gridcolor\":\"white\",\"linecolor\":\"white\",\"ticks\":\"\"},\"caxis\":{\"gridcolor\":\"white\",\"linecolor\":\"white\",\"ticks\":\"\"}},\"coloraxis\":{\"colorbar\":{\"outlinewidth\":0,\"ticks\":\"\"}},\"colorscale\":{\"sequential\":[[0.0,\"#0d0887\"],[0.1111111111111111,\"#46039f\"],[0.2222222222222222,\"#7201a8\"],[0.3333333333333333,\"#9c179e\"],[0.4444444444444444,\"#bd3786\"],[0.5555555555555556,\"#d8576b\"],[0.6666666666666666,\"#ed7953\"],[0.7777777777777778,\"#fb9f3a\"],[0.8888888888888888,\"#fdca26\"],[1.0,\"#f0f921\"]],\"sequentialminus\":[[0.0,\"#0d0887\"],[0.1111111111111111,\"#46039f\"],[0.2222222222222222,\"#7201a8\"],[0.3333333333333333,\"#9c179e\"],[0.4444444444444444,\"#bd3786\"],[0.5555555555555556,\"#d8576b\"],[0.6666666666666666,\"#ed7953\"],[0.7777777777777778,\"#fb9f3a\"],[0.8888888888888888,\"#fdca26\"],[1.0,\"#f0f921\"]],\"diverging\":[[0,\"#8e0152\"],[0.1,\"#c51b7d\"],[0.2,\"#de77ae\"],[0.3,\"#f1b6da\"],[0.4,\"#fde0ef\"],[0.5,\"#f7f7f7\"],[0.6,\"#e6f5d0\"],[0.7,\"#b8e186\"],[0.8,\"#7fbc41\"],[0.9,\"#4d9221\"],[1,\"#276419\"]]},\"xaxis\":{\"gridcolor\":\"white\",\"linecolor\":\"white\",\"ticks\":\"\",\"title\":{\"standoff\":15},\"zerolinecolor\":\"white\",\"automargin\":true,\"zerolinewidth\":2},\"yaxis\":{\"gridcolor\":\"white\",\"linecolor\":\"white\",\"ticks\":\"\",\"title\":{\"standoff\":15},\"zerolinecolor\":\"white\",\"automargin\":true,\"zerolinewidth\":2},\"scene\":{\"xaxis\":{\"backgroundcolor\":\"#E5ECF6\",\"gridcolor\":\"white\",\"linecolor\":\"white\",\"showbackground\":true,\"ticks\":\"\",\"zerolinecolor\":\"white\",\"gridwidth\":2},\"yaxis\":{\"backgroundcolor\":\"#E5ECF6\",\"gridcolor\":\"white\",\"linecolor\":\"white\",\"showbackground\":true,\"ticks\":\"\",\"zerolinecolor\":\"white\",\"gridwidth\":2},\"zaxis\":{\"backgroundcolor\":\"#E5ECF6\",\"gridcolor\":\"white\",\"linecolor\":\"white\",\"showbackground\":true,\"ticks\":\"\",\"zerolinecolor\":\"white\",\"gridwidth\":2}},\"shapedefaults\":{\"line\":{\"color\":\"#2a3f5f\"}},\"annotationdefaults\":{\"arrowcolor\":\"#2a3f5f\",\"arrowhead\":0,\"arrowwidth\":1},\"geo\":{\"bgcolor\":\"white\",\"landcolor\":\"#E5ECF6\",\"subunitcolor\":\"white\",\"showland\":true,\"showlakes\":true,\"lakecolor\":\"white\"},\"title\":{\"x\":0.05},\"mapbox\":{\"style\":\"light\"}}},\"xaxis\":{\"anchor\":\"y\",\"domain\":[0.0,1.0],\"title\":{\"text\":\"PC1\"}},\"yaxis\":{\"anchor\":\"x\",\"domain\":[0.0,1.0],\"title\":{\"text\":\"PC2\"}},\"legend\":{\"tracegroupgap\":0},\"margin\":{\"t\":60},\"font\":{\"family\":\"Arial\",\"size\":15,\"color\":\"RebeccaPurple\"},\"height\":550},                        {\"toImageButtonOptions\": {\"format\": \"png\", \"height\": 550, \"width\": 1100, \"scale\": 8}, \"responsive\": true}                    ).then(function(){\n",
       "                            \n",
       "var gd = document.getElementById('f542a946-dcd5-4c54-bfb4-c27943635597');\n",
       "var x = new MutationObserver(function (mutations, observer) {{\n",
       "        var display = window.getComputedStyle(gd).display;\n",
       "        if (!display || display === 'none') {{\n",
       "            console.log([gd, 'removed!']);\n",
       "            Plotly.purge(gd);\n",
       "            observer.disconnect();\n",
       "        }}\n",
       "}});\n",
       "\n",
       "// Listen for the removal of the full notebook cells\n",
       "var notebookContainer = gd.closest('#notebook-container');\n",
       "if (notebookContainer) {{\n",
       "    x.observe(notebookContainer, {childList: true});\n",
       "}}\n",
       "\n",
       "// Listen for the clearing of the current output cell\n",
       "var outputEl = gd.closest('.output');\n",
       "if (outputEl) {{\n",
       "    x.observe(outputEl, {childList: true});\n",
       "}}\n",
       "\n",
       "                        })                };                });            </script>        </div>"
      ]
     },
     "metadata": {},
     "output_type": "display_data"
    },
    {
     "name": "stdout",
     "output_type": "stream",
     "text": [
      "Variance explained: 71.05746026082383 percent\n"
     ]
    },
    {
     "data": {
      "application/vnd.plotly.v1+json": {
       "config": {
        "plotlyServerURL": "https://plot.ly",
        "toImageButtonOptions": {
         "format": "png",
         "height": 550,
         "scale": 8,
         "width": 1100
        }
       },
       "data": [
        {
         "hovertemplate": "PC1=%{x}<br>PC2=%{y}<br>index=%{text}<extra></extra>",
         "legendgroup": "",
         "marker": {
          "color": "#636efa",
          "symbol": "circle"
         },
         "mode": "markers+text",
         "name": "",
         "orientation": "v",
         "showlegend": false,
         "text": [
          "GANDALF",
          "SAM",
          "FRODO",
          "ARAGORN",
          "GOLLUM",
          "THEODEN",
          "PIPPIN",
          "GIMLI",
          "BILBO",
          "MERRY"
         ],
         "textposition": "top center",
         "type": "scatter",
         "x": [
          -2.049031393264301,
          0.6065457049257504,
          0.6297845247787759,
          3.020002526516985,
          -0.24015400219631045,
          -1.4886300640816308,
          1.0854733296778036,
          -1.3130838135812444,
          -0.24996643605676933,
          -0.0009403767190609365
         ],
         "xaxis": "x",
         "y": [
          2.8589246887893043,
          -0.7586147231450566,
          -0.8065838343815509,
          1.675460628734426,
          -0.7326764586806578,
          -0.8355911843255711,
          -0.8341362149726403,
          -0.8211142621126813,
          -0.6982330239018714,
          0.9525643839962997
         ],
         "yaxis": "y"
        }
       ],
       "layout": {
        "font": {
         "color": "RebeccaPurple",
         "family": "Arial",
         "size": 15
        },
        "height": 550,
        "legend": {
         "tracegroupgap": 0
        },
        "margin": {
         "t": 60
        },
        "template": {
         "data": {
          "bar": [
           {
            "error_x": {
             "color": "#2a3f5f"
            },
            "error_y": {
             "color": "#2a3f5f"
            },
            "marker": {
             "line": {
              "color": "#E5ECF6",
              "width": 0.5
             },
             "pattern": {
              "fillmode": "overlay",
              "size": 10,
              "solidity": 0.2
             }
            },
            "type": "bar"
           }
          ],
          "barpolar": [
           {
            "marker": {
             "line": {
              "color": "#E5ECF6",
              "width": 0.5
             },
             "pattern": {
              "fillmode": "overlay",
              "size": 10,
              "solidity": 0.2
             }
            },
            "type": "barpolar"
           }
          ],
          "carpet": [
           {
            "aaxis": {
             "endlinecolor": "#2a3f5f",
             "gridcolor": "white",
             "linecolor": "white",
             "minorgridcolor": "white",
             "startlinecolor": "#2a3f5f"
            },
            "baxis": {
             "endlinecolor": "#2a3f5f",
             "gridcolor": "white",
             "linecolor": "white",
             "minorgridcolor": "white",
             "startlinecolor": "#2a3f5f"
            },
            "type": "carpet"
           }
          ],
          "choropleth": [
           {
            "colorbar": {
             "outlinewidth": 0,
             "ticks": ""
            },
            "type": "choropleth"
           }
          ],
          "contour": [
           {
            "colorbar": {
             "outlinewidth": 0,
             "ticks": ""
            },
            "colorscale": [
             [
              0,
              "#0d0887"
             ],
             [
              0.1111111111111111,
              "#46039f"
             ],
             [
              0.2222222222222222,
              "#7201a8"
             ],
             [
              0.3333333333333333,
              "#9c179e"
             ],
             [
              0.4444444444444444,
              "#bd3786"
             ],
             [
              0.5555555555555556,
              "#d8576b"
             ],
             [
              0.6666666666666666,
              "#ed7953"
             ],
             [
              0.7777777777777778,
              "#fb9f3a"
             ],
             [
              0.8888888888888888,
              "#fdca26"
             ],
             [
              1,
              "#f0f921"
             ]
            ],
            "type": "contour"
           }
          ],
          "contourcarpet": [
           {
            "colorbar": {
             "outlinewidth": 0,
             "ticks": ""
            },
            "type": "contourcarpet"
           }
          ],
          "heatmap": [
           {
            "colorbar": {
             "outlinewidth": 0,
             "ticks": ""
            },
            "colorscale": [
             [
              0,
              "#0d0887"
             ],
             [
              0.1111111111111111,
              "#46039f"
             ],
             [
              0.2222222222222222,
              "#7201a8"
             ],
             [
              0.3333333333333333,
              "#9c179e"
             ],
             [
              0.4444444444444444,
              "#bd3786"
             ],
             [
              0.5555555555555556,
              "#d8576b"
             ],
             [
              0.6666666666666666,
              "#ed7953"
             ],
             [
              0.7777777777777778,
              "#fb9f3a"
             ],
             [
              0.8888888888888888,
              "#fdca26"
             ],
             [
              1,
              "#f0f921"
             ]
            ],
            "type": "heatmap"
           }
          ],
          "heatmapgl": [
           {
            "colorbar": {
             "outlinewidth": 0,
             "ticks": ""
            },
            "colorscale": [
             [
              0,
              "#0d0887"
             ],
             [
              0.1111111111111111,
              "#46039f"
             ],
             [
              0.2222222222222222,
              "#7201a8"
             ],
             [
              0.3333333333333333,
              "#9c179e"
             ],
             [
              0.4444444444444444,
              "#bd3786"
             ],
             [
              0.5555555555555556,
              "#d8576b"
             ],
             [
              0.6666666666666666,
              "#ed7953"
             ],
             [
              0.7777777777777778,
              "#fb9f3a"
             ],
             [
              0.8888888888888888,
              "#fdca26"
             ],
             [
              1,
              "#f0f921"
             ]
            ],
            "type": "heatmapgl"
           }
          ],
          "histogram": [
           {
            "marker": {
             "pattern": {
              "fillmode": "overlay",
              "size": 10,
              "solidity": 0.2
             }
            },
            "type": "histogram"
           }
          ],
          "histogram2d": [
           {
            "colorbar": {
             "outlinewidth": 0,
             "ticks": ""
            },
            "colorscale": [
             [
              0,
              "#0d0887"
             ],
             [
              0.1111111111111111,
              "#46039f"
             ],
             [
              0.2222222222222222,
              "#7201a8"
             ],
             [
              0.3333333333333333,
              "#9c179e"
             ],
             [
              0.4444444444444444,
              "#bd3786"
             ],
             [
              0.5555555555555556,
              "#d8576b"
             ],
             [
              0.6666666666666666,
              "#ed7953"
             ],
             [
              0.7777777777777778,
              "#fb9f3a"
             ],
             [
              0.8888888888888888,
              "#fdca26"
             ],
             [
              1,
              "#f0f921"
             ]
            ],
            "type": "histogram2d"
           }
          ],
          "histogram2dcontour": [
           {
            "colorbar": {
             "outlinewidth": 0,
             "ticks": ""
            },
            "colorscale": [
             [
              0,
              "#0d0887"
             ],
             [
              0.1111111111111111,
              "#46039f"
             ],
             [
              0.2222222222222222,
              "#7201a8"
             ],
             [
              0.3333333333333333,
              "#9c179e"
             ],
             [
              0.4444444444444444,
              "#bd3786"
             ],
             [
              0.5555555555555556,
              "#d8576b"
             ],
             [
              0.6666666666666666,
              "#ed7953"
             ],
             [
              0.7777777777777778,
              "#fb9f3a"
             ],
             [
              0.8888888888888888,
              "#fdca26"
             ],
             [
              1,
              "#f0f921"
             ]
            ],
            "type": "histogram2dcontour"
           }
          ],
          "mesh3d": [
           {
            "colorbar": {
             "outlinewidth": 0,
             "ticks": ""
            },
            "type": "mesh3d"
           }
          ],
          "parcoords": [
           {
            "line": {
             "colorbar": {
              "outlinewidth": 0,
              "ticks": ""
             }
            },
            "type": "parcoords"
           }
          ],
          "pie": [
           {
            "automargin": true,
            "type": "pie"
           }
          ],
          "scatter": [
           {
            "fillpattern": {
             "fillmode": "overlay",
             "size": 10,
             "solidity": 0.2
            },
            "type": "scatter"
           }
          ],
          "scatter3d": [
           {
            "line": {
             "colorbar": {
              "outlinewidth": 0,
              "ticks": ""
             }
            },
            "marker": {
             "colorbar": {
              "outlinewidth": 0,
              "ticks": ""
             }
            },
            "type": "scatter3d"
           }
          ],
          "scattercarpet": [
           {
            "marker": {
             "colorbar": {
              "outlinewidth": 0,
              "ticks": ""
             }
            },
            "type": "scattercarpet"
           }
          ],
          "scattergeo": [
           {
            "marker": {
             "colorbar": {
              "outlinewidth": 0,
              "ticks": ""
             }
            },
            "type": "scattergeo"
           }
          ],
          "scattergl": [
           {
            "marker": {
             "colorbar": {
              "outlinewidth": 0,
              "ticks": ""
             }
            },
            "type": "scattergl"
           }
          ],
          "scattermapbox": [
           {
            "marker": {
             "colorbar": {
              "outlinewidth": 0,
              "ticks": ""
             }
            },
            "type": "scattermapbox"
           }
          ],
          "scatterpolar": [
           {
            "marker": {
             "colorbar": {
              "outlinewidth": 0,
              "ticks": ""
             }
            },
            "type": "scatterpolar"
           }
          ],
          "scatterpolargl": [
           {
            "marker": {
             "colorbar": {
              "outlinewidth": 0,
              "ticks": ""
             }
            },
            "type": "scatterpolargl"
           }
          ],
          "scatterternary": [
           {
            "marker": {
             "colorbar": {
              "outlinewidth": 0,
              "ticks": ""
             }
            },
            "type": "scatterternary"
           }
          ],
          "surface": [
           {
            "colorbar": {
             "outlinewidth": 0,
             "ticks": ""
            },
            "colorscale": [
             [
              0,
              "#0d0887"
             ],
             [
              0.1111111111111111,
              "#46039f"
             ],
             [
              0.2222222222222222,
              "#7201a8"
             ],
             [
              0.3333333333333333,
              "#9c179e"
             ],
             [
              0.4444444444444444,
              "#bd3786"
             ],
             [
              0.5555555555555556,
              "#d8576b"
             ],
             [
              0.6666666666666666,
              "#ed7953"
             ],
             [
              0.7777777777777778,
              "#fb9f3a"
             ],
             [
              0.8888888888888888,
              "#fdca26"
             ],
             [
              1,
              "#f0f921"
             ]
            ],
            "type": "surface"
           }
          ],
          "table": [
           {
            "cells": {
             "fill": {
              "color": "#EBF0F8"
             },
             "line": {
              "color": "white"
             }
            },
            "header": {
             "fill": {
              "color": "#C8D4E3"
             },
             "line": {
              "color": "white"
             }
            },
            "type": "table"
           }
          ]
         },
         "layout": {
          "annotationdefaults": {
           "arrowcolor": "#2a3f5f",
           "arrowhead": 0,
           "arrowwidth": 1
          },
          "autotypenumbers": "strict",
          "coloraxis": {
           "colorbar": {
            "outlinewidth": 0,
            "ticks": ""
           }
          },
          "colorscale": {
           "diverging": [
            [
             0,
             "#8e0152"
            ],
            [
             0.1,
             "#c51b7d"
            ],
            [
             0.2,
             "#de77ae"
            ],
            [
             0.3,
             "#f1b6da"
            ],
            [
             0.4,
             "#fde0ef"
            ],
            [
             0.5,
             "#f7f7f7"
            ],
            [
             0.6,
             "#e6f5d0"
            ],
            [
             0.7,
             "#b8e186"
            ],
            [
             0.8,
             "#7fbc41"
            ],
            [
             0.9,
             "#4d9221"
            ],
            [
             1,
             "#276419"
            ]
           ],
           "sequential": [
            [
             0,
             "#0d0887"
            ],
            [
             0.1111111111111111,
             "#46039f"
            ],
            [
             0.2222222222222222,
             "#7201a8"
            ],
            [
             0.3333333333333333,
             "#9c179e"
            ],
            [
             0.4444444444444444,
             "#bd3786"
            ],
            [
             0.5555555555555556,
             "#d8576b"
            ],
            [
             0.6666666666666666,
             "#ed7953"
            ],
            [
             0.7777777777777778,
             "#fb9f3a"
            ],
            [
             0.8888888888888888,
             "#fdca26"
            ],
            [
             1,
             "#f0f921"
            ]
           ],
           "sequentialminus": [
            [
             0,
             "#0d0887"
            ],
            [
             0.1111111111111111,
             "#46039f"
            ],
            [
             0.2222222222222222,
             "#7201a8"
            ],
            [
             0.3333333333333333,
             "#9c179e"
            ],
            [
             0.4444444444444444,
             "#bd3786"
            ],
            [
             0.5555555555555556,
             "#d8576b"
            ],
            [
             0.6666666666666666,
             "#ed7953"
            ],
            [
             0.7777777777777778,
             "#fb9f3a"
            ],
            [
             0.8888888888888888,
             "#fdca26"
            ],
            [
             1,
             "#f0f921"
            ]
           ]
          },
          "colorway": [
           "#636efa",
           "#EF553B",
           "#00cc96",
           "#ab63fa",
           "#FFA15A",
           "#19d3f3",
           "#FF6692",
           "#B6E880",
           "#FF97FF",
           "#FECB52"
          ],
          "font": {
           "color": "#2a3f5f"
          },
          "geo": {
           "bgcolor": "white",
           "lakecolor": "white",
           "landcolor": "#E5ECF6",
           "showlakes": true,
           "showland": true,
           "subunitcolor": "white"
          },
          "hoverlabel": {
           "align": "left"
          },
          "hovermode": "closest",
          "mapbox": {
           "style": "light"
          },
          "paper_bgcolor": "white",
          "plot_bgcolor": "#E5ECF6",
          "polar": {
           "angularaxis": {
            "gridcolor": "white",
            "linecolor": "white",
            "ticks": ""
           },
           "bgcolor": "#E5ECF6",
           "radialaxis": {
            "gridcolor": "white",
            "linecolor": "white",
            "ticks": ""
           }
          },
          "scene": {
           "xaxis": {
            "backgroundcolor": "#E5ECF6",
            "gridcolor": "white",
            "gridwidth": 2,
            "linecolor": "white",
            "showbackground": true,
            "ticks": "",
            "zerolinecolor": "white"
           },
           "yaxis": {
            "backgroundcolor": "#E5ECF6",
            "gridcolor": "white",
            "gridwidth": 2,
            "linecolor": "white",
            "showbackground": true,
            "ticks": "",
            "zerolinecolor": "white"
           },
           "zaxis": {
            "backgroundcolor": "#E5ECF6",
            "gridcolor": "white",
            "gridwidth": 2,
            "linecolor": "white",
            "showbackground": true,
            "ticks": "",
            "zerolinecolor": "white"
           }
          },
          "shapedefaults": {
           "line": {
            "color": "#2a3f5f"
           }
          },
          "ternary": {
           "aaxis": {
            "gridcolor": "white",
            "linecolor": "white",
            "ticks": ""
           },
           "baxis": {
            "gridcolor": "white",
            "linecolor": "white",
            "ticks": ""
           },
           "bgcolor": "#E5ECF6",
           "caxis": {
            "gridcolor": "white",
            "linecolor": "white",
            "ticks": ""
           }
          },
          "title": {
           "x": 0.05
          },
          "xaxis": {
           "automargin": true,
           "gridcolor": "white",
           "linecolor": "white",
           "ticks": "",
           "title": {
            "standoff": 15
           },
           "zerolinecolor": "white",
           "zerolinewidth": 2
          },
          "yaxis": {
           "automargin": true,
           "gridcolor": "white",
           "linecolor": "white",
           "ticks": "",
           "title": {
            "standoff": 15
           },
           "zerolinecolor": "white",
           "zerolinewidth": 2
          }
         }
        },
        "xaxis": {
         "anchor": "y",
         "domain": [
          0,
          1
         ],
         "title": {
          "text": "PC1"
         }
        },
        "yaxis": {
         "anchor": "x",
         "domain": [
          0,
          1
         ],
         "title": {
          "text": "PC2"
         }
        }
       }
      },
      "text/html": [
       "<div>                            <div id=\"8d5428da-b5dd-40ab-916a-701e0aa88c09\" class=\"plotly-graph-div\" style=\"height:550px; width:100%;\"></div>            <script type=\"text/javascript\">                require([\"plotly\"], function(Plotly) {                    window.PLOTLYENV=window.PLOTLYENV || {};                                    if (document.getElementById(\"8d5428da-b5dd-40ab-916a-701e0aa88c09\")) {                    Plotly.newPlot(                        \"8d5428da-b5dd-40ab-916a-701e0aa88c09\",                        [{\"hovertemplate\":\"PC1=%{x}<br>PC2=%{y}<br>index=%{text}<extra></extra>\",\"legendgroup\":\"\",\"marker\":{\"color\":\"#636efa\",\"symbol\":\"circle\"},\"mode\":\"markers+text\",\"name\":\"\",\"orientation\":\"v\",\"showlegend\":false,\"text\":[\"GANDALF\",\"SAM\",\"FRODO\",\"ARAGORN\",\"GOLLUM\",\"THEODEN\",\"PIPPIN\",\"GIMLI\",\"BILBO\",\"MERRY\"],\"x\":[-2.049031393264301,0.6065457049257504,0.6297845247787759,3.020002526516985,-0.24015400219631045,-1.4886300640816308,1.0854733296778036,-1.3130838135812444,-0.24996643605676933,-0.0009403767190609365],\"xaxis\":\"x\",\"y\":[2.8589246887893043,-0.7586147231450566,-0.8065838343815509,1.675460628734426,-0.7326764586806578,-0.8355911843255711,-0.8341362149726403,-0.8211142621126813,-0.6982330239018714,0.9525643839962997],\"yaxis\":\"y\",\"type\":\"scatter\",\"textposition\":\"top center\"}],                        {\"template\":{\"data\":{\"histogram2dcontour\":[{\"type\":\"histogram2dcontour\",\"colorbar\":{\"outlinewidth\":0,\"ticks\":\"\"},\"colorscale\":[[0.0,\"#0d0887\"],[0.1111111111111111,\"#46039f\"],[0.2222222222222222,\"#7201a8\"],[0.3333333333333333,\"#9c179e\"],[0.4444444444444444,\"#bd3786\"],[0.5555555555555556,\"#d8576b\"],[0.6666666666666666,\"#ed7953\"],[0.7777777777777778,\"#fb9f3a\"],[0.8888888888888888,\"#fdca26\"],[1.0,\"#f0f921\"]]}],\"choropleth\":[{\"type\":\"choropleth\",\"colorbar\":{\"outlinewidth\":0,\"ticks\":\"\"}}],\"histogram2d\":[{\"type\":\"histogram2d\",\"colorbar\":{\"outlinewidth\":0,\"ticks\":\"\"},\"colorscale\":[[0.0,\"#0d0887\"],[0.1111111111111111,\"#46039f\"],[0.2222222222222222,\"#7201a8\"],[0.3333333333333333,\"#9c179e\"],[0.4444444444444444,\"#bd3786\"],[0.5555555555555556,\"#d8576b\"],[0.6666666666666666,\"#ed7953\"],[0.7777777777777778,\"#fb9f3a\"],[0.8888888888888888,\"#fdca26\"],[1.0,\"#f0f921\"]]}],\"heatmap\":[{\"type\":\"heatmap\",\"colorbar\":{\"outlinewidth\":0,\"ticks\":\"\"},\"colorscale\":[[0.0,\"#0d0887\"],[0.1111111111111111,\"#46039f\"],[0.2222222222222222,\"#7201a8\"],[0.3333333333333333,\"#9c179e\"],[0.4444444444444444,\"#bd3786\"],[0.5555555555555556,\"#d8576b\"],[0.6666666666666666,\"#ed7953\"],[0.7777777777777778,\"#fb9f3a\"],[0.8888888888888888,\"#fdca26\"],[1.0,\"#f0f921\"]]}],\"heatmapgl\":[{\"type\":\"heatmapgl\",\"colorbar\":{\"outlinewidth\":0,\"ticks\":\"\"},\"colorscale\":[[0.0,\"#0d0887\"],[0.1111111111111111,\"#46039f\"],[0.2222222222222222,\"#7201a8\"],[0.3333333333333333,\"#9c179e\"],[0.4444444444444444,\"#bd3786\"],[0.5555555555555556,\"#d8576b\"],[0.6666666666666666,\"#ed7953\"],[0.7777777777777778,\"#fb9f3a\"],[0.8888888888888888,\"#fdca26\"],[1.0,\"#f0f921\"]]}],\"contourcarpet\":[{\"type\":\"contourcarpet\",\"colorbar\":{\"outlinewidth\":0,\"ticks\":\"\"}}],\"contour\":[{\"type\":\"contour\",\"colorbar\":{\"outlinewidth\":0,\"ticks\":\"\"},\"colorscale\":[[0.0,\"#0d0887\"],[0.1111111111111111,\"#46039f\"],[0.2222222222222222,\"#7201a8\"],[0.3333333333333333,\"#9c179e\"],[0.4444444444444444,\"#bd3786\"],[0.5555555555555556,\"#d8576b\"],[0.6666666666666666,\"#ed7953\"],[0.7777777777777778,\"#fb9f3a\"],[0.8888888888888888,\"#fdca26\"],[1.0,\"#f0f921\"]]}],\"surface\":[{\"type\":\"surface\",\"colorbar\":{\"outlinewidth\":0,\"ticks\":\"\"},\"colorscale\":[[0.0,\"#0d0887\"],[0.1111111111111111,\"#46039f\"],[0.2222222222222222,\"#7201a8\"],[0.3333333333333333,\"#9c179e\"],[0.4444444444444444,\"#bd3786\"],[0.5555555555555556,\"#d8576b\"],[0.6666666666666666,\"#ed7953\"],[0.7777777777777778,\"#fb9f3a\"],[0.8888888888888888,\"#fdca26\"],[1.0,\"#f0f921\"]]}],\"mesh3d\":[{\"type\":\"mesh3d\",\"colorbar\":{\"outlinewidth\":0,\"ticks\":\"\"}}],\"scatter\":[{\"fillpattern\":{\"fillmode\":\"overlay\",\"size\":10,\"solidity\":0.2},\"type\":\"scatter\"}],\"parcoords\":[{\"type\":\"parcoords\",\"line\":{\"colorbar\":{\"outlinewidth\":0,\"ticks\":\"\"}}}],\"scatterpolargl\":[{\"type\":\"scatterpolargl\",\"marker\":{\"colorbar\":{\"outlinewidth\":0,\"ticks\":\"\"}}}],\"bar\":[{\"error_x\":{\"color\":\"#2a3f5f\"},\"error_y\":{\"color\":\"#2a3f5f\"},\"marker\":{\"line\":{\"color\":\"#E5ECF6\",\"width\":0.5},\"pattern\":{\"fillmode\":\"overlay\",\"size\":10,\"solidity\":0.2}},\"type\":\"bar\"}],\"scattergeo\":[{\"type\":\"scattergeo\",\"marker\":{\"colorbar\":{\"outlinewidth\":0,\"ticks\":\"\"}}}],\"scatterpolar\":[{\"type\":\"scatterpolar\",\"marker\":{\"colorbar\":{\"outlinewidth\":0,\"ticks\":\"\"}}}],\"histogram\":[{\"marker\":{\"pattern\":{\"fillmode\":\"overlay\",\"size\":10,\"solidity\":0.2}},\"type\":\"histogram\"}],\"scattergl\":[{\"type\":\"scattergl\",\"marker\":{\"colorbar\":{\"outlinewidth\":0,\"ticks\":\"\"}}}],\"scatter3d\":[{\"type\":\"scatter3d\",\"line\":{\"colorbar\":{\"outlinewidth\":0,\"ticks\":\"\"}},\"marker\":{\"colorbar\":{\"outlinewidth\":0,\"ticks\":\"\"}}}],\"scattermapbox\":[{\"type\":\"scattermapbox\",\"marker\":{\"colorbar\":{\"outlinewidth\":0,\"ticks\":\"\"}}}],\"scatterternary\":[{\"type\":\"scatterternary\",\"marker\":{\"colorbar\":{\"outlinewidth\":0,\"ticks\":\"\"}}}],\"scattercarpet\":[{\"type\":\"scattercarpet\",\"marker\":{\"colorbar\":{\"outlinewidth\":0,\"ticks\":\"\"}}}],\"carpet\":[{\"aaxis\":{\"endlinecolor\":\"#2a3f5f\",\"gridcolor\":\"white\",\"linecolor\":\"white\",\"minorgridcolor\":\"white\",\"startlinecolor\":\"#2a3f5f\"},\"baxis\":{\"endlinecolor\":\"#2a3f5f\",\"gridcolor\":\"white\",\"linecolor\":\"white\",\"minorgridcolor\":\"white\",\"startlinecolor\":\"#2a3f5f\"},\"type\":\"carpet\"}],\"table\":[{\"cells\":{\"fill\":{\"color\":\"#EBF0F8\"},\"line\":{\"color\":\"white\"}},\"header\":{\"fill\":{\"color\":\"#C8D4E3\"},\"line\":{\"color\":\"white\"}},\"type\":\"table\"}],\"barpolar\":[{\"marker\":{\"line\":{\"color\":\"#E5ECF6\",\"width\":0.5},\"pattern\":{\"fillmode\":\"overlay\",\"size\":10,\"solidity\":0.2}},\"type\":\"barpolar\"}],\"pie\":[{\"automargin\":true,\"type\":\"pie\"}]},\"layout\":{\"autotypenumbers\":\"strict\",\"colorway\":[\"#636efa\",\"#EF553B\",\"#00cc96\",\"#ab63fa\",\"#FFA15A\",\"#19d3f3\",\"#FF6692\",\"#B6E880\",\"#FF97FF\",\"#FECB52\"],\"font\":{\"color\":\"#2a3f5f\"},\"hovermode\":\"closest\",\"hoverlabel\":{\"align\":\"left\"},\"paper_bgcolor\":\"white\",\"plot_bgcolor\":\"#E5ECF6\",\"polar\":{\"bgcolor\":\"#E5ECF6\",\"angularaxis\":{\"gridcolor\":\"white\",\"linecolor\":\"white\",\"ticks\":\"\"},\"radialaxis\":{\"gridcolor\":\"white\",\"linecolor\":\"white\",\"ticks\":\"\"}},\"ternary\":{\"bgcolor\":\"#E5ECF6\",\"aaxis\":{\"gridcolor\":\"white\",\"linecolor\":\"white\",\"ticks\":\"\"},\"baxis\":{\"gridcolor\":\"white\",\"linecolor\":\"white\",\"ticks\":\"\"},\"caxis\":{\"gridcolor\":\"white\",\"linecolor\":\"white\",\"ticks\":\"\"}},\"coloraxis\":{\"colorbar\":{\"outlinewidth\":0,\"ticks\":\"\"}},\"colorscale\":{\"sequential\":[[0.0,\"#0d0887\"],[0.1111111111111111,\"#46039f\"],[0.2222222222222222,\"#7201a8\"],[0.3333333333333333,\"#9c179e\"],[0.4444444444444444,\"#bd3786\"],[0.5555555555555556,\"#d8576b\"],[0.6666666666666666,\"#ed7953\"],[0.7777777777777778,\"#fb9f3a\"],[0.8888888888888888,\"#fdca26\"],[1.0,\"#f0f921\"]],\"sequentialminus\":[[0.0,\"#0d0887\"],[0.1111111111111111,\"#46039f\"],[0.2222222222222222,\"#7201a8\"],[0.3333333333333333,\"#9c179e\"],[0.4444444444444444,\"#bd3786\"],[0.5555555555555556,\"#d8576b\"],[0.6666666666666666,\"#ed7953\"],[0.7777777777777778,\"#fb9f3a\"],[0.8888888888888888,\"#fdca26\"],[1.0,\"#f0f921\"]],\"diverging\":[[0,\"#8e0152\"],[0.1,\"#c51b7d\"],[0.2,\"#de77ae\"],[0.3,\"#f1b6da\"],[0.4,\"#fde0ef\"],[0.5,\"#f7f7f7\"],[0.6,\"#e6f5d0\"],[0.7,\"#b8e186\"],[0.8,\"#7fbc41\"],[0.9,\"#4d9221\"],[1,\"#276419\"]]},\"xaxis\":{\"gridcolor\":\"white\",\"linecolor\":\"white\",\"ticks\":\"\",\"title\":{\"standoff\":15},\"zerolinecolor\":\"white\",\"automargin\":true,\"zerolinewidth\":2},\"yaxis\":{\"gridcolor\":\"white\",\"linecolor\":\"white\",\"ticks\":\"\",\"title\":{\"standoff\":15},\"zerolinecolor\":\"white\",\"automargin\":true,\"zerolinewidth\":2},\"scene\":{\"xaxis\":{\"backgroundcolor\":\"#E5ECF6\",\"gridcolor\":\"white\",\"linecolor\":\"white\",\"showbackground\":true,\"ticks\":\"\",\"zerolinecolor\":\"white\",\"gridwidth\":2},\"yaxis\":{\"backgroundcolor\":\"#E5ECF6\",\"gridcolor\":\"white\",\"linecolor\":\"white\",\"showbackground\":true,\"ticks\":\"\",\"zerolinecolor\":\"white\",\"gridwidth\":2},\"zaxis\":{\"backgroundcolor\":\"#E5ECF6\",\"gridcolor\":\"white\",\"linecolor\":\"white\",\"showbackground\":true,\"ticks\":\"\",\"zerolinecolor\":\"white\",\"gridwidth\":2}},\"shapedefaults\":{\"line\":{\"color\":\"#2a3f5f\"}},\"annotationdefaults\":{\"arrowcolor\":\"#2a3f5f\",\"arrowhead\":0,\"arrowwidth\":1},\"geo\":{\"bgcolor\":\"white\",\"landcolor\":\"#E5ECF6\",\"subunitcolor\":\"white\",\"showland\":true,\"showlakes\":true,\"lakecolor\":\"white\"},\"title\":{\"x\":0.05},\"mapbox\":{\"style\":\"light\"}}},\"xaxis\":{\"anchor\":\"y\",\"domain\":[0.0,1.0],\"title\":{\"text\":\"PC1\"}},\"yaxis\":{\"anchor\":\"x\",\"domain\":[0.0,1.0],\"title\":{\"text\":\"PC2\"}},\"legend\":{\"tracegroupgap\":0},\"margin\":{\"t\":60},\"font\":{\"family\":\"Arial\",\"size\":15,\"color\":\"RebeccaPurple\"},\"height\":550},                        {\"toImageButtonOptions\": {\"format\": \"png\", \"height\": 550, \"width\": 1100, \"scale\": 8}, \"responsive\": true}                    ).then(function(){\n",
       "                            \n",
       "var gd = document.getElementById('8d5428da-b5dd-40ab-916a-701e0aa88c09');\n",
       "var x = new MutationObserver(function (mutations, observer) {{\n",
       "        var display = window.getComputedStyle(gd).display;\n",
       "        if (!display || display === 'none') {{\n",
       "            console.log([gd, 'removed!']);\n",
       "            Plotly.purge(gd);\n",
       "            observer.disconnect();\n",
       "        }}\n",
       "}});\n",
       "\n",
       "// Listen for the removal of the full notebook cells\n",
       "var notebookContainer = gd.closest('#notebook-container');\n",
       "if (notebookContainer) {{\n",
       "    x.observe(notebookContainer, {childList: true});\n",
       "}}\n",
       "\n",
       "// Listen for the clearing of the current output cell\n",
       "var outputEl = gd.closest('.output');\n",
       "if (outputEl) {{\n",
       "    x.observe(outputEl, {childList: true});\n",
       "}}\n",
       "\n",
       "                        })                };                });            </script>        </div>"
      ]
     },
     "metadata": {},
     "output_type": "display_data"
    },
    {
     "name": "stdout",
     "output_type": "stream",
     "text": [
      "Variance explained: 83.16193834087275 percent\n"
     ]
    },
    {
     "data": {
      "application/vnd.plotly.v1+json": {
       "config": {
        "plotlyServerURL": "https://plot.ly",
        "toImageButtonOptions": {
         "format": "png",
         "height": 550,
         "scale": 8,
         "width": 1100
        }
       },
       "data": [
        {
         "hovertemplate": "PC1=%{x}<br>PC2=%{y}<br>index=%{text}<extra></extra>",
         "legendgroup": "",
         "marker": {
          "color": "#636efa",
          "symbol": "circle"
         },
         "mode": "markers+text",
         "name": "",
         "orientation": "v",
         "showlegend": false,
         "text": [
          "GANDALF",
          "SAM",
          "FRODO",
          "ARAGORN",
          "GOLLUM",
          "THEODEN",
          "PIPPIN",
          "GIMLI",
          "BILBO",
          "MERRY"
         ],
         "textposition": "top center",
         "type": "scatter",
         "x": [
          4.564310216035413,
          -1.494779005728507,
          -0.5729851899548134,
          -0.9252968350952877,
          -0.18614280905030078,
          -0.03387039695903318,
          -1.0403246568661655,
          -0.22784270612489363,
          -0.3445280131141519,
          0.2614593968577398
         ],
         "xaxis": "x",
         "y": [
          0.7620558711106079,
          1.3802547263557008,
          -0.68175034897891,
          2.7474670469228912,
          -1.3382232734653865,
          -1.2572337955400934,
          0.17316238645315266,
          -1.066808888982499,
          -0.9404028575564292,
          0.22147913368096558
         ],
         "yaxis": "y"
        }
       ],
       "layout": {
        "font": {
         "color": "RebeccaPurple",
         "family": "Arial",
         "size": 15
        },
        "height": 550,
        "legend": {
         "tracegroupgap": 0
        },
        "margin": {
         "t": 60
        },
        "template": {
         "data": {
          "bar": [
           {
            "error_x": {
             "color": "#2a3f5f"
            },
            "error_y": {
             "color": "#2a3f5f"
            },
            "marker": {
             "line": {
              "color": "#E5ECF6",
              "width": 0.5
             },
             "pattern": {
              "fillmode": "overlay",
              "size": 10,
              "solidity": 0.2
             }
            },
            "type": "bar"
           }
          ],
          "barpolar": [
           {
            "marker": {
             "line": {
              "color": "#E5ECF6",
              "width": 0.5
             },
             "pattern": {
              "fillmode": "overlay",
              "size": 10,
              "solidity": 0.2
             }
            },
            "type": "barpolar"
           }
          ],
          "carpet": [
           {
            "aaxis": {
             "endlinecolor": "#2a3f5f",
             "gridcolor": "white",
             "linecolor": "white",
             "minorgridcolor": "white",
             "startlinecolor": "#2a3f5f"
            },
            "baxis": {
             "endlinecolor": "#2a3f5f",
             "gridcolor": "white",
             "linecolor": "white",
             "minorgridcolor": "white",
             "startlinecolor": "#2a3f5f"
            },
            "type": "carpet"
           }
          ],
          "choropleth": [
           {
            "colorbar": {
             "outlinewidth": 0,
             "ticks": ""
            },
            "type": "choropleth"
           }
          ],
          "contour": [
           {
            "colorbar": {
             "outlinewidth": 0,
             "ticks": ""
            },
            "colorscale": [
             [
              0,
              "#0d0887"
             ],
             [
              0.1111111111111111,
              "#46039f"
             ],
             [
              0.2222222222222222,
              "#7201a8"
             ],
             [
              0.3333333333333333,
              "#9c179e"
             ],
             [
              0.4444444444444444,
              "#bd3786"
             ],
             [
              0.5555555555555556,
              "#d8576b"
             ],
             [
              0.6666666666666666,
              "#ed7953"
             ],
             [
              0.7777777777777778,
              "#fb9f3a"
             ],
             [
              0.8888888888888888,
              "#fdca26"
             ],
             [
              1,
              "#f0f921"
             ]
            ],
            "type": "contour"
           }
          ],
          "contourcarpet": [
           {
            "colorbar": {
             "outlinewidth": 0,
             "ticks": ""
            },
            "type": "contourcarpet"
           }
          ],
          "heatmap": [
           {
            "colorbar": {
             "outlinewidth": 0,
             "ticks": ""
            },
            "colorscale": [
             [
              0,
              "#0d0887"
             ],
             [
              0.1111111111111111,
              "#46039f"
             ],
             [
              0.2222222222222222,
              "#7201a8"
             ],
             [
              0.3333333333333333,
              "#9c179e"
             ],
             [
              0.4444444444444444,
              "#bd3786"
             ],
             [
              0.5555555555555556,
              "#d8576b"
             ],
             [
              0.6666666666666666,
              "#ed7953"
             ],
             [
              0.7777777777777778,
              "#fb9f3a"
             ],
             [
              0.8888888888888888,
              "#fdca26"
             ],
             [
              1,
              "#f0f921"
             ]
            ],
            "type": "heatmap"
           }
          ],
          "heatmapgl": [
           {
            "colorbar": {
             "outlinewidth": 0,
             "ticks": ""
            },
            "colorscale": [
             [
              0,
              "#0d0887"
             ],
             [
              0.1111111111111111,
              "#46039f"
             ],
             [
              0.2222222222222222,
              "#7201a8"
             ],
             [
              0.3333333333333333,
              "#9c179e"
             ],
             [
              0.4444444444444444,
              "#bd3786"
             ],
             [
              0.5555555555555556,
              "#d8576b"
             ],
             [
              0.6666666666666666,
              "#ed7953"
             ],
             [
              0.7777777777777778,
              "#fb9f3a"
             ],
             [
              0.8888888888888888,
              "#fdca26"
             ],
             [
              1,
              "#f0f921"
             ]
            ],
            "type": "heatmapgl"
           }
          ],
          "histogram": [
           {
            "marker": {
             "pattern": {
              "fillmode": "overlay",
              "size": 10,
              "solidity": 0.2
             }
            },
            "type": "histogram"
           }
          ],
          "histogram2d": [
           {
            "colorbar": {
             "outlinewidth": 0,
             "ticks": ""
            },
            "colorscale": [
             [
              0,
              "#0d0887"
             ],
             [
              0.1111111111111111,
              "#46039f"
             ],
             [
              0.2222222222222222,
              "#7201a8"
             ],
             [
              0.3333333333333333,
              "#9c179e"
             ],
             [
              0.4444444444444444,
              "#bd3786"
             ],
             [
              0.5555555555555556,
              "#d8576b"
             ],
             [
              0.6666666666666666,
              "#ed7953"
             ],
             [
              0.7777777777777778,
              "#fb9f3a"
             ],
             [
              0.8888888888888888,
              "#fdca26"
             ],
             [
              1,
              "#f0f921"
             ]
            ],
            "type": "histogram2d"
           }
          ],
          "histogram2dcontour": [
           {
            "colorbar": {
             "outlinewidth": 0,
             "ticks": ""
            },
            "colorscale": [
             [
              0,
              "#0d0887"
             ],
             [
              0.1111111111111111,
              "#46039f"
             ],
             [
              0.2222222222222222,
              "#7201a8"
             ],
             [
              0.3333333333333333,
              "#9c179e"
             ],
             [
              0.4444444444444444,
              "#bd3786"
             ],
             [
              0.5555555555555556,
              "#d8576b"
             ],
             [
              0.6666666666666666,
              "#ed7953"
             ],
             [
              0.7777777777777778,
              "#fb9f3a"
             ],
             [
              0.8888888888888888,
              "#fdca26"
             ],
             [
              1,
              "#f0f921"
             ]
            ],
            "type": "histogram2dcontour"
           }
          ],
          "mesh3d": [
           {
            "colorbar": {
             "outlinewidth": 0,
             "ticks": ""
            },
            "type": "mesh3d"
           }
          ],
          "parcoords": [
           {
            "line": {
             "colorbar": {
              "outlinewidth": 0,
              "ticks": ""
             }
            },
            "type": "parcoords"
           }
          ],
          "pie": [
           {
            "automargin": true,
            "type": "pie"
           }
          ],
          "scatter": [
           {
            "fillpattern": {
             "fillmode": "overlay",
             "size": 10,
             "solidity": 0.2
            },
            "type": "scatter"
           }
          ],
          "scatter3d": [
           {
            "line": {
             "colorbar": {
              "outlinewidth": 0,
              "ticks": ""
             }
            },
            "marker": {
             "colorbar": {
              "outlinewidth": 0,
              "ticks": ""
             }
            },
            "type": "scatter3d"
           }
          ],
          "scattercarpet": [
           {
            "marker": {
             "colorbar": {
              "outlinewidth": 0,
              "ticks": ""
             }
            },
            "type": "scattercarpet"
           }
          ],
          "scattergeo": [
           {
            "marker": {
             "colorbar": {
              "outlinewidth": 0,
              "ticks": ""
             }
            },
            "type": "scattergeo"
           }
          ],
          "scattergl": [
           {
            "marker": {
             "colorbar": {
              "outlinewidth": 0,
              "ticks": ""
             }
            },
            "type": "scattergl"
           }
          ],
          "scattermapbox": [
           {
            "marker": {
             "colorbar": {
              "outlinewidth": 0,
              "ticks": ""
             }
            },
            "type": "scattermapbox"
           }
          ],
          "scatterpolar": [
           {
            "marker": {
             "colorbar": {
              "outlinewidth": 0,
              "ticks": ""
             }
            },
            "type": "scatterpolar"
           }
          ],
          "scatterpolargl": [
           {
            "marker": {
             "colorbar": {
              "outlinewidth": 0,
              "ticks": ""
             }
            },
            "type": "scatterpolargl"
           }
          ],
          "scatterternary": [
           {
            "marker": {
             "colorbar": {
              "outlinewidth": 0,
              "ticks": ""
             }
            },
            "type": "scatterternary"
           }
          ],
          "surface": [
           {
            "colorbar": {
             "outlinewidth": 0,
             "ticks": ""
            },
            "colorscale": [
             [
              0,
              "#0d0887"
             ],
             [
              0.1111111111111111,
              "#46039f"
             ],
             [
              0.2222222222222222,
              "#7201a8"
             ],
             [
              0.3333333333333333,
              "#9c179e"
             ],
             [
              0.4444444444444444,
              "#bd3786"
             ],
             [
              0.5555555555555556,
              "#d8576b"
             ],
             [
              0.6666666666666666,
              "#ed7953"
             ],
             [
              0.7777777777777778,
              "#fb9f3a"
             ],
             [
              0.8888888888888888,
              "#fdca26"
             ],
             [
              1,
              "#f0f921"
             ]
            ],
            "type": "surface"
           }
          ],
          "table": [
           {
            "cells": {
             "fill": {
              "color": "#EBF0F8"
             },
             "line": {
              "color": "white"
             }
            },
            "header": {
             "fill": {
              "color": "#C8D4E3"
             },
             "line": {
              "color": "white"
             }
            },
            "type": "table"
           }
          ]
         },
         "layout": {
          "annotationdefaults": {
           "arrowcolor": "#2a3f5f",
           "arrowhead": 0,
           "arrowwidth": 1
          },
          "autotypenumbers": "strict",
          "coloraxis": {
           "colorbar": {
            "outlinewidth": 0,
            "ticks": ""
           }
          },
          "colorscale": {
           "diverging": [
            [
             0,
             "#8e0152"
            ],
            [
             0.1,
             "#c51b7d"
            ],
            [
             0.2,
             "#de77ae"
            ],
            [
             0.3,
             "#f1b6da"
            ],
            [
             0.4,
             "#fde0ef"
            ],
            [
             0.5,
             "#f7f7f7"
            ],
            [
             0.6,
             "#e6f5d0"
            ],
            [
             0.7,
             "#b8e186"
            ],
            [
             0.8,
             "#7fbc41"
            ],
            [
             0.9,
             "#4d9221"
            ],
            [
             1,
             "#276419"
            ]
           ],
           "sequential": [
            [
             0,
             "#0d0887"
            ],
            [
             0.1111111111111111,
             "#46039f"
            ],
            [
             0.2222222222222222,
             "#7201a8"
            ],
            [
             0.3333333333333333,
             "#9c179e"
            ],
            [
             0.4444444444444444,
             "#bd3786"
            ],
            [
             0.5555555555555556,
             "#d8576b"
            ],
            [
             0.6666666666666666,
             "#ed7953"
            ],
            [
             0.7777777777777778,
             "#fb9f3a"
            ],
            [
             0.8888888888888888,
             "#fdca26"
            ],
            [
             1,
             "#f0f921"
            ]
           ],
           "sequentialminus": [
            [
             0,
             "#0d0887"
            ],
            [
             0.1111111111111111,
             "#46039f"
            ],
            [
             0.2222222222222222,
             "#7201a8"
            ],
            [
             0.3333333333333333,
             "#9c179e"
            ],
            [
             0.4444444444444444,
             "#bd3786"
            ],
            [
             0.5555555555555556,
             "#d8576b"
            ],
            [
             0.6666666666666666,
             "#ed7953"
            ],
            [
             0.7777777777777778,
             "#fb9f3a"
            ],
            [
             0.8888888888888888,
             "#fdca26"
            ],
            [
             1,
             "#f0f921"
            ]
           ]
          },
          "colorway": [
           "#636efa",
           "#EF553B",
           "#00cc96",
           "#ab63fa",
           "#FFA15A",
           "#19d3f3",
           "#FF6692",
           "#B6E880",
           "#FF97FF",
           "#FECB52"
          ],
          "font": {
           "color": "#2a3f5f"
          },
          "geo": {
           "bgcolor": "white",
           "lakecolor": "white",
           "landcolor": "#E5ECF6",
           "showlakes": true,
           "showland": true,
           "subunitcolor": "white"
          },
          "hoverlabel": {
           "align": "left"
          },
          "hovermode": "closest",
          "mapbox": {
           "style": "light"
          },
          "paper_bgcolor": "white",
          "plot_bgcolor": "#E5ECF6",
          "polar": {
           "angularaxis": {
            "gridcolor": "white",
            "linecolor": "white",
            "ticks": ""
           },
           "bgcolor": "#E5ECF6",
           "radialaxis": {
            "gridcolor": "white",
            "linecolor": "white",
            "ticks": ""
           }
          },
          "scene": {
           "xaxis": {
            "backgroundcolor": "#E5ECF6",
            "gridcolor": "white",
            "gridwidth": 2,
            "linecolor": "white",
            "showbackground": true,
            "ticks": "",
            "zerolinecolor": "white"
           },
           "yaxis": {
            "backgroundcolor": "#E5ECF6",
            "gridcolor": "white",
            "gridwidth": 2,
            "linecolor": "white",
            "showbackground": true,
            "ticks": "",
            "zerolinecolor": "white"
           },
           "zaxis": {
            "backgroundcolor": "#E5ECF6",
            "gridcolor": "white",
            "gridwidth": 2,
            "linecolor": "white",
            "showbackground": true,
            "ticks": "",
            "zerolinecolor": "white"
           }
          },
          "shapedefaults": {
           "line": {
            "color": "#2a3f5f"
           }
          },
          "ternary": {
           "aaxis": {
            "gridcolor": "white",
            "linecolor": "white",
            "ticks": ""
           },
           "baxis": {
            "gridcolor": "white",
            "linecolor": "white",
            "ticks": ""
           },
           "bgcolor": "#E5ECF6",
           "caxis": {
            "gridcolor": "white",
            "linecolor": "white",
            "ticks": ""
           }
          },
          "title": {
           "x": 0.05
          },
          "xaxis": {
           "automargin": true,
           "gridcolor": "white",
           "linecolor": "white",
           "ticks": "",
           "title": {
            "standoff": 15
           },
           "zerolinecolor": "white",
           "zerolinewidth": 2
          },
          "yaxis": {
           "automargin": true,
           "gridcolor": "white",
           "linecolor": "white",
           "ticks": "",
           "title": {
            "standoff": 15
           },
           "zerolinecolor": "white",
           "zerolinewidth": 2
          }
         }
        },
        "xaxis": {
         "anchor": "y",
         "domain": [
          0,
          1
         ],
         "title": {
          "text": "PC1"
         }
        },
        "yaxis": {
         "anchor": "x",
         "domain": [
          0,
          1
         ],
         "title": {
          "text": "PC2"
         }
        }
       }
      },
      "text/html": [
       "<div>                            <div id=\"d50ac531-2380-4536-8d80-b7e15691da13\" class=\"plotly-graph-div\" style=\"height:550px; width:100%;\"></div>            <script type=\"text/javascript\">                require([\"plotly\"], function(Plotly) {                    window.PLOTLYENV=window.PLOTLYENV || {};                                    if (document.getElementById(\"d50ac531-2380-4536-8d80-b7e15691da13\")) {                    Plotly.newPlot(                        \"d50ac531-2380-4536-8d80-b7e15691da13\",                        [{\"hovertemplate\":\"PC1=%{x}<br>PC2=%{y}<br>index=%{text}<extra></extra>\",\"legendgroup\":\"\",\"marker\":{\"color\":\"#636efa\",\"symbol\":\"circle\"},\"mode\":\"markers+text\",\"name\":\"\",\"orientation\":\"v\",\"showlegend\":false,\"text\":[\"GANDALF\",\"SAM\",\"FRODO\",\"ARAGORN\",\"GOLLUM\",\"THEODEN\",\"PIPPIN\",\"GIMLI\",\"BILBO\",\"MERRY\"],\"x\":[4.564310216035413,-1.494779005728507,-0.5729851899548134,-0.9252968350952877,-0.18614280905030078,-0.03387039695903318,-1.0403246568661655,-0.22784270612489363,-0.3445280131141519,0.2614593968577398],\"xaxis\":\"x\",\"y\":[0.7620558711106079,1.3802547263557008,-0.68175034897891,2.7474670469228912,-1.3382232734653865,-1.2572337955400934,0.17316238645315266,-1.066808888982499,-0.9404028575564292,0.22147913368096558],\"yaxis\":\"y\",\"type\":\"scatter\",\"textposition\":\"top center\"}],                        {\"template\":{\"data\":{\"histogram2dcontour\":[{\"type\":\"histogram2dcontour\",\"colorbar\":{\"outlinewidth\":0,\"ticks\":\"\"},\"colorscale\":[[0.0,\"#0d0887\"],[0.1111111111111111,\"#46039f\"],[0.2222222222222222,\"#7201a8\"],[0.3333333333333333,\"#9c179e\"],[0.4444444444444444,\"#bd3786\"],[0.5555555555555556,\"#d8576b\"],[0.6666666666666666,\"#ed7953\"],[0.7777777777777778,\"#fb9f3a\"],[0.8888888888888888,\"#fdca26\"],[1.0,\"#f0f921\"]]}],\"choropleth\":[{\"type\":\"choropleth\",\"colorbar\":{\"outlinewidth\":0,\"ticks\":\"\"}}],\"histogram2d\":[{\"type\":\"histogram2d\",\"colorbar\":{\"outlinewidth\":0,\"ticks\":\"\"},\"colorscale\":[[0.0,\"#0d0887\"],[0.1111111111111111,\"#46039f\"],[0.2222222222222222,\"#7201a8\"],[0.3333333333333333,\"#9c179e\"],[0.4444444444444444,\"#bd3786\"],[0.5555555555555556,\"#d8576b\"],[0.6666666666666666,\"#ed7953\"],[0.7777777777777778,\"#fb9f3a\"],[0.8888888888888888,\"#fdca26\"],[1.0,\"#f0f921\"]]}],\"heatmap\":[{\"type\":\"heatmap\",\"colorbar\":{\"outlinewidth\":0,\"ticks\":\"\"},\"colorscale\":[[0.0,\"#0d0887\"],[0.1111111111111111,\"#46039f\"],[0.2222222222222222,\"#7201a8\"],[0.3333333333333333,\"#9c179e\"],[0.4444444444444444,\"#bd3786\"],[0.5555555555555556,\"#d8576b\"],[0.6666666666666666,\"#ed7953\"],[0.7777777777777778,\"#fb9f3a\"],[0.8888888888888888,\"#fdca26\"],[1.0,\"#f0f921\"]]}],\"heatmapgl\":[{\"type\":\"heatmapgl\",\"colorbar\":{\"outlinewidth\":0,\"ticks\":\"\"},\"colorscale\":[[0.0,\"#0d0887\"],[0.1111111111111111,\"#46039f\"],[0.2222222222222222,\"#7201a8\"],[0.3333333333333333,\"#9c179e\"],[0.4444444444444444,\"#bd3786\"],[0.5555555555555556,\"#d8576b\"],[0.6666666666666666,\"#ed7953\"],[0.7777777777777778,\"#fb9f3a\"],[0.8888888888888888,\"#fdca26\"],[1.0,\"#f0f921\"]]}],\"contourcarpet\":[{\"type\":\"contourcarpet\",\"colorbar\":{\"outlinewidth\":0,\"ticks\":\"\"}}],\"contour\":[{\"type\":\"contour\",\"colorbar\":{\"outlinewidth\":0,\"ticks\":\"\"},\"colorscale\":[[0.0,\"#0d0887\"],[0.1111111111111111,\"#46039f\"],[0.2222222222222222,\"#7201a8\"],[0.3333333333333333,\"#9c179e\"],[0.4444444444444444,\"#bd3786\"],[0.5555555555555556,\"#d8576b\"],[0.6666666666666666,\"#ed7953\"],[0.7777777777777778,\"#fb9f3a\"],[0.8888888888888888,\"#fdca26\"],[1.0,\"#f0f921\"]]}],\"surface\":[{\"type\":\"surface\",\"colorbar\":{\"outlinewidth\":0,\"ticks\":\"\"},\"colorscale\":[[0.0,\"#0d0887\"],[0.1111111111111111,\"#46039f\"],[0.2222222222222222,\"#7201a8\"],[0.3333333333333333,\"#9c179e\"],[0.4444444444444444,\"#bd3786\"],[0.5555555555555556,\"#d8576b\"],[0.6666666666666666,\"#ed7953\"],[0.7777777777777778,\"#fb9f3a\"],[0.8888888888888888,\"#fdca26\"],[1.0,\"#f0f921\"]]}],\"mesh3d\":[{\"type\":\"mesh3d\",\"colorbar\":{\"outlinewidth\":0,\"ticks\":\"\"}}],\"scatter\":[{\"fillpattern\":{\"fillmode\":\"overlay\",\"size\":10,\"solidity\":0.2},\"type\":\"scatter\"}],\"parcoords\":[{\"type\":\"parcoords\",\"line\":{\"colorbar\":{\"outlinewidth\":0,\"ticks\":\"\"}}}],\"scatterpolargl\":[{\"type\":\"scatterpolargl\",\"marker\":{\"colorbar\":{\"outlinewidth\":0,\"ticks\":\"\"}}}],\"bar\":[{\"error_x\":{\"color\":\"#2a3f5f\"},\"error_y\":{\"color\":\"#2a3f5f\"},\"marker\":{\"line\":{\"color\":\"#E5ECF6\",\"width\":0.5},\"pattern\":{\"fillmode\":\"overlay\",\"size\":10,\"solidity\":0.2}},\"type\":\"bar\"}],\"scattergeo\":[{\"type\":\"scattergeo\",\"marker\":{\"colorbar\":{\"outlinewidth\":0,\"ticks\":\"\"}}}],\"scatterpolar\":[{\"type\":\"scatterpolar\",\"marker\":{\"colorbar\":{\"outlinewidth\":0,\"ticks\":\"\"}}}],\"histogram\":[{\"marker\":{\"pattern\":{\"fillmode\":\"overlay\",\"size\":10,\"solidity\":0.2}},\"type\":\"histogram\"}],\"scattergl\":[{\"type\":\"scattergl\",\"marker\":{\"colorbar\":{\"outlinewidth\":0,\"ticks\":\"\"}}}],\"scatter3d\":[{\"type\":\"scatter3d\",\"line\":{\"colorbar\":{\"outlinewidth\":0,\"ticks\":\"\"}},\"marker\":{\"colorbar\":{\"outlinewidth\":0,\"ticks\":\"\"}}}],\"scattermapbox\":[{\"type\":\"scattermapbox\",\"marker\":{\"colorbar\":{\"outlinewidth\":0,\"ticks\":\"\"}}}],\"scatterternary\":[{\"type\":\"scatterternary\",\"marker\":{\"colorbar\":{\"outlinewidth\":0,\"ticks\":\"\"}}}],\"scattercarpet\":[{\"type\":\"scattercarpet\",\"marker\":{\"colorbar\":{\"outlinewidth\":0,\"ticks\":\"\"}}}],\"carpet\":[{\"aaxis\":{\"endlinecolor\":\"#2a3f5f\",\"gridcolor\":\"white\",\"linecolor\":\"white\",\"minorgridcolor\":\"white\",\"startlinecolor\":\"#2a3f5f\"},\"baxis\":{\"endlinecolor\":\"#2a3f5f\",\"gridcolor\":\"white\",\"linecolor\":\"white\",\"minorgridcolor\":\"white\",\"startlinecolor\":\"#2a3f5f\"},\"type\":\"carpet\"}],\"table\":[{\"cells\":{\"fill\":{\"color\":\"#EBF0F8\"},\"line\":{\"color\":\"white\"}},\"header\":{\"fill\":{\"color\":\"#C8D4E3\"},\"line\":{\"color\":\"white\"}},\"type\":\"table\"}],\"barpolar\":[{\"marker\":{\"line\":{\"color\":\"#E5ECF6\",\"width\":0.5},\"pattern\":{\"fillmode\":\"overlay\",\"size\":10,\"solidity\":0.2}},\"type\":\"barpolar\"}],\"pie\":[{\"automargin\":true,\"type\":\"pie\"}]},\"layout\":{\"autotypenumbers\":\"strict\",\"colorway\":[\"#636efa\",\"#EF553B\",\"#00cc96\",\"#ab63fa\",\"#FFA15A\",\"#19d3f3\",\"#FF6692\",\"#B6E880\",\"#FF97FF\",\"#FECB52\"],\"font\":{\"color\":\"#2a3f5f\"},\"hovermode\":\"closest\",\"hoverlabel\":{\"align\":\"left\"},\"paper_bgcolor\":\"white\",\"plot_bgcolor\":\"#E5ECF6\",\"polar\":{\"bgcolor\":\"#E5ECF6\",\"angularaxis\":{\"gridcolor\":\"white\",\"linecolor\":\"white\",\"ticks\":\"\"},\"radialaxis\":{\"gridcolor\":\"white\",\"linecolor\":\"white\",\"ticks\":\"\"}},\"ternary\":{\"bgcolor\":\"#E5ECF6\",\"aaxis\":{\"gridcolor\":\"white\",\"linecolor\":\"white\",\"ticks\":\"\"},\"baxis\":{\"gridcolor\":\"white\",\"linecolor\":\"white\",\"ticks\":\"\"},\"caxis\":{\"gridcolor\":\"white\",\"linecolor\":\"white\",\"ticks\":\"\"}},\"coloraxis\":{\"colorbar\":{\"outlinewidth\":0,\"ticks\":\"\"}},\"colorscale\":{\"sequential\":[[0.0,\"#0d0887\"],[0.1111111111111111,\"#46039f\"],[0.2222222222222222,\"#7201a8\"],[0.3333333333333333,\"#9c179e\"],[0.4444444444444444,\"#bd3786\"],[0.5555555555555556,\"#d8576b\"],[0.6666666666666666,\"#ed7953\"],[0.7777777777777778,\"#fb9f3a\"],[0.8888888888888888,\"#fdca26\"],[1.0,\"#f0f921\"]],\"sequentialminus\":[[0.0,\"#0d0887\"],[0.1111111111111111,\"#46039f\"],[0.2222222222222222,\"#7201a8\"],[0.3333333333333333,\"#9c179e\"],[0.4444444444444444,\"#bd3786\"],[0.5555555555555556,\"#d8576b\"],[0.6666666666666666,\"#ed7953\"],[0.7777777777777778,\"#fb9f3a\"],[0.8888888888888888,\"#fdca26\"],[1.0,\"#f0f921\"]],\"diverging\":[[0,\"#8e0152\"],[0.1,\"#c51b7d\"],[0.2,\"#de77ae\"],[0.3,\"#f1b6da\"],[0.4,\"#fde0ef\"],[0.5,\"#f7f7f7\"],[0.6,\"#e6f5d0\"],[0.7,\"#b8e186\"],[0.8,\"#7fbc41\"],[0.9,\"#4d9221\"],[1,\"#276419\"]]},\"xaxis\":{\"gridcolor\":\"white\",\"linecolor\":\"white\",\"ticks\":\"\",\"title\":{\"standoff\":15},\"zerolinecolor\":\"white\",\"automargin\":true,\"zerolinewidth\":2},\"yaxis\":{\"gridcolor\":\"white\",\"linecolor\":\"white\",\"ticks\":\"\",\"title\":{\"standoff\":15},\"zerolinecolor\":\"white\",\"automargin\":true,\"zerolinewidth\":2},\"scene\":{\"xaxis\":{\"backgroundcolor\":\"#E5ECF6\",\"gridcolor\":\"white\",\"linecolor\":\"white\",\"showbackground\":true,\"ticks\":\"\",\"zerolinecolor\":\"white\",\"gridwidth\":2},\"yaxis\":{\"backgroundcolor\":\"#E5ECF6\",\"gridcolor\":\"white\",\"linecolor\":\"white\",\"showbackground\":true,\"ticks\":\"\",\"zerolinecolor\":\"white\",\"gridwidth\":2},\"zaxis\":{\"backgroundcolor\":\"#E5ECF6\",\"gridcolor\":\"white\",\"linecolor\":\"white\",\"showbackground\":true,\"ticks\":\"\",\"zerolinecolor\":\"white\",\"gridwidth\":2}},\"shapedefaults\":{\"line\":{\"color\":\"#2a3f5f\"}},\"annotationdefaults\":{\"arrowcolor\":\"#2a3f5f\",\"arrowhead\":0,\"arrowwidth\":1},\"geo\":{\"bgcolor\":\"white\",\"landcolor\":\"#E5ECF6\",\"subunitcolor\":\"white\",\"showland\":true,\"showlakes\":true,\"lakecolor\":\"white\"},\"title\":{\"x\":0.05},\"mapbox\":{\"style\":\"light\"}}},\"xaxis\":{\"anchor\":\"y\",\"domain\":[0.0,1.0],\"title\":{\"text\":\"PC1\"}},\"yaxis\":{\"anchor\":\"x\",\"domain\":[0.0,1.0],\"title\":{\"text\":\"PC2\"}},\"legend\":{\"tracegroupgap\":0},\"margin\":{\"t\":60},\"font\":{\"family\":\"Arial\",\"size\":15,\"color\":\"RebeccaPurple\"},\"height\":550},                        {\"toImageButtonOptions\": {\"format\": \"png\", \"height\": 550, \"width\": 1100, \"scale\": 8}, \"responsive\": true}                    ).then(function(){\n",
       "                            \n",
       "var gd = document.getElementById('d50ac531-2380-4536-8d80-b7e15691da13');\n",
       "var x = new MutationObserver(function (mutations, observer) {{\n",
       "        var display = window.getComputedStyle(gd).display;\n",
       "        if (!display || display === 'none') {{\n",
       "            console.log([gd, 'removed!']);\n",
       "            Plotly.purge(gd);\n",
       "            observer.disconnect();\n",
       "        }}\n",
       "}});\n",
       "\n",
       "// Listen for the removal of the full notebook cells\n",
       "var notebookContainer = gd.closest('#notebook-container');\n",
       "if (notebookContainer) {{\n",
       "    x.observe(notebookContainer, {childList: true});\n",
       "}}\n",
       "\n",
       "// Listen for the clearing of the current output cell\n",
       "var outputEl = gd.closest('.output');\n",
       "if (outputEl) {{\n",
       "    x.observe(outputEl, {childList: true});\n",
       "}}\n",
       "\n",
       "                        })                };                });            </script>        </div>"
      ]
     },
     "metadata": {},
     "output_type": "display_data"
    }
   ],
   "source": [
    "from sklearn.metrics.pairwise import cosine_similarity\n",
    "from sklearn.preprocessing import StandardScaler\n",
    "import plotly.express as px\n",
    "import numpy as np\n",
    "\n",
    "\n",
    "def drawPCAGraph(dataframe):\n",
    "    \"\"\" Function for drawing PCA image with 2 principal components for given dataframe\"\"\"\n",
    "    num_char = 10 # number of characters to be included in the scatter plot\n",
    "    x = StandardScaler().fit_transform(dataframe[0:num_char].values)\n",
    "\n",
    "    pca = PCA(n_components=2)\n",
    "    principalComponents = pca.fit_transform(x) # peform PCA\n",
    "    print(\"Variance explained: {} percent\".format(100 * pca.explained_variance_ratio_.cumsum()[1]))\n",
    "\n",
    "    df = pd.DataFrame(principalComponents, index=list(concat.keys())[0:num_char], columns=['PC1','PC2'])\n",
    "    fig = px.scatter(df, x='PC1', y='PC2', text=df.index) # plot according to the principal components\n",
    "\n",
    "    fig.update_layout(\n",
    "        font=dict(\n",
    "            family=\"Arial\",\n",
    "            size=15,  # Set the font size here\n",
    "            color=\"RebeccaPurple\"\n",
    "        ),\n",
    "        height=550\n",
    "    )\n",
    "\n",
    "    fig.update_traces(textposition=\"top center\")\n",
    "\n",
    "    config = {\n",
    "        'toImageButtonOptions': {\n",
    "            'format': 'png',\n",
    "            'height': 550,\n",
    "            'width': 1100,\n",
    "            'scale': 8\n",
    "        }\n",
    "    }\n",
    "    fig.show(config=config)\n",
    "    \n",
    "drawPCAGraph(traitProbsDf_iter20)\n",
    "drawPCAGraph(traitProbsDf_iter40)\n",
    "drawPCAGraph(traitProbsDf_iter60)"
   ]
  },
  {
   "cell_type": "markdown",
   "id": "14850f51",
   "metadata": {},
   "source": [
    "# Task 3"
   ]
  },
  {
   "cell_type": "code",
   "execution_count": 26,
   "id": "1cf6686a",
   "metadata": {},
   "outputs": [
    {
     "data": {
      "text/html": [
       "<div>\n",
       "<style scoped>\n",
       "    .dataframe tbody tr th:only-of-type {\n",
       "        vertical-align: middle;\n",
       "    }\n",
       "\n",
       "    .dataframe tbody tr th {\n",
       "        vertical-align: top;\n",
       "    }\n",
       "\n",
       "    .dataframe thead th {\n",
       "        text-align: right;\n",
       "    }\n",
       "</style>\n",
       "<table border=\"1\" class=\"dataframe\">\n",
       "  <thead>\n",
       "    <tr style=\"text-align: right;\">\n",
       "      <th></th>\n",
       "      <th>GANDALF</th>\n",
       "      <th>SAM</th>\n",
       "      <th>FRODO</th>\n",
       "      <th>ARAGORN</th>\n",
       "      <th>GOLLUM</th>\n",
       "      <th>THEODEN</th>\n",
       "      <th>PIPPIN</th>\n",
       "      <th>GIMLI</th>\n",
       "      <th>BILBO</th>\n",
       "      <th>MERRY</th>\n",
       "    </tr>\n",
       "  </thead>\n",
       "  <tbody>\n",
       "    <tr>\n",
       "      <th>GANDALF</th>\n",
       "      <td>1.000000</td>\n",
       "      <td>0.729438</td>\n",
       "      <td>0.630349</td>\n",
       "      <td>0.658853</td>\n",
       "      <td>0.765936</td>\n",
       "      <td>0.720793</td>\n",
       "      <td>0.703277</td>\n",
       "      <td>0.570990</td>\n",
       "      <td>0.656181</td>\n",
       "      <td>0.777237</td>\n",
       "    </tr>\n",
       "    <tr>\n",
       "      <th>SAM</th>\n",
       "      <td>0.729438</td>\n",
       "      <td>1.000000</td>\n",
       "      <td>0.970548</td>\n",
       "      <td>0.980957</td>\n",
       "      <td>0.858812</td>\n",
       "      <td>0.934109</td>\n",
       "      <td>0.962838</td>\n",
       "      <td>0.945410</td>\n",
       "      <td>0.934887</td>\n",
       "      <td>0.955516</td>\n",
       "    </tr>\n",
       "    <tr>\n",
       "      <th>FRODO</th>\n",
       "      <td>0.630349</td>\n",
       "      <td>0.970548</td>\n",
       "      <td>1.000000</td>\n",
       "      <td>0.951464</td>\n",
       "      <td>0.896245</td>\n",
       "      <td>0.961189</td>\n",
       "      <td>0.981066</td>\n",
       "      <td>0.961069</td>\n",
       "      <td>0.920793</td>\n",
       "      <td>0.921640</td>\n",
       "    </tr>\n",
       "    <tr>\n",
       "      <th>ARAGORN</th>\n",
       "      <td>0.658853</td>\n",
       "      <td>0.980957</td>\n",
       "      <td>0.951464</td>\n",
       "      <td>1.000000</td>\n",
       "      <td>0.812455</td>\n",
       "      <td>0.901040</td>\n",
       "      <td>0.960166</td>\n",
       "      <td>0.919058</td>\n",
       "      <td>0.909333</td>\n",
       "      <td>0.971248</td>\n",
       "    </tr>\n",
       "    <tr>\n",
       "      <th>GOLLUM</th>\n",
       "      <td>0.765936</td>\n",
       "      <td>0.858812</td>\n",
       "      <td>0.896245</td>\n",
       "      <td>0.812455</td>\n",
       "      <td>1.000000</td>\n",
       "      <td>0.978940</td>\n",
       "      <td>0.915065</td>\n",
       "      <td>0.872903</td>\n",
       "      <td>0.893085</td>\n",
       "      <td>0.871726</td>\n",
       "    </tr>\n",
       "    <tr>\n",
       "      <th>THEODEN</th>\n",
       "      <td>0.720793</td>\n",
       "      <td>0.934109</td>\n",
       "      <td>0.961189</td>\n",
       "      <td>0.901040</td>\n",
       "      <td>0.978940</td>\n",
       "      <td>1.000000</td>\n",
       "      <td>0.960072</td>\n",
       "      <td>0.950143</td>\n",
       "      <td>0.952778</td>\n",
       "      <td>0.917301</td>\n",
       "    </tr>\n",
       "    <tr>\n",
       "      <th>PIPPIN</th>\n",
       "      <td>0.703277</td>\n",
       "      <td>0.962838</td>\n",
       "      <td>0.981066</td>\n",
       "      <td>0.960166</td>\n",
       "      <td>0.915065</td>\n",
       "      <td>0.960072</td>\n",
       "      <td>1.000000</td>\n",
       "      <td>0.912606</td>\n",
       "      <td>0.892219</td>\n",
       "      <td>0.968985</td>\n",
       "    </tr>\n",
       "    <tr>\n",
       "      <th>GIMLI</th>\n",
       "      <td>0.570990</td>\n",
       "      <td>0.945410</td>\n",
       "      <td>0.961069</td>\n",
       "      <td>0.919058</td>\n",
       "      <td>0.872903</td>\n",
       "      <td>0.950143</td>\n",
       "      <td>0.912606</td>\n",
       "      <td>1.000000</td>\n",
       "      <td>0.980293</td>\n",
       "      <td>0.862717</td>\n",
       "    </tr>\n",
       "    <tr>\n",
       "      <th>BILBO</th>\n",
       "      <td>0.656181</td>\n",
       "      <td>0.934887</td>\n",
       "      <td>0.920793</td>\n",
       "      <td>0.909333</td>\n",
       "      <td>0.893085</td>\n",
       "      <td>0.952778</td>\n",
       "      <td>0.892219</td>\n",
       "      <td>0.980293</td>\n",
       "      <td>1.000000</td>\n",
       "      <td>0.881425</td>\n",
       "    </tr>\n",
       "    <tr>\n",
       "      <th>MERRY</th>\n",
       "      <td>0.777237</td>\n",
       "      <td>0.955516</td>\n",
       "      <td>0.921640</td>\n",
       "      <td>0.971248</td>\n",
       "      <td>0.871726</td>\n",
       "      <td>0.917301</td>\n",
       "      <td>0.968985</td>\n",
       "      <td>0.862717</td>\n",
       "      <td>0.881425</td>\n",
       "      <td>1.000000</td>\n",
       "    </tr>\n",
       "  </tbody>\n",
       "</table>\n",
       "</div>"
      ],
      "text/plain": [
       "          GANDALF       SAM     FRODO   ARAGORN    GOLLUM   THEODEN    PIPPIN  \\\n",
       "GANDALF  1.000000  0.729438  0.630349  0.658853  0.765936  0.720793  0.703277   \n",
       "SAM      0.729438  1.000000  0.970548  0.980957  0.858812  0.934109  0.962838   \n",
       "FRODO    0.630349  0.970548  1.000000  0.951464  0.896245  0.961189  0.981066   \n",
       "ARAGORN  0.658853  0.980957  0.951464  1.000000  0.812455  0.901040  0.960166   \n",
       "GOLLUM   0.765936  0.858812  0.896245  0.812455  1.000000  0.978940  0.915065   \n",
       "THEODEN  0.720793  0.934109  0.961189  0.901040  0.978940  1.000000  0.960072   \n",
       "PIPPIN   0.703277  0.962838  0.981066  0.960166  0.915065  0.960072  1.000000   \n",
       "GIMLI    0.570990  0.945410  0.961069  0.919058  0.872903  0.950143  0.912606   \n",
       "BILBO    0.656181  0.934887  0.920793  0.909333  0.893085  0.952778  0.892219   \n",
       "MERRY    0.777237  0.955516  0.921640  0.971248  0.871726  0.917301  0.968985   \n",
       "\n",
       "            GIMLI     BILBO     MERRY  \n",
       "GANDALF  0.570990  0.656181  0.777237  \n",
       "SAM      0.945410  0.934887  0.955516  \n",
       "FRODO    0.961069  0.920793  0.921640  \n",
       "ARAGORN  0.919058  0.909333  0.971248  \n",
       "GOLLUM   0.872903  0.893085  0.871726  \n",
       "THEODEN  0.950143  0.952778  0.917301  \n",
       "PIPPIN   0.912606  0.892219  0.968985  \n",
       "GIMLI    1.000000  0.980293  0.862717  \n",
       "BILBO    0.980293  1.000000  0.881425  \n",
       "MERRY    0.862717  0.881425  1.000000  "
      ]
     },
     "execution_count": 26,
     "metadata": {},
     "output_type": "execute_result"
    }
   ],
   "source": [
    "# For this task, max_iter=20 will be used\n",
    "similarities = {} # contains the pairwise cosine similarities for characters\n",
    "num_char = 10 # number of characters to be included\n",
    "\n",
    "for character1 in list(concat.keys())[0:num_char]:\n",
    "    if not character1 in similarities:\n",
    "        similarities[character1] = {}\n",
    "\n",
    "    for character2 in list(concat.keys())[0:num_char]: # I know, CosSim(A,B)=CosSim(B,A)...\n",
    "        similarities[character1][character2] = cosine_similarity(np.array(list(traitProbsDf_iter20.T.to_dict()[character1].values())).reshape(1, -1), np.array(list(traitProbsDf_iter20.T.to_dict()[character2].values())).reshape(1, -1))[0][0]\n",
    "\n",
    "pd.DataFrame.from_dict(similarities, orient=\"index\")"
   ]
  },
  {
   "cell_type": "markdown",
   "id": "f3f71c6b",
   "metadata": {},
   "source": [
    "# Task 4"
   ]
  },
  {
   "cell_type": "markdown",
   "id": "5c70355d",
   "metadata": {},
   "source": [
    "Please see tasks_tool2.ipynb and tasks_tool3.ipynb."
   ]
  },
  {
   "cell_type": "markdown",
   "id": "d9f07a5f",
   "metadata": {},
   "source": [
    "# Task 5"
   ]
  },
  {
   "cell_type": "code",
   "execution_count": 27,
   "id": "baf87b79",
   "metadata": {},
   "outputs": [
    {
     "name": "stdout",
     "output_type": "stream",
     "text": [
      "Done!\n"
     ]
    }
   ],
   "source": [
    "probVectors = []\n",
    "dialogue = []\n",
    "\n",
    "for index, row in script.iterrows(): # go through the entries one by one for clarity\n",
    "    line = str(row[\"dialog\"]).lower()\n",
    "    dialogue.append(line)\n",
    "\n",
    "for trait in range(0, 5):\n",
    "    xx_test = vectorizers[trait].transform(dialogue)\n",
    "    probVectors.append(classifiers[trait].predict_proba(xx_test)[:,1]) # predict probability for every trait\n",
    "\n",
    "traitVectors = []\n",
    "\n",
    "for index in range(len(probVectors[0])):\n",
    "    traitVector = [probVectors[0][index], probVectors[1][index], probVectors[2][index], probVectors[3][index], probVectors[4][index]]\n",
    "    traitVectors.append(traitVector)\n",
    "\n",
    "scores = pd.DataFrame(traitVectors)\n",
    "scores.to_csv(\"traitVectors_tool1.csv\") # save the scores of each script in a \"databse\" file\n",
    "print(\"Done!\")"
   ]
  },
  {
   "cell_type": "markdown",
   "id": "1b8a89ef",
   "metadata": {},
   "source": [
    "# Task 6"
   ]
  },
  {
   "cell_type": "code",
   "execution_count": 28,
   "id": "fa59830d",
   "metadata": {},
   "outputs": [
    {
     "data": {
      "text/html": [
       "<div>\n",
       "<style scoped>\n",
       "    .dataframe tbody tr th:only-of-type {\n",
       "        vertical-align: middle;\n",
       "    }\n",
       "\n",
       "    .dataframe tbody tr th {\n",
       "        vertical-align: top;\n",
       "    }\n",
       "\n",
       "    .dataframe thead th {\n",
       "        text-align: right;\n",
       "    }\n",
       "</style>\n",
       "<table border=\"1\" class=\"dataframe\">\n",
       "  <thead>\n",
       "    <tr style=\"text-align: right;\">\n",
       "      <th></th>\n",
       "      <th>Score 1</th>\n",
       "      <th>Score 2</th>\n",
       "      <th>Most frequent trait</th>\n",
       "    </tr>\n",
       "  </thead>\n",
       "  <tbody>\n",
       "    <tr>\n",
       "      <th>GANDALF</th>\n",
       "      <td>0.053659</td>\n",
       "      <td>0.804878</td>\n",
       "      <td>Extraversion</td>\n",
       "    </tr>\n",
       "    <tr>\n",
       "      <th>SAM</th>\n",
       "      <td>0.069124</td>\n",
       "      <td>0.709677</td>\n",
       "      <td>Extraversion</td>\n",
       "    </tr>\n",
       "    <tr>\n",
       "      <th>FRODO</th>\n",
       "      <td>0.057522</td>\n",
       "      <td>0.699115</td>\n",
       "      <td>Extraversion</td>\n",
       "    </tr>\n",
       "    <tr>\n",
       "      <th>ARAGORN</th>\n",
       "      <td>0.032086</td>\n",
       "      <td>0.860963</td>\n",
       "      <td>Extraversion</td>\n",
       "    </tr>\n",
       "    <tr>\n",
       "      <th>GOLLUM</th>\n",
       "      <td>0.029851</td>\n",
       "      <td>0.761194</td>\n",
       "      <td>Extraversion</td>\n",
       "    </tr>\n",
       "    <tr>\n",
       "      <th>...</th>\n",
       "      <td>...</td>\n",
       "      <td>...</td>\n",
       "      <td>...</td>\n",
       "    </tr>\n",
       "    <tr>\n",
       "      <th>OLD MAN</th>\n",
       "      <td>0.000000</td>\n",
       "      <td>1.000000</td>\n",
       "      <td>Agreeableness</td>\n",
       "    </tr>\n",
       "    <tr>\n",
       "      <th>FRODO VOICE</th>\n",
       "      <td>0.000000</td>\n",
       "      <td>1.000000</td>\n",
       "      <td>Extraversion</td>\n",
       "    </tr>\n",
       "    <tr>\n",
       "      <th>MRS BRACEGIRDLE</th>\n",
       "      <td>1.000000</td>\n",
       "      <td>1.000000</td>\n",
       "      <td>Extraversion</td>\n",
       "    </tr>\n",
       "    <tr>\n",
       "      <th>PROUDFOOT HOBBIT</th>\n",
       "      <td>1.000000</td>\n",
       "      <td>1.000000</td>\n",
       "      <td>Extraversion</td>\n",
       "    </tr>\n",
       "    <tr>\n",
       "      <th>MEN</th>\n",
       "      <td>0.000000</td>\n",
       "      <td>1.000000</td>\n",
       "      <td>Agreeableness</td>\n",
       "    </tr>\n",
       "  </tbody>\n",
       "</table>\n",
       "<p>111 rows × 3 columns</p>\n",
       "</div>"
      ],
      "text/plain": [
       "                   Score 1   Score 2 Most frequent trait\n",
       "GANDALF           0.053659  0.804878        Extraversion\n",
       "SAM               0.069124  0.709677        Extraversion\n",
       "FRODO             0.057522  0.699115        Extraversion\n",
       "ARAGORN           0.032086  0.860963        Extraversion\n",
       "GOLLUM            0.029851  0.761194        Extraversion\n",
       "...                    ...       ...                 ...\n",
       "OLD MAN           0.000000  1.000000       Agreeableness\n",
       "FRODO VOICE       0.000000  1.000000        Extraversion\n",
       "MRS BRACEGIRDLE   1.000000  1.000000        Extraversion\n",
       "PROUDFOOT HOBBIT  1.000000  1.000000        Extraversion\n",
       "MEN               0.000000  1.000000       Agreeableness\n",
       "\n",
       "[111 rows x 3 columns]"
      ]
     },
     "metadata": {},
     "output_type": "display_data"
    }
   ],
   "source": [
    "dominatingTrait = {}\n",
    "\n",
    "for character in concat:\n",
    "    dominatingTrait[character] = traitProbs[character].index(max(traitProbs[character])) # dominant trait for every char\n",
    "\n",
    "dominatingProportion = {}\n",
    "\n",
    "lista = list(script.iterrows())\n",
    "traits = {}\n",
    "\n",
    "for i, score in enumerate(traitVectors):\n",
    "    dominantTrait = score.index(max(score)) # dominant trait of the script\n",
    "    character = lista[i][1][\"char\"].strip().replace(\"(\", \"\") # the character of this script\n",
    "\n",
    "    if not character in dominatingProportion:\n",
    "        dominatingProportion[character] = {\"Score 1\": 0, \"Score 2\": 0, \"Most frequent trait\": 0}\n",
    "        traits[character] = []\n",
    "\n",
    "    traits[character].append(dominantTrait)\n",
    "    \n",
    "    if dominantTrait == dominatingTrait[character]: # it's a match!\n",
    "        dominatingProportion[character][\"Score 1\"] += 1\n",
    "\n",
    "totalCounts = {}\n",
    "for index, row in script.iterrows(): # go through the entries one by one for clarity (of course, could be implemented more compactly with nice pandas oneliners)\n",
    "    character = row[\"char\"].strip().replace(\"(\", \"\")\n",
    "    \n",
    "    if not character in totalCounts:\n",
    "        totalCounts[character] = 0\n",
    "        \n",
    "    totalCounts[character] += 1\n",
    "\n",
    "for character in totalCounts:\n",
    "    dominatingProportion[character][\"Score 1\"] /= totalCounts[character] # for each character, divide the count by the total number of scripts for this char\n",
    "    \n",
    "    freqTrait = max(set(traits[character]), key=traits[character].count)\n",
    "    dominatingProportion[character][\"Score 2\"] = traits[character].count(freqTrait) / len(traits[character])\n",
    "    dominatingProportion[character][\"Most frequent trait\"] = traitNames[freqTrait]\n",
    "    \n",
    "df = pd.DataFrame.from_dict(dominatingProportion, orient=\"index\")\n",
    "df = df.reindex(concat.keys())\n",
    "display(df)"
   ]
  },
  {
   "cell_type": "markdown",
   "id": "673eccd9",
   "metadata": {},
   "source": [
    "# Task 7"
   ]
  },
  {
   "cell_type": "code",
   "execution_count": 29,
   "id": "9528325c",
   "metadata": {},
   "outputs": [
    {
     "name": "stderr",
     "output_type": "stream",
     "text": [
      "[nltk_data] Downloading package vader_lexicon to\n",
      "[nltk_data]     C:\\Users\\pake10\\AppData\\Roaming\\nltk_data...\n",
      "[nltk_data]   Package vader_lexicon is already up-to-date!\n"
     ]
    },
    {
     "data": {
      "application/vnd.plotly.v1+json": {
       "config": {
        "plotlyServerURL": "https://plot.ly",
        "toImageButtonOptions": {
         "format": "png",
         "height": 1200,
         "scale": 10,
         "width": 1000
        }
       },
       "data": [
        {
         "marker": {
          "color": "cornflowerblue"
         },
         "name": "Neutral",
         "showlegend": true,
         "type": "bar",
         "x": [
          "EXT",
          "NEU",
          "AGR",
          "CON",
          "OPN"
         ],
         "xaxis": "x",
         "y": [
          68,
          3,
          10,
          0,
          1
         ],
         "yaxis": "y"
        },
        {
         "marker": {
          "color": "mediumseagreen"
         },
         "name": "Positive",
         "showlegend": true,
         "type": "bar",
         "x": [
          "EXT",
          "NEU",
          "AGR",
          "CON",
          "OPN"
         ],
         "xaxis": "x",
         "y": [
          43,
          5,
          11,
          0,
          1
         ],
         "yaxis": "y"
        },
        {
         "marker": {
          "color": "crimson"
         },
         "name": "Negative",
         "showlegend": true,
         "type": "bar",
         "x": [
          "EXT",
          "NEU",
          "AGR",
          "CON",
          "OPN"
         ],
         "xaxis": "x",
         "y": [
          54,
          3,
          4,
          0,
          2
         ],
         "yaxis": "y"
        },
        {
         "marker": {
          "color": "cornflowerblue"
         },
         "name": "Neutral",
         "showlegend": false,
         "type": "bar",
         "x": [
          "EXT",
          "NEU",
          "AGR",
          "CON",
          "OPN"
         ],
         "xaxis": "x2",
         "y": [
          93,
          4,
          14,
          0,
          10
         ],
         "yaxis": "y2"
        },
        {
         "marker": {
          "color": "mediumseagreen"
         },
         "name": "Positive",
         "showlegend": false,
         "type": "bar",
         "x": [
          "EXT",
          "NEU",
          "AGR",
          "CON",
          "OPN"
         ],
         "xaxis": "x2",
         "y": [
          28,
          3,
          9,
          0,
          1
         ],
         "yaxis": "y2"
        },
        {
         "marker": {
          "color": "crimson"
         },
         "name": "Negative",
         "showlegend": false,
         "type": "bar",
         "x": [
          "EXT",
          "NEU",
          "AGR",
          "CON",
          "OPN"
         ],
         "xaxis": "x2",
         "y": [
          33,
          3,
          15,
          0,
          4
         ],
         "yaxis": "y2"
        },
        {
         "marker": {
          "color": "cornflowerblue"
         },
         "name": "Neutral",
         "showlegend": false,
         "type": "bar",
         "x": [
          "EXT",
          "NEU",
          "AGR",
          "CON",
          "OPN"
         ],
         "xaxis": "x3",
         "y": [
          109,
          10,
          16,
          2,
          8
         ],
         "yaxis": "y3"
        },
        {
         "marker": {
          "color": "mediumseagreen"
         },
         "name": "Positive",
         "showlegend": false,
         "type": "bar",
         "x": [
          "EXT",
          "NEU",
          "AGR",
          "CON",
          "OPN"
         ],
         "xaxis": "x3",
         "y": [
          25,
          5,
          13,
          0,
          3
         ],
         "yaxis": "y3"
        },
        {
         "marker": {
          "color": "crimson"
         },
         "name": "Negative",
         "showlegend": false,
         "type": "bar",
         "x": [
          "EXT",
          "NEU",
          "AGR",
          "CON",
          "OPN"
         ],
         "xaxis": "x3",
         "y": [
          24,
          1,
          8,
          0,
          2
         ],
         "yaxis": "y3"
        },
        {
         "marker": {
          "color": "cornflowerblue"
         },
         "name": "Neutral",
         "showlegend": false,
         "type": "bar",
         "x": [
          "EXT",
          "NEU",
          "AGR",
          "CON",
          "OPN"
         ],
         "xaxis": "x4",
         "y": [
          106,
          3,
          11,
          0,
          3
         ],
         "yaxis": "y4"
        },
        {
         "marker": {
          "color": "mediumseagreen"
         },
         "name": "Positive",
         "showlegend": false,
         "type": "bar",
         "x": [
          "EXT",
          "NEU",
          "AGR",
          "CON",
          "OPN"
         ],
         "xaxis": "x4",
         "y": [
          27,
          1,
          3,
          0,
          1
         ],
         "yaxis": "y4"
        },
        {
         "marker": {
          "color": "crimson"
         },
         "name": "Negative",
         "showlegend": false,
         "type": "bar",
         "x": [
          "EXT",
          "NEU",
          "AGR",
          "CON",
          "OPN"
         ],
         "xaxis": "x4",
         "y": [
          28,
          0,
          1,
          1,
          2
         ],
         "yaxis": "y4"
        },
        {
         "marker": {
          "color": "cornflowerblue"
         },
         "name": "Neutral",
         "showlegend": false,
         "type": "bar",
         "x": [
          "EXT",
          "NEU",
          "AGR",
          "CON",
          "OPN"
         ],
         "xaxis": "x5",
         "y": [
          44,
          3,
          3,
          0,
          1
         ],
         "yaxis": "y5"
        },
        {
         "marker": {
          "color": "mediumseagreen"
         },
         "name": "Positive",
         "showlegend": false,
         "type": "bar",
         "x": [
          "EXT",
          "NEU",
          "AGR",
          "CON",
          "OPN"
         ],
         "xaxis": "x5",
         "y": [
          28,
          1,
          11,
          0,
          1
         ],
         "yaxis": "y5"
        },
        {
         "marker": {
          "color": "crimson"
         },
         "name": "Negative",
         "showlegend": false,
         "type": "bar",
         "x": [
          "EXT",
          "NEU",
          "AGR",
          "CON",
          "OPN"
         ],
         "xaxis": "x5",
         "y": [
          30,
          5,
          5,
          0,
          2
         ],
         "yaxis": "y5"
        },
        {
         "marker": {
          "color": "cornflowerblue"
         },
         "name": "Neutral",
         "showlegend": false,
         "type": "bar",
         "x": [
          "EXT",
          "NEU",
          "AGR",
          "CON",
          "OPN"
         ],
         "xaxis": "x6",
         "y": [
          48,
          3,
          8,
          0,
          1
         ],
         "yaxis": "y6"
        },
        {
         "marker": {
          "color": "mediumseagreen"
         },
         "name": "Positive",
         "showlegend": false,
         "type": "bar",
         "x": [
          "EXT",
          "NEU",
          "AGR",
          "CON",
          "OPN"
         ],
         "xaxis": "x6",
         "y": [
          20,
          0,
          3,
          0,
          0
         ],
         "yaxis": "y6"
        },
        {
         "marker": {
          "color": "crimson"
         },
         "name": "Negative",
         "showlegend": false,
         "type": "bar",
         "x": [
          "EXT",
          "NEU",
          "AGR",
          "CON",
          "OPN"
         ],
         "xaxis": "x6",
         "y": [
          25,
          0,
          0,
          0,
          2
         ],
         "yaxis": "y6"
        },
        {
         "marker": {
          "color": "cornflowerblue"
         },
         "name": "Neutral",
         "showlegend": false,
         "type": "bar",
         "x": [
          "EXT",
          "NEU",
          "AGR",
          "CON",
          "OPN"
         ],
         "xaxis": "x7",
         "y": [
          66,
          2,
          11,
          0,
          5
         ],
         "yaxis": "y7"
        },
        {
         "marker": {
          "color": "mediumseagreen"
         },
         "name": "Positive",
         "showlegend": false,
         "type": "bar",
         "x": [
          "EXT",
          "NEU",
          "AGR",
          "CON",
          "OPN"
         ],
         "xaxis": "x7",
         "y": [
          34,
          4,
          13,
          0,
          2
         ],
         "yaxis": "y7"
        },
        {
         "marker": {
          "color": "crimson"
         },
         "name": "Negative",
         "showlegend": false,
         "type": "bar",
         "x": [
          "EXT",
          "NEU",
          "AGR",
          "CON",
          "OPN"
         ],
         "xaxis": "x7",
         "y": [
          19,
          2,
          3,
          0,
          2
         ],
         "yaxis": "y7"
        },
        {
         "marker": {
          "color": "cornflowerblue"
         },
         "name": "Neutral",
         "showlegend": false,
         "type": "bar",
         "x": [
          "EXT",
          "NEU",
          "AGR",
          "CON",
          "OPN"
         ],
         "xaxis": "x8",
         "y": [
          39,
          3,
          14,
          0,
          4
         ],
         "yaxis": "y8"
        },
        {
         "marker": {
          "color": "mediumseagreen"
         },
         "name": "Positive",
         "showlegend": false,
         "type": "bar",
         "x": [
          "EXT",
          "NEU",
          "AGR",
          "CON",
          "OPN"
         ],
         "xaxis": "x8",
         "y": [
          21,
          1,
          5,
          1,
          0
         ],
         "yaxis": "y8"
        },
        {
         "marker": {
          "color": "crimson"
         },
         "name": "Negative",
         "showlegend": false,
         "type": "bar",
         "x": [
          "EXT",
          "NEU",
          "AGR",
          "CON",
          "OPN"
         ],
         "xaxis": "x8",
         "y": [
          24,
          2,
          2,
          0,
          0
         ],
         "yaxis": "y8"
        },
        {
         "marker": {
          "color": "cornflowerblue"
         },
         "name": "Neutral",
         "showlegend": false,
         "type": "bar",
         "x": [
          "EXT",
          "NEU",
          "AGR",
          "CON",
          "OPN"
         ],
         "xaxis": "x9",
         "y": [
          12,
          1,
          1,
          1,
          1
         ],
         "yaxis": "y9"
        },
        {
         "marker": {
          "color": "mediumseagreen"
         },
         "name": "Positive",
         "showlegend": false,
         "type": "bar",
         "x": [
          "EXT",
          "NEU",
          "AGR",
          "CON",
          "OPN"
         ],
         "xaxis": "x9",
         "y": [
          13,
          2,
          7,
          0,
          2
         ],
         "yaxis": "y9"
        },
        {
         "marker": {
          "color": "crimson"
         },
         "name": "Negative",
         "showlegend": false,
         "type": "bar",
         "x": [
          "EXT",
          "NEU",
          "AGR",
          "CON",
          "OPN"
         ],
         "xaxis": "x9",
         "y": [
          5,
          0,
          1,
          0,
          0
         ],
         "yaxis": "y9"
        },
        {
         "marker": {
          "color": "cornflowerblue"
         },
         "name": "Neutral",
         "showlegend": false,
         "type": "bar",
         "x": [
          "EXT",
          "NEU",
          "AGR",
          "CON",
          "OPN"
         ],
         "xaxis": "x10",
         "y": [
          76,
          4,
          8,
          0,
          3
         ],
         "yaxis": "y10"
        },
        {
         "marker": {
          "color": "mediumseagreen"
         },
         "name": "Positive",
         "showlegend": false,
         "type": "bar",
         "x": [
          "EXT",
          "NEU",
          "AGR",
          "CON",
          "OPN"
         ],
         "xaxis": "x10",
         "y": [
          18,
          2,
          6,
          0,
          1
         ],
         "yaxis": "y10"
        },
        {
         "marker": {
          "color": "crimson"
         },
         "name": "Negative",
         "showlegend": false,
         "type": "bar",
         "x": [
          "EXT",
          "NEU",
          "AGR",
          "CON",
          "OPN"
         ],
         "xaxis": "x10",
         "y": [
          15,
          1,
          1,
          0,
          2
         ],
         "yaxis": "y10"
        }
       ],
       "layout": {
        "annotations": [
         {
          "font": {
           "size": 16
          },
          "showarrow": false,
          "text": "GANDALF",
          "x": 0.14444444444444446,
          "xanchor": "center",
          "xref": "paper",
          "y": 1,
          "yanchor": "bottom",
          "yref": "paper"
         },
         {
          "font": {
           "size": 16
          },
          "showarrow": false,
          "text": "SAM",
          "x": 0.5,
          "xanchor": "center",
          "xref": "paper",
          "y": 1,
          "yanchor": "bottom",
          "yref": "paper"
         },
         {
          "font": {
           "size": 16
          },
          "showarrow": false,
          "text": "FRODO",
          "x": 0.8555555555555556,
          "xanchor": "center",
          "xref": "paper",
          "y": 1,
          "yanchor": "bottom",
          "yref": "paper"
         },
         {
          "font": {
           "size": 16
          },
          "showarrow": false,
          "text": "ARAGORN",
          "x": 0.14444444444444446,
          "xanchor": "center",
          "xref": "paper",
          "y": 0.71875,
          "yanchor": "bottom",
          "yref": "paper"
         },
         {
          "font": {
           "size": 16
          },
          "showarrow": false,
          "text": "GOLLUM",
          "x": 0.5,
          "xanchor": "center",
          "xref": "paper",
          "y": 0.71875,
          "yanchor": "bottom",
          "yref": "paper"
         },
         {
          "font": {
           "size": 16
          },
          "showarrow": false,
          "text": "THEODEN",
          "x": 0.8555555555555556,
          "xanchor": "center",
          "xref": "paper",
          "y": 0.71875,
          "yanchor": "bottom",
          "yref": "paper"
         },
         {
          "font": {
           "size": 16
          },
          "showarrow": false,
          "text": "PIPPIN",
          "x": 0.14444444444444446,
          "xanchor": "center",
          "xref": "paper",
          "y": 0.4375,
          "yanchor": "bottom",
          "yref": "paper"
         },
         {
          "font": {
           "size": 16
          },
          "showarrow": false,
          "text": "GIMLI",
          "x": 0.5,
          "xanchor": "center",
          "xref": "paper",
          "y": 0.4375,
          "yanchor": "bottom",
          "yref": "paper"
         },
         {
          "font": {
           "size": 16
          },
          "showarrow": false,
          "text": "BILBO",
          "x": 0.8555555555555556,
          "xanchor": "center",
          "xref": "paper",
          "y": 0.4375,
          "yanchor": "bottom",
          "yref": "paper"
         },
         {
          "font": {
           "size": 16
          },
          "showarrow": false,
          "text": "MERRY",
          "x": 0.14444444444444446,
          "xanchor": "center",
          "xref": "paper",
          "y": 0.15625,
          "yanchor": "bottom",
          "yref": "paper"
         }
        ],
        "barmode": "stack",
        "template": {
         "data": {
          "bar": [
           {
            "error_x": {
             "color": "#2a3f5f"
            },
            "error_y": {
             "color": "#2a3f5f"
            },
            "marker": {
             "line": {
              "color": "#E5ECF6",
              "width": 0.5
             },
             "pattern": {
              "fillmode": "overlay",
              "size": 10,
              "solidity": 0.2
             }
            },
            "type": "bar"
           }
          ],
          "barpolar": [
           {
            "marker": {
             "line": {
              "color": "#E5ECF6",
              "width": 0.5
             },
             "pattern": {
              "fillmode": "overlay",
              "size": 10,
              "solidity": 0.2
             }
            },
            "type": "barpolar"
           }
          ],
          "carpet": [
           {
            "aaxis": {
             "endlinecolor": "#2a3f5f",
             "gridcolor": "white",
             "linecolor": "white",
             "minorgridcolor": "white",
             "startlinecolor": "#2a3f5f"
            },
            "baxis": {
             "endlinecolor": "#2a3f5f",
             "gridcolor": "white",
             "linecolor": "white",
             "minorgridcolor": "white",
             "startlinecolor": "#2a3f5f"
            },
            "type": "carpet"
           }
          ],
          "choropleth": [
           {
            "colorbar": {
             "outlinewidth": 0,
             "ticks": ""
            },
            "type": "choropleth"
           }
          ],
          "contour": [
           {
            "colorbar": {
             "outlinewidth": 0,
             "ticks": ""
            },
            "colorscale": [
             [
              0,
              "#0d0887"
             ],
             [
              0.1111111111111111,
              "#46039f"
             ],
             [
              0.2222222222222222,
              "#7201a8"
             ],
             [
              0.3333333333333333,
              "#9c179e"
             ],
             [
              0.4444444444444444,
              "#bd3786"
             ],
             [
              0.5555555555555556,
              "#d8576b"
             ],
             [
              0.6666666666666666,
              "#ed7953"
             ],
             [
              0.7777777777777778,
              "#fb9f3a"
             ],
             [
              0.8888888888888888,
              "#fdca26"
             ],
             [
              1,
              "#f0f921"
             ]
            ],
            "type": "contour"
           }
          ],
          "contourcarpet": [
           {
            "colorbar": {
             "outlinewidth": 0,
             "ticks": ""
            },
            "type": "contourcarpet"
           }
          ],
          "heatmap": [
           {
            "colorbar": {
             "outlinewidth": 0,
             "ticks": ""
            },
            "colorscale": [
             [
              0,
              "#0d0887"
             ],
             [
              0.1111111111111111,
              "#46039f"
             ],
             [
              0.2222222222222222,
              "#7201a8"
             ],
             [
              0.3333333333333333,
              "#9c179e"
             ],
             [
              0.4444444444444444,
              "#bd3786"
             ],
             [
              0.5555555555555556,
              "#d8576b"
             ],
             [
              0.6666666666666666,
              "#ed7953"
             ],
             [
              0.7777777777777778,
              "#fb9f3a"
             ],
             [
              0.8888888888888888,
              "#fdca26"
             ],
             [
              1,
              "#f0f921"
             ]
            ],
            "type": "heatmap"
           }
          ],
          "heatmapgl": [
           {
            "colorbar": {
             "outlinewidth": 0,
             "ticks": ""
            },
            "colorscale": [
             [
              0,
              "#0d0887"
             ],
             [
              0.1111111111111111,
              "#46039f"
             ],
             [
              0.2222222222222222,
              "#7201a8"
             ],
             [
              0.3333333333333333,
              "#9c179e"
             ],
             [
              0.4444444444444444,
              "#bd3786"
             ],
             [
              0.5555555555555556,
              "#d8576b"
             ],
             [
              0.6666666666666666,
              "#ed7953"
             ],
             [
              0.7777777777777778,
              "#fb9f3a"
             ],
             [
              0.8888888888888888,
              "#fdca26"
             ],
             [
              1,
              "#f0f921"
             ]
            ],
            "type": "heatmapgl"
           }
          ],
          "histogram": [
           {
            "marker": {
             "pattern": {
              "fillmode": "overlay",
              "size": 10,
              "solidity": 0.2
             }
            },
            "type": "histogram"
           }
          ],
          "histogram2d": [
           {
            "colorbar": {
             "outlinewidth": 0,
             "ticks": ""
            },
            "colorscale": [
             [
              0,
              "#0d0887"
             ],
             [
              0.1111111111111111,
              "#46039f"
             ],
             [
              0.2222222222222222,
              "#7201a8"
             ],
             [
              0.3333333333333333,
              "#9c179e"
             ],
             [
              0.4444444444444444,
              "#bd3786"
             ],
             [
              0.5555555555555556,
              "#d8576b"
             ],
             [
              0.6666666666666666,
              "#ed7953"
             ],
             [
              0.7777777777777778,
              "#fb9f3a"
             ],
             [
              0.8888888888888888,
              "#fdca26"
             ],
             [
              1,
              "#f0f921"
             ]
            ],
            "type": "histogram2d"
           }
          ],
          "histogram2dcontour": [
           {
            "colorbar": {
             "outlinewidth": 0,
             "ticks": ""
            },
            "colorscale": [
             [
              0,
              "#0d0887"
             ],
             [
              0.1111111111111111,
              "#46039f"
             ],
             [
              0.2222222222222222,
              "#7201a8"
             ],
             [
              0.3333333333333333,
              "#9c179e"
             ],
             [
              0.4444444444444444,
              "#bd3786"
             ],
             [
              0.5555555555555556,
              "#d8576b"
             ],
             [
              0.6666666666666666,
              "#ed7953"
             ],
             [
              0.7777777777777778,
              "#fb9f3a"
             ],
             [
              0.8888888888888888,
              "#fdca26"
             ],
             [
              1,
              "#f0f921"
             ]
            ],
            "type": "histogram2dcontour"
           }
          ],
          "mesh3d": [
           {
            "colorbar": {
             "outlinewidth": 0,
             "ticks": ""
            },
            "type": "mesh3d"
           }
          ],
          "parcoords": [
           {
            "line": {
             "colorbar": {
              "outlinewidth": 0,
              "ticks": ""
             }
            },
            "type": "parcoords"
           }
          ],
          "pie": [
           {
            "automargin": true,
            "type": "pie"
           }
          ],
          "scatter": [
           {
            "fillpattern": {
             "fillmode": "overlay",
             "size": 10,
             "solidity": 0.2
            },
            "type": "scatter"
           }
          ],
          "scatter3d": [
           {
            "line": {
             "colorbar": {
              "outlinewidth": 0,
              "ticks": ""
             }
            },
            "marker": {
             "colorbar": {
              "outlinewidth": 0,
              "ticks": ""
             }
            },
            "type": "scatter3d"
           }
          ],
          "scattercarpet": [
           {
            "marker": {
             "colorbar": {
              "outlinewidth": 0,
              "ticks": ""
             }
            },
            "type": "scattercarpet"
           }
          ],
          "scattergeo": [
           {
            "marker": {
             "colorbar": {
              "outlinewidth": 0,
              "ticks": ""
             }
            },
            "type": "scattergeo"
           }
          ],
          "scattergl": [
           {
            "marker": {
             "colorbar": {
              "outlinewidth": 0,
              "ticks": ""
             }
            },
            "type": "scattergl"
           }
          ],
          "scattermapbox": [
           {
            "marker": {
             "colorbar": {
              "outlinewidth": 0,
              "ticks": ""
             }
            },
            "type": "scattermapbox"
           }
          ],
          "scatterpolar": [
           {
            "marker": {
             "colorbar": {
              "outlinewidth": 0,
              "ticks": ""
             }
            },
            "type": "scatterpolar"
           }
          ],
          "scatterpolargl": [
           {
            "marker": {
             "colorbar": {
              "outlinewidth": 0,
              "ticks": ""
             }
            },
            "type": "scatterpolargl"
           }
          ],
          "scatterternary": [
           {
            "marker": {
             "colorbar": {
              "outlinewidth": 0,
              "ticks": ""
             }
            },
            "type": "scatterternary"
           }
          ],
          "surface": [
           {
            "colorbar": {
             "outlinewidth": 0,
             "ticks": ""
            },
            "colorscale": [
             [
              0,
              "#0d0887"
             ],
             [
              0.1111111111111111,
              "#46039f"
             ],
             [
              0.2222222222222222,
              "#7201a8"
             ],
             [
              0.3333333333333333,
              "#9c179e"
             ],
             [
              0.4444444444444444,
              "#bd3786"
             ],
             [
              0.5555555555555556,
              "#d8576b"
             ],
             [
              0.6666666666666666,
              "#ed7953"
             ],
             [
              0.7777777777777778,
              "#fb9f3a"
             ],
             [
              0.8888888888888888,
              "#fdca26"
             ],
             [
              1,
              "#f0f921"
             ]
            ],
            "type": "surface"
           }
          ],
          "table": [
           {
            "cells": {
             "fill": {
              "color": "#EBF0F8"
             },
             "line": {
              "color": "white"
             }
            },
            "header": {
             "fill": {
              "color": "#C8D4E3"
             },
             "line": {
              "color": "white"
             }
            },
            "type": "table"
           }
          ]
         },
         "layout": {
          "annotationdefaults": {
           "arrowcolor": "#2a3f5f",
           "arrowhead": 0,
           "arrowwidth": 1
          },
          "autotypenumbers": "strict",
          "coloraxis": {
           "colorbar": {
            "outlinewidth": 0,
            "ticks": ""
           }
          },
          "colorscale": {
           "diverging": [
            [
             0,
             "#8e0152"
            ],
            [
             0.1,
             "#c51b7d"
            ],
            [
             0.2,
             "#de77ae"
            ],
            [
             0.3,
             "#f1b6da"
            ],
            [
             0.4,
             "#fde0ef"
            ],
            [
             0.5,
             "#f7f7f7"
            ],
            [
             0.6,
             "#e6f5d0"
            ],
            [
             0.7,
             "#b8e186"
            ],
            [
             0.8,
             "#7fbc41"
            ],
            [
             0.9,
             "#4d9221"
            ],
            [
             1,
             "#276419"
            ]
           ],
           "sequential": [
            [
             0,
             "#0d0887"
            ],
            [
             0.1111111111111111,
             "#46039f"
            ],
            [
             0.2222222222222222,
             "#7201a8"
            ],
            [
             0.3333333333333333,
             "#9c179e"
            ],
            [
             0.4444444444444444,
             "#bd3786"
            ],
            [
             0.5555555555555556,
             "#d8576b"
            ],
            [
             0.6666666666666666,
             "#ed7953"
            ],
            [
             0.7777777777777778,
             "#fb9f3a"
            ],
            [
             0.8888888888888888,
             "#fdca26"
            ],
            [
             1,
             "#f0f921"
            ]
           ],
           "sequentialminus": [
            [
             0,
             "#0d0887"
            ],
            [
             0.1111111111111111,
             "#46039f"
            ],
            [
             0.2222222222222222,
             "#7201a8"
            ],
            [
             0.3333333333333333,
             "#9c179e"
            ],
            [
             0.4444444444444444,
             "#bd3786"
            ],
            [
             0.5555555555555556,
             "#d8576b"
            ],
            [
             0.6666666666666666,
             "#ed7953"
            ],
            [
             0.7777777777777778,
             "#fb9f3a"
            ],
            [
             0.8888888888888888,
             "#fdca26"
            ],
            [
             1,
             "#f0f921"
            ]
           ]
          },
          "colorway": [
           "#636efa",
           "#EF553B",
           "#00cc96",
           "#ab63fa",
           "#FFA15A",
           "#19d3f3",
           "#FF6692",
           "#B6E880",
           "#FF97FF",
           "#FECB52"
          ],
          "font": {
           "color": "#2a3f5f"
          },
          "geo": {
           "bgcolor": "white",
           "lakecolor": "white",
           "landcolor": "#E5ECF6",
           "showlakes": true,
           "showland": true,
           "subunitcolor": "white"
          },
          "hoverlabel": {
           "align": "left"
          },
          "hovermode": "closest",
          "mapbox": {
           "style": "light"
          },
          "paper_bgcolor": "white",
          "plot_bgcolor": "#E5ECF6",
          "polar": {
           "angularaxis": {
            "gridcolor": "white",
            "linecolor": "white",
            "ticks": ""
           },
           "bgcolor": "#E5ECF6",
           "radialaxis": {
            "gridcolor": "white",
            "linecolor": "white",
            "ticks": ""
           }
          },
          "scene": {
           "xaxis": {
            "backgroundcolor": "#E5ECF6",
            "gridcolor": "white",
            "gridwidth": 2,
            "linecolor": "white",
            "showbackground": true,
            "ticks": "",
            "zerolinecolor": "white"
           },
           "yaxis": {
            "backgroundcolor": "#E5ECF6",
            "gridcolor": "white",
            "gridwidth": 2,
            "linecolor": "white",
            "showbackground": true,
            "ticks": "",
            "zerolinecolor": "white"
           },
           "zaxis": {
            "backgroundcolor": "#E5ECF6",
            "gridcolor": "white",
            "gridwidth": 2,
            "linecolor": "white",
            "showbackground": true,
            "ticks": "",
            "zerolinecolor": "white"
           }
          },
          "shapedefaults": {
           "line": {
            "color": "#2a3f5f"
           }
          },
          "ternary": {
           "aaxis": {
            "gridcolor": "white",
            "linecolor": "white",
            "ticks": ""
           },
           "baxis": {
            "gridcolor": "white",
            "linecolor": "white",
            "ticks": ""
           },
           "bgcolor": "#E5ECF6",
           "caxis": {
            "gridcolor": "white",
            "linecolor": "white",
            "ticks": ""
           }
          },
          "title": {
           "x": 0.05
          },
          "xaxis": {
           "automargin": true,
           "gridcolor": "white",
           "linecolor": "white",
           "ticks": "",
           "title": {
            "standoff": 15
           },
           "zerolinecolor": "white",
           "zerolinewidth": 2
          },
          "yaxis": {
           "automargin": true,
           "gridcolor": "white",
           "linecolor": "white",
           "ticks": "",
           "title": {
            "standoff": 15
           },
           "zerolinecolor": "white",
           "zerolinewidth": 2
          }
         }
        },
        "xaxis": {
         "anchor": "y",
         "domain": [
          0,
          0.2888888888888889
         ]
        },
        "xaxis10": {
         "anchor": "y10",
         "domain": [
          0,
          0.2888888888888889
         ]
        },
        "xaxis11": {
         "anchor": "y11",
         "domain": [
          0.35555555555555557,
          0.6444444444444445
         ]
        },
        "xaxis12": {
         "anchor": "y12",
         "domain": [
          0.7111111111111111,
          1
         ]
        },
        "xaxis2": {
         "anchor": "y2",
         "domain": [
          0.35555555555555557,
          0.6444444444444445
         ]
        },
        "xaxis3": {
         "anchor": "y3",
         "domain": [
          0.7111111111111111,
          1
         ]
        },
        "xaxis4": {
         "anchor": "y4",
         "domain": [
          0,
          0.2888888888888889
         ]
        },
        "xaxis5": {
         "anchor": "y5",
         "domain": [
          0.35555555555555557,
          0.6444444444444445
         ]
        },
        "xaxis6": {
         "anchor": "y6",
         "domain": [
          0.7111111111111111,
          1
         ]
        },
        "xaxis7": {
         "anchor": "y7",
         "domain": [
          0,
          0.2888888888888889
         ]
        },
        "xaxis8": {
         "anchor": "y8",
         "domain": [
          0.35555555555555557,
          0.6444444444444445
         ]
        },
        "xaxis9": {
         "anchor": "y9",
         "domain": [
          0.7111111111111111,
          1
         ]
        },
        "yaxis": {
         "anchor": "x",
         "domain": [
          0.84375,
          1
         ]
        },
        "yaxis10": {
         "anchor": "x10",
         "domain": [
          0,
          0.15625
         ]
        },
        "yaxis11": {
         "anchor": "x11",
         "domain": [
          0,
          0.15625
         ]
        },
        "yaxis12": {
         "anchor": "x12",
         "domain": [
          0,
          0.15625
         ]
        },
        "yaxis2": {
         "anchor": "x2",
         "domain": [
          0.84375,
          1
         ]
        },
        "yaxis3": {
         "anchor": "x3",
         "domain": [
          0.84375,
          1
         ]
        },
        "yaxis4": {
         "anchor": "x4",
         "domain": [
          0.5625,
          0.71875
         ]
        },
        "yaxis5": {
         "anchor": "x5",
         "domain": [
          0.5625,
          0.71875
         ]
        },
        "yaxis6": {
         "anchor": "x6",
         "domain": [
          0.5625,
          0.71875
         ]
        },
        "yaxis7": {
         "anchor": "x7",
         "domain": [
          0.28125,
          0.4375
         ]
        },
        "yaxis8": {
         "anchor": "x8",
         "domain": [
          0.28125,
          0.4375
         ]
        },
        "yaxis9": {
         "anchor": "x9",
         "domain": [
          0.28125,
          0.4375
         ]
        }
       }
      },
      "text/html": [
       "<div>                            <div id=\"04d5470f-9d16-4c4a-bbb3-e9285aa08767\" class=\"plotly-graph-div\" style=\"height:525px; width:100%;\"></div>            <script type=\"text/javascript\">                require([\"plotly\"], function(Plotly) {                    window.PLOTLYENV=window.PLOTLYENV || {};                                    if (document.getElementById(\"04d5470f-9d16-4c4a-bbb3-e9285aa08767\")) {                    Plotly.newPlot(                        \"04d5470f-9d16-4c4a-bbb3-e9285aa08767\",                        [{\"marker\":{\"color\":\"cornflowerblue\"},\"name\":\"Neutral\",\"showlegend\":true,\"x\":[\"EXT\",\"NEU\",\"AGR\",\"CON\",\"OPN\"],\"y\":[68,3,10,0,1],\"type\":\"bar\",\"xaxis\":\"x\",\"yaxis\":\"y\"},{\"marker\":{\"color\":\"mediumseagreen\"},\"name\":\"Positive\",\"showlegend\":true,\"x\":[\"EXT\",\"NEU\",\"AGR\",\"CON\",\"OPN\"],\"y\":[43,5,11,0,1],\"type\":\"bar\",\"xaxis\":\"x\",\"yaxis\":\"y\"},{\"marker\":{\"color\":\"crimson\"},\"name\":\"Negative\",\"showlegend\":true,\"x\":[\"EXT\",\"NEU\",\"AGR\",\"CON\",\"OPN\"],\"y\":[54,3,4,0,2],\"type\":\"bar\",\"xaxis\":\"x\",\"yaxis\":\"y\"},{\"marker\":{\"color\":\"cornflowerblue\"},\"name\":\"Neutral\",\"showlegend\":false,\"x\":[\"EXT\",\"NEU\",\"AGR\",\"CON\",\"OPN\"],\"y\":[93,4,14,0,10],\"type\":\"bar\",\"xaxis\":\"x2\",\"yaxis\":\"y2\"},{\"marker\":{\"color\":\"mediumseagreen\"},\"name\":\"Positive\",\"showlegend\":false,\"x\":[\"EXT\",\"NEU\",\"AGR\",\"CON\",\"OPN\"],\"y\":[28,3,9,0,1],\"type\":\"bar\",\"xaxis\":\"x2\",\"yaxis\":\"y2\"},{\"marker\":{\"color\":\"crimson\"},\"name\":\"Negative\",\"showlegend\":false,\"x\":[\"EXT\",\"NEU\",\"AGR\",\"CON\",\"OPN\"],\"y\":[33,3,15,0,4],\"type\":\"bar\",\"xaxis\":\"x2\",\"yaxis\":\"y2\"},{\"marker\":{\"color\":\"cornflowerblue\"},\"name\":\"Neutral\",\"showlegend\":false,\"x\":[\"EXT\",\"NEU\",\"AGR\",\"CON\",\"OPN\"],\"y\":[109,10,16,2,8],\"type\":\"bar\",\"xaxis\":\"x3\",\"yaxis\":\"y3\"},{\"marker\":{\"color\":\"mediumseagreen\"},\"name\":\"Positive\",\"showlegend\":false,\"x\":[\"EXT\",\"NEU\",\"AGR\",\"CON\",\"OPN\"],\"y\":[25,5,13,0,3],\"type\":\"bar\",\"xaxis\":\"x3\",\"yaxis\":\"y3\"},{\"marker\":{\"color\":\"crimson\"},\"name\":\"Negative\",\"showlegend\":false,\"x\":[\"EXT\",\"NEU\",\"AGR\",\"CON\",\"OPN\"],\"y\":[24,1,8,0,2],\"type\":\"bar\",\"xaxis\":\"x3\",\"yaxis\":\"y3\"},{\"marker\":{\"color\":\"cornflowerblue\"},\"name\":\"Neutral\",\"showlegend\":false,\"x\":[\"EXT\",\"NEU\",\"AGR\",\"CON\",\"OPN\"],\"y\":[106,3,11,0,3],\"type\":\"bar\",\"xaxis\":\"x4\",\"yaxis\":\"y4\"},{\"marker\":{\"color\":\"mediumseagreen\"},\"name\":\"Positive\",\"showlegend\":false,\"x\":[\"EXT\",\"NEU\",\"AGR\",\"CON\",\"OPN\"],\"y\":[27,1,3,0,1],\"type\":\"bar\",\"xaxis\":\"x4\",\"yaxis\":\"y4\"},{\"marker\":{\"color\":\"crimson\"},\"name\":\"Negative\",\"showlegend\":false,\"x\":[\"EXT\",\"NEU\",\"AGR\",\"CON\",\"OPN\"],\"y\":[28,0,1,1,2],\"type\":\"bar\",\"xaxis\":\"x4\",\"yaxis\":\"y4\"},{\"marker\":{\"color\":\"cornflowerblue\"},\"name\":\"Neutral\",\"showlegend\":false,\"x\":[\"EXT\",\"NEU\",\"AGR\",\"CON\",\"OPN\"],\"y\":[44,3,3,0,1],\"type\":\"bar\",\"xaxis\":\"x5\",\"yaxis\":\"y5\"},{\"marker\":{\"color\":\"mediumseagreen\"},\"name\":\"Positive\",\"showlegend\":false,\"x\":[\"EXT\",\"NEU\",\"AGR\",\"CON\",\"OPN\"],\"y\":[28,1,11,0,1],\"type\":\"bar\",\"xaxis\":\"x5\",\"yaxis\":\"y5\"},{\"marker\":{\"color\":\"crimson\"},\"name\":\"Negative\",\"showlegend\":false,\"x\":[\"EXT\",\"NEU\",\"AGR\",\"CON\",\"OPN\"],\"y\":[30,5,5,0,2],\"type\":\"bar\",\"xaxis\":\"x5\",\"yaxis\":\"y5\"},{\"marker\":{\"color\":\"cornflowerblue\"},\"name\":\"Neutral\",\"showlegend\":false,\"x\":[\"EXT\",\"NEU\",\"AGR\",\"CON\",\"OPN\"],\"y\":[48,3,8,0,1],\"type\":\"bar\",\"xaxis\":\"x6\",\"yaxis\":\"y6\"},{\"marker\":{\"color\":\"mediumseagreen\"},\"name\":\"Positive\",\"showlegend\":false,\"x\":[\"EXT\",\"NEU\",\"AGR\",\"CON\",\"OPN\"],\"y\":[20,0,3,0,0],\"type\":\"bar\",\"xaxis\":\"x6\",\"yaxis\":\"y6\"},{\"marker\":{\"color\":\"crimson\"},\"name\":\"Negative\",\"showlegend\":false,\"x\":[\"EXT\",\"NEU\",\"AGR\",\"CON\",\"OPN\"],\"y\":[25,0,0,0,2],\"type\":\"bar\",\"xaxis\":\"x6\",\"yaxis\":\"y6\"},{\"marker\":{\"color\":\"cornflowerblue\"},\"name\":\"Neutral\",\"showlegend\":false,\"x\":[\"EXT\",\"NEU\",\"AGR\",\"CON\",\"OPN\"],\"y\":[66,2,11,0,5],\"type\":\"bar\",\"xaxis\":\"x7\",\"yaxis\":\"y7\"},{\"marker\":{\"color\":\"mediumseagreen\"},\"name\":\"Positive\",\"showlegend\":false,\"x\":[\"EXT\",\"NEU\",\"AGR\",\"CON\",\"OPN\"],\"y\":[34,4,13,0,2],\"type\":\"bar\",\"xaxis\":\"x7\",\"yaxis\":\"y7\"},{\"marker\":{\"color\":\"crimson\"},\"name\":\"Negative\",\"showlegend\":false,\"x\":[\"EXT\",\"NEU\",\"AGR\",\"CON\",\"OPN\"],\"y\":[19,2,3,0,2],\"type\":\"bar\",\"xaxis\":\"x7\",\"yaxis\":\"y7\"},{\"marker\":{\"color\":\"cornflowerblue\"},\"name\":\"Neutral\",\"showlegend\":false,\"x\":[\"EXT\",\"NEU\",\"AGR\",\"CON\",\"OPN\"],\"y\":[39,3,14,0,4],\"type\":\"bar\",\"xaxis\":\"x8\",\"yaxis\":\"y8\"},{\"marker\":{\"color\":\"mediumseagreen\"},\"name\":\"Positive\",\"showlegend\":false,\"x\":[\"EXT\",\"NEU\",\"AGR\",\"CON\",\"OPN\"],\"y\":[21,1,5,1,0],\"type\":\"bar\",\"xaxis\":\"x8\",\"yaxis\":\"y8\"},{\"marker\":{\"color\":\"crimson\"},\"name\":\"Negative\",\"showlegend\":false,\"x\":[\"EXT\",\"NEU\",\"AGR\",\"CON\",\"OPN\"],\"y\":[24,2,2,0,0],\"type\":\"bar\",\"xaxis\":\"x8\",\"yaxis\":\"y8\"},{\"marker\":{\"color\":\"cornflowerblue\"},\"name\":\"Neutral\",\"showlegend\":false,\"x\":[\"EXT\",\"NEU\",\"AGR\",\"CON\",\"OPN\"],\"y\":[12,1,1,1,1],\"type\":\"bar\",\"xaxis\":\"x9\",\"yaxis\":\"y9\"},{\"marker\":{\"color\":\"mediumseagreen\"},\"name\":\"Positive\",\"showlegend\":false,\"x\":[\"EXT\",\"NEU\",\"AGR\",\"CON\",\"OPN\"],\"y\":[13,2,7,0,2],\"type\":\"bar\",\"xaxis\":\"x9\",\"yaxis\":\"y9\"},{\"marker\":{\"color\":\"crimson\"},\"name\":\"Negative\",\"showlegend\":false,\"x\":[\"EXT\",\"NEU\",\"AGR\",\"CON\",\"OPN\"],\"y\":[5,0,1,0,0],\"type\":\"bar\",\"xaxis\":\"x9\",\"yaxis\":\"y9\"},{\"marker\":{\"color\":\"cornflowerblue\"},\"name\":\"Neutral\",\"showlegend\":false,\"x\":[\"EXT\",\"NEU\",\"AGR\",\"CON\",\"OPN\"],\"y\":[76,4,8,0,3],\"type\":\"bar\",\"xaxis\":\"x10\",\"yaxis\":\"y10\"},{\"marker\":{\"color\":\"mediumseagreen\"},\"name\":\"Positive\",\"showlegend\":false,\"x\":[\"EXT\",\"NEU\",\"AGR\",\"CON\",\"OPN\"],\"y\":[18,2,6,0,1],\"type\":\"bar\",\"xaxis\":\"x10\",\"yaxis\":\"y10\"},{\"marker\":{\"color\":\"crimson\"},\"name\":\"Negative\",\"showlegend\":false,\"x\":[\"EXT\",\"NEU\",\"AGR\",\"CON\",\"OPN\"],\"y\":[15,1,1,0,2],\"type\":\"bar\",\"xaxis\":\"x10\",\"yaxis\":\"y10\"}],                        {\"template\":{\"data\":{\"histogram2dcontour\":[{\"type\":\"histogram2dcontour\",\"colorbar\":{\"outlinewidth\":0,\"ticks\":\"\"},\"colorscale\":[[0.0,\"#0d0887\"],[0.1111111111111111,\"#46039f\"],[0.2222222222222222,\"#7201a8\"],[0.3333333333333333,\"#9c179e\"],[0.4444444444444444,\"#bd3786\"],[0.5555555555555556,\"#d8576b\"],[0.6666666666666666,\"#ed7953\"],[0.7777777777777778,\"#fb9f3a\"],[0.8888888888888888,\"#fdca26\"],[1.0,\"#f0f921\"]]}],\"choropleth\":[{\"type\":\"choropleth\",\"colorbar\":{\"outlinewidth\":0,\"ticks\":\"\"}}],\"histogram2d\":[{\"type\":\"histogram2d\",\"colorbar\":{\"outlinewidth\":0,\"ticks\":\"\"},\"colorscale\":[[0.0,\"#0d0887\"],[0.1111111111111111,\"#46039f\"],[0.2222222222222222,\"#7201a8\"],[0.3333333333333333,\"#9c179e\"],[0.4444444444444444,\"#bd3786\"],[0.5555555555555556,\"#d8576b\"],[0.6666666666666666,\"#ed7953\"],[0.7777777777777778,\"#fb9f3a\"],[0.8888888888888888,\"#fdca26\"],[1.0,\"#f0f921\"]]}],\"heatmap\":[{\"type\":\"heatmap\",\"colorbar\":{\"outlinewidth\":0,\"ticks\":\"\"},\"colorscale\":[[0.0,\"#0d0887\"],[0.1111111111111111,\"#46039f\"],[0.2222222222222222,\"#7201a8\"],[0.3333333333333333,\"#9c179e\"],[0.4444444444444444,\"#bd3786\"],[0.5555555555555556,\"#d8576b\"],[0.6666666666666666,\"#ed7953\"],[0.7777777777777778,\"#fb9f3a\"],[0.8888888888888888,\"#fdca26\"],[1.0,\"#f0f921\"]]}],\"heatmapgl\":[{\"type\":\"heatmapgl\",\"colorbar\":{\"outlinewidth\":0,\"ticks\":\"\"},\"colorscale\":[[0.0,\"#0d0887\"],[0.1111111111111111,\"#46039f\"],[0.2222222222222222,\"#7201a8\"],[0.3333333333333333,\"#9c179e\"],[0.4444444444444444,\"#bd3786\"],[0.5555555555555556,\"#d8576b\"],[0.6666666666666666,\"#ed7953\"],[0.7777777777777778,\"#fb9f3a\"],[0.8888888888888888,\"#fdca26\"],[1.0,\"#f0f921\"]]}],\"contourcarpet\":[{\"type\":\"contourcarpet\",\"colorbar\":{\"outlinewidth\":0,\"ticks\":\"\"}}],\"contour\":[{\"type\":\"contour\",\"colorbar\":{\"outlinewidth\":0,\"ticks\":\"\"},\"colorscale\":[[0.0,\"#0d0887\"],[0.1111111111111111,\"#46039f\"],[0.2222222222222222,\"#7201a8\"],[0.3333333333333333,\"#9c179e\"],[0.4444444444444444,\"#bd3786\"],[0.5555555555555556,\"#d8576b\"],[0.6666666666666666,\"#ed7953\"],[0.7777777777777778,\"#fb9f3a\"],[0.8888888888888888,\"#fdca26\"],[1.0,\"#f0f921\"]]}],\"surface\":[{\"type\":\"surface\",\"colorbar\":{\"outlinewidth\":0,\"ticks\":\"\"},\"colorscale\":[[0.0,\"#0d0887\"],[0.1111111111111111,\"#46039f\"],[0.2222222222222222,\"#7201a8\"],[0.3333333333333333,\"#9c179e\"],[0.4444444444444444,\"#bd3786\"],[0.5555555555555556,\"#d8576b\"],[0.6666666666666666,\"#ed7953\"],[0.7777777777777778,\"#fb9f3a\"],[0.8888888888888888,\"#fdca26\"],[1.0,\"#f0f921\"]]}],\"mesh3d\":[{\"type\":\"mesh3d\",\"colorbar\":{\"outlinewidth\":0,\"ticks\":\"\"}}],\"scatter\":[{\"fillpattern\":{\"fillmode\":\"overlay\",\"size\":10,\"solidity\":0.2},\"type\":\"scatter\"}],\"parcoords\":[{\"type\":\"parcoords\",\"line\":{\"colorbar\":{\"outlinewidth\":0,\"ticks\":\"\"}}}],\"scatterpolargl\":[{\"type\":\"scatterpolargl\",\"marker\":{\"colorbar\":{\"outlinewidth\":0,\"ticks\":\"\"}}}],\"bar\":[{\"error_x\":{\"color\":\"#2a3f5f\"},\"error_y\":{\"color\":\"#2a3f5f\"},\"marker\":{\"line\":{\"color\":\"#E5ECF6\",\"width\":0.5},\"pattern\":{\"fillmode\":\"overlay\",\"size\":10,\"solidity\":0.2}},\"type\":\"bar\"}],\"scattergeo\":[{\"type\":\"scattergeo\",\"marker\":{\"colorbar\":{\"outlinewidth\":0,\"ticks\":\"\"}}}],\"scatterpolar\":[{\"type\":\"scatterpolar\",\"marker\":{\"colorbar\":{\"outlinewidth\":0,\"ticks\":\"\"}}}],\"histogram\":[{\"marker\":{\"pattern\":{\"fillmode\":\"overlay\",\"size\":10,\"solidity\":0.2}},\"type\":\"histogram\"}],\"scattergl\":[{\"type\":\"scattergl\",\"marker\":{\"colorbar\":{\"outlinewidth\":0,\"ticks\":\"\"}}}],\"scatter3d\":[{\"type\":\"scatter3d\",\"line\":{\"colorbar\":{\"outlinewidth\":0,\"ticks\":\"\"}},\"marker\":{\"colorbar\":{\"outlinewidth\":0,\"ticks\":\"\"}}}],\"scattermapbox\":[{\"type\":\"scattermapbox\",\"marker\":{\"colorbar\":{\"outlinewidth\":0,\"ticks\":\"\"}}}],\"scatterternary\":[{\"type\":\"scatterternary\",\"marker\":{\"colorbar\":{\"outlinewidth\":0,\"ticks\":\"\"}}}],\"scattercarpet\":[{\"type\":\"scattercarpet\",\"marker\":{\"colorbar\":{\"outlinewidth\":0,\"ticks\":\"\"}}}],\"carpet\":[{\"aaxis\":{\"endlinecolor\":\"#2a3f5f\",\"gridcolor\":\"white\",\"linecolor\":\"white\",\"minorgridcolor\":\"white\",\"startlinecolor\":\"#2a3f5f\"},\"baxis\":{\"endlinecolor\":\"#2a3f5f\",\"gridcolor\":\"white\",\"linecolor\":\"white\",\"minorgridcolor\":\"white\",\"startlinecolor\":\"#2a3f5f\"},\"type\":\"carpet\"}],\"table\":[{\"cells\":{\"fill\":{\"color\":\"#EBF0F8\"},\"line\":{\"color\":\"white\"}},\"header\":{\"fill\":{\"color\":\"#C8D4E3\"},\"line\":{\"color\":\"white\"}},\"type\":\"table\"}],\"barpolar\":[{\"marker\":{\"line\":{\"color\":\"#E5ECF6\",\"width\":0.5},\"pattern\":{\"fillmode\":\"overlay\",\"size\":10,\"solidity\":0.2}},\"type\":\"barpolar\"}],\"pie\":[{\"automargin\":true,\"type\":\"pie\"}]},\"layout\":{\"autotypenumbers\":\"strict\",\"colorway\":[\"#636efa\",\"#EF553B\",\"#00cc96\",\"#ab63fa\",\"#FFA15A\",\"#19d3f3\",\"#FF6692\",\"#B6E880\",\"#FF97FF\",\"#FECB52\"],\"font\":{\"color\":\"#2a3f5f\"},\"hovermode\":\"closest\",\"hoverlabel\":{\"align\":\"left\"},\"paper_bgcolor\":\"white\",\"plot_bgcolor\":\"#E5ECF6\",\"polar\":{\"bgcolor\":\"#E5ECF6\",\"angularaxis\":{\"gridcolor\":\"white\",\"linecolor\":\"white\",\"ticks\":\"\"},\"radialaxis\":{\"gridcolor\":\"white\",\"linecolor\":\"white\",\"ticks\":\"\"}},\"ternary\":{\"bgcolor\":\"#E5ECF6\",\"aaxis\":{\"gridcolor\":\"white\",\"linecolor\":\"white\",\"ticks\":\"\"},\"baxis\":{\"gridcolor\":\"white\",\"linecolor\":\"white\",\"ticks\":\"\"},\"caxis\":{\"gridcolor\":\"white\",\"linecolor\":\"white\",\"ticks\":\"\"}},\"coloraxis\":{\"colorbar\":{\"outlinewidth\":0,\"ticks\":\"\"}},\"colorscale\":{\"sequential\":[[0.0,\"#0d0887\"],[0.1111111111111111,\"#46039f\"],[0.2222222222222222,\"#7201a8\"],[0.3333333333333333,\"#9c179e\"],[0.4444444444444444,\"#bd3786\"],[0.5555555555555556,\"#d8576b\"],[0.6666666666666666,\"#ed7953\"],[0.7777777777777778,\"#fb9f3a\"],[0.8888888888888888,\"#fdca26\"],[1.0,\"#f0f921\"]],\"sequentialminus\":[[0.0,\"#0d0887\"],[0.1111111111111111,\"#46039f\"],[0.2222222222222222,\"#7201a8\"],[0.3333333333333333,\"#9c179e\"],[0.4444444444444444,\"#bd3786\"],[0.5555555555555556,\"#d8576b\"],[0.6666666666666666,\"#ed7953\"],[0.7777777777777778,\"#fb9f3a\"],[0.8888888888888888,\"#fdca26\"],[1.0,\"#f0f921\"]],\"diverging\":[[0,\"#8e0152\"],[0.1,\"#c51b7d\"],[0.2,\"#de77ae\"],[0.3,\"#f1b6da\"],[0.4,\"#fde0ef\"],[0.5,\"#f7f7f7\"],[0.6,\"#e6f5d0\"],[0.7,\"#b8e186\"],[0.8,\"#7fbc41\"],[0.9,\"#4d9221\"],[1,\"#276419\"]]},\"xaxis\":{\"gridcolor\":\"white\",\"linecolor\":\"white\",\"ticks\":\"\",\"title\":{\"standoff\":15},\"zerolinecolor\":\"white\",\"automargin\":true,\"zerolinewidth\":2},\"yaxis\":{\"gridcolor\":\"white\",\"linecolor\":\"white\",\"ticks\":\"\",\"title\":{\"standoff\":15},\"zerolinecolor\":\"white\",\"automargin\":true,\"zerolinewidth\":2},\"scene\":{\"xaxis\":{\"backgroundcolor\":\"#E5ECF6\",\"gridcolor\":\"white\",\"linecolor\":\"white\",\"showbackground\":true,\"ticks\":\"\",\"zerolinecolor\":\"white\",\"gridwidth\":2},\"yaxis\":{\"backgroundcolor\":\"#E5ECF6\",\"gridcolor\":\"white\",\"linecolor\":\"white\",\"showbackground\":true,\"ticks\":\"\",\"zerolinecolor\":\"white\",\"gridwidth\":2},\"zaxis\":{\"backgroundcolor\":\"#E5ECF6\",\"gridcolor\":\"white\",\"linecolor\":\"white\",\"showbackground\":true,\"ticks\":\"\",\"zerolinecolor\":\"white\",\"gridwidth\":2}},\"shapedefaults\":{\"line\":{\"color\":\"#2a3f5f\"}},\"annotationdefaults\":{\"arrowcolor\":\"#2a3f5f\",\"arrowhead\":0,\"arrowwidth\":1},\"geo\":{\"bgcolor\":\"white\",\"landcolor\":\"#E5ECF6\",\"subunitcolor\":\"white\",\"showland\":true,\"showlakes\":true,\"lakecolor\":\"white\"},\"title\":{\"x\":0.05},\"mapbox\":{\"style\":\"light\"}}},\"xaxis\":{\"anchor\":\"y\",\"domain\":[0.0,0.2888888888888889]},\"yaxis\":{\"anchor\":\"x\",\"domain\":[0.84375,1.0]},\"xaxis2\":{\"anchor\":\"y2\",\"domain\":[0.35555555555555557,0.6444444444444445]},\"yaxis2\":{\"anchor\":\"x2\",\"domain\":[0.84375,1.0]},\"xaxis3\":{\"anchor\":\"y3\",\"domain\":[0.7111111111111111,1.0]},\"yaxis3\":{\"anchor\":\"x3\",\"domain\":[0.84375,1.0]},\"xaxis4\":{\"anchor\":\"y4\",\"domain\":[0.0,0.2888888888888889]},\"yaxis4\":{\"anchor\":\"x4\",\"domain\":[0.5625,0.71875]},\"xaxis5\":{\"anchor\":\"y5\",\"domain\":[0.35555555555555557,0.6444444444444445]},\"yaxis5\":{\"anchor\":\"x5\",\"domain\":[0.5625,0.71875]},\"xaxis6\":{\"anchor\":\"y6\",\"domain\":[0.7111111111111111,1.0]},\"yaxis6\":{\"anchor\":\"x6\",\"domain\":[0.5625,0.71875]},\"xaxis7\":{\"anchor\":\"y7\",\"domain\":[0.0,0.2888888888888889]},\"yaxis7\":{\"anchor\":\"x7\",\"domain\":[0.28125,0.4375]},\"xaxis8\":{\"anchor\":\"y8\",\"domain\":[0.35555555555555557,0.6444444444444445]},\"yaxis8\":{\"anchor\":\"x8\",\"domain\":[0.28125,0.4375]},\"xaxis9\":{\"anchor\":\"y9\",\"domain\":[0.7111111111111111,1.0]},\"yaxis9\":{\"anchor\":\"x9\",\"domain\":[0.28125,0.4375]},\"xaxis10\":{\"anchor\":\"y10\",\"domain\":[0.0,0.2888888888888889]},\"yaxis10\":{\"anchor\":\"x10\",\"domain\":[0.0,0.15625]},\"xaxis11\":{\"anchor\":\"y11\",\"domain\":[0.35555555555555557,0.6444444444444445]},\"yaxis11\":{\"anchor\":\"x11\",\"domain\":[0.0,0.15625]},\"xaxis12\":{\"anchor\":\"y12\",\"domain\":[0.7111111111111111,1.0]},\"yaxis12\":{\"anchor\":\"x12\",\"domain\":[0.0,0.15625]},\"annotations\":[{\"font\":{\"size\":16},\"showarrow\":false,\"text\":\"GANDALF\",\"x\":0.14444444444444446,\"xanchor\":\"center\",\"xref\":\"paper\",\"y\":1.0,\"yanchor\":\"bottom\",\"yref\":\"paper\"},{\"font\":{\"size\":16},\"showarrow\":false,\"text\":\"SAM\",\"x\":0.5,\"xanchor\":\"center\",\"xref\":\"paper\",\"y\":1.0,\"yanchor\":\"bottom\",\"yref\":\"paper\"},{\"font\":{\"size\":16},\"showarrow\":false,\"text\":\"FRODO\",\"x\":0.8555555555555556,\"xanchor\":\"center\",\"xref\":\"paper\",\"y\":1.0,\"yanchor\":\"bottom\",\"yref\":\"paper\"},{\"font\":{\"size\":16},\"showarrow\":false,\"text\":\"ARAGORN\",\"x\":0.14444444444444446,\"xanchor\":\"center\",\"xref\":\"paper\",\"y\":0.71875,\"yanchor\":\"bottom\",\"yref\":\"paper\"},{\"font\":{\"size\":16},\"showarrow\":false,\"text\":\"GOLLUM\",\"x\":0.5,\"xanchor\":\"center\",\"xref\":\"paper\",\"y\":0.71875,\"yanchor\":\"bottom\",\"yref\":\"paper\"},{\"font\":{\"size\":16},\"showarrow\":false,\"text\":\"THEODEN\",\"x\":0.8555555555555556,\"xanchor\":\"center\",\"xref\":\"paper\",\"y\":0.71875,\"yanchor\":\"bottom\",\"yref\":\"paper\"},{\"font\":{\"size\":16},\"showarrow\":false,\"text\":\"PIPPIN\",\"x\":0.14444444444444446,\"xanchor\":\"center\",\"xref\":\"paper\",\"y\":0.4375,\"yanchor\":\"bottom\",\"yref\":\"paper\"},{\"font\":{\"size\":16},\"showarrow\":false,\"text\":\"GIMLI\",\"x\":0.5,\"xanchor\":\"center\",\"xref\":\"paper\",\"y\":0.4375,\"yanchor\":\"bottom\",\"yref\":\"paper\"},{\"font\":{\"size\":16},\"showarrow\":false,\"text\":\"BILBO\",\"x\":0.8555555555555556,\"xanchor\":\"center\",\"xref\":\"paper\",\"y\":0.4375,\"yanchor\":\"bottom\",\"yref\":\"paper\"},{\"font\":{\"size\":16},\"showarrow\":false,\"text\":\"MERRY\",\"x\":0.14444444444444446,\"xanchor\":\"center\",\"xref\":\"paper\",\"y\":0.15625,\"yanchor\":\"bottom\",\"yref\":\"paper\"}],\"barmode\":\"stack\"},                        {\"toImageButtonOptions\": {\"format\": \"png\", \"height\": 1200.0, \"width\": 1000, \"scale\": 10}, \"responsive\": true}                    ).then(function(){\n",
       "                            \n",
       "var gd = document.getElementById('04d5470f-9d16-4c4a-bbb3-e9285aa08767');\n",
       "var x = new MutationObserver(function (mutations, observer) {{\n",
       "        var display = window.getComputedStyle(gd).display;\n",
       "        if (!display || display === 'none') {{\n",
       "            console.log([gd, 'removed!']);\n",
       "            Plotly.purge(gd);\n",
       "            observer.disconnect();\n",
       "        }}\n",
       "}});\n",
       "\n",
       "// Listen for the removal of the full notebook cells\n",
       "var notebookContainer = gd.closest('#notebook-container');\n",
       "if (notebookContainer) {{\n",
       "    x.observe(notebookContainer, {childList: true});\n",
       "}}\n",
       "\n",
       "// Listen for the clearing of the current output cell\n",
       "var outputEl = gd.closest('.output');\n",
       "if (outputEl) {{\n",
       "    x.observe(outputEl, {childList: true});\n",
       "}}\n",
       "\n",
       "                        })                };                });            </script>        </div>"
      ]
     },
     "metadata": {},
     "output_type": "display_data"
    }
   ],
   "source": [
    "from nltk.sentiment.vader import SentimentIntensityAnalyzer\n",
    "from nltk import tokenize\n",
    "import plotly.graph_objects as pg\n",
    "import plotly.graph_objs as go\n",
    "from plotly.subplots import make_subplots\n",
    "import nltk\n",
    "\n",
    "nltk.download('vader_lexicon')\n",
    "sentimentCounts = {}\n",
    "traitCounts = {\"pos\": [0,0,0,0,0], \"neg\": [0,0,0,0,0], \"neu\": [0,0,0,0,0]}\n",
    "\n",
    "for index, row in script.iterrows(): # go through the entries one by one\n",
    "    character = row[\"char\"].strip().replace(\"(\", \"\")\n",
    "    dialog = str(row[\"dialog\"])\n",
    "    domTrait = traitVectors[index].index(max(traitVectors[index]))\n",
    "    \n",
    "    sid = SentimentIntensityAnalyzer()\n",
    "    ss = sid.polarity_scores(dialog) # obtain the scores for this script\n",
    "    polarity = ss[\"pos\"] - ss[\"neg\"] # total polarity = positive - negative\n",
    "    \n",
    "    if character not in sentimentCounts:\n",
    "        sentimentCounts[character] = {\"pos\": [0,0,0,0,0], \"neg\": [0,0,0,0,0], \"neu\": [0,0,0,0,0]} # initialize dictionary\n",
    "    \n",
    "    if polarity > 0:\n",
    "        sentimentCounts[character][\"pos\"][domTrait] += 1\n",
    "        traitCounts[\"pos\"][domTrait] += 1\n",
    "    elif polarity < 0:\n",
    "        sentimentCounts[character][\"neg\"][domTrait] += 1\n",
    "        traitCounts[\"neg\"][domTrait] += 1\n",
    "    elif polarity == 0:\n",
    "        sentimentCounts[character][\"neu\"][domTrait] += 1\n",
    "        traitCounts[\"neu\"][domTrait] += 1\n",
    "\n",
    "traits = ['EXT', 'NEU', 'AGR', 'CON', 'OPN']\n",
    "fig = make_subplots(rows=4, cols=3, start_cell=\"top-left\", subplot_titles=list(concat.keys())[0:10])\n",
    "\n",
    "for i, character in enumerate(list(concat.keys())[0:10]):\n",
    "    if i == 0:\n",
    "        leg = True\n",
    "    else:\n",
    "        leg = False\n",
    "\n",
    "    fig.add_trace(go.Bar(\n",
    "        name = 'Neutral',\n",
    "        marker_color = 'cornflowerblue',\n",
    "        showlegend=leg,\n",
    "        x = traits,\n",
    "        y = sentimentCounts[character][\"neu\"]), row=i // 3 + 1, col=i % 3 + 1)\n",
    "\n",
    "    fig.add_trace(go.Bar(\n",
    "        name = 'Positive',\n",
    "        marker_color = 'mediumseagreen',\n",
    "        showlegend=leg,\n",
    "        x = traits,\n",
    "        y = sentimentCounts[character][\"pos\"]), row=i // 3 + 1, col=i % 3 + 1)\n",
    "\n",
    "    fig.add_trace(go.Bar(\n",
    "        name = 'Negative',\n",
    "        marker_color = 'crimson',\n",
    "        showlegend=leg,\n",
    "        x = traits,\n",
    "        y = sentimentCounts[character][\"neg\"]), row=i // 3 + 1, col=i % 3 + 1)\n",
    "\n",
    "config = {\n",
    "    'toImageButtonOptions': {\n",
    "        'format': 'png',\n",
    "        'height': 1.2*1000,\n",
    "        'width': 1000,\n",
    "        'scale': 10\n",
    "    }\n",
    "}\n",
    "    \n",
    "fig.update_layout(barmode='stack')   \n",
    "fig.show(config=config)"
   ]
  },
  {
   "cell_type": "code",
   "execution_count": 30,
   "id": "21d4358a",
   "metadata": {},
   "outputs": [
    {
     "data": {
      "application/vnd.plotly.v1+json": {
       "config": {
        "plotlyServerURL": "https://plot.ly",
        "toImageButtonOptions": {
         "format": "png",
         "height": 500,
         "scale": 10,
         "width": 890
        }
       },
       "data": [
        {
         "marker": {
          "color": "cornflowerblue"
         },
         "name": "Neutral",
         "type": "bar",
         "x": [
          "EXT",
          "NEU",
          "AGR",
          "CON",
          "OPN"
         ],
         "y": [
          998,
          55,
          161,
          5,
          50
         ]
        },
        {
         "marker": {
          "color": "mediumseagreen"
         },
         "name": "Positive",
         "type": "bar",
         "x": [
          "EXT",
          "NEU",
          "AGR",
          "CON",
          "OPN"
         ],
         "y": [
          395,
          30,
          115,
          3,
          18
         ]
        },
        {
         "marker": {
          "color": "crimson"
         },
         "name": "Negative",
         "type": "bar",
         "x": [
          "EXT",
          "NEU",
          "AGR",
          "CON",
          "OPN"
         ],
         "y": [
          441,
          26,
          66,
          1,
          26
         ]
        }
       ],
       "layout": {
        "barmode": "stack",
        "template": {
         "data": {
          "bar": [
           {
            "error_x": {
             "color": "#2a3f5f"
            },
            "error_y": {
             "color": "#2a3f5f"
            },
            "marker": {
             "line": {
              "color": "#E5ECF6",
              "width": 0.5
             },
             "pattern": {
              "fillmode": "overlay",
              "size": 10,
              "solidity": 0.2
             }
            },
            "type": "bar"
           }
          ],
          "barpolar": [
           {
            "marker": {
             "line": {
              "color": "#E5ECF6",
              "width": 0.5
             },
             "pattern": {
              "fillmode": "overlay",
              "size": 10,
              "solidity": 0.2
             }
            },
            "type": "barpolar"
           }
          ],
          "carpet": [
           {
            "aaxis": {
             "endlinecolor": "#2a3f5f",
             "gridcolor": "white",
             "linecolor": "white",
             "minorgridcolor": "white",
             "startlinecolor": "#2a3f5f"
            },
            "baxis": {
             "endlinecolor": "#2a3f5f",
             "gridcolor": "white",
             "linecolor": "white",
             "minorgridcolor": "white",
             "startlinecolor": "#2a3f5f"
            },
            "type": "carpet"
           }
          ],
          "choropleth": [
           {
            "colorbar": {
             "outlinewidth": 0,
             "ticks": ""
            },
            "type": "choropleth"
           }
          ],
          "contour": [
           {
            "colorbar": {
             "outlinewidth": 0,
             "ticks": ""
            },
            "colorscale": [
             [
              0,
              "#0d0887"
             ],
             [
              0.1111111111111111,
              "#46039f"
             ],
             [
              0.2222222222222222,
              "#7201a8"
             ],
             [
              0.3333333333333333,
              "#9c179e"
             ],
             [
              0.4444444444444444,
              "#bd3786"
             ],
             [
              0.5555555555555556,
              "#d8576b"
             ],
             [
              0.6666666666666666,
              "#ed7953"
             ],
             [
              0.7777777777777778,
              "#fb9f3a"
             ],
             [
              0.8888888888888888,
              "#fdca26"
             ],
             [
              1,
              "#f0f921"
             ]
            ],
            "type": "contour"
           }
          ],
          "contourcarpet": [
           {
            "colorbar": {
             "outlinewidth": 0,
             "ticks": ""
            },
            "type": "contourcarpet"
           }
          ],
          "heatmap": [
           {
            "colorbar": {
             "outlinewidth": 0,
             "ticks": ""
            },
            "colorscale": [
             [
              0,
              "#0d0887"
             ],
             [
              0.1111111111111111,
              "#46039f"
             ],
             [
              0.2222222222222222,
              "#7201a8"
             ],
             [
              0.3333333333333333,
              "#9c179e"
             ],
             [
              0.4444444444444444,
              "#bd3786"
             ],
             [
              0.5555555555555556,
              "#d8576b"
             ],
             [
              0.6666666666666666,
              "#ed7953"
             ],
             [
              0.7777777777777778,
              "#fb9f3a"
             ],
             [
              0.8888888888888888,
              "#fdca26"
             ],
             [
              1,
              "#f0f921"
             ]
            ],
            "type": "heatmap"
           }
          ],
          "heatmapgl": [
           {
            "colorbar": {
             "outlinewidth": 0,
             "ticks": ""
            },
            "colorscale": [
             [
              0,
              "#0d0887"
             ],
             [
              0.1111111111111111,
              "#46039f"
             ],
             [
              0.2222222222222222,
              "#7201a8"
             ],
             [
              0.3333333333333333,
              "#9c179e"
             ],
             [
              0.4444444444444444,
              "#bd3786"
             ],
             [
              0.5555555555555556,
              "#d8576b"
             ],
             [
              0.6666666666666666,
              "#ed7953"
             ],
             [
              0.7777777777777778,
              "#fb9f3a"
             ],
             [
              0.8888888888888888,
              "#fdca26"
             ],
             [
              1,
              "#f0f921"
             ]
            ],
            "type": "heatmapgl"
           }
          ],
          "histogram": [
           {
            "marker": {
             "pattern": {
              "fillmode": "overlay",
              "size": 10,
              "solidity": 0.2
             }
            },
            "type": "histogram"
           }
          ],
          "histogram2d": [
           {
            "colorbar": {
             "outlinewidth": 0,
             "ticks": ""
            },
            "colorscale": [
             [
              0,
              "#0d0887"
             ],
             [
              0.1111111111111111,
              "#46039f"
             ],
             [
              0.2222222222222222,
              "#7201a8"
             ],
             [
              0.3333333333333333,
              "#9c179e"
             ],
             [
              0.4444444444444444,
              "#bd3786"
             ],
             [
              0.5555555555555556,
              "#d8576b"
             ],
             [
              0.6666666666666666,
              "#ed7953"
             ],
             [
              0.7777777777777778,
              "#fb9f3a"
             ],
             [
              0.8888888888888888,
              "#fdca26"
             ],
             [
              1,
              "#f0f921"
             ]
            ],
            "type": "histogram2d"
           }
          ],
          "histogram2dcontour": [
           {
            "colorbar": {
             "outlinewidth": 0,
             "ticks": ""
            },
            "colorscale": [
             [
              0,
              "#0d0887"
             ],
             [
              0.1111111111111111,
              "#46039f"
             ],
             [
              0.2222222222222222,
              "#7201a8"
             ],
             [
              0.3333333333333333,
              "#9c179e"
             ],
             [
              0.4444444444444444,
              "#bd3786"
             ],
             [
              0.5555555555555556,
              "#d8576b"
             ],
             [
              0.6666666666666666,
              "#ed7953"
             ],
             [
              0.7777777777777778,
              "#fb9f3a"
             ],
             [
              0.8888888888888888,
              "#fdca26"
             ],
             [
              1,
              "#f0f921"
             ]
            ],
            "type": "histogram2dcontour"
           }
          ],
          "mesh3d": [
           {
            "colorbar": {
             "outlinewidth": 0,
             "ticks": ""
            },
            "type": "mesh3d"
           }
          ],
          "parcoords": [
           {
            "line": {
             "colorbar": {
              "outlinewidth": 0,
              "ticks": ""
             }
            },
            "type": "parcoords"
           }
          ],
          "pie": [
           {
            "automargin": true,
            "type": "pie"
           }
          ],
          "scatter": [
           {
            "fillpattern": {
             "fillmode": "overlay",
             "size": 10,
             "solidity": 0.2
            },
            "type": "scatter"
           }
          ],
          "scatter3d": [
           {
            "line": {
             "colorbar": {
              "outlinewidth": 0,
              "ticks": ""
             }
            },
            "marker": {
             "colorbar": {
              "outlinewidth": 0,
              "ticks": ""
             }
            },
            "type": "scatter3d"
           }
          ],
          "scattercarpet": [
           {
            "marker": {
             "colorbar": {
              "outlinewidth": 0,
              "ticks": ""
             }
            },
            "type": "scattercarpet"
           }
          ],
          "scattergeo": [
           {
            "marker": {
             "colorbar": {
              "outlinewidth": 0,
              "ticks": ""
             }
            },
            "type": "scattergeo"
           }
          ],
          "scattergl": [
           {
            "marker": {
             "colorbar": {
              "outlinewidth": 0,
              "ticks": ""
             }
            },
            "type": "scattergl"
           }
          ],
          "scattermapbox": [
           {
            "marker": {
             "colorbar": {
              "outlinewidth": 0,
              "ticks": ""
             }
            },
            "type": "scattermapbox"
           }
          ],
          "scatterpolar": [
           {
            "marker": {
             "colorbar": {
              "outlinewidth": 0,
              "ticks": ""
             }
            },
            "type": "scatterpolar"
           }
          ],
          "scatterpolargl": [
           {
            "marker": {
             "colorbar": {
              "outlinewidth": 0,
              "ticks": ""
             }
            },
            "type": "scatterpolargl"
           }
          ],
          "scatterternary": [
           {
            "marker": {
             "colorbar": {
              "outlinewidth": 0,
              "ticks": ""
             }
            },
            "type": "scatterternary"
           }
          ],
          "surface": [
           {
            "colorbar": {
             "outlinewidth": 0,
             "ticks": ""
            },
            "colorscale": [
             [
              0,
              "#0d0887"
             ],
             [
              0.1111111111111111,
              "#46039f"
             ],
             [
              0.2222222222222222,
              "#7201a8"
             ],
             [
              0.3333333333333333,
              "#9c179e"
             ],
             [
              0.4444444444444444,
              "#bd3786"
             ],
             [
              0.5555555555555556,
              "#d8576b"
             ],
             [
              0.6666666666666666,
              "#ed7953"
             ],
             [
              0.7777777777777778,
              "#fb9f3a"
             ],
             [
              0.8888888888888888,
              "#fdca26"
             ],
             [
              1,
              "#f0f921"
             ]
            ],
            "type": "surface"
           }
          ],
          "table": [
           {
            "cells": {
             "fill": {
              "color": "#EBF0F8"
             },
             "line": {
              "color": "white"
             }
            },
            "header": {
             "fill": {
              "color": "#C8D4E3"
             },
             "line": {
              "color": "white"
             }
            },
            "type": "table"
           }
          ]
         },
         "layout": {
          "annotationdefaults": {
           "arrowcolor": "#2a3f5f",
           "arrowhead": 0,
           "arrowwidth": 1
          },
          "autotypenumbers": "strict",
          "coloraxis": {
           "colorbar": {
            "outlinewidth": 0,
            "ticks": ""
           }
          },
          "colorscale": {
           "diverging": [
            [
             0,
             "#8e0152"
            ],
            [
             0.1,
             "#c51b7d"
            ],
            [
             0.2,
             "#de77ae"
            ],
            [
             0.3,
             "#f1b6da"
            ],
            [
             0.4,
             "#fde0ef"
            ],
            [
             0.5,
             "#f7f7f7"
            ],
            [
             0.6,
             "#e6f5d0"
            ],
            [
             0.7,
             "#b8e186"
            ],
            [
             0.8,
             "#7fbc41"
            ],
            [
             0.9,
             "#4d9221"
            ],
            [
             1,
             "#276419"
            ]
           ],
           "sequential": [
            [
             0,
             "#0d0887"
            ],
            [
             0.1111111111111111,
             "#46039f"
            ],
            [
             0.2222222222222222,
             "#7201a8"
            ],
            [
             0.3333333333333333,
             "#9c179e"
            ],
            [
             0.4444444444444444,
             "#bd3786"
            ],
            [
             0.5555555555555556,
             "#d8576b"
            ],
            [
             0.6666666666666666,
             "#ed7953"
            ],
            [
             0.7777777777777778,
             "#fb9f3a"
            ],
            [
             0.8888888888888888,
             "#fdca26"
            ],
            [
             1,
             "#f0f921"
            ]
           ],
           "sequentialminus": [
            [
             0,
             "#0d0887"
            ],
            [
             0.1111111111111111,
             "#46039f"
            ],
            [
             0.2222222222222222,
             "#7201a8"
            ],
            [
             0.3333333333333333,
             "#9c179e"
            ],
            [
             0.4444444444444444,
             "#bd3786"
            ],
            [
             0.5555555555555556,
             "#d8576b"
            ],
            [
             0.6666666666666666,
             "#ed7953"
            ],
            [
             0.7777777777777778,
             "#fb9f3a"
            ],
            [
             0.8888888888888888,
             "#fdca26"
            ],
            [
             1,
             "#f0f921"
            ]
           ]
          },
          "colorway": [
           "#636efa",
           "#EF553B",
           "#00cc96",
           "#ab63fa",
           "#FFA15A",
           "#19d3f3",
           "#FF6692",
           "#B6E880",
           "#FF97FF",
           "#FECB52"
          ],
          "font": {
           "color": "#2a3f5f"
          },
          "geo": {
           "bgcolor": "white",
           "lakecolor": "white",
           "landcolor": "#E5ECF6",
           "showlakes": true,
           "showland": true,
           "subunitcolor": "white"
          },
          "hoverlabel": {
           "align": "left"
          },
          "hovermode": "closest",
          "mapbox": {
           "style": "light"
          },
          "paper_bgcolor": "white",
          "plot_bgcolor": "#E5ECF6",
          "polar": {
           "angularaxis": {
            "gridcolor": "white",
            "linecolor": "white",
            "ticks": ""
           },
           "bgcolor": "#E5ECF6",
           "radialaxis": {
            "gridcolor": "white",
            "linecolor": "white",
            "ticks": ""
           }
          },
          "scene": {
           "xaxis": {
            "backgroundcolor": "#E5ECF6",
            "gridcolor": "white",
            "gridwidth": 2,
            "linecolor": "white",
            "showbackground": true,
            "ticks": "",
            "zerolinecolor": "white"
           },
           "yaxis": {
            "backgroundcolor": "#E5ECF6",
            "gridcolor": "white",
            "gridwidth": 2,
            "linecolor": "white",
            "showbackground": true,
            "ticks": "",
            "zerolinecolor": "white"
           },
           "zaxis": {
            "backgroundcolor": "#E5ECF6",
            "gridcolor": "white",
            "gridwidth": 2,
            "linecolor": "white",
            "showbackground": true,
            "ticks": "",
            "zerolinecolor": "white"
           }
          },
          "shapedefaults": {
           "line": {
            "color": "#2a3f5f"
           }
          },
          "ternary": {
           "aaxis": {
            "gridcolor": "white",
            "linecolor": "white",
            "ticks": ""
           },
           "baxis": {
            "gridcolor": "white",
            "linecolor": "white",
            "ticks": ""
           },
           "bgcolor": "#E5ECF6",
           "caxis": {
            "gridcolor": "white",
            "linecolor": "white",
            "ticks": ""
           }
          },
          "title": {
           "x": 0.05
          },
          "xaxis": {
           "automargin": true,
           "gridcolor": "white",
           "linecolor": "white",
           "ticks": "",
           "title": {
            "standoff": 15
           },
           "zerolinecolor": "white",
           "zerolinewidth": 2
          },
          "yaxis": {
           "automargin": true,
           "gridcolor": "white",
           "linecolor": "white",
           "ticks": "",
           "title": {
            "standoff": 15
           },
           "zerolinecolor": "white",
           "zerolinewidth": 2
          }
         }
        }
       }
      },
      "text/html": [
       "<div>                            <div id=\"b75afc7b-7890-4a53-8504-8c623dcf4df7\" class=\"plotly-graph-div\" style=\"height:525px; width:100%;\"></div>            <script type=\"text/javascript\">                require([\"plotly\"], function(Plotly) {                    window.PLOTLYENV=window.PLOTLYENV || {};                                    if (document.getElementById(\"b75afc7b-7890-4a53-8504-8c623dcf4df7\")) {                    Plotly.newPlot(                        \"b75afc7b-7890-4a53-8504-8c623dcf4df7\",                        [{\"marker\":{\"color\":\"cornflowerblue\"},\"name\":\"Neutral\",\"x\":[\"EXT\",\"NEU\",\"AGR\",\"CON\",\"OPN\"],\"y\":[998,55,161,5,50],\"type\":\"bar\"},{\"marker\":{\"color\":\"mediumseagreen\"},\"name\":\"Positive\",\"x\":[\"EXT\",\"NEU\",\"AGR\",\"CON\",\"OPN\"],\"y\":[395,30,115,3,18],\"type\":\"bar\"},{\"marker\":{\"color\":\"crimson\"},\"name\":\"Negative\",\"x\":[\"EXT\",\"NEU\",\"AGR\",\"CON\",\"OPN\"],\"y\":[441,26,66,1,26],\"type\":\"bar\"}],                        {\"template\":{\"data\":{\"histogram2dcontour\":[{\"type\":\"histogram2dcontour\",\"colorbar\":{\"outlinewidth\":0,\"ticks\":\"\"},\"colorscale\":[[0.0,\"#0d0887\"],[0.1111111111111111,\"#46039f\"],[0.2222222222222222,\"#7201a8\"],[0.3333333333333333,\"#9c179e\"],[0.4444444444444444,\"#bd3786\"],[0.5555555555555556,\"#d8576b\"],[0.6666666666666666,\"#ed7953\"],[0.7777777777777778,\"#fb9f3a\"],[0.8888888888888888,\"#fdca26\"],[1.0,\"#f0f921\"]]}],\"choropleth\":[{\"type\":\"choropleth\",\"colorbar\":{\"outlinewidth\":0,\"ticks\":\"\"}}],\"histogram2d\":[{\"type\":\"histogram2d\",\"colorbar\":{\"outlinewidth\":0,\"ticks\":\"\"},\"colorscale\":[[0.0,\"#0d0887\"],[0.1111111111111111,\"#46039f\"],[0.2222222222222222,\"#7201a8\"],[0.3333333333333333,\"#9c179e\"],[0.4444444444444444,\"#bd3786\"],[0.5555555555555556,\"#d8576b\"],[0.6666666666666666,\"#ed7953\"],[0.7777777777777778,\"#fb9f3a\"],[0.8888888888888888,\"#fdca26\"],[1.0,\"#f0f921\"]]}],\"heatmap\":[{\"type\":\"heatmap\",\"colorbar\":{\"outlinewidth\":0,\"ticks\":\"\"},\"colorscale\":[[0.0,\"#0d0887\"],[0.1111111111111111,\"#46039f\"],[0.2222222222222222,\"#7201a8\"],[0.3333333333333333,\"#9c179e\"],[0.4444444444444444,\"#bd3786\"],[0.5555555555555556,\"#d8576b\"],[0.6666666666666666,\"#ed7953\"],[0.7777777777777778,\"#fb9f3a\"],[0.8888888888888888,\"#fdca26\"],[1.0,\"#f0f921\"]]}],\"heatmapgl\":[{\"type\":\"heatmapgl\",\"colorbar\":{\"outlinewidth\":0,\"ticks\":\"\"},\"colorscale\":[[0.0,\"#0d0887\"],[0.1111111111111111,\"#46039f\"],[0.2222222222222222,\"#7201a8\"],[0.3333333333333333,\"#9c179e\"],[0.4444444444444444,\"#bd3786\"],[0.5555555555555556,\"#d8576b\"],[0.6666666666666666,\"#ed7953\"],[0.7777777777777778,\"#fb9f3a\"],[0.8888888888888888,\"#fdca26\"],[1.0,\"#f0f921\"]]}],\"contourcarpet\":[{\"type\":\"contourcarpet\",\"colorbar\":{\"outlinewidth\":0,\"ticks\":\"\"}}],\"contour\":[{\"type\":\"contour\",\"colorbar\":{\"outlinewidth\":0,\"ticks\":\"\"},\"colorscale\":[[0.0,\"#0d0887\"],[0.1111111111111111,\"#46039f\"],[0.2222222222222222,\"#7201a8\"],[0.3333333333333333,\"#9c179e\"],[0.4444444444444444,\"#bd3786\"],[0.5555555555555556,\"#d8576b\"],[0.6666666666666666,\"#ed7953\"],[0.7777777777777778,\"#fb9f3a\"],[0.8888888888888888,\"#fdca26\"],[1.0,\"#f0f921\"]]}],\"surface\":[{\"type\":\"surface\",\"colorbar\":{\"outlinewidth\":0,\"ticks\":\"\"},\"colorscale\":[[0.0,\"#0d0887\"],[0.1111111111111111,\"#46039f\"],[0.2222222222222222,\"#7201a8\"],[0.3333333333333333,\"#9c179e\"],[0.4444444444444444,\"#bd3786\"],[0.5555555555555556,\"#d8576b\"],[0.6666666666666666,\"#ed7953\"],[0.7777777777777778,\"#fb9f3a\"],[0.8888888888888888,\"#fdca26\"],[1.0,\"#f0f921\"]]}],\"mesh3d\":[{\"type\":\"mesh3d\",\"colorbar\":{\"outlinewidth\":0,\"ticks\":\"\"}}],\"scatter\":[{\"fillpattern\":{\"fillmode\":\"overlay\",\"size\":10,\"solidity\":0.2},\"type\":\"scatter\"}],\"parcoords\":[{\"type\":\"parcoords\",\"line\":{\"colorbar\":{\"outlinewidth\":0,\"ticks\":\"\"}}}],\"scatterpolargl\":[{\"type\":\"scatterpolargl\",\"marker\":{\"colorbar\":{\"outlinewidth\":0,\"ticks\":\"\"}}}],\"bar\":[{\"error_x\":{\"color\":\"#2a3f5f\"},\"error_y\":{\"color\":\"#2a3f5f\"},\"marker\":{\"line\":{\"color\":\"#E5ECF6\",\"width\":0.5},\"pattern\":{\"fillmode\":\"overlay\",\"size\":10,\"solidity\":0.2}},\"type\":\"bar\"}],\"scattergeo\":[{\"type\":\"scattergeo\",\"marker\":{\"colorbar\":{\"outlinewidth\":0,\"ticks\":\"\"}}}],\"scatterpolar\":[{\"type\":\"scatterpolar\",\"marker\":{\"colorbar\":{\"outlinewidth\":0,\"ticks\":\"\"}}}],\"histogram\":[{\"marker\":{\"pattern\":{\"fillmode\":\"overlay\",\"size\":10,\"solidity\":0.2}},\"type\":\"histogram\"}],\"scattergl\":[{\"type\":\"scattergl\",\"marker\":{\"colorbar\":{\"outlinewidth\":0,\"ticks\":\"\"}}}],\"scatter3d\":[{\"type\":\"scatter3d\",\"line\":{\"colorbar\":{\"outlinewidth\":0,\"ticks\":\"\"}},\"marker\":{\"colorbar\":{\"outlinewidth\":0,\"ticks\":\"\"}}}],\"scattermapbox\":[{\"type\":\"scattermapbox\",\"marker\":{\"colorbar\":{\"outlinewidth\":0,\"ticks\":\"\"}}}],\"scatterternary\":[{\"type\":\"scatterternary\",\"marker\":{\"colorbar\":{\"outlinewidth\":0,\"ticks\":\"\"}}}],\"scattercarpet\":[{\"type\":\"scattercarpet\",\"marker\":{\"colorbar\":{\"outlinewidth\":0,\"ticks\":\"\"}}}],\"carpet\":[{\"aaxis\":{\"endlinecolor\":\"#2a3f5f\",\"gridcolor\":\"white\",\"linecolor\":\"white\",\"minorgridcolor\":\"white\",\"startlinecolor\":\"#2a3f5f\"},\"baxis\":{\"endlinecolor\":\"#2a3f5f\",\"gridcolor\":\"white\",\"linecolor\":\"white\",\"minorgridcolor\":\"white\",\"startlinecolor\":\"#2a3f5f\"},\"type\":\"carpet\"}],\"table\":[{\"cells\":{\"fill\":{\"color\":\"#EBF0F8\"},\"line\":{\"color\":\"white\"}},\"header\":{\"fill\":{\"color\":\"#C8D4E3\"},\"line\":{\"color\":\"white\"}},\"type\":\"table\"}],\"barpolar\":[{\"marker\":{\"line\":{\"color\":\"#E5ECF6\",\"width\":0.5},\"pattern\":{\"fillmode\":\"overlay\",\"size\":10,\"solidity\":0.2}},\"type\":\"barpolar\"}],\"pie\":[{\"automargin\":true,\"type\":\"pie\"}]},\"layout\":{\"autotypenumbers\":\"strict\",\"colorway\":[\"#636efa\",\"#EF553B\",\"#00cc96\",\"#ab63fa\",\"#FFA15A\",\"#19d3f3\",\"#FF6692\",\"#B6E880\",\"#FF97FF\",\"#FECB52\"],\"font\":{\"color\":\"#2a3f5f\"},\"hovermode\":\"closest\",\"hoverlabel\":{\"align\":\"left\"},\"paper_bgcolor\":\"white\",\"plot_bgcolor\":\"#E5ECF6\",\"polar\":{\"bgcolor\":\"#E5ECF6\",\"angularaxis\":{\"gridcolor\":\"white\",\"linecolor\":\"white\",\"ticks\":\"\"},\"radialaxis\":{\"gridcolor\":\"white\",\"linecolor\":\"white\",\"ticks\":\"\"}},\"ternary\":{\"bgcolor\":\"#E5ECF6\",\"aaxis\":{\"gridcolor\":\"white\",\"linecolor\":\"white\",\"ticks\":\"\"},\"baxis\":{\"gridcolor\":\"white\",\"linecolor\":\"white\",\"ticks\":\"\"},\"caxis\":{\"gridcolor\":\"white\",\"linecolor\":\"white\",\"ticks\":\"\"}},\"coloraxis\":{\"colorbar\":{\"outlinewidth\":0,\"ticks\":\"\"}},\"colorscale\":{\"sequential\":[[0.0,\"#0d0887\"],[0.1111111111111111,\"#46039f\"],[0.2222222222222222,\"#7201a8\"],[0.3333333333333333,\"#9c179e\"],[0.4444444444444444,\"#bd3786\"],[0.5555555555555556,\"#d8576b\"],[0.6666666666666666,\"#ed7953\"],[0.7777777777777778,\"#fb9f3a\"],[0.8888888888888888,\"#fdca26\"],[1.0,\"#f0f921\"]],\"sequentialminus\":[[0.0,\"#0d0887\"],[0.1111111111111111,\"#46039f\"],[0.2222222222222222,\"#7201a8\"],[0.3333333333333333,\"#9c179e\"],[0.4444444444444444,\"#bd3786\"],[0.5555555555555556,\"#d8576b\"],[0.6666666666666666,\"#ed7953\"],[0.7777777777777778,\"#fb9f3a\"],[0.8888888888888888,\"#fdca26\"],[1.0,\"#f0f921\"]],\"diverging\":[[0,\"#8e0152\"],[0.1,\"#c51b7d\"],[0.2,\"#de77ae\"],[0.3,\"#f1b6da\"],[0.4,\"#fde0ef\"],[0.5,\"#f7f7f7\"],[0.6,\"#e6f5d0\"],[0.7,\"#b8e186\"],[0.8,\"#7fbc41\"],[0.9,\"#4d9221\"],[1,\"#276419\"]]},\"xaxis\":{\"gridcolor\":\"white\",\"linecolor\":\"white\",\"ticks\":\"\",\"title\":{\"standoff\":15},\"zerolinecolor\":\"white\",\"automargin\":true,\"zerolinewidth\":2},\"yaxis\":{\"gridcolor\":\"white\",\"linecolor\":\"white\",\"ticks\":\"\",\"title\":{\"standoff\":15},\"zerolinecolor\":\"white\",\"automargin\":true,\"zerolinewidth\":2},\"scene\":{\"xaxis\":{\"backgroundcolor\":\"#E5ECF6\",\"gridcolor\":\"white\",\"linecolor\":\"white\",\"showbackground\":true,\"ticks\":\"\",\"zerolinecolor\":\"white\",\"gridwidth\":2},\"yaxis\":{\"backgroundcolor\":\"#E5ECF6\",\"gridcolor\":\"white\",\"linecolor\":\"white\",\"showbackground\":true,\"ticks\":\"\",\"zerolinecolor\":\"white\",\"gridwidth\":2},\"zaxis\":{\"backgroundcolor\":\"#E5ECF6\",\"gridcolor\":\"white\",\"linecolor\":\"white\",\"showbackground\":true,\"ticks\":\"\",\"zerolinecolor\":\"white\",\"gridwidth\":2}},\"shapedefaults\":{\"line\":{\"color\":\"#2a3f5f\"}},\"annotationdefaults\":{\"arrowcolor\":\"#2a3f5f\",\"arrowhead\":0,\"arrowwidth\":1},\"geo\":{\"bgcolor\":\"white\",\"landcolor\":\"#E5ECF6\",\"subunitcolor\":\"white\",\"showland\":true,\"showlakes\":true,\"lakecolor\":\"white\"},\"title\":{\"x\":0.05},\"mapbox\":{\"style\":\"light\"}}},\"barmode\":\"stack\"},                        {\"toImageButtonOptions\": {\"format\": \"png\", \"height\": 500, \"width\": 890, \"scale\": 10}, \"responsive\": true}                    ).then(function(){\n",
       "                            \n",
       "var gd = document.getElementById('b75afc7b-7890-4a53-8504-8c623dcf4df7');\n",
       "var x = new MutationObserver(function (mutations, observer) {{\n",
       "        var display = window.getComputedStyle(gd).display;\n",
       "        if (!display || display === 'none') {{\n",
       "            console.log([gd, 'removed!']);\n",
       "            Plotly.purge(gd);\n",
       "            observer.disconnect();\n",
       "        }}\n",
       "}});\n",
       "\n",
       "// Listen for the removal of the full notebook cells\n",
       "var notebookContainer = gd.closest('#notebook-container');\n",
       "if (notebookContainer) {{\n",
       "    x.observe(notebookContainer, {childList: true});\n",
       "}}\n",
       "\n",
       "// Listen for the clearing of the current output cell\n",
       "var outputEl = gd.closest('.output');\n",
       "if (outputEl) {{\n",
       "    x.observe(outputEl, {childList: true});\n",
       "}}\n",
       "\n",
       "                        })                };                });            </script>        </div>"
      ]
     },
     "metadata": {},
     "output_type": "display_data"
    }
   ],
   "source": [
    "plot = pg.Figure(data=[go.Bar(\n",
    "    name = 'Neutral',\n",
    "    marker_color = 'cornflowerblue',\n",
    "    x = traits,\n",
    "    y = traitCounts[\"neu\"]\n",
    "   ),\n",
    "                       go.Bar(\n",
    "    name = 'Positive',\n",
    "        marker_color = 'mediumseagreen',\n",
    "        x = traits,\n",
    "        y = traitCounts[\"pos\"]\n",
    "   ),\n",
    "   go.Bar(\n",
    "   name = 'Negative',\n",
    "        marker_color = 'crimson',\n",
    "        x = traits,\n",
    "        y = traitCounts[\"neg\"]\n",
    "   )\n",
    "])\n",
    "\n",
    "config = {\n",
    "    'toImageButtonOptions': {\n",
    "        'format': 'png',\n",
    "        'height': 500,\n",
    "        'width': 890,\n",
    "        'scale': 10\n",
    "    }\n",
    "}\n",
    "\n",
    "plot.update_layout(barmode='stack')\n",
    "plot.show(config=config)"
   ]
  },
  {
   "cell_type": "code",
   "execution_count": null,
   "id": "fee97052",
   "metadata": {},
   "outputs": [],
   "source": []
  }
 ],
 "metadata": {
  "kernelspec": {
   "display_name": "Python 3 (ipykernel)",
   "language": "python",
   "name": "python3"
  },
  "language_info": {
   "codemirror_mode": {
    "name": "ipython",
    "version": 3
   },
   "file_extension": ".py",
   "mimetype": "text/x-python",
   "name": "python",
   "nbconvert_exporter": "python",
   "pygments_lexer": "ipython3",
   "version": "3.7.0"
  }
 },
 "nbformat": 4,
 "nbformat_minor": 5
}
